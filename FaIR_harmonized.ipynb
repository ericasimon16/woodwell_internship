{
 "cells": [
  {
   "cell_type": "markdown",
   "id": "2e752a80-2252-4711-a41f-79162110447a",
   "metadata": {},
   "source": [
    "# FaIR Harmonized\n",
    "### Erica Simon, 02/05/24\n",
    "## Purpose: input harmonized historical and projected emissions trajectories into FaIR\n",
    "- Emissions span 1750 to 2100\n",
    "- For now, we will not run probabilistic projections\n"
   ]
  },
  {
   "cell_type": "code",
   "execution_count": 2,
   "id": "057f8bc1-bb0a-44de-b06a-2f7ffd0a779c",
   "metadata": {},
   "outputs": [],
   "source": [
    "import matplotlib.pyplot as plt\n",
    "import numpy as np\n",
    "import pandas as pd\n",
    "import pooch\n",
    "\n",
    "from fair import FAIR\n",
    "from fair.interface import fill, initialise\n",
    "from fair.io import read_properties"
   ]
  },
  {
   "cell_type": "markdown",
   "id": "45eeba58-524e-4aaa-b30b-584919f4d762",
   "metadata": {},
   "source": [
    "## Create functional format"
   ]
  },
  {
   "cell_type": "code",
   "execution_count": 3,
   "id": "c0aeed02-fda8-4d4d-b52e-48b9db0136d8",
   "metadata": {},
   "outputs": [],
   "source": [
    "species_configs = pooch.retrieve(\n",
    "    url = 'https://raw.githubusercontent.com/OMS-NetZero/FAIR/master/examples/data/species_configs_properties_calibration1.2.0.csv',\n",
    "    known_hash = '4f9d25b21d632cf35953842a627db4b1612b465f68b2a824afff017a7390053b',\n",
    ")\n",
    "\n",
    "solar_obj = pooch.retrieve(\n",
    "    url = 'https://raw.githubusercontent.com/chrisroadmap/fair-add-hfc/main/data/solar_erf_timebounds.csv',\n",
    "    known_hash = 'md5:98f6f4c5309d848fea89803683441acf',\n",
    ")\n",
    "\n",
    "volcanic_obj = pooch.retrieve(\n",
    "    url = 'https://raw.githubusercontent.com/chrisroadmap/fair-calibrate/main/data/forcing/volcanic_ERF_1750-2101_timebounds.csv',\n",
    "    known_hash = 'md5:c0801f80f70195eb9567dbd70359219d',\n",
    ")\n",
    "\n",
    "df_solar = pd.read_csv(solar_obj, index_col=\"year\")\n",
    "df_volcanic = pd.read_csv(volcanic_obj, index_col=\"timebounds\")\n",
    "\n",
    "# trim `solar_df` to only include 1750-2101.\n",
    "s_yr_list = list(range(2102, 2301))\n",
    "df_solar = df_solar.drop(s_yr_list)"
   ]
  },
  {
   "cell_type": "code",
   "execution_count": 4,
   "id": "38abc0cf-854d-4e32-97cd-08fb691e260a",
   "metadata": {},
   "outputs": [],
   "source": [
    "# input: a dataframe in IAM format with annual emission timeseries for all relevant FaIR species\n",
    "# returns: a FaIR object that has already been run (check f.temperature for outcomes)\n",
    "\n",
    "def run_fair(df_emis):\n",
    "    f = FAIR()\n",
    "    \n",
    "    start = int(df_emis.columns[5])   # assumes IAM format consistent with harmonizer\n",
    "    end = int(df_emis.columns[-1])+1\n",
    "    f.define_time(start, end, 1)\n",
    "    \n",
    "    # use same scenario sames as those in emissions df\n",
    "    f.define_scenarios(df_emis.Scenario.unique().tolist())\n",
    "    \n",
    "    f.define_configs(['c1'])   \n",
    "    \n",
    "    ##### define species and properties #####\n",
    "    species, properties = read_properties(filename=species_configs)\n",
    "\n",
    "    # removed in examples from fair-calibrate repo, specifically because future projections aren't available\n",
    "    species.remove(\"Halon-1202\")\n",
    "    species.remove(\"NOx aviation\")\n",
    "\n",
    "    f.define_species(species, properties)\n",
    "    \n",
    "    # create empty emission and temp arrays\n",
    "    f.allocate()   \n",
    "    \n",
    "    ##### fill emissions #####\n",
    "    # remove 'Emissions|' from variable name\n",
    "    for i in range(len(df_emis.Variable.values)): \n",
    "        df_emis.Variable.values[i] = df_emis.Variable.values[i][10:]\n",
    "        \n",
    "    for scen in df_emis.Scenario.unique():\n",
    "        for var in df_emis.Variable.unique():\n",
    "            if var in f.species:\n",
    "                emis = df_emis.loc[df_emis['Variable'] == var].loc[df_emis['Scenario'] == scen].values[0][5:].reshape(351,1)\n",
    "                fill(f.emissions, emis, scenario=scen, specie=var)\n",
    "                \n",
    "    ##### fill forcings #####\n",
    "    for scen in f.scenarios:\n",
    "        fill(f.forcing, df_volcanic, scenario=scen, specie='Volcanic')\n",
    "        fill(f.forcing, df_solar, scenario=scen, specie='Solar')\n",
    "        \n",
    "    ##### set configs #####\n",
    "    fill(f.climate_configs[\"ocean_heat_transfer\"], [1.1, 1.6, 0.9], config='c1')\n",
    "    fill(f.climate_configs[\"ocean_heat_capacity\"], [8, 14, 100], config='c1')\n",
    "    fill(f.climate_configs[\"deep_ocean_efficacy\"], 1.1, config='c1')\n",
    "    f.fill_species_configs()   # default values\n",
    "    \n",
    "    ##### initial conditions #####\n",
    "    initialise(f.concentration, f.species_configs[\"baseline_concentration\"])\n",
    "    initialise(f.forcing, 0)\n",
    "    initialise(f.temperature, 0)   # f.temperature refers to temperature anomaly above PI (288 K)\n",
    "    initialise(f.cumulative_emissions, 0)\n",
    "    initialise(f.airborne_emissions, 0)\n",
    "    \n",
    "    ##### RUN #####\n",
    "    f.run()\n",
    "    \n",
    "    return f"
   ]
  },
  {
   "cell_type": "markdown",
   "id": "b8cefb3d-6fb2-4771-b4ae-72adb7cbc656",
   "metadata": {},
   "source": [
    "## Run with each model"
   ]
  },
  {
   "cell_type": "code",
   "execution_count": 14,
   "id": "6f91a221-845e-46e3-8a6d-b02463a5bea0",
   "metadata": {},
   "outputs": [],
   "source": [
    "GCAM_df = pd.read_csv('~/outputs/GCAM_harm.csv')\n",
    "MSG_df = pd.read_csv('~/outputs/MSG_harm.csv')\n",
    "REM_df = pd.read_csv('~/outputs/REM_harm.csv')\n",
    "\n",
    "# remove 'Emissions|' from variable name\n",
    "for df in [GCAM_df, MSG_df, REM_df]:\n",
    "    for i in range(len(df.Variable.values)): \n",
    "        df.Variable.values[i] = df.Variable.values[i][10:]"
   ]
  },
  {
   "cell_type": "code",
   "execution_count": 6,
   "id": "4a5f7096-c76a-4741-a4ef-f9b2e7b2f892",
   "metadata": {},
   "outputs": [
    {
     "data": {
      "application/vnd.jupyter.widget-view+json": {
       "model_id": "bb7eb4307d7d4458b99abc2e49fa803e",
       "version_major": 2,
       "version_minor": 0
      },
      "text/plain": [
       "Running 7 projections in parallel:   0%|          | 0/351 [00:00<?, ?timesteps/s]"
      ]
     },
     "metadata": {},
     "output_type": "display_data"
    },
    {
     "data": {
      "application/vnd.jupyter.widget-view+json": {
       "model_id": "ba033ac5b1d4408f987b85053e21e017",
       "version_major": 2,
       "version_minor": 0
      },
      "text/plain": [
       "Running 7 projections in parallel:   0%|          | 0/351 [00:00<?, ?timesteps/s]"
      ]
     },
     "metadata": {},
     "output_type": "display_data"
    },
    {
     "ename": "KeyboardInterrupt",
     "evalue": "",
     "output_type": "error",
     "traceback": [
      "\u001b[0;31m---------------------------------------------------------------------------\u001b[0m",
      "\u001b[0;31mKeyboardInterrupt\u001b[0m                         Traceback (most recent call last)",
      "Cell \u001b[0;32mIn [6], line 3\u001b[0m\n\u001b[1;32m      1\u001b[0m f_GCAM \u001b[38;5;241m=\u001b[39m run_fair(GCAM_df)\n\u001b[1;32m      2\u001b[0m f_MSG \u001b[38;5;241m=\u001b[39m run_fair(MSG_df)\n\u001b[0;32m----> 3\u001b[0m f_REM \u001b[38;5;241m=\u001b[39m \u001b[43mrun_fair\u001b[49m\u001b[43m(\u001b[49m\u001b[43mREM_df\u001b[49m\u001b[43m)\u001b[49m\n",
      "Cell \u001b[0;32mIn [4], line 37\u001b[0m, in \u001b[0;36mrun_fair\u001b[0;34m(df_emis)\u001b[0m\n\u001b[1;32m     35\u001b[0m         \u001b[38;5;28;01mif\u001b[39;00m var \u001b[38;5;129;01min\u001b[39;00m f\u001b[38;5;241m.\u001b[39mspecies:\n\u001b[1;32m     36\u001b[0m             emis \u001b[38;5;241m=\u001b[39m df_emis\u001b[38;5;241m.\u001b[39mloc[df_emis[\u001b[38;5;124m'\u001b[39m\u001b[38;5;124mVariable\u001b[39m\u001b[38;5;124m'\u001b[39m] \u001b[38;5;241m==\u001b[39m var]\u001b[38;5;241m.\u001b[39mloc[df_emis[\u001b[38;5;124m'\u001b[39m\u001b[38;5;124mScenario\u001b[39m\u001b[38;5;124m'\u001b[39m] \u001b[38;5;241m==\u001b[39m scen]\u001b[38;5;241m.\u001b[39mvalues[\u001b[38;5;241m0\u001b[39m][\u001b[38;5;241m5\u001b[39m:]\u001b[38;5;241m.\u001b[39mreshape(\u001b[38;5;241m351\u001b[39m,\u001b[38;5;241m1\u001b[39m)\n\u001b[0;32m---> 37\u001b[0m             \u001b[43mfill\u001b[49m\u001b[43m(\u001b[49m\u001b[43mf\u001b[49m\u001b[38;5;241;43m.\u001b[39;49m\u001b[43memissions\u001b[49m\u001b[43m,\u001b[49m\u001b[43m \u001b[49m\u001b[43memis\u001b[49m\u001b[43m,\u001b[49m\u001b[43m \u001b[49m\u001b[43mscenario\u001b[49m\u001b[38;5;241;43m=\u001b[39;49m\u001b[43mscen\u001b[49m\u001b[43m,\u001b[49m\u001b[43m \u001b[49m\u001b[43mspecie\u001b[49m\u001b[38;5;241;43m=\u001b[39;49m\u001b[43mvar\u001b[49m\u001b[43m)\u001b[49m\n\u001b[1;32m     39\u001b[0m \u001b[38;5;66;03m##### fill forcings #####\u001b[39;00m\n\u001b[1;32m     40\u001b[0m \u001b[38;5;28;01mfor\u001b[39;00m scen \u001b[38;5;129;01min\u001b[39;00m f\u001b[38;5;241m.\u001b[39mscenarios:\n",
      "File \u001b[0;32m/opt/miniconda/envs/risk/lib/python3.10/site-packages/fair/interface.py:35\u001b[0m, in \u001b[0;36mfill\u001b[0;34m(var, data, **kwargs)\u001b[0m\n\u001b[1;32m     29\u001b[0m     \u001b[38;5;28;01mif\u001b[39;00m kwarg \u001b[38;5;129;01mnot\u001b[39;00m \u001b[38;5;129;01min\u001b[39;00m var\u001b[38;5;241m.\u001b[39mcoords:\n\u001b[1;32m     30\u001b[0m         \u001b[38;5;28;01mraise\u001b[39;00m \u001b[38;5;167;01mValueError\u001b[39;00m(\n\u001b[1;32m     31\u001b[0m             \u001b[38;5;124mf\u001b[39m\u001b[38;5;124m\"\u001b[39m\u001b[38;5;132;01m{\u001b[39;00mkwarg\u001b[38;5;132;01m}\u001b[39;00m\u001b[38;5;124m is not a coordinate of \u001b[39m\u001b[38;5;132;01m{\u001b[39;00mvar\u001b[38;5;241m.\u001b[39mname\u001b[38;5;132;01m}\u001b[39;00m\u001b[38;5;124m. Valid coordinates are \u001b[39m\u001b[38;5;124m\"\u001b[39m\n\u001b[1;32m     32\u001b[0m             \u001b[38;5;124mf\u001b[39m\u001b[38;5;124m\"\u001b[39m\u001b[38;5;132;01m{\u001b[39;00mvar\u001b[38;5;241m.\u001b[39mcoords\u001b[38;5;241m.\u001b[39m_names\u001b[38;5;132;01m}\u001b[39;00m\u001b[38;5;124m\"\u001b[39m\n\u001b[1;32m     33\u001b[0m         )\n\u001b[0;32m---> 35\u001b[0m \u001b[43mvar\u001b[49m\u001b[38;5;241;43m.\u001b[39;49m\u001b[43mloc\u001b[49m\u001b[43m[\u001b[49m\u001b[43mkwargs\u001b[49m\u001b[43m]\u001b[49m \u001b[38;5;241m=\u001b[39m data\n",
      "File \u001b[0;32m/opt/miniconda/envs/risk/lib/python3.10/site-packages/xarray/core/dataarray.py:215\u001b[0m, in \u001b[0;36m_LocIndexer.__setitem__\u001b[0;34m(self, key, value)\u001b[0m\n\u001b[1;32m    212\u001b[0m     key \u001b[38;5;241m=\u001b[39m \u001b[38;5;28mdict\u001b[39m(\u001b[38;5;28mzip\u001b[39m(\u001b[38;5;28mself\u001b[39m\u001b[38;5;241m.\u001b[39mdata_array\u001b[38;5;241m.\u001b[39mdims, labels))\n\u001b[1;32m    214\u001b[0m dim_indexers \u001b[38;5;241m=\u001b[39m map_index_queries(\u001b[38;5;28mself\u001b[39m\u001b[38;5;241m.\u001b[39mdata_array, key)\u001b[38;5;241m.\u001b[39mdim_indexers\n\u001b[0;32m--> 215\u001b[0m \u001b[38;5;28;43mself\u001b[39;49m\u001b[38;5;241;43m.\u001b[39;49m\u001b[43mdata_array\u001b[49m\u001b[43m[\u001b[49m\u001b[43mdim_indexers\u001b[49m\u001b[43m]\u001b[49m \u001b[38;5;241m=\u001b[39m value\n",
      "File \u001b[0;32m/opt/miniconda/envs/risk/lib/python3.10/site-packages/xarray/core/dataarray.py:827\u001b[0m, in \u001b[0;36mDataArray.__setitem__\u001b[0;34m(self, key, value)\u001b[0m\n\u001b[1;32m    822\u001b[0m \u001b[38;5;66;03m# DataArray key -> Variable key\u001b[39;00m\n\u001b[1;32m    823\u001b[0m key \u001b[38;5;241m=\u001b[39m {\n\u001b[1;32m    824\u001b[0m     k: v\u001b[38;5;241m.\u001b[39mvariable \u001b[38;5;28;01mif\u001b[39;00m \u001b[38;5;28misinstance\u001b[39m(v, DataArray) \u001b[38;5;28;01melse\u001b[39;00m v\n\u001b[1;32m    825\u001b[0m     \u001b[38;5;28;01mfor\u001b[39;00m k, v \u001b[38;5;129;01min\u001b[39;00m \u001b[38;5;28mself\u001b[39m\u001b[38;5;241m.\u001b[39m_item_key_to_dict(key)\u001b[38;5;241m.\u001b[39mitems()\n\u001b[1;32m    826\u001b[0m }\n\u001b[0;32m--> 827\u001b[0m \u001b[38;5;28;43mself\u001b[39;49m\u001b[38;5;241;43m.\u001b[39;49m\u001b[43mvariable\u001b[49m\u001b[43m[\u001b[49m\u001b[43mkey\u001b[49m\u001b[43m]\u001b[49m \u001b[38;5;241m=\u001b[39m value\n",
      "File \u001b[0;32m/opt/miniconda/envs/risk/lib/python3.10/site-packages/xarray/core/variable.py:875\u001b[0m, in \u001b[0;36mVariable.__setitem__\u001b[0;34m(self, key, value)\u001b[0m\n\u001b[1;32m    872\u001b[0m dims, index_tuple, new_order \u001b[38;5;241m=\u001b[39m \u001b[38;5;28mself\u001b[39m\u001b[38;5;241m.\u001b[39m_broadcast_indexes(key)\n\u001b[1;32m    874\u001b[0m \u001b[38;5;28;01mif\u001b[39;00m \u001b[38;5;129;01mnot\u001b[39;00m \u001b[38;5;28misinstance\u001b[39m(value, Variable):\n\u001b[0;32m--> 875\u001b[0m     value \u001b[38;5;241m=\u001b[39m \u001b[43mas_compatible_data\u001b[49m\u001b[43m(\u001b[49m\u001b[43mvalue\u001b[49m\u001b[43m)\u001b[49m\n\u001b[1;32m    876\u001b[0m     \u001b[38;5;28;01mif\u001b[39;00m value\u001b[38;5;241m.\u001b[39mndim \u001b[38;5;241m>\u001b[39m \u001b[38;5;28mlen\u001b[39m(dims):\n\u001b[1;32m    877\u001b[0m         \u001b[38;5;28;01mraise\u001b[39;00m \u001b[38;5;167;01mValueError\u001b[39;00m(\n\u001b[1;32m    878\u001b[0m             \u001b[38;5;124mf\u001b[39m\u001b[38;5;124m\"\u001b[39m\u001b[38;5;124mshape mismatch: value array of shape \u001b[39m\u001b[38;5;132;01m{\u001b[39;00mvalue\u001b[38;5;241m.\u001b[39mshape\u001b[38;5;132;01m}\u001b[39;00m\u001b[38;5;124m could not be \u001b[39m\u001b[38;5;124m\"\u001b[39m\n\u001b[1;32m    879\u001b[0m             \u001b[38;5;124mf\u001b[39m\u001b[38;5;124m\"\u001b[39m\u001b[38;5;124mbroadcast to indexing result with \u001b[39m\u001b[38;5;132;01m{\u001b[39;00m\u001b[38;5;28mlen\u001b[39m(dims)\u001b[38;5;132;01m}\u001b[39;00m\u001b[38;5;124m dimensions\u001b[39m\u001b[38;5;124m\"\u001b[39m\n\u001b[1;32m    880\u001b[0m         )\n",
      "File \u001b[0;32m/opt/miniconda/envs/risk/lib/python3.10/site-packages/xarray/core/variable.py:246\u001b[0m, in \u001b[0;36mas_compatible_data\u001b[0;34m(data, fastpath)\u001b[0m\n\u001b[1;32m    243\u001b[0m data \u001b[38;5;241m=\u001b[39m np\u001b[38;5;241m.\u001b[39masarray(data)\n\u001b[1;32m    245\u001b[0m \u001b[38;5;28;01mif\u001b[39;00m \u001b[38;5;28misinstance\u001b[39m(data, np\u001b[38;5;241m.\u001b[39mndarray) \u001b[38;5;129;01mand\u001b[39;00m data\u001b[38;5;241m.\u001b[39mdtype\u001b[38;5;241m.\u001b[39mkind \u001b[38;5;129;01min\u001b[39;00m \u001b[38;5;124m\"\u001b[39m\u001b[38;5;124mOMm\u001b[39m\u001b[38;5;124m\"\u001b[39m:\n\u001b[0;32m--> 246\u001b[0m     data \u001b[38;5;241m=\u001b[39m \u001b[43m_possibly_convert_objects\u001b[49m\u001b[43m(\u001b[49m\u001b[43mdata\u001b[49m\u001b[43m)\u001b[49m\n\u001b[1;32m    247\u001b[0m \u001b[38;5;28;01mreturn\u001b[39;00m _maybe_wrap_data(data)\n",
      "File \u001b[0;32m/opt/miniconda/envs/risk/lib/python3.10/site-packages/xarray/core/variable.py:188\u001b[0m, in \u001b[0;36m_possibly_convert_objects\u001b[0;34m(values)\u001b[0m\n\u001b[1;32m    182\u001b[0m \u001b[38;5;28;01mdef\u001b[39;00m \u001b[38;5;21m_possibly_convert_objects\u001b[39m(values):\n\u001b[1;32m    183\u001b[0m     \u001b[38;5;124;03m\"\"\"Convert arrays of datetime.datetime and datetime.timedelta objects into\u001b[39;00m\n\u001b[1;32m    184\u001b[0m \u001b[38;5;124;03m    datetime64 and timedelta64, according to the pandas convention. Also used for\u001b[39;00m\n\u001b[1;32m    185\u001b[0m \u001b[38;5;124;03m    validating that datetime64 and timedelta64 objects are within the valid date\u001b[39;00m\n\u001b[1;32m    186\u001b[0m \u001b[38;5;124;03m    range for ns precision, as pandas will raise an error if they are not.\u001b[39;00m\n\u001b[1;32m    187\u001b[0m \u001b[38;5;124;03m    \"\"\"\u001b[39;00m\n\u001b[0;32m--> 188\u001b[0m     \u001b[38;5;28;01mreturn\u001b[39;00m np\u001b[38;5;241m.\u001b[39masarray(\u001b[43mpd\u001b[49m\u001b[38;5;241;43m.\u001b[39;49m\u001b[43mSeries\u001b[49m\u001b[43m(\u001b[49m\u001b[43mvalues\u001b[49m\u001b[38;5;241;43m.\u001b[39;49m\u001b[43mravel\u001b[49m\u001b[43m(\u001b[49m\u001b[43m)\u001b[49m\u001b[43m)\u001b[49m)\u001b[38;5;241m.\u001b[39mreshape(values\u001b[38;5;241m.\u001b[39mshape)\n",
      "File \u001b[0;32m/opt/miniconda/envs/risk/lib/python3.10/site-packages/pandas/core/series.py:583\u001b[0m, in \u001b[0;36mSeries.__init__\u001b[0;34m(self, data, index, dtype, name, copy, fastpath)\u001b[0m\n\u001b[1;32m    581\u001b[0m         data \u001b[38;5;241m=\u001b[39m data\u001b[38;5;241m.\u001b[39mcopy()\n\u001b[1;32m    582\u001b[0m \u001b[38;5;28;01melse\u001b[39;00m:\n\u001b[0;32m--> 583\u001b[0m     data \u001b[38;5;241m=\u001b[39m \u001b[43msanitize_array\u001b[49m\u001b[43m(\u001b[49m\u001b[43mdata\u001b[49m\u001b[43m,\u001b[49m\u001b[43m \u001b[49m\u001b[43mindex\u001b[49m\u001b[43m,\u001b[49m\u001b[43m \u001b[49m\u001b[43mdtype\u001b[49m\u001b[43m,\u001b[49m\u001b[43m \u001b[49m\u001b[43mcopy\u001b[49m\u001b[43m)\u001b[49m\n\u001b[1;32m    585\u001b[0m     manager \u001b[38;5;241m=\u001b[39m _get_option(\u001b[38;5;124m\"\u001b[39m\u001b[38;5;124mmode.data_manager\u001b[39m\u001b[38;5;124m\"\u001b[39m, silent\u001b[38;5;241m=\u001b[39m\u001b[38;5;28;01mTrue\u001b[39;00m)\n\u001b[1;32m    586\u001b[0m     \u001b[38;5;28;01mif\u001b[39;00m manager \u001b[38;5;241m==\u001b[39m \u001b[38;5;124m\"\u001b[39m\u001b[38;5;124mblock\u001b[39m\u001b[38;5;124m\"\u001b[39m:\n",
      "File \u001b[0;32m/opt/miniconda/envs/risk/lib/python3.10/site-packages/pandas/core/construction.py:606\u001b[0m, in \u001b[0;36msanitize_array\u001b[0;34m(data, index, dtype, copy, allow_2d)\u001b[0m\n\u001b[1;32m    604\u001b[0m subarr \u001b[38;5;241m=\u001b[39m data\n\u001b[1;32m    605\u001b[0m \u001b[38;5;28;01mif\u001b[39;00m data\u001b[38;5;241m.\u001b[39mdtype \u001b[38;5;241m==\u001b[39m \u001b[38;5;28mobject\u001b[39m:\n\u001b[0;32m--> 606\u001b[0m     subarr \u001b[38;5;241m=\u001b[39m \u001b[43mmaybe_infer_to_datetimelike\u001b[49m\u001b[43m(\u001b[49m\u001b[43mdata\u001b[49m\u001b[43m)\u001b[49m\n\u001b[1;32m    607\u001b[0m     \u001b[38;5;28;01mif\u001b[39;00m (\n\u001b[1;32m    608\u001b[0m         object_index\n\u001b[1;32m    609\u001b[0m         \u001b[38;5;129;01mand\u001b[39;00m using_pyarrow_string_dtype()\n\u001b[1;32m    610\u001b[0m         \u001b[38;5;129;01mand\u001b[39;00m is_string_dtype(subarr)\n\u001b[1;32m    611\u001b[0m     ):\n\u001b[1;32m    612\u001b[0m         \u001b[38;5;66;03m# Avoid inference when string option is set\u001b[39;00m\n\u001b[1;32m    613\u001b[0m         subarr \u001b[38;5;241m=\u001b[39m data\n",
      "File \u001b[0;32m/opt/miniconda/envs/risk/lib/python3.10/site-packages/pandas/core/dtypes/cast.py:1196\u001b[0m, in \u001b[0;36mmaybe_infer_to_datetimelike\u001b[0;34m(value)\u001b[0m\n\u001b[1;32m   1185\u001b[0m     \u001b[38;5;28;01mreturn\u001b[39;00m value\n\u001b[1;32m   1187\u001b[0m \u001b[38;5;66;03m# error: Incompatible return value type (got \"Union[ExtensionArray,\u001b[39;00m\n\u001b[1;32m   1188\u001b[0m \u001b[38;5;66;03m# ndarray[Any, Any]]\", expected \"Union[ndarray[Any, Any], DatetimeArray,\u001b[39;00m\n\u001b[1;32m   1189\u001b[0m \u001b[38;5;66;03m# TimedeltaArray, PeriodArray, IntervalArray]\")\u001b[39;00m\n\u001b[1;32m   1190\u001b[0m \u001b[38;5;28;01mreturn\u001b[39;00m lib\u001b[38;5;241m.\u001b[39mmaybe_convert_objects(  \u001b[38;5;66;03m# type: ignore[return-value]\u001b[39;00m\n\u001b[1;32m   1191\u001b[0m     value,\n\u001b[1;32m   1192\u001b[0m     \u001b[38;5;66;03m# Here we do not convert numeric dtypes, as if we wanted that,\u001b[39;00m\n\u001b[1;32m   1193\u001b[0m     \u001b[38;5;66;03m#  numpy would have done it for us.\u001b[39;00m\n\u001b[1;32m   1194\u001b[0m     convert_numeric\u001b[38;5;241m=\u001b[39m\u001b[38;5;28;01mFalse\u001b[39;00m,\n\u001b[1;32m   1195\u001b[0m     convert_non_numeric\u001b[38;5;241m=\u001b[39m\u001b[38;5;28;01mTrue\u001b[39;00m,\n\u001b[0;32m-> 1196\u001b[0m     dtype_if_all_nat\u001b[38;5;241m=\u001b[39m\u001b[43mnp\u001b[49m\u001b[38;5;241;43m.\u001b[39;49m\u001b[43mdtype\u001b[49m\u001b[43m(\u001b[49m\u001b[38;5;124;43m\"\u001b[39;49m\u001b[38;5;124;43mM8[ns]\u001b[39;49m\u001b[38;5;124;43m\"\u001b[39;49m\u001b[43m)\u001b[49m,\n\u001b[1;32m   1197\u001b[0m )\n",
      "\u001b[0;31mKeyboardInterrupt\u001b[0m: "
     ]
    }
   ],
   "source": [
    "f_GCAM = run_fair(GCAM_df)\n",
    "f_MSG = run_fair(MSG_df)\n",
    "f_REM = run_fair(REM_df)"
   ]
  },
  {
   "cell_type": "code",
   "execution_count": null,
   "id": "88898b20-1467-4f95-8506-9afb13886370",
   "metadata": {},
   "outputs": [],
   "source": [
    "iam_names = {f_GCAM:'GCAM 6.0 NGFS',\n",
    "             f_MSG:'MESSAGEix-GLOBIOM 1.1-M-R12',\n",
    "             f_REM:'REMIND-MAgPIE 3.2-4.6'}"
   ]
  },
  {
   "cell_type": "code",
   "execution_count": null,
   "id": "8138f58d-04a6-4768-8ae9-c3cc3dd926bc",
   "metadata": {},
   "outputs": [],
   "source": [
    "fig, axs = plt.subplots(1, 3, figsize=(15, 5))\n",
    "\n",
    "for i, f in enumerate(iam_names):\n",
    "    ax = axs[i]\n",
    "    \n",
    "    for scen in f.scenarios:\n",
    "        ax.plot(f.timebounds[250:], f.temperature.loc[dict(scenario=scen, layer=0)][250:], label=scen)\n",
    "    ax.set_xlabel('Year')\n",
    "    ax.set_ylabel('K')\n",
    "    ax.set_title('Temperature Anomaly (2000-2022)\\n' + iam_names[f])\n",
    "    ax.legend()\n",
    "    ax.axhline(1.5, color='grey', linestyle='--')\n",
    "    ax.axhline(2, color='grey', linestyle='--')\n",
    "\n",
    "\n",
    "fig.tight_layout()\n",
    "fig.show()"
   ]
  },
  {
   "cell_type": "markdown",
   "id": "6343c261-bfa7-4a7c-a198-809aacaa1fa6",
   "metadata": {},
   "source": [
    "## Incorporate parameter uncertainty\n",
    "adapt `run_fair` to include climate configs and generate probabilistic outcomes"
   ]
  },
  {
   "cell_type": "code",
   "execution_count": 8,
   "id": "e880e6ba-20e7-42fd-8fca-03790023128f",
   "metadata": {
    "tags": []
   },
   "outputs": [],
   "source": [
    "fair_params_1_2_0_obj = pooch.retrieve(\n",
    "    url = 'https://zenodo.org/record/10566813/files/calibrated_constrained_parameters.csv',\n",
    "    known_hash = '76e2b9156ed26aa2730aa7023f1e40025a3637fe479df18e822120eff001848c'\n",
    ")\n",
    "\n",
    "df_configs = pd.read_csv(fair_params_1_2_0_obj, index_col=0)\n",
    "\n",
    "species_configs = pooch.retrieve(\n",
    "    url = 'https://raw.githubusercontent.com/OMS-NetZero/FAIR/master/examples/data/species_configs_properties_calibration1.2.0.csv',\n",
    "    known_hash = '4f9d25b21d632cf35953842a627db4b1612b465f68b2a824afff017a7390053b',\n",
    ")"
   ]
  },
  {
   "cell_type": "code",
   "execution_count": 9,
   "id": "3bdfe1a1-e909-49fc-8f6f-551e6d8a56a7",
   "metadata": {},
   "outputs": [],
   "source": [
    "trend_shape = np.ones(352)\n",
    "trend_shape[:352] = np.linspace(0, 1, 352)\n",
    "# trend_shape"
   ]
  },
  {
   "cell_type": "code",
   "execution_count": 10,
   "id": "5c430e5d-63cc-4f70-9adc-52ff7eb32965",
   "metadata": {
    "jupyter": {
     "source_hidden": true
    },
    "tags": []
   },
   "outputs": [],
   "source": [
    "def fill_climate_configs(f, df_configs):\n",
    "    fill(f.climate_configs[\"ocean_heat_capacity\"], df_configs.loc[:, \"clim_c1\":\"clim_c3\"].values)\n",
    "    fill(\n",
    "        f.climate_configs[\"ocean_heat_transfer\"],\n",
    "        df_configs.loc[:, \"clim_kappa1\":\"clim_kappa3\"].values,\n",
    "    )\n",
    "    fill(f.climate_configs[\"deep_ocean_efficacy\"], df_configs[\"clim_epsilon\"].values.squeeze())\n",
    "    fill(f.climate_configs[\"gamma_autocorrelation\"], df_configs[\"clim_gamma\"].values.squeeze())\n",
    "    fill(f.climate_configs[\"sigma_eta\"], df_configs[\"clim_sigma_eta\"].values.squeeze())\n",
    "    fill(f.climate_configs[\"sigma_xi\"], df_configs[\"clim_sigma_xi\"].values.squeeze())\n",
    "    fill(f.climate_configs[\"seed\"], df_configs[\"seed\"])\n",
    "    fill(f.climate_configs[\"stochastic_run\"], True)\n",
    "    fill(f.climate_configs[\"use_seed\"], True)\n",
    "    fill(f.climate_configs[\"forcing_4co2\"], df_configs[\"clim_F_4xCO2\"])"
   ]
  },
  {
   "cell_type": "code",
   "execution_count": 11,
   "id": "ef626722-5fd4-4787-9dae-be9649d0846c",
   "metadata": {
    "jupyter": {
     "source_hidden": true
    },
    "tags": []
   },
   "outputs": [],
   "source": [
    "def edit_species_configs(f, species_configs):\n",
    "\n",
    "    # carbon cycle\n",
    "    fill(f.species_configs[\"iirf_0\"], df_configs[\"cc_r0\"].values.squeeze(), specie=\"CO2\")\n",
    "    fill(f.species_configs[\"iirf_airborne\"], df_configs[\"cc_rA\"].values.squeeze(), specie=\"CO2\")\n",
    "    fill(f.species_configs[\"iirf_uptake\"], df_configs[\"cc_rU\"].values.squeeze(), specie=\"CO2\")\n",
    "    fill(f.species_configs[\"iirf_temperature\"], df_configs[\"cc_rT\"].values.squeeze(), specie=\"CO2\")\n",
    "\n",
    "    # aerosol indirect\n",
    "    fill(f.species_configs[\"aci_scale\"], df_configs[\"aci_beta\"].values.squeeze())\n",
    "    fill(f.species_configs[\"aci_shape\"], df_configs[\"aci_shape_so2\"].values.squeeze(), specie=\"Sulfur\")\n",
    "    fill(f.species_configs[\"aci_shape\"], df_configs[\"aci_shape_bc\"].values.squeeze(), specie=\"BC\")\n",
    "    fill(f.species_configs[\"aci_shape\"], df_configs[\"aci_shape_oc\"].values.squeeze(), specie=\"OC\")\n",
    "\n",
    "    # aerosol direct\n",
    "    for specie in [\n",
    "        \"BC\", \n",
    "        \"CH4\", \n",
    "        \"N2O\",\n",
    "        \"NH3\", \n",
    "        \"NOx\",\n",
    "        \"OC\", \n",
    "        \"Sulfur\", \n",
    "        \"VOC\",\n",
    "        \"Equivalent effective stratospheric chlorine\"\n",
    "    ]:\n",
    "        fill(f.species_configs[\"erfari_radiative_efficiency\"], df_configs[f\"ari_{specie}\"], specie=specie)\n",
    "\n",
    "    # forcing scaling\n",
    "    for specie in [\n",
    "        \"CO2\", \n",
    "        \"CH4\", \n",
    "        \"N2O\", \n",
    "        \"Stratospheric water vapour\",\n",
    "        # \"Contrails\",   \n",
    "        # contrails excluded from this version of calibration data \"since few IAM scenarios provide detailed enough information to assess their future forcing\"\n",
    "        \"Light absorbing particles on snow and ice\", \n",
    "        \"Land use\"\n",
    "    ]:\n",
    "        fill(f.species_configs[\"forcing_scale\"], df_configs[f\"fscale_{specie}\"].values.squeeze(), specie=specie)\n",
    "    # the halogenated gases all take the same scale factor\n",
    "    for specie in [\n",
    "        \"CFC-11\",\n",
    "        \"CFC-12\",\n",
    "        \"CFC-113\",\n",
    "        \"CFC-114\",\n",
    "        \"CFC-115\",\n",
    "        \"HCFC-22\",\n",
    "        \"HCFC-141b\",\n",
    "        \"HCFC-142b\",\n",
    "        \"CCl4\",\n",
    "        \"CHCl3\",\n",
    "        \"CH2Cl2\",\n",
    "        \"CH3Cl\",\n",
    "        \"CH3CCl3\",\n",
    "        \"CH3Br\",\n",
    "        \"Halon-1211\",\n",
    "        \"Halon-1301\",\n",
    "        \"Halon-2402\",\n",
    "        \"CF4\",\n",
    "        \"C2F6\",\n",
    "        \"C3F8\",\n",
    "        \"c-C4F8\",\n",
    "        \"C4F10\",\n",
    "        \"C5F12\",\n",
    "        \"C6F14\",\n",
    "        \"C7F16\",\n",
    "        \"C8F18\",\n",
    "        \"NF3\",\n",
    "        \"SF6\",\n",
    "        \"SO2F2\",\n",
    "        \"HFC-125\",\n",
    "        \"HFC-134a\",\n",
    "        \"HFC-143a\",\n",
    "        \"HFC-152a\",\n",
    "        \"HFC-227ea\",\n",
    "        \"HFC-23\",\n",
    "        \"HFC-236fa\",\n",
    "        \"HFC-245fa\",\n",
    "        \"HFC-32\",\n",
    "        \"HFC-365mfc\",\n",
    "        \"HFC-4310mee\",\n",
    "    ]:\n",
    "        fill(f.species_configs[\"forcing_scale\"], df_configs[\"fscale_minorGHG\"].values.squeeze(), specie=specie)\n",
    "\n",
    "    # ozone\n",
    "    for specie in [\"CH4\", \"N2O\", \"Equivalent effective stratospheric chlorine\", \"CO\", \"VOC\", \"NOx\"]:\n",
    "        fill(f.species_configs[\"ozone_radiative_efficiency\"], df_configs[f\"o3_{specie}\"], specie=specie)\n",
    "\n",
    "    # initial value of CO2 concentration (but not baseline for forcing calculations)\n",
    "    fill(\n",
    "        f.species_configs[\"baseline_concentration\"], \n",
    "        df_configs[\"cc_co2_concentration_1750\"].values.squeeze(), \n",
    "        specie=\"CO2\"\n",
    "    )"
   ]
  },
  {
   "cell_type": "code",
   "execution_count": 16,
   "id": "e8624555-7e9a-400a-8389-a4c7d789162a",
   "metadata": {},
   "outputs": [],
   "source": [
    "df_emis = GCAM_df"
   ]
  },
  {
   "cell_type": "code",
   "execution_count": 18,
   "id": "f2ee351a-4961-4723-90ac-518dacd1b44f",
   "metadata": {},
   "outputs": [
    {
     "data": {
      "application/vnd.jupyter.widget-view+json": {
       "model_id": "e945e5d0866c4ee4b8487affaf6eaced",
       "version_major": 2,
       "version_minor": 0
      },
      "text/plain": [
       "Running 5887 projections in parallel:   0%|          | 0/351 [00:00<?, ?timesteps/s]"
      ]
     },
     "metadata": {},
     "output_type": "display_data"
    },
    {
     "ename": "SyntaxError",
     "evalue": "'return' outside function (3313628684.py, line 65)",
     "output_type": "error",
     "traceback": [
      "\u001b[0;36m  Cell \u001b[0;32mIn [18], line 65\u001b[0;36m\u001b[0m\n\u001b[0;31m    return f\u001b[0m\n\u001b[0m    ^\u001b[0m\n\u001b[0;31mSyntaxError\u001b[0m\u001b[0;31m:\u001b[0m 'return' outside function\n"
     ]
    }
   ],
   "source": [
    "##### create instance #####\n",
    "f = FAIR()\n",
    "\n",
    "##### define time #####\n",
    "start = int(df_emis.columns[5])   # assumes IAM format consistent with harmonizer\n",
    "end = int(df_emis.columns[-1])+1\n",
    "f.define_time(start, end, 1)\n",
    "\n",
    "##### define scenarios #####\n",
    "f.define_scenarios(df_emis.Scenario.unique().tolist())   # same as those in emission dataset\n",
    "\n",
    "##### define configs #####\n",
    "configs = df_configs.index\n",
    "f.define_configs(configs) \n",
    "\n",
    "##### define species and properties #####\n",
    "species, properties = read_properties(filename=species_configs)\n",
    "species.remove(\"Halon-1202\")\n",
    "species.remove(\"NOx aviation\")\n",
    "f.define_species(species, properties)\n",
    "\n",
    "##### create data arrays #####\n",
    "f.allocate()   \n",
    "\n",
    "##### fill emissions #####\n",
    "# remove 'Emissions|' from variable name\n",
    "# for i in range(len(df_emis.Variable.values)): \n",
    "#     df_emis.Variable.values[i] = df_emis.Variable.values[i][10:]\n",
    "\n",
    "for scen in df_emis.Scenario.unique():\n",
    "    for var in df_emis.Variable.unique():\n",
    "        if var in f.species:\n",
    "            emis = df_emis.loc[df_emis['Variable'] == var].loc[df_emis['Scenario'] == scen].values[0][5:].reshape(351,1)\n",
    "            fill(f.emissions, emis, scenario=scen, specie=var)\n",
    "\n",
    "##### fill forcings #####\n",
    "for scen in f.scenarios:\n",
    "    fill(\n",
    "        f.forcing,\n",
    "        (df_volcanic.values[:, None, None] * df_configs[\"fscale_Volcanic\"].values.squeeze()).reshape(352, 841),\n",
    "        specie=\"Volcanic\", scenario=scen,\n",
    "    )\n",
    "    fill(\n",
    "        f.forcing,\n",
    "        (df_solar.values[:, None, None] * df_configs[\"fscale_solar_amplitude\"].values).reshape(352, 841)\n",
    "        + (trend_shape[:, None, None] * df_configs[\"fscale_solar_trend\"].values).reshape(352, 841),\n",
    "        specie=\"Solar\", scenario=scen,\n",
    "    )\n",
    "\n",
    "##### set configs #####\n",
    "fill_climate_configs(f, df_configs)\n",
    "f.fill_species_configs(filename=species_configs)\n",
    "edit_species_configs(f, species_configs)  #  overwrite configs that we will vary as part of probabilstic sampling\n",
    "\n",
    "##### initial conditions #####\n",
    "initialise(f.concentration, f.species_configs[\"baseline_concentration\"])\n",
    "initialise(f.forcing, 0)\n",
    "initialise(f.temperature, 0)   # f.temperature refers to temperature anomaly above PI (288 K)\n",
    "initialise(f.cumulative_emissions, 0)\n",
    "initialise(f.airborne_emissions, 0)\n",
    "\n",
    "##### RUN #####\n",
    "f.run()"
   ]
  },
  {
   "cell_type": "code",
   "execution_count": null,
   "id": "27d700e9-37ba-46f2-8114-e4217efc2bb5",
   "metadata": {},
   "outputs": [],
   "source": []
  }
 ],
 "metadata": {
  "kernelspec": {
   "display_name": "Python 3 (ipykernel)",
   "language": "python",
   "name": "python3"
  },
  "language_info": {
   "codemirror_mode": {
    "name": "ipython",
    "version": 3
   },
   "file_extension": ".py",
   "mimetype": "text/x-python",
   "name": "python",
   "nbconvert_exporter": "python",
   "pygments_lexer": "ipython3",
   "version": "3.10.6"
  }
 },
 "nbformat": 4,
 "nbformat_minor": 5
}
