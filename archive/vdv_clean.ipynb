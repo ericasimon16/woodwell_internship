{
 "cells": [
  {
   "cell_type": "markdown",
   "id": "f01fcf5a-51be-4d3a-8325-9a888ce605bf",
   "metadata": {
    "tags": []
   },
   "source": [
    "# van de Ven et al. Data\n",
    "### Erica Simon, 01/31/24\n",
    "\n",
    "## Purpose: Clean and interpolate emission projection data from multimodel analysis\n",
    "- Data is **post-Glasgow (COP26),** so is slightly outdated...\n",
    "- Credit: \n",
    "van de Ven, D.-J., Mittal, S., Gambhir, A., Lamboll, R. D., Doukas, H., Giarola, S., Hawkes, A., Koasidis, K., Köberle, A. C., McJeon, H., Perdana, S., Peters, G. P., Rogelj, J., Sognnaes, I., Vielle, M., & Nikas, A. (2023). A multimodel analysis of post-Glasgow climate targets and feasibility challenges. Nature Climate Change, 13(6), 570–578. https://doi.org/10.1038/s41558-023-01661-0\n",
    "\n"
   ]
  },
  {
   "cell_type": "code",
   "execution_count": 1,
   "id": "aa39e20c-a8bf-484f-912b-659929e96464",
   "metadata": {},
   "outputs": [],
   "source": [
    "import numpy as np\n",
    "import pandas as pd\n",
    "import pooch"
   ]
  },
  {
   "cell_type": "markdown",
   "id": "1ea406e1-fdc4-43cf-a2e1-2cd6a4172b06",
   "metadata": {},
   "source": [
    "## Import dataset"
   ]
  },
  {
   "cell_type": "code",
   "execution_count": 2,
   "id": "d31215cd-0234-4724-b9d7-11d1e152eb58",
   "metadata": {},
   "outputs": [],
   "source": [
    "future_emissions = pooch.retrieve(\n",
    "    url = 'https://raw.githubusercontent.com/Rlamboll/post-Glasgow_climate_targets/master/input/global_ite4_allmodels_emissions_ext.xlsx',\n",
    "    known_hash = '393661f7a0959d4eaf79818bece621ff683e75421900bbf628e1ab61afbd1edf',\n",
    ")\n",
    "\n",
    "df = pd.read_excel(future_emissions)"
   ]
  },
  {
   "cell_type": "code",
   "execution_count": 3,
   "id": "9f335dc4-1a31-4cf1-96cd-f2f041ab0957",
   "metadata": {},
   "outputs": [
    {
     "data": {
      "text/plain": [
       "array(['GCAM-PR 5.3', 'GEMINI-E3 7.0', 'MUSE', 'TIAM_Grantham', nan,\n",
       "       'Model'], dtype=object)"
      ]
     },
     "execution_count": 3,
     "metadata": {},
     "output_type": "execute_result"
    }
   ],
   "source": [
    "df.Model.unique()"
   ]
  },
  {
   "cell_type": "code",
   "execution_count": 4,
   "id": "4ea2795a-e5b7-44b5-8305-76462216dc02",
   "metadata": {},
   "outputs": [],
   "source": [
    "# filter to World, not interested in regional emissions\n",
    "df = df.loc[df['Region'] == 'World']"
   ]
  },
  {
   "cell_type": "markdown",
   "id": "3c63a605-54bb-4f13-a6e7-386c6a9486d6",
   "metadata": {},
   "source": [
    "## Data exploration\n",
    "- Which models have data for World?\n",
    "- Which forcing agents do the models include?"
   ]
  },
  {
   "cell_type": "code",
   "execution_count": 5,
   "id": "bfa17e51-5330-4a9a-8995-40ac957ba6a9",
   "metadata": {},
   "outputs": [
    {
     "data": {
      "text/plain": [
       "array(['GCAM-PR 5.3', 'TIAM_Grantham'], dtype=object)"
      ]
     },
     "execution_count": 5,
     "metadata": {},
     "output_type": "execute_result"
    }
   ],
   "source": [
    "df.Model.unique()"
   ]
  },
  {
   "cell_type": "code",
   "execution_count": 6,
   "id": "7d56306e-02ec-4afb-a371-0050ad037451",
   "metadata": {},
   "outputs": [
    {
     "data": {
      "text/plain": [
       "array(['Emissions|CO2|Energy and Industrial Processes',\n",
       "       'Emissions|CO2|Energy'], dtype=object)"
      ]
     },
     "execution_count": 6,
     "metadata": {},
     "output_type": "execute_result"
    }
   ],
   "source": [
    "df.loc[df['Model'] == 'TIAM_Grantham'].Variable.unique()"
   ]
  },
  {
   "cell_type": "code",
   "execution_count": 7,
   "id": "77bceda9-5ddd-4dec-a176-d338d5e70d96",
   "metadata": {},
   "outputs": [
    {
     "data": {
      "text/plain": [
       "array(['Emissions|C2F6', 'Emissions|CH4', 'Emissions|CO', 'Emissions|CO2',\n",
       "       'Emissions|CO2|AFOLU', 'Emissions|CO2|Energy',\n",
       "       'Emissions|CO2|Energy and Industrial Processes',\n",
       "       'Emissions|CO2|Industrial Processes', 'Emissions|F-Gases',\n",
       "       'Emissions|HFC', 'Emissions|HFC|HFC125', 'Emissions|HFC|HFC134a',\n",
       "       'Emissions|HFC|HFC143a', 'Emissions|HFC|HFC227ea',\n",
       "       'Emissions|HFC|HFC23', 'Emissions|HFC|HFC245fa',\n",
       "       'Emissions|HFC|HFC32', 'Emissions|HFC|HFC43-10', 'Emissions|N2O',\n",
       "       'Emissions|NH3', 'Emissions|NOx', 'Emissions|OC', 'Emissions|PFC',\n",
       "       'Emissions|SF6', 'Emissions|Sulfur', 'Emissions|VOC'], dtype=object)"
      ]
     },
     "execution_count": 7,
     "metadata": {},
     "output_type": "execute_result"
    }
   ],
   "source": [
    "df.loc[df['Model'] == 'GCAM-PR 5.3'].Variable.unique()"
   ]
  },
  {
   "cell_type": "markdown",
   "id": "815f9f56-fda1-4b7b-9d43-b52031163fb4",
   "metadata": {},
   "source": [
    "### Results:\n",
    "- Only two models, GCAM-PR 5.3 & TIAM_Grantham, have global data\n",
    "- TIAM_Grantham only has emissions data for CO2, which is not useful for this project\n",
    "\n",
    "\n",
    "Ultimately, the data from van de Ven et al. was not used because the NGFS datasets proved more suitable for the project, as they contained more relevant forcing agents and were more up to date"
   ]
  },
  {
   "cell_type": "code",
   "execution_count": 10,
   "id": "1eb02647-cc29-46ee-908c-538ed76ec9f6",
   "metadata": {},
   "outputs": [],
   "source": [
    "df = df.loc[df['Model'] == 'GCAM-PR 5.3']"
   ]
  },
  {
   "cell_type": "code",
   "execution_count": 11,
   "id": "fadc31df-51d4-4164-8d80-0afd86dab2f7",
   "metadata": {},
   "outputs": [
    {
     "data": {
      "text/html": [
       "<div>\n",
       "<style scoped>\n",
       "    .dataframe tbody tr th:only-of-type {\n",
       "        vertical-align: middle;\n",
       "    }\n",
       "\n",
       "    .dataframe tbody tr th {\n",
       "        vertical-align: top;\n",
       "    }\n",
       "\n",
       "    .dataframe thead th {\n",
       "        text-align: right;\n",
       "    }\n",
       "</style>\n",
       "<table border=\"1\" class=\"dataframe\">\n",
       "  <thead>\n",
       "    <tr style=\"text-align: right;\">\n",
       "      <th></th>\n",
       "      <th>Model</th>\n",
       "      <th>Scenario</th>\n",
       "      <th>Region</th>\n",
       "      <th>Variable</th>\n",
       "      <th>Unit</th>\n",
       "      <th>2005</th>\n",
       "      <th>2010</th>\n",
       "      <th>2015</th>\n",
       "      <th>2020</th>\n",
       "      <th>2025</th>\n",
       "      <th>...</th>\n",
       "      <th>2055</th>\n",
       "      <th>2060</th>\n",
       "      <th>2065</th>\n",
       "      <th>2070</th>\n",
       "      <th>2075</th>\n",
       "      <th>2080</th>\n",
       "      <th>2085</th>\n",
       "      <th>2090</th>\n",
       "      <th>2095</th>\n",
       "      <th>2100</th>\n",
       "    </tr>\n",
       "  </thead>\n",
       "  <tbody>\n",
       "    <tr>\n",
       "      <th>193</th>\n",
       "      <td>GCAM-PR 5.3</td>\n",
       "      <td>Baseline</td>\n",
       "      <td>World</td>\n",
       "      <td>Emissions|C2F6</td>\n",
       "      <td>kt C2F6/yr</td>\n",
       "      <td>2.098257</td>\n",
       "      <td>0.000000</td>\n",
       "      <td>0.000000</td>\n",
       "      <td>0.000000</td>\n",
       "      <td>0.000000</td>\n",
       "      <td>...</td>\n",
       "      <td>0.000000</td>\n",
       "      <td>0.000000</td>\n",
       "      <td>0.000000</td>\n",
       "      <td>0.000000</td>\n",
       "      <td>0.000000</td>\n",
       "      <td>0.000000</td>\n",
       "      <td>0.000000</td>\n",
       "      <td>0.000000</td>\n",
       "      <td>0.000000</td>\n",
       "      <td>0.000000</td>\n",
       "    </tr>\n",
       "    <tr>\n",
       "      <th>194</th>\n",
       "      <td>GCAM-PR 5.3</td>\n",
       "      <td>Baseline</td>\n",
       "      <td>World</td>\n",
       "      <td>Emissions|CH4</td>\n",
       "      <td>Mt CH4/yr</td>\n",
       "      <td>345.079687</td>\n",
       "      <td>367.571112</td>\n",
       "      <td>380.578724</td>\n",
       "      <td>405.940829</td>\n",
       "      <td>425.341541</td>\n",
       "      <td>...</td>\n",
       "      <td>462.781945</td>\n",
       "      <td>466.505493</td>\n",
       "      <td>468.511405</td>\n",
       "      <td>468.464320</td>\n",
       "      <td>468.788765</td>\n",
       "      <td>468.492382</td>\n",
       "      <td>467.831699</td>\n",
       "      <td>465.284877</td>\n",
       "      <td>462.457757</td>\n",
       "      <td>460.464699</td>\n",
       "    </tr>\n",
       "    <tr>\n",
       "      <th>195</th>\n",
       "      <td>GCAM-PR 5.3</td>\n",
       "      <td>Baseline</td>\n",
       "      <td>World</td>\n",
       "      <td>Emissions|CO</td>\n",
       "      <td>Mt CO/yr</td>\n",
       "      <td>853.245652</td>\n",
       "      <td>879.012250</td>\n",
       "      <td>878.106351</td>\n",
       "      <td>829.501884</td>\n",
       "      <td>762.360711</td>\n",
       "      <td>...</td>\n",
       "      <td>595.777568</td>\n",
       "      <td>577.122057</td>\n",
       "      <td>559.580885</td>\n",
       "      <td>544.281515</td>\n",
       "      <td>531.858355</td>\n",
       "      <td>520.351286</td>\n",
       "      <td>509.682694</td>\n",
       "      <td>499.155887</td>\n",
       "      <td>489.244881</td>\n",
       "      <td>480.996912</td>\n",
       "    </tr>\n",
       "    <tr>\n",
       "      <th>196</th>\n",
       "      <td>GCAM-PR 5.3</td>\n",
       "      <td>Baseline</td>\n",
       "      <td>World</td>\n",
       "      <td>Emissions|CO2</td>\n",
       "      <td>Mt CO2/yr</td>\n",
       "      <td>31425.936730</td>\n",
       "      <td>36147.350059</td>\n",
       "      <td>39196.367976</td>\n",
       "      <td>38299.919656</td>\n",
       "      <td>40653.893236</td>\n",
       "      <td>...</td>\n",
       "      <td>46707.710151</td>\n",
       "      <td>48205.541048</td>\n",
       "      <td>49791.456492</td>\n",
       "      <td>51520.872426</td>\n",
       "      <td>53321.742884</td>\n",
       "      <td>54770.073087</td>\n",
       "      <td>56170.098770</td>\n",
       "      <td>57562.838544</td>\n",
       "      <td>58672.996842</td>\n",
       "      <td>60067.525151</td>\n",
       "    </tr>\n",
       "    <tr>\n",
       "      <th>197</th>\n",
       "      <td>GCAM-PR 5.3</td>\n",
       "      <td>Baseline</td>\n",
       "      <td>World</td>\n",
       "      <td>Emissions|CO2|AFOLU</td>\n",
       "      <td>Mt CO2/yr</td>\n",
       "      <td>1949.450263</td>\n",
       "      <td>2479.748039</td>\n",
       "      <td>3260.792355</td>\n",
       "      <td>829.680496</td>\n",
       "      <td>469.187816</td>\n",
       "      <td>...</td>\n",
       "      <td>208.344766</td>\n",
       "      <td>33.309162</td>\n",
       "      <td>-37.597940</td>\n",
       "      <td>-134.422098</td>\n",
       "      <td>-188.791630</td>\n",
       "      <td>-233.630974</td>\n",
       "      <td>-284.688386</td>\n",
       "      <td>-274.359241</td>\n",
       "      <td>-301.203237</td>\n",
       "      <td>-315.025148</td>\n",
       "    </tr>\n",
       "  </tbody>\n",
       "</table>\n",
       "<p>5 rows × 25 columns</p>\n",
       "</div>"
      ],
      "text/plain": [
       "           Model  Scenario Region             Variable        Unit  \\\n",
       "193  GCAM-PR 5.3  Baseline  World       Emissions|C2F6  kt C2F6/yr   \n",
       "194  GCAM-PR 5.3  Baseline  World        Emissions|CH4   Mt CH4/yr   \n",
       "195  GCAM-PR 5.3  Baseline  World         Emissions|CO    Mt CO/yr   \n",
       "196  GCAM-PR 5.3  Baseline  World        Emissions|CO2   Mt CO2/yr   \n",
       "197  GCAM-PR 5.3  Baseline  World  Emissions|CO2|AFOLU   Mt CO2/yr   \n",
       "\n",
       "             2005          2010          2015          2020          2025  \\\n",
       "193      2.098257      0.000000      0.000000      0.000000      0.000000   \n",
       "194    345.079687    367.571112    380.578724    405.940829    425.341541   \n",
       "195    853.245652    879.012250    878.106351    829.501884    762.360711   \n",
       "196  31425.936730  36147.350059  39196.367976  38299.919656  40653.893236   \n",
       "197   1949.450263   2479.748039   3260.792355    829.680496    469.187816   \n",
       "\n",
       "     ...          2055          2060          2065          2070  \\\n",
       "193  ...      0.000000      0.000000      0.000000      0.000000   \n",
       "194  ...    462.781945    466.505493    468.511405    468.464320   \n",
       "195  ...    595.777568    577.122057    559.580885    544.281515   \n",
       "196  ...  46707.710151  48205.541048  49791.456492  51520.872426   \n",
       "197  ...    208.344766     33.309162    -37.597940   -134.422098   \n",
       "\n",
       "             2075          2080          2085          2090          2095  \\\n",
       "193      0.000000      0.000000      0.000000      0.000000      0.000000   \n",
       "194    468.788765    468.492382    467.831699    465.284877    462.457757   \n",
       "195    531.858355    520.351286    509.682694    499.155887    489.244881   \n",
       "196  53321.742884  54770.073087  56170.098770  57562.838544  58672.996842   \n",
       "197   -188.791630   -233.630974   -284.688386   -274.359241   -301.203237   \n",
       "\n",
       "             2100  \n",
       "193      0.000000  \n",
       "194    460.464699  \n",
       "195    480.996912  \n",
       "196  60067.525151  \n",
       "197   -315.025148  \n",
       "\n",
       "[5 rows x 25 columns]"
      ]
     },
     "execution_count": 11,
     "metadata": {},
     "output_type": "execute_result"
    }
   ],
   "source": [
    "df.head()"
   ]
  }
 ],
 "metadata": {
  "kernelspec": {
   "display_name": "Python 3 (ipykernel)",
   "language": "python",
   "name": "python3"
  },
  "language_info": {
   "codemirror_mode": {
    "name": "ipython",
    "version": 3
   },
   "file_extension": ".py",
   "mimetype": "text/x-python",
   "name": "python",
   "nbconvert_exporter": "python",
   "pygments_lexer": "ipython3",
   "version": "3.10.6"
  }
 },
 "nbformat": 4,
 "nbformat_minor": 5
}
