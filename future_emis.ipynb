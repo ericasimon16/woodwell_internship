{
 "cells": [
  {
   "cell_type": "markdown",
   "id": "8b7bc22f-0917-4aca-b512-a0a4ba938b3e",
   "metadata": {
    "tags": []
   },
   "source": [
    "# future_emis\n",
    "## Purpose: input IAM projections of future emissions under different policy scenarios\n",
    "- Data from NGFS\n",
    "\n",
    "### 01/29/24, Erica Simon"
   ]
  },
  {
   "cell_type": "code",
   "execution_count": 29,
   "id": "ed9cd4c4-bef4-4f8e-ad75-e68984ac3769",
   "metadata": {},
   "outputs": [],
   "source": [
    "import matplotlib.pyplot as plt\n",
    "import numpy as np\n",
    "import pandas as pd\n",
    "import pooch\n",
    "import copy\n",
    "\n",
    "from fair import FAIR\n",
    "from fair.interface import fill, initialise\n",
    "from fair.io import read_properties"
   ]
  },
  {
   "cell_type": "markdown",
   "id": "4602e759-4e68-4006-b341-9830b5cc0cdc",
   "metadata": {
    "tags": []
   },
   "source": [
    "## Import historical emissions dataset \n",
    "`hist_emis`"
   ]
  },
  {
   "cell_type": "code",
   "execution_count": 30,
   "id": "710b6629-f889-4df1-840f-10a72e19af34",
   "metadata": {},
   "outputs": [
    {
     "data": {
      "text/html": [
       "<div>\n",
       "<style scoped>\n",
       "    .dataframe tbody tr th:only-of-type {\n",
       "        vertical-align: middle;\n",
       "    }\n",
       "\n",
       "    .dataframe tbody tr th {\n",
       "        vertical-align: top;\n",
       "    }\n",
       "\n",
       "    .dataframe thead th {\n",
       "        text-align: right;\n",
       "    }\n",
       "</style>\n",
       "<table border=\"1\" class=\"dataframe\">\n",
       "  <thead>\n",
       "    <tr style=\"text-align: right;\">\n",
       "      <th></th>\n",
       "      <th>model</th>\n",
       "      <th>scenario</th>\n",
       "      <th>region</th>\n",
       "      <th>variable</th>\n",
       "      <th>unit</th>\n",
       "      <th>1750</th>\n",
       "      <th>1751</th>\n",
       "      <th>1752</th>\n",
       "      <th>1753</th>\n",
       "      <th>1754</th>\n",
       "      <th>...</th>\n",
       "      <th>2013</th>\n",
       "      <th>2014</th>\n",
       "      <th>2015</th>\n",
       "      <th>2016</th>\n",
       "      <th>2017</th>\n",
       "      <th>2018</th>\n",
       "      <th>2019</th>\n",
       "      <th>2020</th>\n",
       "      <th>2021</th>\n",
       "      <th>2022</th>\n",
       "    </tr>\n",
       "  </thead>\n",
       "  <tbody>\n",
       "    <tr>\n",
       "      <th>0</th>\n",
       "      <td>Historical</td>\n",
       "      <td>GCP+CEDS+PRIMAP+GFED</td>\n",
       "      <td>World</td>\n",
       "      <td>BC</td>\n",
       "      <td>Mt BC/yr</td>\n",
       "      <td>2.096766</td>\n",
       "      <td>2.071972</td>\n",
       "      <td>2.067178</td>\n",
       "      <td>2.070382</td>\n",
       "      <td>2.098586</td>\n",
       "      <td>...</td>\n",
       "      <td>7.842259</td>\n",
       "      <td>7.934828</td>\n",
       "      <td>7.926371</td>\n",
       "      <td>7.568060</td>\n",
       "      <td>7.562319</td>\n",
       "      <td>7.459095</td>\n",
       "      <td>7.781842</td>\n",
       "      <td>6.525021</td>\n",
       "      <td>6.871947</td>\n",
       "      <td>6.701702</td>\n",
       "    </tr>\n",
       "    <tr>\n",
       "      <th>1</th>\n",
       "      <td>Historical</td>\n",
       "      <td>GCP+CEDS+PRIMAP+GFED</td>\n",
       "      <td>World</td>\n",
       "      <td>C2F6</td>\n",
       "      <td>kt C2F6/yr</td>\n",
       "      <td>0.000000</td>\n",
       "      <td>0.000000</td>\n",
       "      <td>0.000000</td>\n",
       "      <td>0.000000</td>\n",
       "      <td>0.000000</td>\n",
       "      <td>...</td>\n",
       "      <td>1.003458</td>\n",
       "      <td>1.035565</td>\n",
       "      <td>0.933936</td>\n",
       "      <td>0.979945</td>\n",
       "      <td>0.996980</td>\n",
       "      <td>0.996764</td>\n",
       "      <td>1.062577</td>\n",
       "      <td>1.106550</td>\n",
       "      <td>1.160588</td>\n",
       "      <td>1.167145</td>\n",
       "    </tr>\n",
       "    <tr>\n",
       "      <th>2</th>\n",
       "      <td>Historical</td>\n",
       "      <td>GCP+CEDS+PRIMAP+GFED</td>\n",
       "      <td>World</td>\n",
       "      <td>C3F8</td>\n",
       "      <td>kt C3F8/yr</td>\n",
       "      <td>0.000000</td>\n",
       "      <td>0.000000</td>\n",
       "      <td>0.000000</td>\n",
       "      <td>0.000000</td>\n",
       "      <td>0.000000</td>\n",
       "      <td>...</td>\n",
       "      <td>0.314138</td>\n",
       "      <td>0.323186</td>\n",
       "      <td>0.304124</td>\n",
       "      <td>0.319107</td>\n",
       "      <td>0.324656</td>\n",
       "      <td>0.324586</td>\n",
       "      <td>0.346019</td>\n",
       "      <td>0.360340</td>\n",
       "      <td>0.377938</td>\n",
       "      <td>0.380074</td>\n",
       "    </tr>\n",
       "    <tr>\n",
       "      <th>3</th>\n",
       "      <td>Historical</td>\n",
       "      <td>GCP+CEDS+PRIMAP+GFED</td>\n",
       "      <td>World</td>\n",
       "      <td>C4F10</td>\n",
       "      <td>kt C4F10/yr</td>\n",
       "      <td>0.000000</td>\n",
       "      <td>0.000000</td>\n",
       "      <td>0.000000</td>\n",
       "      <td>0.000000</td>\n",
       "      <td>0.000000</td>\n",
       "      <td>...</td>\n",
       "      <td>0.070672</td>\n",
       "      <td>0.070641</td>\n",
       "      <td>0.067024</td>\n",
       "      <td>0.070327</td>\n",
       "      <td>0.071550</td>\n",
       "      <td>0.071536</td>\n",
       "      <td>0.076260</td>\n",
       "      <td>0.079417</td>\n",
       "      <td>0.083292</td>\n",
       "      <td>0.083759</td>\n",
       "    </tr>\n",
       "    <tr>\n",
       "      <th>4</th>\n",
       "      <td>Historical</td>\n",
       "      <td>GCP+CEDS+PRIMAP+GFED</td>\n",
       "      <td>World</td>\n",
       "      <td>C5F12</td>\n",
       "      <td>kt C5F12/yr</td>\n",
       "      <td>0.000000</td>\n",
       "      <td>0.000000</td>\n",
       "      <td>0.000000</td>\n",
       "      <td>0.000000</td>\n",
       "      <td>0.000000</td>\n",
       "      <td>...</td>\n",
       "      <td>0.035588</td>\n",
       "      <td>0.031141</td>\n",
       "      <td>0.030030</td>\n",
       "      <td>0.031513</td>\n",
       "      <td>0.032065</td>\n",
       "      <td>0.032062</td>\n",
       "      <td>0.034184</td>\n",
       "      <td>0.035603</td>\n",
       "      <td>0.037338</td>\n",
       "      <td>0.037545</td>\n",
       "    </tr>\n",
       "  </tbody>\n",
       "</table>\n",
       "<p>5 rows × 278 columns</p>\n",
       "</div>"
      ],
      "text/plain": [
       "        model              scenario region variable         unit      1750  \\\n",
       "0  Historical  GCP+CEDS+PRIMAP+GFED  World       BC     Mt BC/yr  2.096766   \n",
       "1  Historical  GCP+CEDS+PRIMAP+GFED  World     C2F6   kt C2F6/yr  0.000000   \n",
       "2  Historical  GCP+CEDS+PRIMAP+GFED  World     C3F8   kt C3F8/yr  0.000000   \n",
       "3  Historical  GCP+CEDS+PRIMAP+GFED  World    C4F10  kt C4F10/yr  0.000000   \n",
       "4  Historical  GCP+CEDS+PRIMAP+GFED  World    C5F12  kt C5F12/yr  0.000000   \n",
       "\n",
       "       1751      1752      1753      1754  ...      2013      2014      2015  \\\n",
       "0  2.071972  2.067178  2.070382  2.098586  ...  7.842259  7.934828  7.926371   \n",
       "1  0.000000  0.000000  0.000000  0.000000  ...  1.003458  1.035565  0.933936   \n",
       "2  0.000000  0.000000  0.000000  0.000000  ...  0.314138  0.323186  0.304124   \n",
       "3  0.000000  0.000000  0.000000  0.000000  ...  0.070672  0.070641  0.067024   \n",
       "4  0.000000  0.000000  0.000000  0.000000  ...  0.035588  0.031141  0.030030   \n",
       "\n",
       "       2016      2017      2018      2019      2020      2021      2022  \n",
       "0  7.568060  7.562319  7.459095  7.781842  6.525021  6.871947  6.701702  \n",
       "1  0.979945  0.996980  0.996764  1.062577  1.106550  1.160588  1.167145  \n",
       "2  0.319107  0.324656  0.324586  0.346019  0.360340  0.377938  0.380074  \n",
       "3  0.070327  0.071550  0.071536  0.076260  0.079417  0.083292  0.083759  \n",
       "4  0.031513  0.032065  0.032062  0.034184  0.035603  0.037338  0.037545  \n",
       "\n",
       "[5 rows x 278 columns]"
      ]
     },
     "execution_count": 30,
     "metadata": {},
     "output_type": "execute_result"
    }
   ],
   "source": [
    "hist_emis = pd.read_csv('~/inputs/all_scaled_1750-2022.csv')\n",
    "\n",
    "# remove 'Emissions|' from variable name\n",
    "for i in range(len(hist_emis.variable.values)): \n",
    "    hist_emis.variable.values[i] = hist_emis.variable.values[i][10:]\n",
    "\n",
    "# rename to match FaIR spceies\n",
    "hist_emis.loc[hist_emis.variable == 'CO2|AFOLU', 'variable'] = 'CO2 AFOLU'\n",
    "hist_emis.loc[hist_emis.variable == 'CO2|Energy and Industrial Processes', 'variable'] = 'CO2 FFI'\n",
    "\n",
    "hist_emis.head()"
   ]
  },
  {
   "cell_type": "markdown",
   "id": "5051e797-cbcf-4e69-bdb7-0cc64a0cace2",
   "metadata": {
    "tags": []
   },
   "source": [
    "## Import & clean future emissions dataset\n",
    "`proj_emis`"
   ]
  },
  {
   "cell_type": "code",
   "execution_count": 31,
   "id": "e5095fb5-e38f-4617-9cea-86aa54476f48",
   "metadata": {},
   "outputs": [],
   "source": [
    "MSG_proj_emis = pd.read_csv('~/inputs/NGFS_MESSAGE.csv')\n",
    "\n",
    "# remove final row- does not contain emission data\n",
    "MSG_proj_emis = MSG_proj_emis.drop(index=MSG_proj_emis.index[-1])\n",
    "\n",
    "# remove 'Region' column- not needed\n",
    "MSG_proj_emis = MSG_proj_emis.drop(columns=['Region', 'Model'])\n",
    "\n",
    "# remove 'Emissions|' from variable names\n",
    "for i in range(len(MSG_proj_emis.Variable.values)): \n",
    "    MSG_proj_emis.Variable.values[i] = MSG_proj_emis.Variable.values[i][10:]\n",
    "    \n",
    "# rename to match FaIR spceies\n",
    "MSG_proj_emis.loc[MSG_proj_emis.Variable == 'CO2|AFOLU', 'Variable'] = 'CO2 AFOLU'\n",
    "MSG_proj_emis.loc[MSG_proj_emis.Variable == 'CO2|Energy and Industrial Processes', 'Variable'] = 'CO2 FFI'\n",
    "MSG_proj_emis.loc[MSG_proj_emis.Variable == 'HFC|HFC125', 'Variable'] = 'HFC-125'\n",
    "MSG_proj_emis.loc[MSG_proj_emis.Variable == 'HFC|HFC134a', 'Variable'] = 'HFC-134a'\n",
    "MSG_proj_emis.loc[MSG_proj_emis.Variable == 'HFC|HFC227ea', 'Variable'] = 'HFC-227ea'\n",
    "MSG_proj_emis.loc[MSG_proj_emis.Variable == 'HFC|HFC143a', 'Variable'] = 'HFC-143a'\n",
    "MSG_proj_emis.loc[MSG_proj_emis.Variable == 'HFC|HFC23', 'Variable'] = 'HFC-23'\n",
    "MSG_proj_emis.loc[MSG_proj_emis.Variable == 'HFC|HFC245fa', 'Variable'] = 'HFC-245fa'\n",
    "MSG_proj_emis.loc[MSG_proj_emis.Variable == 'HFC|HFC32', 'Variable'] = 'HFC-32'\n",
    "MSG_proj_emis.loc[MSG_proj_emis.Variable == 'HFC|HFC43-10', 'Variable'] = 'HFC-4310mee'\n",
    "\n",
    "# get rid of species not included in hist dataset (F-Gases, HFC, PFC)\n",
    "MSG_proj_emis = MSG_proj_emis[~MSG_proj_emis['Variable'].isin(['F-Gases', 'HFC', 'PFC', 'CO2'])]\n",
    "\n",
    "# remove '(version: 1)' from scenario names\n",
    "for i in range(len(MSG_proj_emis.Scenario.values)): \n",
    "    MSG_proj_emis.Scenario.values[i] = MSG_proj_emis.Scenario.values[i][:-13]\n",
    "    \n",
    "# rename scenarios for clarity\n",
    "MSG_proj_emis.loc[MSG_proj_emis.Scenario == 'Below 2?C', 'Scenario'] = 'Below 2 C'\n",
    "MSG_proj_emis.loc[MSG_proj_emis.Scenario == 'Nationally Determined Contributions (NDCs)', 'Scenario'] = 'NDCs'\n",
    "\n",
    "MSG_proj_emis.to_csv('~/outputs/NGFS_MSG_cleaned.csv', index=False)"
   ]
  },
  {
   "cell_type": "code",
   "execution_count": 32,
   "id": "5029a687-e821-4e23-9fa9-d7b88dab07a7",
   "metadata": {},
   "outputs": [],
   "source": [
    "proj_emis = pd.read_csv('~/inputs/NGFS_GCAM.csv')\n",
    "\n",
    "# remove final row- does not contain emission data\n",
    "proj_emis = proj_emis.drop(index=175)\n",
    "\n",
    "# remove 'Region' column- not needed\n",
    "proj_emis = proj_emis.drop(columns=['Region', 'Model'])\n",
    "\n",
    "# remove 'Emissions|' from variable names\n",
    "for i in range(len(proj_emis.Variable.values)): \n",
    "    proj_emis.Variable.values[i] = proj_emis.Variable.values[i][10:]\n",
    "    \n",
    "# rename to match FaIR spceies\n",
    "proj_emis.loc[proj_emis.Variable == 'CO2|AFOLU', 'Variable'] = 'CO2 AFOLU'\n",
    "proj_emis.loc[proj_emis.Variable == 'CO2|Energy and Industrial Processes', 'Variable'] = 'CO2 FFI'\n",
    "proj_emis.loc[proj_emis.Variable == 'HFC|HFC125', 'Variable'] = 'HFC-125'\n",
    "proj_emis.loc[proj_emis.Variable == 'HFC|HFC134a', 'Variable'] = 'HFC-134a'\n",
    "proj_emis.loc[proj_emis.Variable == 'HFC|HFC227ea', 'Variable'] = 'HFC-227ea'\n",
    "proj_emis.loc[proj_emis.Variable == 'HFC|HFC143a', 'Variable'] = 'HFC-143a'\n",
    "proj_emis.loc[proj_emis.Variable == 'HFC|HFC23', 'Variable'] = 'HFC-23'\n",
    "proj_emis.loc[proj_emis.Variable == 'HFC|HFC245fa', 'Variable'] = 'HFC-245fa'\n",
    "proj_emis.loc[proj_emis.Variable == 'HFC|HFC32', 'Variable'] = 'HFC-32'\n",
    "\n",
    "# get rid of species not included in hist dataset (F-Gases, HFC, PFC)\n",
    "proj_emis = proj_emis[~proj_emis['Variable'].isin(['F-Gases', 'HFC', 'PFC', 'CO2'])]\n",
    "\n",
    "# remove '(version: 1)' from scenario names\n",
    "for i in range(len(proj_emis.Scenario.values)): \n",
    "    proj_emis.Scenario.values[i] = proj_emis.Scenario.values[i][:-13]\n",
    "    \n",
    "# rename scenarios for clarity\n",
    "proj_emis.loc[proj_emis.Scenario == 'Below 2?C', 'Scenario'] = 'Below 2 C'\n",
    "proj_emis.loc[proj_emis.Scenario == 'Nationally Determined Contributions (NDCs)', 'Scenario'] = 'NDCs'\n",
    "\n",
    "proj_emis.to_csv('~/outputs/NGFS_GCAM_cleaned.csv', index=False)"
   ]
  },
  {
   "cell_type": "markdown",
   "id": "85b15d85-9423-40b4-8cdc-ff018f56ec50",
   "metadata": {},
   "source": [
    "Ensure that variable names in projected dataset are consistent with those of future dataset. Also identify missing species from projected dataset."
   ]
  },
  {
   "cell_type": "code",
   "execution_count": 33,
   "id": "7d6ea4b5-bdf7-4575-9863-75aca5e80fb1",
   "metadata": {},
   "outputs": [
    {
     "name": "stdout",
     "output_type": "stream",
     "text": [
      "strings in hist but not proj:\n",
      "\n",
      "GCAM\n",
      "['C3F8' 'C4F10' 'C5F12' 'C6F14' 'C7F16' 'C8F18' 'CCl4' 'CFC-11' 'CFC-113'\n",
      " 'CFC-114' 'CFC-115' 'CFC-12' 'CH2Cl2' 'CH3Br' 'CH3CCl3' 'CH3Cl' 'CHCl3'\n",
      " 'HCFC-141b' 'HCFC-142b' 'HCFC-22' 'HFC-152a' 'HFC-236fa' 'HFC-365mfc'\n",
      " 'HFC-4310mee' 'Halon-1211' 'Halon-1301' 'Halon-2402' 'NF3' 'SO2F2'\n",
      " 'c-C4F8']\n",
      "\n",
      "MESSAGE\n",
      "['C2F6' 'C3F8' 'C4F10' 'C5F12' 'C6F14' 'C7F16' 'C8F18' 'CCl4' 'CF4'\n",
      " 'CFC-11' 'CFC-113' 'CFC-114' 'CFC-115' 'CFC-12' 'CH2Cl2' 'CH3Br'\n",
      " 'CH3CCl3' 'CH3Cl' 'CHCl3' 'HCFC-141b' 'HCFC-142b' 'HCFC-22' 'HFC-152a'\n",
      " 'HFC-236fa' 'HFC-365mfc' 'Halon-1211' 'Halon-1301' 'Halon-2402' 'NF3'\n",
      " 'SO2F2' 'c-C4F8']\n",
      "\n",
      "strings in proj but not hist:\n",
      "\n",
      "GCAM\n",
      "[]\n",
      "\n",
      "MESSAGE\n",
      "[]\n"
     ]
    }
   ],
   "source": [
    "a = hist_emis['variable'].unique()\n",
    "b = proj_emis['Variable'].unique()\n",
    "c = MSG_proj_emis['Variable'].unique()\n",
    "\n",
    "print('strings in hist but not proj:')\n",
    "print('\\nGCAM')\n",
    "print(np.setdiff1d(a, b))\n",
    "print('\\nMESSAGE')\n",
    "print(np.setdiff1d(a, c))\n",
    "\n",
    "print('\\nstrings in proj but not hist:')\n",
    "print('\\nGCAM')\n",
    "print(np.setdiff1d(b, a))\n",
    "print('\\nMESSAGE')\n",
    "print(np.setdiff1d(c, a))"
   ]
  },
  {
   "cell_type": "markdown",
   "id": "9822220b-6524-48e6-bcfe-8c89cd3c443f",
   "metadata": {
    "tags": []
   },
   "source": [
    "## Plot projected vs. historical CH4 emissions"
   ]
  },
  {
   "cell_type": "markdown",
   "id": "0278aec0-760f-4496-ba77-715a848b5bca",
   "metadata": {},
   "source": [
    "This will help us to analyze the discrepancy between the two timeseries. Then, we can use the `aneris` harmonization tool to make these trajectories consistent with one another"
   ]
  },
  {
   "cell_type": "code",
   "execution_count": 34,
   "id": "9d1c3b4e-71fb-4254-ac9f-334593a5c6aa",
   "metadata": {},
   "outputs": [],
   "source": [
    "ch4_proj = proj_emis.loc[proj_emis.Variable == 'CH4'].loc[proj_emis.Scenario == 'Current Policies']\n",
    "ch4_proj = ch4_proj.values[0][4:].astype(float)"
   ]
  },
  {
   "cell_type": "code",
   "execution_count": 35,
   "id": "89250fae-edc5-43e1-a86b-f97f6620a1f3",
   "metadata": {},
   "outputs": [
    {
     "data": {
      "text/plain": [
       "array([332.3504848, 349.4731017, 370.7043309, 383.7314283, 396.5458579,\n",
       "       406.4101421, 413.584382 , 416.1188587, 418.3506344, 417.2221213,\n",
       "       415.408043 , 410.5150104, 406.2395599, 401.7712512, 395.3983755,\n",
       "       388.6285407])"
      ]
     },
     "execution_count": 35,
     "metadata": {},
     "output_type": "execute_result"
    }
   ],
   "source": [
    "ch4_proj"
   ]
  },
  {
   "cell_type": "markdown",
   "id": "adfec4ea-92db-436d-9257-1e36ab4e683a",
   "metadata": {},
   "source": [
    "Projections are in 5-year timesteps, so we need to interpolate over the interval"
   ]
  },
  {
   "cell_type": "code",
   "execution_count": 36,
   "id": "05581112-2242-442f-928b-6f6beb63de1c",
   "metadata": {},
   "outputs": [],
   "source": [
    "yrs = np.arange(2020, 2101, 5)\n",
    "all_yrs = np.arange(2020, 2101)"
   ]
  },
  {
   "cell_type": "code",
   "execution_count": 37,
   "id": "220a458a-f155-4530-ad33-a6fb17ea6268",
   "metadata": {},
   "outputs": [
    {
     "ename": "ValueError",
     "evalue": "fp and xp are not of the same length.",
     "output_type": "error",
     "traceback": [
      "\u001b[0;31m---------------------------------------------------------------------------\u001b[0m",
      "\u001b[0;31mValueError\u001b[0m                                Traceback (most recent call last)",
      "Cell \u001b[0;32mIn [37], line 1\u001b[0m\n\u001b[0;32m----> 1\u001b[0m ch4_proj_interp \u001b[38;5;241m=\u001b[39m \u001b[43mnp\u001b[49m\u001b[38;5;241;43m.\u001b[39;49m\u001b[43minterp\u001b[49m\u001b[43m(\u001b[49m\u001b[43mall_yrs\u001b[49m\u001b[43m,\u001b[49m\u001b[43m \u001b[49m\u001b[43myrs\u001b[49m\u001b[43m,\u001b[49m\u001b[43m \u001b[49m\u001b[43mch4_proj\u001b[49m\u001b[43m)\u001b[49m\n",
      "File \u001b[0;32m<__array_function__ internals>:180\u001b[0m, in \u001b[0;36minterp\u001b[0;34m(*args, **kwargs)\u001b[0m\n",
      "File \u001b[0;32m/opt/miniconda/envs/risk/lib/python3.10/site-packages/numpy/lib/function_base.py:1594\u001b[0m, in \u001b[0;36minterp\u001b[0;34m(x, xp, fp, left, right, period)\u001b[0m\n\u001b[1;32m   1591\u001b[0m     xp \u001b[38;5;241m=\u001b[39m np\u001b[38;5;241m.\u001b[39mconcatenate((xp[\u001b[38;5;241m-\u001b[39m\u001b[38;5;241m1\u001b[39m:]\u001b[38;5;241m-\u001b[39mperiod, xp, xp[\u001b[38;5;241m0\u001b[39m:\u001b[38;5;241m1\u001b[39m]\u001b[38;5;241m+\u001b[39mperiod))\n\u001b[1;32m   1592\u001b[0m     fp \u001b[38;5;241m=\u001b[39m np\u001b[38;5;241m.\u001b[39mconcatenate((fp[\u001b[38;5;241m-\u001b[39m\u001b[38;5;241m1\u001b[39m:], fp, fp[\u001b[38;5;241m0\u001b[39m:\u001b[38;5;241m1\u001b[39m]))\n\u001b[0;32m-> 1594\u001b[0m \u001b[38;5;28;01mreturn\u001b[39;00m \u001b[43minterp_func\u001b[49m\u001b[43m(\u001b[49m\u001b[43mx\u001b[49m\u001b[43m,\u001b[49m\u001b[43m \u001b[49m\u001b[43mxp\u001b[49m\u001b[43m,\u001b[49m\u001b[43m \u001b[49m\u001b[43mfp\u001b[49m\u001b[43m,\u001b[49m\u001b[43m \u001b[49m\u001b[43mleft\u001b[49m\u001b[43m,\u001b[49m\u001b[43m \u001b[49m\u001b[43mright\u001b[49m\u001b[43m)\u001b[49m\n",
      "\u001b[0;31mValueError\u001b[0m: fp and xp are not of the same length."
     ]
    }
   ],
   "source": [
    "ch4_proj_interp = np.interp(all_yrs, yrs, ch4_proj)"
   ]
  },
  {
   "cell_type": "code",
   "execution_count": null,
   "id": "47b5535f-c275-4191-863e-49cb5c784a0b",
   "metadata": {},
   "outputs": [],
   "source": [
    "plt.plot(np.arange(2000, 2023), hist_emis.loc[hist_emis.variable == 'CH4'].values[0][255:])\n",
    "plt.plot(np.arange(2020, 2101), ch4_proj_interp)\n",
    "plt.axvline(2020, linestyle='--', color='grey', alpha=0.5)\n",
    "plt.xlabel('Year')\n",
    "plt.ylabel('Mt CH4/yr')\n",
    "plt.title('Gap Between Projected & Historical CH4 Emissions\\n Current Policies Scenario')\n",
    "plt.show()"
   ]
  }
 ],
 "metadata": {
  "kernelspec": {
   "display_name": "Python 3 (ipykernel)",
   "language": "python",
   "name": "python3"
  },
  "language_info": {
   "codemirror_mode": {
    "name": "ipython",
    "version": 3
   },
   "file_extension": ".py",
   "mimetype": "text/x-python",
   "name": "python",
   "nbconvert_exporter": "python",
   "pygments_lexer": "ipython3",
   "version": "3.10.6"
  }
 },
 "nbformat": 4,
 "nbformat_minor": 5
}
