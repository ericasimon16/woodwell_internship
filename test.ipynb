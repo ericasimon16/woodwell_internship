{
 "cells": [
  {
   "cell_type": "code",
   "execution_count": 1,
   "id": "a90e8cad-104b-4d7d-b2b3-b7b8c2a77d74",
   "metadata": {},
   "outputs": [
    {
     "name": "stdout",
     "output_type": "stream",
     "text": [
      "hello world\n"
     ]
    }
   ],
   "source": [
    "print('hello world')"
   ]
  },
  {
   "cell_type": "code",
   "execution_count": 3,
   "id": "090b0080-d24d-4296-933e-2defe7ab8a2b",
   "metadata": {},
   "outputs": [],
   "source": [
    "from fair import FAIR"
   ]
  },
  {
   "cell_type": "code",
   "execution_count": 4,
   "id": "7a6d9505-5c0f-4227-bd68-61b30dd37083",
   "metadata": {},
   "outputs": [],
   "source": [
    "f = FAIR()"
   ]
  },
  {
   "cell_type": "code",
   "execution_count": 5,
   "id": "7e9f7058-5285-4adf-8ca5-2921d7b0df9e",
   "metadata": {},
   "outputs": [],
   "source": [
    "f.define_time(1750, 2100, 1)"
   ]
  },
  {
   "cell_type": "code",
   "execution_count": 6,
   "id": "0a10e075-611e-4161-b5fe-33c731c17862",
   "metadata": {},
   "outputs": [
    {
     "data": {
      "text/plain": [
       "<fair.fair.FAIR at 0x7fd34ae35c60>"
      ]
     },
     "execution_count": 6,
     "metadata": {},
     "output_type": "execute_result"
    }
   ],
   "source": [
    "f"
   ]
  },
  {
   "cell_type": "code",
   "execution_count": 7,
   "id": "929a19b0-c40a-4e43-999b-936656be4d7e",
   "metadata": {},
   "outputs": [],
   "source": [
    "f.define_scenarios(['ssp126', 'ssp245', 'ssp370'])"
   ]
  },
  {
   "cell_type": "code",
   "execution_count": 8,
   "id": "f06ae5c1-6ced-4da5-9bca-521e8702c1bb",
   "metadata": {},
   "outputs": [],
   "source": [
    "f.define_configs(['UKESM', 'NorESM', 'GFDL', 'MIROC'])"
   ]
  },
  {
   "cell_type": "code",
   "execution_count": 11,
   "id": "9591c2d0-1a39-411c-a745-256cdc85ab62",
   "metadata": {},
   "outputs": [],
   "source": [
    "properties = {\n",
    "    'CO2': {\n",
    "        'type': 'co2',\n",
    "        'input_mode': 'emissions',\n",
    "        'greenhouse_gas': True,\n",
    "        'aerosol_chemistry_from_emissions': False,\n",
    "        'aerosol_chemistry_from_concentration': False,\n",
    "    }\n",
    "}\n",
    "\n",
    "f.define_species(['CO2'], properties)"
   ]
  },
  {
   "cell_type": "code",
   "execution_count": 13,
   "id": "226457ec-262a-4a1b-a908-db81b6a6a60f",
   "metadata": {},
   "outputs": [
    {
     "ename": "AttributeError",
     "evalue": "'FAIR' object has no attribute 'emissions'",
     "output_type": "error",
     "traceback": [
      "\u001b[0;31m---------------------------------------------------------------------------\u001b[0m",
      "\u001b[0;31mAttributeError\u001b[0m                            Traceback (most recent call last)",
      "Cell \u001b[0;32mIn [13], line 1\u001b[0m\n\u001b[0;32m----> 1\u001b[0m \u001b[43mf\u001b[49m\u001b[38;5;241;43m.\u001b[39;49m\u001b[43mrun\u001b[49m\u001b[43m(\u001b[49m\u001b[43m)\u001b[49m\n",
      "File \u001b[0;32m/opt/miniconda/envs/risk/lib/python3.10/site-packages/fair/fair.py:1389\u001b[0m, in \u001b[0;36mFAIR.run\u001b[0;34m(self, progress, suppress_warnings)\u001b[0m\n\u001b[1;32m   1379\u001b[0m \u001b[38;5;28;01mdef\u001b[39;00m \u001b[38;5;21mrun\u001b[39m(\u001b[38;5;28mself\u001b[39m, progress\u001b[38;5;241m=\u001b[39m\u001b[38;5;28;01mTrue\u001b[39;00m, suppress_warnings\u001b[38;5;241m=\u001b[39m\u001b[38;5;28;01mTrue\u001b[39;00m):\n\u001b[1;32m   1380\u001b[0m     \u001b[38;5;124;03m\"\"\"Run the FaIR model.\u001b[39;00m\n\u001b[1;32m   1381\u001b[0m \n\u001b[1;32m   1382\u001b[0m \u001b[38;5;124;03m    Parameters\u001b[39;00m\n\u001b[0;32m   (...)\u001b[0m\n\u001b[1;32m   1387\u001b[0m \u001b[38;5;124;03m        Hide warnings relating to covariance in energy balance matrix.\u001b[39;00m\n\u001b[1;32m   1388\u001b[0m \u001b[38;5;124;03m    \"\"\"\u001b[39;00m\n\u001b[0;32m-> 1389\u001b[0m     \u001b[38;5;28;43mself\u001b[39;49m\u001b[38;5;241;43m.\u001b[39;49m\u001b[43m_check_properties\u001b[49m\u001b[43m(\u001b[49m\u001b[43m)\u001b[49m\n\u001b[1;32m   1390\u001b[0m     \u001b[38;5;28mself\u001b[39m\u001b[38;5;241m.\u001b[39m_make_indices()\n\u001b[1;32m   1391\u001b[0m     \u001b[38;5;28;01mif\u001b[39;00m \u001b[38;5;28mself\u001b[39m\u001b[38;5;241m.\u001b[39m_routine_flags[\u001b[38;5;124m\"\u001b[39m\u001b[38;5;124mtemperature\u001b[39m\u001b[38;5;124m\"\u001b[39m]:\n",
      "File \u001b[0;32m/opt/miniconda/envs/risk/lib/python3.10/site-packages/fair/fair.py:1103\u001b[0m, in \u001b[0;36mFAIR._check_properties\u001b[0;34m(self)\u001b[0m\n\u001b[1;32m   1101\u001b[0m \u001b[38;5;28;01mfor\u001b[39;00m specie \u001b[38;5;129;01min\u001b[39;00m \u001b[38;5;28mself\u001b[39m\u001b[38;5;241m.\u001b[39mspecies:\n\u001b[1;32m   1102\u001b[0m     \u001b[38;5;28;01mif\u001b[39;00m \u001b[38;5;28mself\u001b[39m\u001b[38;5;241m.\u001b[39mproperties[specie][\u001b[38;5;124m\"\u001b[39m\u001b[38;5;124minput_mode\u001b[39m\u001b[38;5;124m\"\u001b[39m] \u001b[38;5;241m==\u001b[39m \u001b[38;5;124m\"\u001b[39m\u001b[38;5;124memissions\u001b[39m\u001b[38;5;124m\"\u001b[39m:\n\u001b[0;32m-> 1103\u001b[0m         n_nan \u001b[38;5;241m=\u001b[39m np\u001b[38;5;241m.\u001b[39misnan(\u001b[38;5;28;43mself\u001b[39;49m\u001b[38;5;241;43m.\u001b[39;49m\u001b[43memissions\u001b[49m\u001b[38;5;241m.\u001b[39mloc[\u001b[38;5;28mdict\u001b[39m(specie\u001b[38;5;241m=\u001b[39mspecie)])\u001b[38;5;241m.\u001b[39msum()\n\u001b[1;32m   1104\u001b[0m         \u001b[38;5;28;01mif\u001b[39;00m n_nan \u001b[38;5;241m>\u001b[39m \u001b[38;5;241m0\u001b[39m:\n\u001b[1;32m   1105\u001b[0m             _raise_if_nan(specie, \u001b[38;5;124m\"\u001b[39m\u001b[38;5;124memissions\u001b[39m\u001b[38;5;124m\"\u001b[39m)\n",
      "\u001b[0;31mAttributeError\u001b[0m: 'FAIR' object has no attribute 'emissions'"
     ]
    }
   ],
   "source": [
    "f.run()"
   ]
  },
  {
   "cell_type": "code",
   "execution_count": null,
   "id": "0e5663c2-3bad-4902-952d-8e5509a79eda",
   "metadata": {},
   "outputs": [],
   "source": []
  }
 ],
 "metadata": {
  "kernelspec": {
   "display_name": "Python 3 (ipykernel)",
   "language": "python",
   "name": "python3"
  },
  "language_info": {
   "codemirror_mode": {
    "name": "ipython",
    "version": 3
   },
   "file_extension": ".py",
   "mimetype": "text/x-python",
   "name": "python",
   "nbconvert_exporter": "python",
   "pygments_lexer": "ipython3",
   "version": "3.10.6"
  }
 },
 "nbformat": 4,
 "nbformat_minor": 5
}
