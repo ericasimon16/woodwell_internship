{
 "cells": [
  {
   "cell_type": "markdown",
   "id": "d2aecd34-1f24-4952-877f-dfc481baaeb2",
   "metadata": {
    "tags": []
   },
   "source": [
    "# hist_for_harm\n",
    "## Purpose: Clean `hist_emis` dataset for aneris\n",
    "\n",
    "## Erica Simon, 02/02/24"
   ]
  },
  {
   "cell_type": "code",
   "execution_count": 2,
   "id": "9ee78db7-332a-4b3b-9bb8-e6764a9eeb58",
   "metadata": {},
   "outputs": [],
   "source": [
    "import pandas as pd"
   ]
  },
  {
   "cell_type": "code",
   "execution_count": 9,
   "id": "83d6f3a1-6174-4ed8-832a-d8cf5cead81d",
   "metadata": {},
   "outputs": [],
   "source": [
    "hist_emis = pd.read_csv('~/outputs/historical_emissions_ALL.csv')\n",
    "\n",
    "# need to change N2O from Mt to kt for aneris!\n",
    "hist_emis.loc[hist_emis.variable == 'Emissions|N2O'] = hist_emis.loc[hist_emis.variable == 'Emissions|N2O'] * 1000\n",
    "hist_emis.iloc[41, 0] = 'Emissions|N2O'\n",
    "hist_emis.iloc[41, 1] = 'kt N2O/yr'\n",
    "\n",
    "# update df to required format\n",
    "hist_emis.insert(0, 'Region', 'World')\n",
    "hist_emis.insert(0, 'Scenario', 'scen')\n",
    "hist_emis.insert(0, 'Model', 'History')\n",
    "\n",
    "hist_emis = hist_emis.rename(columns={\"variable\": \"Variable\", \"unit\": \"Unit\"})\n",
    "\n",
    "\n",
    "# get rid of species not included in proj dataset\n",
    "extras = ['Emissions|C3F8', 'Emissions|C4F10', 'Emissions|C5F12', 'Emissions|C6F14',\n",
    " 'Emissions|C7F16', 'Emissions|C8F18', 'Emissions|CCl4', 'Emissions|CFC-11',\n",
    " 'Emissions|CFC-113', 'Emissions|CFC-114', 'Emissions|CFC-115',\n",
    " 'Emissions|CFC-12', 'Emissions|CH2Cl2', 'Emissions|CH3Br',\n",
    " 'Emissions|CH3CCl3', 'Emissions|CH3Cl', 'Emissions|CHCl3',\n",
    " 'Emissions|HCFC-141b', 'Emissions|HCFC-142b', 'Emissions|HCFC-22',\n",
    " 'Emissions|HFC-152a', 'Emissions|HFC-236fa', 'Emissions|HFC-365mfc',\n",
    " 'Emissions|HFC-4310mee', 'Emissions|Halon-1211', 'Emissions|Halon-1301',\n",
    " 'Emissions|Halon-2402', 'Emissions|NF3', 'Emissions|SO2F2',\n",
    " 'Emissions|c-C4F8']\n",
    "\n",
    "\n",
    "hist_emis = hist_emis[~hist_emis['Variable'].isin(extras)]\n",
    "\n",
    "hist_emis.to_csv('~/outputs/hist_GCAM.csv', index=False)"
   ]
  },
  {
   "cell_type": "code",
   "execution_count": null,
   "id": "c4cdd754-8604-47e9-8f1a-8b49233b42d0",
   "metadata": {},
   "outputs": [],
   "source": []
  }
 ],
 "metadata": {
  "kernelspec": {
   "display_name": "Python 3 (ipykernel)",
   "language": "python",
   "name": "python3"
  },
  "language_info": {
   "codemirror_mode": {
    "name": "ipython",
    "version": 3
   },
   "file_extension": ".py",
   "mimetype": "text/x-python",
   "name": "python",
   "nbconvert_exporter": "python",
   "pygments_lexer": "ipython3",
   "version": "3.10.6"
  }
 },
 "nbformat": 4,
 "nbformat_minor": 5
}
