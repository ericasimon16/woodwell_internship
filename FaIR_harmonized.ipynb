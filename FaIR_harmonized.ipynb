{
 "cells": [
  {
   "cell_type": "markdown",
   "id": "2e752a80-2252-4711-a41f-79162110447a",
   "metadata": {},
   "source": [
    "# FaIR Harmonized\n",
    "### Erica Simon, 02/05/24\n",
    "## Purpose: input harmonized historical and projected emissions trajectories into FaIR\n",
    "- Emissions span 1750 to 2100\n",
    "- For now, we will not run probabilistic projections\n"
   ]
  },
  {
   "cell_type": "markdown",
   "id": "14336690-9ec4-4400-a0c1-96f30c55bf0f",
   "metadata": {},
   "source": [
    "## Imports"
   ]
  },
  {
   "cell_type": "code",
   "execution_count": 1,
   "id": "057f8bc1-bb0a-44de-b06a-2f7ffd0a779c",
   "metadata": {},
   "outputs": [],
   "source": [
    "import matplotlib.pyplot as plt\n",
    "import numpy as np\n",
    "import pandas as pd\n",
    "import pooch\n",
    "\n",
    "from fair import FAIR\n",
    "from fair.interface import fill, initialise\n",
    "from fair.io import read_properties"
   ]
  },
  {
   "cell_type": "markdown",
   "id": "322876cd-94e9-4150-a8b5-686c25227a3c",
   "metadata": {},
   "source": [
    "## Create instance"
   ]
  },
  {
   "cell_type": "code",
   "execution_count": 2,
   "id": "359daef2-dc85-4a46-ab93-f84f9948ae0d",
   "metadata": {},
   "outputs": [],
   "source": [
    "f = FAIR()"
   ]
  },
  {
   "cell_type": "markdown",
   "id": "7bb1728b-59e8-4d5c-99dc-d252d37b6275",
   "metadata": {},
   "source": [
    "## Define time horizon"
   ]
  },
  {
   "cell_type": "code",
   "execution_count": 3,
   "id": "f75ba17a-e284-4505-b839-6cb0e27d2e11",
   "metadata": {},
   "outputs": [],
   "source": [
    "f.define_time(1750, 2101, 1)"
   ]
  },
  {
   "cell_type": "markdown",
   "id": "d3b566ae-9ac5-425b-8754-6d8a031f6cd0",
   "metadata": {},
   "source": [
    "## Define scenarios"
   ]
  },
  {
   "cell_type": "code",
   "execution_count": 4,
   "id": "5d184c89-1213-422c-867e-c47c916a6ed9",
   "metadata": {},
   "outputs": [],
   "source": [
    "f.define_scenarios(['s1'])"
   ]
  },
  {
   "cell_type": "markdown",
   "id": "ce38b0c3-7076-4b19-b0b6-f6ab705e0464",
   "metadata": {
    "tags": []
   },
   "source": [
    "## Define configs"
   ]
  },
  {
   "cell_type": "code",
   "execution_count": 5,
   "id": "a022a5b6-684d-4c4e-b59d-b1457e960656",
   "metadata": {},
   "outputs": [],
   "source": [
    "f.define_configs(['c1'])"
   ]
  },
  {
   "cell_type": "markdown",
   "id": "013d3b14-0241-410d-9a6d-79ee5a8ae844",
   "metadata": {},
   "source": [
    "## Define species & properties"
   ]
  },
  {
   "cell_type": "code",
   "execution_count": 6,
   "id": "8a7f6f02-5882-43d4-9acb-86be18a71ac3",
   "metadata": {},
   "outputs": [],
   "source": [
    "species_configs = pooch.retrieve(\n",
    "    url = 'https://raw.githubusercontent.com/OMS-NetZero/FAIR/master/examples/data/species_configs_properties_calibration1.2.0.csv',\n",
    "    known_hash = '4f9d25b21d632cf35953842a627db4b1612b465f68b2a824afff017a7390053b',\n",
    ")"
   ]
  },
  {
   "cell_type": "code",
   "execution_count": 7,
   "id": "d3be6c13-1d90-4b65-a5ec-55c61226f50f",
   "metadata": {},
   "outputs": [],
   "source": [
    "species, properties = read_properties(filename=species_configs)\n",
    "\n",
    "# removed in examples from fair-calibrate repo, specifically because 'future projections aren't available'\n",
    "species.remove(\"Halon-1202\")\n",
    "species.remove(\"NOx aviation\")\n",
    "\n",
    "f.define_species(species, properties)"
   ]
  },
  {
   "cell_type": "markdown",
   "id": "8dc43d6f-d0b5-4790-90b7-0fb7494b584b",
   "metadata": {},
   "source": [
    "## Create data arrays"
   ]
  },
  {
   "cell_type": "code",
   "execution_count": 8,
   "id": "3aac1e70-db87-41a5-94bf-bd87a10dfadc",
   "metadata": {},
   "outputs": [],
   "source": [
    "# create empty emission and temp arrays\n",
    "f.allocate()   "
   ]
  },
  {
   "cell_type": "markdown",
   "id": "b4b00945-7058-47ea-8eda-af1044e58a67",
   "metadata": {},
   "source": [
    "## Fill data arrays\n",
    "- Emissions & forcings\n",
    "- Climate configs\n",
    "- Species configs\n",
    "- Initial conditions"
   ]
  },
  {
   "cell_type": "markdown",
   "id": "9e08e7a9-f69f-46a7-8d9e-0226c84bd32a",
   "metadata": {
    "tags": []
   },
   "source": [
    "### Emissions"
   ]
  },
  {
   "cell_type": "code",
   "execution_count": 9,
   "id": "994f6b1e-0586-44b7-9315-64df6007d1d4",
   "metadata": {},
   "outputs": [
    {
     "data": {
      "text/html": [
       "<div>\n",
       "<style scoped>\n",
       "    .dataframe tbody tr th:only-of-type {\n",
       "        vertical-align: middle;\n",
       "    }\n",
       "\n",
       "    .dataframe tbody tr th {\n",
       "        vertical-align: top;\n",
       "    }\n",
       "\n",
       "    .dataframe thead th {\n",
       "        text-align: right;\n",
       "    }\n",
       "</style>\n",
       "<table border=\"1\" class=\"dataframe\">\n",
       "  <thead>\n",
       "    <tr style=\"text-align: right;\">\n",
       "      <th></th>\n",
       "      <th>model</th>\n",
       "      <th>scenario</th>\n",
       "      <th>region</th>\n",
       "      <th>Variable</th>\n",
       "      <th>unit</th>\n",
       "      <th>1750</th>\n",
       "      <th>1751</th>\n",
       "      <th>1752</th>\n",
       "      <th>1753</th>\n",
       "      <th>1754</th>\n",
       "      <th>...</th>\n",
       "      <th>2091</th>\n",
       "      <th>2092</th>\n",
       "      <th>2093</th>\n",
       "      <th>2094</th>\n",
       "      <th>2095</th>\n",
       "      <th>2096</th>\n",
       "      <th>2097</th>\n",
       "      <th>2098</th>\n",
       "      <th>2099</th>\n",
       "      <th>2100</th>\n",
       "    </tr>\n",
       "  </thead>\n",
       "  <tbody>\n",
       "    <tr>\n",
       "      <th>0</th>\n",
       "      <td>GCAM 6.0 NGFS</td>\n",
       "      <td>Below 2 C</td>\n",
       "      <td>World</td>\n",
       "      <td>Emissions|BC</td>\n",
       "      <td>Mt BC/yr</td>\n",
       "      <td>2.096766</td>\n",
       "      <td>2.071972</td>\n",
       "      <td>2.067178</td>\n",
       "      <td>2.070382</td>\n",
       "      <td>2.098586</td>\n",
       "      <td>...</td>\n",
       "      <td>1.908504</td>\n",
       "      <td>1.909592</td>\n",
       "      <td>1.910681</td>\n",
       "      <td>1.911769</td>\n",
       "      <td>1.912858</td>\n",
       "      <td>1.913896</td>\n",
       "      <td>1.914934</td>\n",
       "      <td>1.915973</td>\n",
       "      <td>1.917011</td>\n",
       "      <td>1.918049</td>\n",
       "    </tr>\n",
       "    <tr>\n",
       "      <th>1</th>\n",
       "      <td>GCAM 6.0 NGFS</td>\n",
       "      <td>Below 2 C</td>\n",
       "      <td>World</td>\n",
       "      <td>Emissions|C2F6</td>\n",
       "      <td>kt C2F6/yr</td>\n",
       "      <td>0.000000</td>\n",
       "      <td>0.000000</td>\n",
       "      <td>0.000000</td>\n",
       "      <td>0.000000</td>\n",
       "      <td>0.000000</td>\n",
       "      <td>...</td>\n",
       "      <td>0.908171</td>\n",
       "      <td>0.903291</td>\n",
       "      <td>0.898392</td>\n",
       "      <td>0.893474</td>\n",
       "      <td>0.888537</td>\n",
       "      <td>0.884270</td>\n",
       "      <td>0.879985</td>\n",
       "      <td>0.875684</td>\n",
       "      <td>0.871367</td>\n",
       "      <td>0.867032</td>\n",
       "    </tr>\n",
       "    <tr>\n",
       "      <th>2</th>\n",
       "      <td>GCAM 6.0 NGFS</td>\n",
       "      <td>Below 2 C</td>\n",
       "      <td>World</td>\n",
       "      <td>Emissions|C3F8</td>\n",
       "      <td>kt C3F8/yr</td>\n",
       "      <td>0.000000</td>\n",
       "      <td>0.000000</td>\n",
       "      <td>0.000000</td>\n",
       "      <td>0.000000</td>\n",
       "      <td>0.000000</td>\n",
       "      <td>...</td>\n",
       "      <td>0.380074</td>\n",
       "      <td>0.380074</td>\n",
       "      <td>0.380074</td>\n",
       "      <td>0.380074</td>\n",
       "      <td>0.380074</td>\n",
       "      <td>0.380074</td>\n",
       "      <td>0.380074</td>\n",
       "      <td>0.380074</td>\n",
       "      <td>0.380074</td>\n",
       "      <td>0.380074</td>\n",
       "    </tr>\n",
       "    <tr>\n",
       "      <th>3</th>\n",
       "      <td>GCAM 6.0 NGFS</td>\n",
       "      <td>Below 2 C</td>\n",
       "      <td>World</td>\n",
       "      <td>Emissions|C4F10</td>\n",
       "      <td>kt C4F10/yr</td>\n",
       "      <td>0.000000</td>\n",
       "      <td>0.000000</td>\n",
       "      <td>0.000000</td>\n",
       "      <td>0.000000</td>\n",
       "      <td>0.000000</td>\n",
       "      <td>...</td>\n",
       "      <td>0.083759</td>\n",
       "      <td>0.083759</td>\n",
       "      <td>0.083759</td>\n",
       "      <td>0.083759</td>\n",
       "      <td>0.083759</td>\n",
       "      <td>0.083759</td>\n",
       "      <td>0.083759</td>\n",
       "      <td>0.083759</td>\n",
       "      <td>0.083759</td>\n",
       "      <td>0.083759</td>\n",
       "    </tr>\n",
       "    <tr>\n",
       "      <th>4</th>\n",
       "      <td>GCAM 6.0 NGFS</td>\n",
       "      <td>Below 2 C</td>\n",
       "      <td>World</td>\n",
       "      <td>Emissions|C5F12</td>\n",
       "      <td>kt C5F12/yr</td>\n",
       "      <td>0.000000</td>\n",
       "      <td>0.000000</td>\n",
       "      <td>0.000000</td>\n",
       "      <td>0.000000</td>\n",
       "      <td>0.000000</td>\n",
       "      <td>...</td>\n",
       "      <td>0.037545</td>\n",
       "      <td>0.037545</td>\n",
       "      <td>0.037545</td>\n",
       "      <td>0.037545</td>\n",
       "      <td>0.037545</td>\n",
       "      <td>0.037545</td>\n",
       "      <td>0.037545</td>\n",
       "      <td>0.037545</td>\n",
       "      <td>0.037545</td>\n",
       "      <td>0.037545</td>\n",
       "    </tr>\n",
       "  </tbody>\n",
       "</table>\n",
       "<p>5 rows × 356 columns</p>\n",
       "</div>"
      ],
      "text/plain": [
       "           model   scenario region         Variable         unit      1750  \\\n",
       "0  GCAM 6.0 NGFS  Below 2 C  World     Emissions|BC     Mt BC/yr  2.096766   \n",
       "1  GCAM 6.0 NGFS  Below 2 C  World   Emissions|C2F6   kt C2F6/yr  0.000000   \n",
       "2  GCAM 6.0 NGFS  Below 2 C  World   Emissions|C3F8   kt C3F8/yr  0.000000   \n",
       "3  GCAM 6.0 NGFS  Below 2 C  World  Emissions|C4F10  kt C4F10/yr  0.000000   \n",
       "4  GCAM 6.0 NGFS  Below 2 C  World  Emissions|C5F12  kt C5F12/yr  0.000000   \n",
       "\n",
       "       1751      1752      1753      1754  ...      2091      2092      2093  \\\n",
       "0  2.071972  2.067178  2.070382  2.098586  ...  1.908504  1.909592  1.910681   \n",
       "1  0.000000  0.000000  0.000000  0.000000  ...  0.908171  0.903291  0.898392   \n",
       "2  0.000000  0.000000  0.000000  0.000000  ...  0.380074  0.380074  0.380074   \n",
       "3  0.000000  0.000000  0.000000  0.000000  ...  0.083759  0.083759  0.083759   \n",
       "4  0.000000  0.000000  0.000000  0.000000  ...  0.037545  0.037545  0.037545   \n",
       "\n",
       "       2094      2095      2096      2097      2098      2099      2100  \n",
       "0  1.911769  1.912858  1.913896  1.914934  1.915973  1.917011  1.918049  \n",
       "1  0.893474  0.888537  0.884270  0.879985  0.875684  0.871367  0.867032  \n",
       "2  0.380074  0.380074  0.380074  0.380074  0.380074  0.380074  0.380074  \n",
       "3  0.083759  0.083759  0.083759  0.083759  0.083759  0.083759  0.083759  \n",
       "4  0.037545  0.037545  0.037545  0.037545  0.037545  0.037545  0.037545  \n",
       "\n",
       "[5 rows x 356 columns]"
      ]
     },
     "execution_count": 9,
     "metadata": {},
     "output_type": "execute_result"
    }
   ],
   "source": [
    "df_emis = pd.read_csv('~/outputs/GCAM_harm.csv')\n",
    "df_emis.head()"
   ]
  },
  {
   "cell_type": "code",
   "execution_count": 10,
   "id": "d32823ee-b86e-4dd9-af99-7cd2f9ed0812",
   "metadata": {},
   "outputs": [],
   "source": [
    "# remove 'Emissions|' from variable name\n",
    "for i in range(len(df_emis.Variable.values)): \n",
    "    df_emis.Variable.values[i] = df_emis.Variable.values[i][10:]"
   ]
  },
  {
   "cell_type": "markdown",
   "id": "e46a8ba6-e417-4eed-b528-6cc176afd207",
   "metadata": {},
   "source": [
    "Fill `f.emissions` with values from `df_emis`"
   ]
  },
  {
   "cell_type": "code",
   "execution_count": 11,
   "id": "aa201564-337f-4bf9-b2d9-b70a6992dae6",
   "metadata": {},
   "outputs": [],
   "source": [
    "for var in df_emis['Variable']:\n",
    "    if var in f.species:\n",
    "        emis = df_emis[df_emis['Variable'] == var].values[0][5:].reshape(351,1)\n",
    "        fill(f.emissions, emis, scenario='s1', specie=var)"
   ]
  },
  {
   "cell_type": "markdown",
   "id": "b92c3afd-77c0-472b-8823-82658ada98f2",
   "metadata": {},
   "source": [
    "We also need to check if any relevant species are not included in this dataset, excluding ones that are calculated from other values."
   ]
  },
  {
   "cell_type": "code",
   "execution_count": 12,
   "id": "22ddaa72-2409-4ebd-82a9-63e1704f1ff2",
   "metadata": {},
   "outputs": [
    {
     "name": "stdout",
     "output_type": "stream",
     "text": [
      "Solar\n",
      "Volcanic\n"
     ]
    }
   ],
   "source": [
    "for element in f.species:\n",
    "    if element not in df_emis['Variable'].values:\n",
    "        if f.properties[element]['input_mode'] != 'calculated':\n",
    "            print(element)"
   ]
  },
  {
   "cell_type": "markdown",
   "id": "ff73ce6e-76c9-43ac-a127-1ceb53dac56b",
   "metadata": {},
   "source": [
    "### solar & volcanic forcings"
   ]
  },
  {
   "cell_type": "code",
   "execution_count": 14,
   "id": "237f873c-abc7-4ceb-8c40-d23c521ae389",
   "metadata": {},
   "outputs": [],
   "source": [
    "solar_obj = pooch.retrieve(\n",
    "    url = 'https://raw.githubusercontent.com/chrisroadmap/fair-add-hfc/main/data/solar_erf_timebounds.csv',\n",
    "    known_hash = 'md5:98f6f4c5309d848fea89803683441acf',\n",
    ")"
   ]
  },
  {
   "cell_type": "code",
   "execution_count": 15,
   "id": "6f746e79-c450-4f7a-aadd-0bcc5504fef3",
   "metadata": {},
   "outputs": [],
   "source": [
    "volcanic_obj = pooch.retrieve(\n",
    "    url = 'https://raw.githubusercontent.com/chrisroadmap/fair-calibrate/main/data/forcing/volcanic_ERF_1750-2101_timebounds.csv',\n",
    "    known_hash = 'md5:c0801f80f70195eb9567dbd70359219d',\n",
    ")"
   ]
  },
  {
   "cell_type": "code",
   "execution_count": 16,
   "id": "b3a980b4-97be-4018-99b6-fb0bb2f48a4c",
   "metadata": {},
   "outputs": [],
   "source": [
    "df_solar = pd.read_csv(solar_obj, index_col=\"year\")\n",
    "df_volcanic = pd.read_csv(volcanic_obj, index_col=\"timebounds\")"
   ]
  },
  {
   "cell_type": "markdown",
   "id": "2173fa15-0f7d-48d8-ad88-4894956e85ad",
   "metadata": {},
   "source": [
    "The solar forcing data spans from 1750-2101, but the volcanic has data until 2300, so we need to trim `volcanic_df` to only include 1750-2101."
   ]
  },
  {
   "cell_type": "code",
   "execution_count": 17,
   "id": "240cc0cd-e217-49cf-8462-00e553737d0e",
   "metadata": {},
   "outputs": [],
   "source": [
    "s_yr_list = list(range(2102, 2301))\n",
    "df_solar = df_solar.drop(s_yr_list)"
   ]
  },
  {
   "cell_type": "code",
   "execution_count": 18,
   "id": "37d7f745-de1e-4c20-aaac-6a0f591e2523",
   "metadata": {},
   "outputs": [],
   "source": [
    "fill(f.forcing, df_volcanic, scenario='s1', specie='Volcanic')\n",
    "fill(f.forcing, df_solar, scenario='s1', specie='Solar')"
   ]
  },
  {
   "cell_type": "markdown",
   "id": "4ce89ba0-7cb7-4d30-8b59-3d3af6ff50bc",
   "metadata": {},
   "source": [
    "### Climate configs"
   ]
  },
  {
   "cell_type": "code",
   "execution_count": 19,
   "id": "446a1ba3-5aa2-409b-87b5-624fcc7fcb5f",
   "metadata": {},
   "outputs": [],
   "source": [
    "fill(f.climate_configs[\"ocean_heat_transfer\"], [1.1, 1.6, 0.9], config='c1')\n",
    "fill(f.climate_configs[\"ocean_heat_capacity\"], [8, 14, 100], config='c1')\n",
    "fill(f.climate_configs[\"deep_ocean_efficacy\"], 1.1, config='c1')"
   ]
  },
  {
   "cell_type": "markdown",
   "id": "2d0242c2-3acf-4df4-8153-1ee4c248dd21",
   "metadata": {},
   "source": [
    "### Species configs"
   ]
  },
  {
   "cell_type": "code",
   "execution_count": 20,
   "id": "3ff0ee00-f511-41fa-80b1-cd12a2832ca3",
   "metadata": {},
   "outputs": [],
   "source": [
    "# fill with default values\n",
    "f.fill_species_configs()"
   ]
  },
  {
   "cell_type": "markdown",
   "id": "ab154260-eca8-48ff-ae2b-779540c66070",
   "metadata": {},
   "source": [
    "### Initial conditions"
   ]
  },
  {
   "cell_type": "code",
   "execution_count": 21,
   "id": "ae6010a9-0b89-4392-8229-b30ab39d6f41",
   "metadata": {},
   "outputs": [],
   "source": [
    "initialise(f.concentration, f.species_configs[\"baseline_concentration\"])\n",
    "initialise(f.forcing, 0)\n",
    "initialise(f.temperature, 0)   # f.temperature refers to temperature anomaly above PI (288 K)\n",
    "initialise(f.cumulative_emissions, 0)\n",
    "initialise(f.airborne_emissions, 0)"
   ]
  },
  {
   "cell_type": "markdown",
   "id": "c5c37231-1a0b-44d2-86e4-b0801416b2ba",
   "metadata": {},
   "source": [
    "## Run"
   ]
  },
  {
   "cell_type": "code",
   "execution_count": 22,
   "id": "9ac6281a-48be-4a17-af2a-51c81f94e22c",
   "metadata": {},
   "outputs": [
    {
     "data": {
      "application/vnd.jupyter.widget-view+json": {
       "model_id": "db65570e7c61465ea3957b0bce1ec238",
       "version_major": 2,
       "version_minor": 0
      },
      "text/plain": [
       "Running 1 projections in parallel:   0%|          | 0/351 [00:00<?, ?timesteps/s]"
      ]
     },
     "metadata": {},
     "output_type": "display_data"
    }
   ],
   "source": [
    "f.run()"
   ]
  },
  {
   "cell_type": "code",
   "execution_count": null,
   "id": "b9782198-9608-40f6-8234-9ac0aad2f6e6",
   "metadata": {},
   "outputs": [],
   "source": []
  }
 ],
 "metadata": {
  "kernelspec": {
   "display_name": "Python 3 (ipykernel)",
   "language": "python",
   "name": "python3"
  },
  "language_info": {
   "codemirror_mode": {
    "name": "ipython",
    "version": 3
   },
   "file_extension": ".py",
   "mimetype": "text/x-python",
   "name": "python",
   "nbconvert_exporter": "python",
   "pygments_lexer": "ipython3",
   "version": "3.10.6"
  }
 },
 "nbformat": 4,
 "nbformat_minor": 5
}
