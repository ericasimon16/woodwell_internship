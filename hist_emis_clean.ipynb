{
 "cells": [
  {
   "cell_type": "markdown",
   "id": "51166508-79b7-49d6-843d-41d851abd5b9",
   "metadata": {
    "tags": []
   },
   "source": [
    "# Historical Emissions- Data Cleaning\n",
    "### Erica Simon, 02/05/24\n",
    "\n",
    "## Purpose: format hist emissions to match IAM format for harmonization\n",
    "\n",
    "Aggregation of the following data sources: Global Carbon Project; PRIMAP-Hist; Global Fire Emissions Database; Community Emissions Data System\n",
    "\n",
    "Since reported emission data tend to be underestimates, Smith scales the emissions to reproduce observed concentrations. More information on scaling rationale and methods can be found in `fair_calibrate/input/fair-2.1.3/v1.4/all-2022/calibration/13_check-scalings.py`\n",
    "\n",
    "Data credit: Smith, C. (2024). FaIR calibration data (1.4.1). Zenodo. https://doi.org/10.5281/zenodo.10566813\n",
    "- Filepath: `fair_calibrate/output/fair-2.1.3/v1.4/all-2022/emissions/all_scaled_1750-2022.csv` (need to open `fair_calibrate.zip` to view data)\n",
    "- Also available to download from https://github.com/WoodwellRisk/FaIR/tree/main/inputs/all_scaled_1750-2022.csv"
   ]
  },
  {
   "cell_type": "code",
   "execution_count": 5,
   "id": "12c432a4-ed12-4b6f-8c87-099213a02e03",
   "metadata": {},
   "outputs": [],
   "source": [
    "import pandas as pd"
   ]
  },
  {
   "cell_type": "code",
   "execution_count": 6,
   "id": "299a34ed-73dd-440a-97d4-85bce2fd6acb",
   "metadata": {},
   "outputs": [],
   "source": [
    "df_emis = pd.read_csv('~/inputs/all_scaled_1750-2022.csv')\n",
    "\n",
    "# update to IAM format\n",
    "df_emis = df_emis.rename(columns={\"model\": \"Model\", \"scenario\": \"Scenario\", \"region\": \"Region\", \n",
    "                                  \"variable\": \"Variable\", \"unit\": \"Unit\"})\n",
    "\n",
    "# rename to match FaIR spceies\n",
    "df_emis.loc[df_emis.Variable == 'Emissions|CO2|AFOLU', 'Variable'] = 'Emissions|CO2 AFOLU'\n",
    "df_emis.loc[df_emis.Variable == 'Emissions|CO2|Energy and Industrial Processes', 'Variable'] = 'Emissions|CO2 FFI'\n",
    "\n",
    "df_emis.head()\n",
    "\n",
    "df_emis.to_csv('~/outputs/hist_emis_ALL.csv', index=False)"
   ]
  }
 ],
 "metadata": {
  "kernelspec": {
   "display_name": "Python 3 (ipykernel)",
   "language": "python",
   "name": "python3"
  },
  "language_info": {
   "codemirror_mode": {
    "name": "ipython",
    "version": 3
   },
   "file_extension": ".py",
   "mimetype": "text/x-python",
   "name": "python",
   "nbconvert_exporter": "python",
   "pygments_lexer": "ipython3",
   "version": "3.10.6"
  }
 },
 "nbformat": 4,
 "nbformat_minor": 5
}
