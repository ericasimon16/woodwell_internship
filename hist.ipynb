{
 "cells": [
  {
   "cell_type": "markdown",
   "id": "7d517430-1740-42c3-9873-3075f8819134",
   "metadata": {},
   "source": [
    "# Hist\n",
    "## Goal: create an accurate temperature hindcast using historical GHG concentrations\n",
    "- 1850 to 2022\n",
    "- Using FaIR calibration data on hist concentrations\n",
    "- Also experiment with volcanic and solar forcing as internal variability\n",
    "- Note: this notebook does not incorporate a perturbed parameter ensemble (PPE); it is solely meant for learning how to input historical data\n",
    "### Erica Simon, 01/22/24\n",
    "Smith, C. (2023). FaIR calibration data (1.3.1) [Data set]. Zenodo. https://doi.org/10.5281/zenodo.10208609\n",
    "\n",
    "Link to data: https://github.com/chrisroadmap/fair-calibrate/blob/main/data/concentrations/ghg_concentrations_1750-2022.csv"
   ]
  },
  {
   "cell_type": "code",
   "execution_count": 535,
   "id": "89730048-0742-4106-98b4-20472e4c3107",
   "metadata": {},
   "outputs": [],
   "source": [
    "import matplotlib.pyplot as plt\n",
    "import numpy as np\n",
    "import pandas as pd\n",
    "import pooch\n",
    "\n",
    "from fair import FAIR\n",
    "from fair.interface import fill, initialise\n",
    "from fair.io import read_properties"
   ]
  },
  {
   "cell_type": "markdown",
   "id": "427e0c74-0b59-4990-adbe-bc49c2751d4b",
   "metadata": {
    "tags": []
   },
   "source": [
    "# without volcanic & solar forcing"
   ]
  },
  {
   "cell_type": "code",
   "execution_count": 536,
   "id": "4732dcb2-7491-450f-9bb9-475f07bd3f67",
   "metadata": {},
   "outputs": [],
   "source": [
    "f1 = FAIR()"
   ]
  },
  {
   "cell_type": "code",
   "execution_count": 537,
   "id": "96030a4a-edec-4085-aaeb-7e0e546189e3",
   "metadata": {},
   "outputs": [],
   "source": [
    "f1.define_time(1850, 2022, 1)"
   ]
  },
  {
   "cell_type": "code",
   "execution_count": 538,
   "id": "95381c9c-73ee-40ab-aa86-5fbf3ea914b7",
   "metadata": {},
   "outputs": [],
   "source": [
    "scenarios = ['s1']\n",
    "f1.define_scenarios(scenarios)"
   ]
  },
  {
   "cell_type": "markdown",
   "id": "a8736d5d-c290-4366-9adc-b17338e0def8",
   "metadata": {},
   "source": [
    "## Define configs"
   ]
  },
  {
   "cell_type": "code",
   "execution_count": 539,
   "id": "67ae59b6-ba50-45c2-a2e5-7ca7ec8ec4e4",
   "metadata": {},
   "outputs": [],
   "source": [
    "f1.define_configs(['c1'])"
   ]
  },
  {
   "cell_type": "markdown",
   "id": "3c3f6821-fd06-415c-9549-adeeaf6f3102",
   "metadata": {
    "tags": []
   },
   "source": [
    "## Define species and properties"
   ]
  },
  {
   "cell_type": "code",
   "execution_count": 540,
   "id": "ff1e9e41-5efb-4584-8134-01a1346b0e3f",
   "metadata": {},
   "outputs": [],
   "source": [
    "df_conc = pd.read_csv('~/data/ghg_concentrations_1750-2022.csv', index_col=0)"
   ]
  },
  {
   "cell_type": "code",
   "execution_count": 541,
   "id": "35578614-e6df-4ba9-bbe7-1f10c9f988ff",
   "metadata": {},
   "outputs": [],
   "source": [
    "species, properties = read_properties(filename='~/data/species_configs_properties_calibration1.2.0.csv')"
   ]
  },
  {
   "cell_type": "code",
   "execution_count": 542,
   "id": "83624ced-abcc-499d-be14-928224e77d5b",
   "metadata": {},
   "outputs": [],
   "source": [
    "for spc in list(properties):\n",
    "    if spc not in df_conc:\n",
    "        species.remove(spc)\n",
    "        properties.pop(spc)\n",
    "    else:\n",
    "        # change all to concentration-driven for this datatset\n",
    "        properties[spc]['input_mode'] = 'concentration'"
   ]
  },
  {
   "cell_type": "code",
   "execution_count": 543,
   "id": "c4df615b-6fd6-48af-882a-1d0ea6d97d0d",
   "metadata": {},
   "outputs": [
    {
     "data": {
      "text/plain": [
       "'concentration'"
      ]
     },
     "execution_count": 543,
     "metadata": {},
     "output_type": "execute_result"
    }
   ],
   "source": [
    "properties['CO2']['input_mode']"
   ]
  },
  {
   "cell_type": "code",
   "execution_count": 544,
   "id": "74f4c52f-c3ec-4a17-b1e2-161471449ff6",
   "metadata": {},
   "outputs": [],
   "source": [
    "f1.define_species(species, properties)"
   ]
  },
  {
   "cell_type": "code",
   "execution_count": 545,
   "id": "3fbd9f62-bdc9-4c05-87c7-501194af3828",
   "metadata": {},
   "outputs": [
    {
     "data": {
      "text/plain": [
       "['CO2',\n",
       " 'CH4',\n",
       " 'N2O',\n",
       " 'CFC-11',\n",
       " 'CFC-12',\n",
       " 'CFC-113',\n",
       " 'CFC-114',\n",
       " 'CFC-115',\n",
       " 'HCFC-22',\n",
       " 'HCFC-141b',\n",
       " 'HCFC-142b',\n",
       " 'CCl4',\n",
       " 'CHCl3',\n",
       " 'CH2Cl2',\n",
       " 'CH3Cl',\n",
       " 'CH3CCl3',\n",
       " 'CH3Br',\n",
       " 'Halon-1211',\n",
       " 'Halon-1301',\n",
       " 'Halon-2402',\n",
       " 'CF4',\n",
       " 'C2F6',\n",
       " 'C3F8',\n",
       " 'c-C4F8',\n",
       " 'C7F16',\n",
       " 'C8F18',\n",
       " 'NF3',\n",
       " 'SF6',\n",
       " 'SO2F2',\n",
       " 'HFC-125',\n",
       " 'HFC-134a',\n",
       " 'HFC-143a',\n",
       " 'HFC-152a',\n",
       " 'HFC-227ea',\n",
       " 'HFC-23',\n",
       " 'HFC-236fa',\n",
       " 'HFC-245fa',\n",
       " 'HFC-32',\n",
       " 'HFC-365mfc']"
      ]
     },
     "execution_count": 545,
     "metadata": {},
     "output_type": "execute_result"
    }
   ],
   "source": [
    "f1.species"
   ]
  },
  {
   "cell_type": "markdown",
   "id": "578a601e-4b98-47dc-9b3a-7cef9e0b266d",
   "metadata": {},
   "source": [
    "## Data"
   ]
  },
  {
   "cell_type": "code",
   "execution_count": 546,
   "id": "c7febf40-f99e-4b79-8b7e-cc86d4984fd1",
   "metadata": {},
   "outputs": [],
   "source": [
    "f1.allocate()"
   ]
  },
  {
   "cell_type": "markdown",
   "id": "12f8a8c4-5cdd-4d84-b368-5bfbcd49bf86",
   "metadata": {},
   "source": [
    "## Fill concentrations"
   ]
  },
  {
   "cell_type": "code",
   "execution_count": 547,
   "id": "a03a7443-c660-45c4-8a95-fbf0ab77b4fb",
   "metadata": {},
   "outputs": [
    {
     "data": {
      "text/html": [
       "<div>\n",
       "<style scoped>\n",
       "    .dataframe tbody tr th:only-of-type {\n",
       "        vertical-align: middle;\n",
       "    }\n",
       "\n",
       "    .dataframe tbody tr th {\n",
       "        vertical-align: top;\n",
       "    }\n",
       "\n",
       "    .dataframe thead th {\n",
       "        text-align: right;\n",
       "    }\n",
       "</style>\n",
       "<table border=\"1\" class=\"dataframe\">\n",
       "  <thead>\n",
       "    <tr style=\"text-align: right;\">\n",
       "      <th></th>\n",
       "      <th>CO2</th>\n",
       "      <th>CH4</th>\n",
       "      <th>N2O</th>\n",
       "      <th>HFC-134a</th>\n",
       "      <th>HFC-23</th>\n",
       "      <th>HFC-32</th>\n",
       "      <th>HFC-125</th>\n",
       "      <th>HFC-143a</th>\n",
       "      <th>HFC-152a</th>\n",
       "      <th>HFC-227ea</th>\n",
       "      <th>...</th>\n",
       "      <th>i-C6F14</th>\n",
       "      <th>C7F16</th>\n",
       "      <th>C8F18</th>\n",
       "      <th>CFC-112</th>\n",
       "      <th>CFC-112a</th>\n",
       "      <th>CFC-113a</th>\n",
       "      <th>CFC-114a</th>\n",
       "      <th>HCFC-133a</th>\n",
       "      <th>HCFC-31</th>\n",
       "      <th>HCFC-124</th>\n",
       "    </tr>\n",
       "    <tr>\n",
       "      <th>YYYY</th>\n",
       "      <th></th>\n",
       "      <th></th>\n",
       "      <th></th>\n",
       "      <th></th>\n",
       "      <th></th>\n",
       "      <th></th>\n",
       "      <th></th>\n",
       "      <th></th>\n",
       "      <th></th>\n",
       "      <th></th>\n",
       "      <th></th>\n",
       "      <th></th>\n",
       "      <th></th>\n",
       "      <th></th>\n",
       "      <th></th>\n",
       "      <th></th>\n",
       "      <th></th>\n",
       "      <th></th>\n",
       "      <th></th>\n",
       "      <th></th>\n",
       "      <th></th>\n",
       "    </tr>\n",
       "  </thead>\n",
       "  <tbody>\n",
       "    <tr>\n",
       "      <th>1850</th>\n",
       "      <td>285.500000</td>\n",
       "      <td>807.600000</td>\n",
       "      <td>272.100000</td>\n",
       "      <td>0.0</td>\n",
       "      <td>0.0</td>\n",
       "      <td>0.000218</td>\n",
       "      <td>0.0</td>\n",
       "      <td>0.0</td>\n",
       "      <td>0.0</td>\n",
       "      <td>0.000004</td>\n",
       "      <td>...</td>\n",
       "      <td>0.0</td>\n",
       "      <td>0.0</td>\n",
       "      <td>0.0</td>\n",
       "      <td>0.0</td>\n",
       "      <td>0.0</td>\n",
       "      <td>0.0</td>\n",
       "      <td>0.0</td>\n",
       "      <td>0.0</td>\n",
       "      <td>0.0</td>\n",
       "      <td>0.0</td>\n",
       "    </tr>\n",
       "    <tr>\n",
       "      <th>1851</th>\n",
       "      <td>285.621912</td>\n",
       "      <td>807.768974</td>\n",
       "      <td>272.181132</td>\n",
       "      <td>0.0</td>\n",
       "      <td>0.0</td>\n",
       "      <td>0.000221</td>\n",
       "      <td>0.0</td>\n",
       "      <td>0.0</td>\n",
       "      <td>0.0</td>\n",
       "      <td>0.000004</td>\n",
       "      <td>...</td>\n",
       "      <td>0.0</td>\n",
       "      <td>0.0</td>\n",
       "      <td>0.0</td>\n",
       "      <td>0.0</td>\n",
       "      <td>0.0</td>\n",
       "      <td>0.0</td>\n",
       "      <td>0.0</td>\n",
       "      <td>0.0</td>\n",
       "      <td>0.0</td>\n",
       "      <td>0.0</td>\n",
       "    </tr>\n",
       "    <tr>\n",
       "      <th>1852</th>\n",
       "      <td>285.759838</td>\n",
       "      <td>808.522848</td>\n",
       "      <td>272.262214</td>\n",
       "      <td>0.0</td>\n",
       "      <td>0.0</td>\n",
       "      <td>0.000223</td>\n",
       "      <td>0.0</td>\n",
       "      <td>0.0</td>\n",
       "      <td>0.0</td>\n",
       "      <td>0.000004</td>\n",
       "      <td>...</td>\n",
       "      <td>0.0</td>\n",
       "      <td>0.0</td>\n",
       "      <td>0.0</td>\n",
       "      <td>0.0</td>\n",
       "      <td>0.0</td>\n",
       "      <td>0.0</td>\n",
       "      <td>0.0</td>\n",
       "      <td>0.0</td>\n",
       "      <td>0.0</td>\n",
       "      <td>0.0</td>\n",
       "    </tr>\n",
       "    <tr>\n",
       "      <th>1853</th>\n",
       "      <td>285.883757</td>\n",
       "      <td>809.768605</td>\n",
       "      <td>272.365269</td>\n",
       "      <td>0.0</td>\n",
       "      <td>0.0</td>\n",
       "      <td>0.000226</td>\n",
       "      <td>0.0</td>\n",
       "      <td>0.0</td>\n",
       "      <td>0.0</td>\n",
       "      <td>0.000004</td>\n",
       "      <td>...</td>\n",
       "      <td>0.0</td>\n",
       "      <td>0.0</td>\n",
       "      <td>0.0</td>\n",
       "      <td>0.0</td>\n",
       "      <td>0.0</td>\n",
       "      <td>0.0</td>\n",
       "      <td>0.0</td>\n",
       "      <td>0.0</td>\n",
       "      <td>0.0</td>\n",
       "      <td>0.0</td>\n",
       "    </tr>\n",
       "    <tr>\n",
       "      <th>1854</th>\n",
       "      <td>285.989701</td>\n",
       "      <td>811.101520</td>\n",
       "      <td>272.471345</td>\n",
       "      <td>0.0</td>\n",
       "      <td>0.0</td>\n",
       "      <td>0.000229</td>\n",
       "      <td>0.0</td>\n",
       "      <td>0.0</td>\n",
       "      <td>0.0</td>\n",
       "      <td>0.000004</td>\n",
       "      <td>...</td>\n",
       "      <td>0.0</td>\n",
       "      <td>0.0</td>\n",
       "      <td>0.0</td>\n",
       "      <td>0.0</td>\n",
       "      <td>0.0</td>\n",
       "      <td>0.0</td>\n",
       "      <td>0.0</td>\n",
       "      <td>0.0</td>\n",
       "      <td>0.0</td>\n",
       "      <td>0.0</td>\n",
       "    </tr>\n",
       "  </tbody>\n",
       "</table>\n",
       "<p>5 rows × 52 columns</p>\n",
       "</div>"
      ],
      "text/plain": [
       "             CO2         CH4         N2O  HFC-134a  HFC-23    HFC-32  HFC-125  \\\n",
       "YYYY                                                                            \n",
       "1850  285.500000  807.600000  272.100000       0.0     0.0  0.000218      0.0   \n",
       "1851  285.621912  807.768974  272.181132       0.0     0.0  0.000221      0.0   \n",
       "1852  285.759838  808.522848  272.262214       0.0     0.0  0.000223      0.0   \n",
       "1853  285.883757  809.768605  272.365269       0.0     0.0  0.000226      0.0   \n",
       "1854  285.989701  811.101520  272.471345       0.0     0.0  0.000229      0.0   \n",
       "\n",
       "      HFC-143a  HFC-152a  HFC-227ea  ...  i-C6F14  C7F16  C8F18  CFC-112  \\\n",
       "YYYY                                 ...                                   \n",
       "1850       0.0       0.0   0.000004  ...      0.0    0.0    0.0      0.0   \n",
       "1851       0.0       0.0   0.000004  ...      0.0    0.0    0.0      0.0   \n",
       "1852       0.0       0.0   0.000004  ...      0.0    0.0    0.0      0.0   \n",
       "1853       0.0       0.0   0.000004  ...      0.0    0.0    0.0      0.0   \n",
       "1854       0.0       0.0   0.000004  ...      0.0    0.0    0.0      0.0   \n",
       "\n",
       "      CFC-112a  CFC-113a  CFC-114a  HCFC-133a  HCFC-31  HCFC-124  \n",
       "YYYY                                                              \n",
       "1850       0.0       0.0       0.0        0.0      0.0       0.0  \n",
       "1851       0.0       0.0       0.0        0.0      0.0       0.0  \n",
       "1852       0.0       0.0       0.0        0.0      0.0       0.0  \n",
       "1853       0.0       0.0       0.0        0.0      0.0       0.0  \n",
       "1854       0.0       0.0       0.0        0.0      0.0       0.0  \n",
       "\n",
       "[5 rows x 52 columns]"
      ]
     },
     "execution_count": 547,
     "metadata": {},
     "output_type": "execute_result"
    }
   ],
   "source": [
    "# drop the year 1750- not relevant to this analysis\n",
    "df_conc = df_conc.drop([1750])\n",
    "df_conc.head()"
   ]
  },
  {
   "cell_type": "code",
   "execution_count": 548,
   "id": "9989c998-e089-4cd5-9874-68c38613bc4e",
   "metadata": {},
   "outputs": [],
   "source": [
    "for column in df_conc:\n",
    "    # print(column)\n",
    "    if column in f1.species:\n",
    "        conc = df_conc[column].values.reshape(173, 1)\n",
    "        fill(f1.concentration, conc, scenario='s1', specie=column)"
   ]
  },
  {
   "cell_type": "markdown",
   "id": "b24a3d99-4460-458c-9e16-d1e3ce70030a",
   "metadata": {},
   "source": [
    "## Fill climate configs"
   ]
  },
  {
   "cell_type": "code",
   "execution_count": 549,
   "id": "239ddeb1-0357-44e9-9865-36e985ab2573",
   "metadata": {},
   "outputs": [],
   "source": [
    "fill(f1.climate_configs[\"ocean_heat_transfer\"], [1.1, 1.6, 0.9], config='c1')\n",
    "fill(f1.climate_configs[\"ocean_heat_capacity\"], [8, 14, 100], config='c1')\n",
    "fill(f1.climate_configs[\"deep_ocean_efficacy\"], 1.1, config='c1')"
   ]
  },
  {
   "cell_type": "markdown",
   "id": "11504211-ad80-4a87-a4ab-0ff264c1bbf0",
   "metadata": {},
   "source": [
    "## Fill species configs"
   ]
  },
  {
   "cell_type": "code",
   "execution_count": 550,
   "id": "0069262e-6d05-4803-a2ed-b243b99c0012",
   "metadata": {},
   "outputs": [],
   "source": [
    "f1.fill_species_configs()"
   ]
  },
  {
   "cell_type": "markdown",
   "id": "915fff6f-8ddc-4b96-8e1c-82874be935ea",
   "metadata": {},
   "source": [
    "## Define initial conditions"
   ]
  },
  {
   "cell_type": "code",
   "execution_count": 551,
   "id": "218af8e8-07b2-4fbc-a7b0-d31a500ce574",
   "metadata": {},
   "outputs": [],
   "source": [
    "initialise(f1.concentration, f1.species_configs[\"baseline_concentration\"])\n",
    "initialise(f1.forcing, 0)\n",
    "initialise(f1.temperature, 0)   # f.temperature refers to temperature rise above PI (288 K)\n",
    "initialise(f1.cumulative_emissions, 0)\n",
    "initialise(f1.airborne_emissions, 0)"
   ]
  },
  {
   "cell_type": "markdown",
   "id": "6d5023a7-ead9-4136-8e92-014605453780",
   "metadata": {},
   "source": [
    "## Run"
   ]
  },
  {
   "cell_type": "code",
   "execution_count": 552,
   "id": "e9d56661-a72c-4d28-853d-13ddd409bc8d",
   "metadata": {},
   "outputs": [
    {
     "data": {
      "application/vnd.jupyter.widget-view+json": {
       "model_id": "75f03e36352944aaa5fc9d47cd0cf040",
       "version_major": 2,
       "version_minor": 0
      },
      "text/plain": [
       "Running 1 projections in parallel:   0%|          | 0/172 [00:00<?, ?timesteps/s]"
      ]
     },
     "metadata": {},
     "output_type": "display_data"
    }
   ],
   "source": [
    "f1.run()"
   ]
  },
  {
   "cell_type": "markdown",
   "id": "0c05f368-a32d-4221-a47e-9671cd4b0bb7",
   "metadata": {
    "tags": []
   },
   "source": [
    "# with volcanic & solar forcing"
   ]
  },
  {
   "cell_type": "markdown",
   "id": "856a4c2b-1242-4e19-9065-60beeeb9de36",
   "metadata": {},
   "source": [
    "## Create instance"
   ]
  },
  {
   "cell_type": "code",
   "execution_count": 553,
   "id": "f3c92bea-b9fe-4b9d-91b8-abf6d83a0f13",
   "metadata": {},
   "outputs": [],
   "source": [
    "f2 = FAIR()"
   ]
  },
  {
   "cell_type": "code",
   "execution_count": 554,
   "id": "4fbb8cf7-fbe0-4de9-bd8c-158f00976976",
   "metadata": {},
   "outputs": [],
   "source": [
    "f2.define_time(1850, 2022, 1)"
   ]
  },
  {
   "cell_type": "code",
   "execution_count": 555,
   "id": "f9eaa01e-5431-4c87-8cd3-4be643f6be86",
   "metadata": {},
   "outputs": [],
   "source": [
    "scenarios = ['s1']\n",
    "f2.define_scenarios(scenarios)"
   ]
  },
  {
   "cell_type": "markdown",
   "id": "06cab488-0bb3-4e6d-9e14-db51465c6118",
   "metadata": {},
   "source": [
    "## Define configs"
   ]
  },
  {
   "cell_type": "code",
   "execution_count": 556,
   "id": "4d77d3e5-4fee-4dd9-b59c-88c305806210",
   "metadata": {},
   "outputs": [],
   "source": [
    "f2.define_configs(['c1'])"
   ]
  },
  {
   "cell_type": "markdown",
   "id": "19559ea7-3f28-402a-833d-0f9826462038",
   "metadata": {
    "tags": []
   },
   "source": [
    "## Define species and properties"
   ]
  },
  {
   "cell_type": "code",
   "execution_count": 557,
   "id": "eb391952-b25d-4f85-a4fd-8de56f1073ab",
   "metadata": {},
   "outputs": [],
   "source": [
    "df_conc = pd.read_csv('~/data/ghg_concentrations_1750-2022.csv', index_col=0)"
   ]
  },
  {
   "cell_type": "code",
   "execution_count": 558,
   "id": "fd72efd1-a05c-4dcd-871a-c3b8ee08ac51",
   "metadata": {},
   "outputs": [],
   "source": [
    "species, properties = read_properties(filename='~/data/species_configs_properties_calibration1.2.0.csv')"
   ]
  },
  {
   "cell_type": "code",
   "execution_count": 559,
   "id": "b2831257-42e3-4c42-a2f3-b67d1c78863a",
   "metadata": {},
   "outputs": [],
   "source": [
    "for spc in list(properties): \n",
    "    if spc != 'Solar' and spc != 'Volcanic':\n",
    "        if spc not in df_conc:\n",
    "            species.remove(spc)\n",
    "            properties.pop(spc)\n",
    "        else:\n",
    "            # change all to concentration-driven for this datatset\n",
    "            properties[spc]['input_mode'] = 'concentration'"
   ]
  },
  {
   "cell_type": "code",
   "execution_count": 560,
   "id": "67f104c4-3886-4e02-ac9e-cde997028b22",
   "metadata": {},
   "outputs": [
    {
     "data": {
      "text/plain": [
       "'concentration'"
      ]
     },
     "execution_count": 560,
     "metadata": {},
     "output_type": "execute_result"
    }
   ],
   "source": [
    "properties['CO2']['input_mode']"
   ]
  },
  {
   "cell_type": "code",
   "execution_count": 561,
   "id": "04883761-b9fd-455d-94df-9312e66b7be9",
   "metadata": {},
   "outputs": [],
   "source": [
    "f2.define_species(species, properties)"
   ]
  },
  {
   "cell_type": "code",
   "execution_count": 562,
   "id": "55dd8dc5-b181-4faf-952d-7323a8dbc72d",
   "metadata": {},
   "outputs": [
    {
     "data": {
      "text/plain": [
       "['CO2',\n",
       " 'CH4',\n",
       " 'N2O',\n",
       " 'CFC-11',\n",
       " 'CFC-12',\n",
       " 'CFC-113',\n",
       " 'CFC-114',\n",
       " 'CFC-115',\n",
       " 'HCFC-22',\n",
       " 'HCFC-141b',\n",
       " 'HCFC-142b',\n",
       " 'CCl4',\n",
       " 'CHCl3',\n",
       " 'CH2Cl2',\n",
       " 'CH3Cl',\n",
       " 'CH3CCl3',\n",
       " 'CH3Br',\n",
       " 'Halon-1211',\n",
       " 'Halon-1301',\n",
       " 'Halon-2402',\n",
       " 'CF4',\n",
       " 'C2F6',\n",
       " 'C3F8',\n",
       " 'c-C4F8',\n",
       " 'C7F16',\n",
       " 'C8F18',\n",
       " 'NF3',\n",
       " 'SF6',\n",
       " 'SO2F2',\n",
       " 'HFC-125',\n",
       " 'HFC-134a',\n",
       " 'HFC-143a',\n",
       " 'HFC-152a',\n",
       " 'HFC-227ea',\n",
       " 'HFC-23',\n",
       " 'HFC-236fa',\n",
       " 'HFC-245fa',\n",
       " 'HFC-32',\n",
       " 'HFC-365mfc',\n",
       " 'Solar',\n",
       " 'Volcanic']"
      ]
     },
     "execution_count": 562,
     "metadata": {},
     "output_type": "execute_result"
    }
   ],
   "source": [
    "f2.species"
   ]
  },
  {
   "cell_type": "markdown",
   "id": "3e8553a4-1f5d-4ca3-801b-b0806acb767d",
   "metadata": {},
   "source": [
    "## Data"
   ]
  },
  {
   "cell_type": "code",
   "execution_count": 563,
   "id": "a4fc5f96-fd4f-4445-a2b2-1fbc4fe58bdf",
   "metadata": {},
   "outputs": [],
   "source": [
    "f2.allocate()"
   ]
  },
  {
   "cell_type": "markdown",
   "id": "69141b04-1f21-4504-ae2b-072d9d16adc2",
   "metadata": {},
   "source": [
    "## Fill concentrations"
   ]
  },
  {
   "cell_type": "code",
   "execution_count": 564,
   "id": "87d666e7-036d-4e1c-9b89-c041852bb1ed",
   "metadata": {},
   "outputs": [
    {
     "data": {
      "text/html": [
       "<div>\n",
       "<style scoped>\n",
       "    .dataframe tbody tr th:only-of-type {\n",
       "        vertical-align: middle;\n",
       "    }\n",
       "\n",
       "    .dataframe tbody tr th {\n",
       "        vertical-align: top;\n",
       "    }\n",
       "\n",
       "    .dataframe thead th {\n",
       "        text-align: right;\n",
       "    }\n",
       "</style>\n",
       "<table border=\"1\" class=\"dataframe\">\n",
       "  <thead>\n",
       "    <tr style=\"text-align: right;\">\n",
       "      <th></th>\n",
       "      <th>CO2</th>\n",
       "      <th>CH4</th>\n",
       "      <th>N2O</th>\n",
       "      <th>HFC-134a</th>\n",
       "      <th>HFC-23</th>\n",
       "      <th>HFC-32</th>\n",
       "      <th>HFC-125</th>\n",
       "      <th>HFC-143a</th>\n",
       "      <th>HFC-152a</th>\n",
       "      <th>HFC-227ea</th>\n",
       "      <th>...</th>\n",
       "      <th>i-C6F14</th>\n",
       "      <th>C7F16</th>\n",
       "      <th>C8F18</th>\n",
       "      <th>CFC-112</th>\n",
       "      <th>CFC-112a</th>\n",
       "      <th>CFC-113a</th>\n",
       "      <th>CFC-114a</th>\n",
       "      <th>HCFC-133a</th>\n",
       "      <th>HCFC-31</th>\n",
       "      <th>HCFC-124</th>\n",
       "    </tr>\n",
       "    <tr>\n",
       "      <th>YYYY</th>\n",
       "      <th></th>\n",
       "      <th></th>\n",
       "      <th></th>\n",
       "      <th></th>\n",
       "      <th></th>\n",
       "      <th></th>\n",
       "      <th></th>\n",
       "      <th></th>\n",
       "      <th></th>\n",
       "      <th></th>\n",
       "      <th></th>\n",
       "      <th></th>\n",
       "      <th></th>\n",
       "      <th></th>\n",
       "      <th></th>\n",
       "      <th></th>\n",
       "      <th></th>\n",
       "      <th></th>\n",
       "      <th></th>\n",
       "      <th></th>\n",
       "      <th></th>\n",
       "    </tr>\n",
       "  </thead>\n",
       "  <tbody>\n",
       "    <tr>\n",
       "      <th>1850</th>\n",
       "      <td>285.500000</td>\n",
       "      <td>807.600000</td>\n",
       "      <td>272.100000</td>\n",
       "      <td>0.0</td>\n",
       "      <td>0.0</td>\n",
       "      <td>0.000218</td>\n",
       "      <td>0.0</td>\n",
       "      <td>0.0</td>\n",
       "      <td>0.0</td>\n",
       "      <td>0.000004</td>\n",
       "      <td>...</td>\n",
       "      <td>0.0</td>\n",
       "      <td>0.0</td>\n",
       "      <td>0.0</td>\n",
       "      <td>0.0</td>\n",
       "      <td>0.0</td>\n",
       "      <td>0.0</td>\n",
       "      <td>0.0</td>\n",
       "      <td>0.0</td>\n",
       "      <td>0.0</td>\n",
       "      <td>0.0</td>\n",
       "    </tr>\n",
       "    <tr>\n",
       "      <th>1851</th>\n",
       "      <td>285.621912</td>\n",
       "      <td>807.768974</td>\n",
       "      <td>272.181132</td>\n",
       "      <td>0.0</td>\n",
       "      <td>0.0</td>\n",
       "      <td>0.000221</td>\n",
       "      <td>0.0</td>\n",
       "      <td>0.0</td>\n",
       "      <td>0.0</td>\n",
       "      <td>0.000004</td>\n",
       "      <td>...</td>\n",
       "      <td>0.0</td>\n",
       "      <td>0.0</td>\n",
       "      <td>0.0</td>\n",
       "      <td>0.0</td>\n",
       "      <td>0.0</td>\n",
       "      <td>0.0</td>\n",
       "      <td>0.0</td>\n",
       "      <td>0.0</td>\n",
       "      <td>0.0</td>\n",
       "      <td>0.0</td>\n",
       "    </tr>\n",
       "    <tr>\n",
       "      <th>1852</th>\n",
       "      <td>285.759838</td>\n",
       "      <td>808.522848</td>\n",
       "      <td>272.262214</td>\n",
       "      <td>0.0</td>\n",
       "      <td>0.0</td>\n",
       "      <td>0.000223</td>\n",
       "      <td>0.0</td>\n",
       "      <td>0.0</td>\n",
       "      <td>0.0</td>\n",
       "      <td>0.000004</td>\n",
       "      <td>...</td>\n",
       "      <td>0.0</td>\n",
       "      <td>0.0</td>\n",
       "      <td>0.0</td>\n",
       "      <td>0.0</td>\n",
       "      <td>0.0</td>\n",
       "      <td>0.0</td>\n",
       "      <td>0.0</td>\n",
       "      <td>0.0</td>\n",
       "      <td>0.0</td>\n",
       "      <td>0.0</td>\n",
       "    </tr>\n",
       "    <tr>\n",
       "      <th>1853</th>\n",
       "      <td>285.883757</td>\n",
       "      <td>809.768605</td>\n",
       "      <td>272.365269</td>\n",
       "      <td>0.0</td>\n",
       "      <td>0.0</td>\n",
       "      <td>0.000226</td>\n",
       "      <td>0.0</td>\n",
       "      <td>0.0</td>\n",
       "      <td>0.0</td>\n",
       "      <td>0.000004</td>\n",
       "      <td>...</td>\n",
       "      <td>0.0</td>\n",
       "      <td>0.0</td>\n",
       "      <td>0.0</td>\n",
       "      <td>0.0</td>\n",
       "      <td>0.0</td>\n",
       "      <td>0.0</td>\n",
       "      <td>0.0</td>\n",
       "      <td>0.0</td>\n",
       "      <td>0.0</td>\n",
       "      <td>0.0</td>\n",
       "    </tr>\n",
       "    <tr>\n",
       "      <th>1854</th>\n",
       "      <td>285.989701</td>\n",
       "      <td>811.101520</td>\n",
       "      <td>272.471345</td>\n",
       "      <td>0.0</td>\n",
       "      <td>0.0</td>\n",
       "      <td>0.000229</td>\n",
       "      <td>0.0</td>\n",
       "      <td>0.0</td>\n",
       "      <td>0.0</td>\n",
       "      <td>0.000004</td>\n",
       "      <td>...</td>\n",
       "      <td>0.0</td>\n",
       "      <td>0.0</td>\n",
       "      <td>0.0</td>\n",
       "      <td>0.0</td>\n",
       "      <td>0.0</td>\n",
       "      <td>0.0</td>\n",
       "      <td>0.0</td>\n",
       "      <td>0.0</td>\n",
       "      <td>0.0</td>\n",
       "      <td>0.0</td>\n",
       "    </tr>\n",
       "  </tbody>\n",
       "</table>\n",
       "<p>5 rows × 52 columns</p>\n",
       "</div>"
      ],
      "text/plain": [
       "             CO2         CH4         N2O  HFC-134a  HFC-23    HFC-32  HFC-125  \\\n",
       "YYYY                                                                            \n",
       "1850  285.500000  807.600000  272.100000       0.0     0.0  0.000218      0.0   \n",
       "1851  285.621912  807.768974  272.181132       0.0     0.0  0.000221      0.0   \n",
       "1852  285.759838  808.522848  272.262214       0.0     0.0  0.000223      0.0   \n",
       "1853  285.883757  809.768605  272.365269       0.0     0.0  0.000226      0.0   \n",
       "1854  285.989701  811.101520  272.471345       0.0     0.0  0.000229      0.0   \n",
       "\n",
       "      HFC-143a  HFC-152a  HFC-227ea  ...  i-C6F14  C7F16  C8F18  CFC-112  \\\n",
       "YYYY                                 ...                                   \n",
       "1850       0.0       0.0   0.000004  ...      0.0    0.0    0.0      0.0   \n",
       "1851       0.0       0.0   0.000004  ...      0.0    0.0    0.0      0.0   \n",
       "1852       0.0       0.0   0.000004  ...      0.0    0.0    0.0      0.0   \n",
       "1853       0.0       0.0   0.000004  ...      0.0    0.0    0.0      0.0   \n",
       "1854       0.0       0.0   0.000004  ...      0.0    0.0    0.0      0.0   \n",
       "\n",
       "      CFC-112a  CFC-113a  CFC-114a  HCFC-133a  HCFC-31  HCFC-124  \n",
       "YYYY                                                              \n",
       "1850       0.0       0.0       0.0        0.0      0.0       0.0  \n",
       "1851       0.0       0.0       0.0        0.0      0.0       0.0  \n",
       "1852       0.0       0.0       0.0        0.0      0.0       0.0  \n",
       "1853       0.0       0.0       0.0        0.0      0.0       0.0  \n",
       "1854       0.0       0.0       0.0        0.0      0.0       0.0  \n",
       "\n",
       "[5 rows x 52 columns]"
      ]
     },
     "execution_count": 564,
     "metadata": {},
     "output_type": "execute_result"
    }
   ],
   "source": [
    "# drop the year 1750- not relevant to this analysis\n",
    "df_conc = df_conc.drop([1750])\n",
    "df_conc.head()"
   ]
  },
  {
   "cell_type": "code",
   "execution_count": 565,
   "id": "26d8b270-c759-41a0-b199-1aedf096c811",
   "metadata": {},
   "outputs": [],
   "source": [
    "for column in df_conc:\n",
    "    # print(column)\n",
    "    if column in f2.species:\n",
    "        conc = df_conc[column].values.reshape(173, 1)\n",
    "        fill(f2.concentration, conc, scenario='s1', specie=column)"
   ]
  },
  {
   "cell_type": "markdown",
   "id": "c7cd4aed-f84d-45b8-a486-81e90bbcae62",
   "metadata": {},
   "source": [
    "## Fill solar & volcanic forcing"
   ]
  },
  {
   "cell_type": "code",
   "execution_count": 566,
   "id": "bf4a405b-dcae-41ca-988e-0961bfc71303",
   "metadata": {},
   "outputs": [],
   "source": [
    "solar_obj = pooch.retrieve(\n",
    "    url = 'https://raw.githubusercontent.com/chrisroadmap/fair-add-hfc/main/data/solar_erf_timebounds.csv',\n",
    "    known_hash = 'md5:98f6f4c5309d848fea89803683441acf',\n",
    ")"
   ]
  },
  {
   "cell_type": "code",
   "execution_count": 567,
   "id": "3fb0cc9a-ce54-4383-b8d5-4ad1fe2eecd2",
   "metadata": {},
   "outputs": [],
   "source": [
    "volcanic_obj = pooch.retrieve(\n",
    "    url = 'https://raw.githubusercontent.com/chrisroadmap/fair-calibrate/main/data/forcing/volcanic_ERF_1750-2101_timebounds.csv',\n",
    "    known_hash = 'md5:c0801f80f70195eb9567dbd70359219d',\n",
    ")"
   ]
  },
  {
   "cell_type": "code",
   "execution_count": 568,
   "id": "07f19233-14c7-4b89-b8f4-7574eb64f299",
   "metadata": {},
   "outputs": [],
   "source": [
    "df_solar = pd.read_csv(solar_obj, index_col=\"year\")\n",
    "df_volcanic = pd.read_csv(volcanic_obj, index_col=\"timebounds\")"
   ]
  },
  {
   "cell_type": "code",
   "execution_count": 569,
   "id": "0ad70475-99ea-4556-8901-43ceec66a0c0",
   "metadata": {},
   "outputs": [],
   "source": [
    "# only want years 1850-2022\n",
    "s_yr_list = list(range(1750, 1850))\n",
    "s_yr_list.extend(list(range(2023, 2301)))\n",
    "\n",
    "v_yr_list = list(range(1750, 1850))\n",
    "v_yr_list.extend(list(range(2023, 2102)))\n",
    "\n",
    "df_solar = df_solar.drop(s_yr_list)\n",
    "df_volcanic = df_volcanic.drop(v_yr_list)"
   ]
  },
  {
   "cell_type": "code",
   "execution_count": 570,
   "id": "8320ffdf-7f75-4eac-9db8-9b3d23b5f2fd",
   "metadata": {},
   "outputs": [
    {
     "data": {
      "text/html": [
       "<div>\n",
       "<style scoped>\n",
       "    .dataframe tbody tr th:only-of-type {\n",
       "        vertical-align: middle;\n",
       "    }\n",
       "\n",
       "    .dataframe tbody tr th {\n",
       "        vertical-align: top;\n",
       "    }\n",
       "\n",
       "    .dataframe thead th {\n",
       "        text-align: right;\n",
       "    }\n",
       "</style>\n",
       "<table border=\"1\" class=\"dataframe\">\n",
       "  <thead>\n",
       "    <tr style=\"text-align: right;\">\n",
       "      <th></th>\n",
       "      <th>erf</th>\n",
       "    </tr>\n",
       "    <tr>\n",
       "      <th>year</th>\n",
       "      <th></th>\n",
       "    </tr>\n",
       "  </thead>\n",
       "  <tbody>\n",
       "    <tr>\n",
       "      <th>1850</th>\n",
       "      <td>-0.004587</td>\n",
       "    </tr>\n",
       "    <tr>\n",
       "      <th>1851</th>\n",
       "      <td>0.007755</td>\n",
       "    </tr>\n",
       "    <tr>\n",
       "      <th>1852</th>\n",
       "      <td>0.002283</td>\n",
       "    </tr>\n",
       "    <tr>\n",
       "      <th>1853</th>\n",
       "      <td>0.001503</td>\n",
       "    </tr>\n",
       "    <tr>\n",
       "      <th>1854</th>\n",
       "      <td>-0.008609</td>\n",
       "    </tr>\n",
       "    <tr>\n",
       "      <th>...</th>\n",
       "      <td>...</td>\n",
       "    </tr>\n",
       "    <tr>\n",
       "      <th>2018</th>\n",
       "      <td>-0.017257</td>\n",
       "    </tr>\n",
       "    <tr>\n",
       "      <th>2019</th>\n",
       "      <td>-0.021258</td>\n",
       "    </tr>\n",
       "    <tr>\n",
       "      <th>2020</th>\n",
       "      <td>-0.021963</td>\n",
       "    </tr>\n",
       "    <tr>\n",
       "      <th>2021</th>\n",
       "      <td>-0.016759</td>\n",
       "    </tr>\n",
       "    <tr>\n",
       "      <th>2022</th>\n",
       "      <td>0.019767</td>\n",
       "    </tr>\n",
       "  </tbody>\n",
       "</table>\n",
       "<p>173 rows × 1 columns</p>\n",
       "</div>"
      ],
      "text/plain": [
       "           erf\n",
       "year          \n",
       "1850 -0.004587\n",
       "1851  0.007755\n",
       "1852  0.002283\n",
       "1853  0.001503\n",
       "1854 -0.008609\n",
       "...        ...\n",
       "2018 -0.017257\n",
       "2019 -0.021258\n",
       "2020 -0.021963\n",
       "2021 -0.016759\n",
       "2022  0.019767\n",
       "\n",
       "[173 rows x 1 columns]"
      ]
     },
     "execution_count": 570,
     "metadata": {},
     "output_type": "execute_result"
    }
   ],
   "source": [
    "df_solar"
   ]
  },
  {
   "cell_type": "code",
   "execution_count": 571,
   "id": "5ab4aa18-f6d7-4171-afed-88e87c8dabbb",
   "metadata": {},
   "outputs": [
    {
     "data": {
      "text/html": [
       "<div>\n",
       "<style scoped>\n",
       "    .dataframe tbody tr th:only-of-type {\n",
       "        vertical-align: middle;\n",
       "    }\n",
       "\n",
       "    .dataframe tbody tr th {\n",
       "        vertical-align: top;\n",
       "    }\n",
       "\n",
       "    .dataframe thead th {\n",
       "        text-align: right;\n",
       "    }\n",
       "</style>\n",
       "<table border=\"1\" class=\"dataframe\">\n",
       "  <thead>\n",
       "    <tr style=\"text-align: right;\">\n",
       "      <th></th>\n",
       "      <th>erf</th>\n",
       "    </tr>\n",
       "    <tr>\n",
       "      <th>timebounds</th>\n",
       "      <th></th>\n",
       "    </tr>\n",
       "  </thead>\n",
       "  <tbody>\n",
       "    <tr>\n",
       "      <th>1850</th>\n",
       "      <td>0.243546</td>\n",
       "    </tr>\n",
       "    <tr>\n",
       "      <th>1851</th>\n",
       "      <td>0.245486</td>\n",
       "    </tr>\n",
       "    <tr>\n",
       "      <th>1852</th>\n",
       "      <td>0.245843</td>\n",
       "    </tr>\n",
       "    <tr>\n",
       "      <th>1853</th>\n",
       "      <td>0.238493</td>\n",
       "    </tr>\n",
       "    <tr>\n",
       "      <th>1854</th>\n",
       "      <td>0.246023</td>\n",
       "    </tr>\n",
       "    <tr>\n",
       "      <th>...</th>\n",
       "      <td>...</td>\n",
       "    </tr>\n",
       "    <tr>\n",
       "      <th>2018</th>\n",
       "      <td>0.202711</td>\n",
       "    </tr>\n",
       "    <tr>\n",
       "      <th>2019</th>\n",
       "      <td>0.182834</td>\n",
       "    </tr>\n",
       "    <tr>\n",
       "      <th>2020</th>\n",
       "      <td>0.127848</td>\n",
       "    </tr>\n",
       "    <tr>\n",
       "      <th>2021</th>\n",
       "      <td>0.085619</td>\n",
       "    </tr>\n",
       "    <tr>\n",
       "      <th>2022</th>\n",
       "      <td>0.144831</td>\n",
       "    </tr>\n",
       "  </tbody>\n",
       "</table>\n",
       "<p>173 rows × 1 columns</p>\n",
       "</div>"
      ],
      "text/plain": [
       "                 erf\n",
       "timebounds          \n",
       "1850        0.243546\n",
       "1851        0.245486\n",
       "1852        0.245843\n",
       "1853        0.238493\n",
       "1854        0.246023\n",
       "...              ...\n",
       "2018        0.202711\n",
       "2019        0.182834\n",
       "2020        0.127848\n",
       "2021        0.085619\n",
       "2022        0.144831\n",
       "\n",
       "[173 rows x 1 columns]"
      ]
     },
     "execution_count": 571,
     "metadata": {},
     "output_type": "execute_result"
    }
   ],
   "source": [
    "df_volcanic"
   ]
  },
  {
   "cell_type": "code",
   "execution_count": 572,
   "id": "7550278b-7f1e-4771-a9dd-4a01bb907a74",
   "metadata": {},
   "outputs": [],
   "source": [
    "fill(f2.forcing, df_volcanic, scenario='s1', specie='Volcanic')\n",
    "fill(f2.forcing, df_solar, scenario='s1', specie='Solar')"
   ]
  },
  {
   "cell_type": "markdown",
   "id": "0cec37b8-772e-4e2c-82b5-429bc2dc4144",
   "metadata": {},
   "source": [
    "## Fill climate configs"
   ]
  },
  {
   "cell_type": "code",
   "execution_count": 573,
   "id": "f88653a1-8be5-4a40-b793-d50b69578f13",
   "metadata": {},
   "outputs": [],
   "source": [
    "fill(f2.climate_configs[\"ocean_heat_transfer\"], [1.1, 1.6, 0.9], config='c1')\n",
    "fill(f2.climate_configs[\"ocean_heat_capacity\"], [8, 14, 100], config='c1')\n",
    "fill(f2.climate_configs[\"deep_ocean_efficacy\"], 1.1, config='c1')"
   ]
  },
  {
   "cell_type": "markdown",
   "id": "25f16cab-17c2-47f3-aec0-f945e6d6af62",
   "metadata": {},
   "source": [
    "## Fill species configs"
   ]
  },
  {
   "cell_type": "code",
   "execution_count": 574,
   "id": "2ada65d6-2709-4f80-bdc5-41a136e3ad4d",
   "metadata": {},
   "outputs": [],
   "source": [
    "f2.fill_species_configs()"
   ]
  },
  {
   "cell_type": "markdown",
   "id": "b3fb4dab-c4cb-4c61-9e1c-7a0bf9e292b4",
   "metadata": {},
   "source": [
    "## Define initial conditions"
   ]
  },
  {
   "cell_type": "code",
   "execution_count": 575,
   "id": "65790c1e-5cc5-42bb-b0c9-f492af7c520d",
   "metadata": {},
   "outputs": [],
   "source": [
    "initialise(f2.concentration, f2.species_configs[\"baseline_concentration\"])\n",
    "initialise(f2.forcing, 0)\n",
    "initialise(f2.temperature, 0)   # f.temperature refers to temperature rise above PI (288 K)\n",
    "initialise(f2.cumulative_emissions, 0)\n",
    "initialise(f2.airborne_emissions, 0)"
   ]
  },
  {
   "cell_type": "markdown",
   "id": "11bed0b7-1021-43d1-b348-efc1d96bf4bf",
   "metadata": {},
   "source": [
    "## Run"
   ]
  },
  {
   "cell_type": "code",
   "execution_count": 576,
   "id": "887366b7-e19b-43eb-96c0-7c1831aa1bc4",
   "metadata": {},
   "outputs": [
    {
     "data": {
      "application/vnd.jupyter.widget-view+json": {
       "model_id": "9522fc19c73c4f7fa34d187d7518640c",
       "version_major": 2,
       "version_minor": 0
      },
      "text/plain": [
       "Running 1 projections in parallel:   0%|          | 0/172 [00:00<?, ?timesteps/s]"
      ]
     },
     "metadata": {},
     "output_type": "display_data"
    }
   ],
   "source": [
    "f2.run()"
   ]
  },
  {
   "cell_type": "markdown",
   "id": "59b92eb5-c7ce-4aff-86a5-ab2bcb5591f5",
   "metadata": {},
   "source": [
    "# Analyze output"
   ]
  },
  {
   "cell_type": "code",
   "execution_count": 577,
   "id": "6d404812-1043-4f24-ae5b-6a1a4f9c86da",
   "metadata": {},
   "outputs": [
    {
     "data": {
      "text/plain": [
       "<matplotlib.legend.Legend at 0x7faa664cfa60>"
      ]
     },
     "execution_count": 577,
     "metadata": {},
     "output_type": "execute_result"
    },
    {
     "data": {
      "image/png": "[encoded data removed]",
      "text/plain": [
       "<Figure size 640x480 with 1 Axes>"
      ]
     },
     "metadata": {},
     "output_type": "display_data"
    }
   ],
   "source": [
    "plt.plot(f1.timebounds.reshape(173, 1), f1.temperature[dict(layer=0, scenario=0)], label='without volcanic & solar forcing')\n",
    "plt.plot(f2.timebounds.reshape(173, 1), f2.temperature[dict(layer=0, scenario=0)], label='with volcanic & solar forcing')\n",
    "plt.ylabel('GMST Anomaly')\n",
    "plt.xlabel('Year')\n",
    "plt.title('Temperature Hindcast')\n",
    "plt.legend()"
   ]
  },
  {
   "cell_type": "markdown",
   "id": "efc835ac-996f-4794-b806-3edcc74462d5",
   "metadata": {},
   "source": [
    "solar and volcanic forcing incorporate internal variability"
   ]
  },
  {
   "cell_type": "code",
   "execution_count": null,
   "id": "855e9098-029c-4369-9222-be4884d1a6bd",
   "metadata": {},
   "outputs": [],
   "source": []
  }
 ],
 "metadata": {
  "kernelspec": {
   "display_name": "Python 3 (ipykernel)",
   "language": "python",
   "name": "python3"
  },
  "language_info": {
   "codemirror_mode": {
    "name": "ipython",
    "version": 3
   },
   "file_extension": ".py",
   "mimetype": "text/x-python",
   "name": "python",
   "nbconvert_exporter": "python",
   "pygments_lexer": "ipython3",
   "version": "3.10.6"
  }
 },
 "nbformat": 4,
 "nbformat_minor": 5
}
