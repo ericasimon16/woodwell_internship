{
 "cells": [
  {
   "cell_type": "markdown",
   "id": "3d86fcc5-31c2-4082-a4f4-84319b4961a1",
   "metadata": {
    "tags": []
   },
   "source": [
    "# harm_take2\n",
    "## Purpose: Learn how to use the aneris tool for harmonization\n",
    "Struggling with aneris... take 2 based on Smith script\n",
    "- Historical (1750-2022) and projected (2020-2100) emissions datasets\n",
    "    - Historical dataset is product of PRIMAP, CEDS, GCP, & GFED\n",
    "    - Projected datasets are outputs of GCAM 6.0 NGFS and MESSAGEix-GLOBIOM (will focus on one at a time)\n",
    "    \n",
    "    \n",
    "Credit: \n",
    "- Gidden, M. (2017). gidden/aneris: Initial release version for harmonization paper (v0.1.0). Zenodo. https://doi.org/10.5281/ZENODO.802832\n",
    "- https://github.com/chrisroadmap/fair-calibrate/blob/main/input/fair-2.1.3/v1.4/all-2022/calibration/12_harmonize-emissions.py\n",
    "\n",
    "\n",
    "## Erica Simon, 02/02/24"
   ]
  },
  {
   "cell_type": "code",
   "execution_count": 1,
   "id": "3c3aa2b6-9643-4d75-8d9c-7927b53b42fa",
   "metadata": {},
   "outputs": [
    {
     "name": "stderr",
     "output_type": "stream",
     "text": [
      "/tmp/ipykernel_14048/848097968.py:1: DeprecationWarning: \n",
      "Pyarrow will become a required dependency of pandas in the next major release of pandas (pandas 3.0),\n",
      "(to allow more performant data types, such as the Arrow string type, and better interoperability with other libraries)\n",
      "but was not found to be installed on your system.\n",
      "If this would cause problems for you,\n",
      "please provide us feedback at https://github.com/pandas-dev/pandas/issues/54466\n",
      "        \n",
      "  import pandas as pd\n"
     ]
    },
    {
     "data": {
      "application/javascript": [
       "if (typeof IPython !== 'undefined') { IPython.OutputArea.prototype._should_scroll = function(lines){ return false; }}"
      ],
      "text/plain": [
       "<IPython.core.display.Javascript object>"
      ]
     },
     "metadata": {},
     "output_type": "display_data"
    }
   ],
   "source": [
    "import pandas as pd\n",
    "import matplotlib.pyplot as plt\n",
    "import numpy as np\n",
    "\n",
    "import aneris\n",
    "import aneris.convenience\n",
    "from tqdm.auto import tqdm\n",
    "\n",
    "import datetime\n",
    "import os\n",
    "import warnings"
   ]
  },
  {
   "cell_type": "markdown",
   "id": "fb9fd03b-fe03-4f01-a500-24a6f1bc3d98",
   "metadata": {},
   "source": [
    "## Import datasets"
   ]
  },
  {
   "cell_type": "code",
   "execution_count": 2,
   "id": "26a9d64b-1169-4220-81b6-ee95430d335a",
   "metadata": {},
   "outputs": [],
   "source": [
    "GCAM_proj_emis = pd.read_csv('~/outputs/NGFS_GCAM_interp.csv')\n",
    "MSG_proj_emis = pd.read_csv('~/outputs/NGFS_MSG_cleaned.csv')\n",
    "\n",
    "hist = pd.read_csv('~/outputs/hist_GCAM.csv')"
   ]
  },
  {
   "cell_type": "code",
   "execution_count": 3,
   "id": "d701c086-9709-4c11-84bd-58cb0e666ecb",
   "metadata": {},
   "outputs": [],
   "source": [
    "future = GCAM_proj_emis"
   ]
  },
  {
   "cell_type": "code",
   "execution_count": 4,
   "id": "472b0344-d143-4f1e-af18-e6d02f46310d",
   "metadata": {},
   "outputs": [],
   "source": [
    "progress = os.getenv(\"PROGRESS\", \"False\").lower() in (\"true\", \"1\", \"t\")"
   ]
  },
  {
   "cell_type": "code",
   "execution_count": 6,
   "id": "03f0e432-8fe2-4521-9708-e8ae0c603dfa",
   "metadata": {},
   "outputs": [
    {
     "name": "stderr",
     "output_type": "stream",
     "text": [
      "WARNING:root:Extra index found in data, dropping levels ['scenario', 'model']\n",
      "WARNING:root:Extra index found in history, dropping levels ['scenario', 'model']\n",
      "INFO:root:Harmonizing with reduce_ratio_2080\n",
      "INFO:root:Harmonizing with reduce_offset_2150_cov\n",
      "INFO:root:Harmonizing with constant_ratio\n",
      "WARNING:root:Extra index found in data, dropping levels ['scenario', 'model']\n",
      "WARNING:root:Extra index found in history, dropping levels ['scenario', 'model']\n",
      "INFO:root:Harmonizing with reduce_ratio_2080\n",
      "INFO:root:Harmonizing with reduce_offset_2150_cov\n",
      "INFO:root:Harmonizing with constant_ratio\n",
      "WARNING:root:Extra index found in data, dropping levels ['scenario', 'model']\n",
      "WARNING:root:Extra index found in history, dropping levels ['scenario', 'model']\n",
      "INFO:root:Harmonizing with reduce_ratio_2080\n",
      "INFO:root:Harmonizing with reduce_offset_2150_cov\n",
      "INFO:root:Harmonizing with constant_ratio\n",
      "WARNING:root:Extra index found in data, dropping levels ['scenario', 'model']\n",
      "WARNING:root:Extra index found in history, dropping levels ['scenario', 'model']\n",
      "INFO:root:Harmonizing with reduce_ratio_2080\n",
      "INFO:root:Harmonizing with reduce_offset_2150_cov\n",
      "INFO:root:Harmonizing with constant_ratio\n",
      "WARNING:root:Extra index found in data, dropping levels ['scenario', 'model']\n",
      "WARNING:root:Extra index found in history, dropping levels ['scenario', 'model']\n",
      "INFO:root:Harmonizing with reduce_ratio_2080\n",
      "INFO:root:Harmonizing with reduce_offset_2150_cov\n",
      "INFO:root:Harmonizing with constant_ratio\n",
      "WARNING:root:Extra index found in data, dropping levels ['scenario', 'model']\n",
      "WARNING:root:Extra index found in history, dropping levels ['scenario', 'model']\n",
      "INFO:root:Harmonizing with reduce_ratio_2080\n",
      "INFO:root:Harmonizing with reduce_offset_2150_cov\n",
      "INFO:root:Harmonizing with constant_ratio\n",
      "WARNING:root:Extra index found in data, dropping levels ['scenario', 'model']\n",
      "WARNING:root:Extra index found in history, dropping levels ['scenario', 'model']\n",
      "INFO:root:Harmonizing with reduce_ratio_2080\n",
      "INFO:root:Harmonizing with reduce_offset_2150_cov\n",
      "INFO:root:Harmonizing with constant_ratio\n"
     ]
    }
   ],
   "source": [
    "# all code from https://github.com/chrisroadmap/fair-calibrate/blob/main/input/fair-2.1.3/v1.4/all-2022/calibration/12_harmonize-emissions.py\n",
    "\n",
    "harmonisation_year = 2022\n",
    "\n",
    "with warnings.catch_warnings():\n",
    "    warnings.simplefilter(\"ignore\")\n",
    "    scenarios_harmonised = [\n",
    "        aneris.convenience.harmonise_all(\n",
    "            msdf,\n",
    "            history=hist,\n",
    "            year=harmonisation_year,\n",
    "            # overrides=overrides,\n",
    "        )\n",
    "        for _, msdf in tqdm(future.groupby([\"Model\", \"Scenario\"]), disable=1 - progress)\n",
    "    ]\n",
    "# reset_index is needed above because aneris for some reason gives us two copies of\n",
    "# the MultiIndex\n",
    "\n",
    "scenarios_harmonised = pd.concat(scenarios_harmonised).reset_index()"
   ]
  },
  {
   "cell_type": "code",
   "execution_count": 11,
   "id": "41e59a45-fc6a-4b7e-9865-3424a8485608",
   "metadata": {},
   "outputs": [
    {
     "data": {
      "text/html": [
       "<div>\n",
       "<style scoped>\n",
       "    .dataframe tbody tr th:only-of-type {\n",
       "        vertical-align: middle;\n",
       "    }\n",
       "\n",
       "    .dataframe tbody tr th {\n",
       "        vertical-align: top;\n",
       "    }\n",
       "\n",
       "    .dataframe thead th {\n",
       "        text-align: right;\n",
       "    }\n",
       "</style>\n",
       "<table border=\"1\" class=\"dataframe\">\n",
       "  <thead>\n",
       "    <tr style=\"text-align: right;\">\n",
       "      <th></th>\n",
       "      <th>model</th>\n",
       "      <th>scenario</th>\n",
       "      <th>region</th>\n",
       "      <th>variable</th>\n",
       "      <th>unit</th>\n",
       "      <th>2022</th>\n",
       "      <th>2023</th>\n",
       "      <th>2024</th>\n",
       "      <th>2025</th>\n",
       "      <th>2026</th>\n",
       "      <th>...</th>\n",
       "      <th>2091</th>\n",
       "      <th>2092</th>\n",
       "      <th>2093</th>\n",
       "      <th>2094</th>\n",
       "      <th>2095</th>\n",
       "      <th>2096</th>\n",
       "      <th>2097</th>\n",
       "      <th>2098</th>\n",
       "      <th>2099</th>\n",
       "      <th>2100</th>\n",
       "    </tr>\n",
       "  </thead>\n",
       "  <tbody>\n",
       "    <tr>\n",
       "      <th>0</th>\n",
       "      <td>GCAM 6.0 NGFS</td>\n",
       "      <td>Below 2 C</td>\n",
       "      <td>World</td>\n",
       "      <td>Emissions|BC</td>\n",
       "      <td>Mt BC/yr</td>\n",
       "      <td>6.701702</td>\n",
       "      <td>6.514716</td>\n",
       "      <td>6.328371</td>\n",
       "      <td>6.142668</td>\n",
       "      <td>5.970416</td>\n",
       "      <td>...</td>\n",
       "      <td>1.908504</td>\n",
       "      <td>1.909592</td>\n",
       "      <td>1.910681</td>\n",
       "      <td>1.911769</td>\n",
       "      <td>1.912858</td>\n",
       "      <td>1.913896</td>\n",
       "      <td>1.914934</td>\n",
       "      <td>1.915973</td>\n",
       "      <td>1.917011</td>\n",
       "      <td>1.918049</td>\n",
       "    </tr>\n",
       "    <tr>\n",
       "      <th>1</th>\n",
       "      <td>GCAM 6.0 NGFS</td>\n",
       "      <td>Below 2 C</td>\n",
       "      <td>World</td>\n",
       "      <td>Emissions|C2F6</td>\n",
       "      <td>kt C2F6/yr</td>\n",
       "      <td>1.167145</td>\n",
       "      <td>1.191345</td>\n",
       "      <td>1.215545</td>\n",
       "      <td>1.239745</td>\n",
       "      <td>1.204444</td>\n",
       "      <td>...</td>\n",
       "      <td>0.873045</td>\n",
       "      <td>0.868214</td>\n",
       "      <td>0.863383</td>\n",
       "      <td>0.858552</td>\n",
       "      <td>0.853721</td>\n",
       "      <td>0.849633</td>\n",
       "      <td>0.845546</td>\n",
       "      <td>0.841459</td>\n",
       "      <td>0.837372</td>\n",
       "      <td>0.833284</td>\n",
       "    </tr>\n",
       "    <tr>\n",
       "      <th>2</th>\n",
       "      <td>GCAM 6.0 NGFS</td>\n",
       "      <td>Below 2 C</td>\n",
       "      <td>World</td>\n",
       "      <td>Emissions|CF4</td>\n",
       "      <td>kt CF4/yr</td>\n",
       "      <td>7.204285</td>\n",
       "      <td>7.273050</td>\n",
       "      <td>7.341815</td>\n",
       "      <td>7.410581</td>\n",
       "      <td>7.378907</td>\n",
       "      <td>...</td>\n",
       "      <td>2.907157</td>\n",
       "      <td>2.817994</td>\n",
       "      <td>2.728830</td>\n",
       "      <td>2.639667</td>\n",
       "      <td>2.550504</td>\n",
       "      <td>2.477945</td>\n",
       "      <td>2.405386</td>\n",
       "      <td>2.332827</td>\n",
       "      <td>2.260268</td>\n",
       "      <td>2.187709</td>\n",
       "    </tr>\n",
       "    <tr>\n",
       "      <th>3</th>\n",
       "      <td>GCAM 6.0 NGFS</td>\n",
       "      <td>Below 2 C</td>\n",
       "      <td>World</td>\n",
       "      <td>Emissions|CH4</td>\n",
       "      <td>Mt CH4/yr</td>\n",
       "      <td>378.405896</td>\n",
       "      <td>377.950220</td>\n",
       "      <td>377.491840</td>\n",
       "      <td>377.030757</td>\n",
       "      <td>370.793608</td>\n",
       "      <td>...</td>\n",
       "      <td>246.543212</td>\n",
       "      <td>246.884856</td>\n",
       "      <td>247.226500</td>\n",
       "      <td>247.568144</td>\n",
       "      <td>247.909788</td>\n",
       "      <td>248.005228</td>\n",
       "      <td>248.100668</td>\n",
       "      <td>248.196108</td>\n",
       "      <td>248.291548</td>\n",
       "      <td>248.386987</td>\n",
       "    </tr>\n",
       "    <tr>\n",
       "      <th>4</th>\n",
       "      <td>GCAM 6.0 NGFS</td>\n",
       "      <td>Below 2 C</td>\n",
       "      <td>World</td>\n",
       "      <td>Emissions|CO</td>\n",
       "      <td>Mt CO/yr</td>\n",
       "      <td>758.190637</td>\n",
       "      <td>740.871864</td>\n",
       "      <td>723.553092</td>\n",
       "      <td>706.234320</td>\n",
       "      <td>687.510600</td>\n",
       "      <td>...</td>\n",
       "      <td>328.709101</td>\n",
       "      <td>328.555212</td>\n",
       "      <td>328.401323</td>\n",
       "      <td>328.247434</td>\n",
       "      <td>328.093546</td>\n",
       "      <td>328.078194</td>\n",
       "      <td>328.062842</td>\n",
       "      <td>328.047491</td>\n",
       "      <td>328.032139</td>\n",
       "      <td>328.016787</td>\n",
       "    </tr>\n",
       "  </tbody>\n",
       "</table>\n",
       "<p>5 rows × 84 columns</p>\n",
       "</div>"
      ],
      "text/plain": [
       "           model   scenario region        variable        unit        2022  \\\n",
       "0  GCAM 6.0 NGFS  Below 2 C  World    Emissions|BC    Mt BC/yr    6.701702   \n",
       "1  GCAM 6.0 NGFS  Below 2 C  World  Emissions|C2F6  kt C2F6/yr    1.167145   \n",
       "2  GCAM 6.0 NGFS  Below 2 C  World   Emissions|CF4   kt CF4/yr    7.204285   \n",
       "3  GCAM 6.0 NGFS  Below 2 C  World   Emissions|CH4   Mt CH4/yr  378.405896   \n",
       "4  GCAM 6.0 NGFS  Below 2 C  World    Emissions|CO    Mt CO/yr  758.190637   \n",
       "\n",
       "         2023        2024        2025        2026  ...        2091  \\\n",
       "0    6.514716    6.328371    6.142668    5.970416  ...    1.908504   \n",
       "1    1.191345    1.215545    1.239745    1.204444  ...    0.873045   \n",
       "2    7.273050    7.341815    7.410581    7.378907  ...    2.907157   \n",
       "3  377.950220  377.491840  377.030757  370.793608  ...  246.543212   \n",
       "4  740.871864  723.553092  706.234320  687.510600  ...  328.709101   \n",
       "\n",
       "         2092        2093        2094        2095        2096        2097  \\\n",
       "0    1.909592    1.910681    1.911769    1.912858    1.913896    1.914934   \n",
       "1    0.868214    0.863383    0.858552    0.853721    0.849633    0.845546   \n",
       "2    2.817994    2.728830    2.639667    2.550504    2.477945    2.405386   \n",
       "3  246.884856  247.226500  247.568144  247.909788  248.005228  248.100668   \n",
       "4  328.555212  328.401323  328.247434  328.093546  328.078194  328.062842   \n",
       "\n",
       "         2098        2099        2100  \n",
       "0    1.915973    1.917011    1.918049  \n",
       "1    0.841459    0.837372    0.833284  \n",
       "2    2.332827    2.260268    2.187709  \n",
       "3  248.196108  248.291548  248.386987  \n",
       "4  328.047491  328.032139  328.016787  \n",
       "\n",
       "[5 rows x 84 columns]"
      ]
     },
     "execution_count": 11,
     "metadata": {},
     "output_type": "execute_result"
    }
   ],
   "source": [
    "scenarios_harmonised.head()"
   ]
  },
  {
   "cell_type": "markdown",
   "id": "244c67b9-613e-4fb7-9c4b-9ffe0ce7ec48",
   "metadata": {},
   "source": [
    "## Visualize"
   ]
  },
  {
   "cell_type": "code",
   "execution_count": 21,
   "id": "ab4fe935-38c4-49bf-ad40-93a5fc659e30",
   "metadata": {},
   "outputs": [],
   "source": [
    "ch4_hist = hist.loc[hist.Variable == 'Emissions|CH4'].values[0][255:]\n",
    "ch4_raw = GCAM_proj_emis.loc[GCAM_proj_emis.Variable == 'Emissions|CH4'].loc[GCAM_proj_emis.Scenario == 'Current Policies'].values[0][7:]\n",
    "ch4_harm = scenarios_harmonised.loc[scenarios_harmonised.variable == 'Emissions|CH4'].loc[scenarios_harmonised.scenario == 'Current Policies'].values[0][5:]"
   ]
  },
  {
   "cell_type": "code",
   "execution_count": 22,
   "id": "b151a225-6e85-494c-b5fd-b10dfbd3793e",
   "metadata": {},
   "outputs": [
    {
     "data": {
      "image/png": "[encoded data removed]",
      "text/plain": [
       "<Figure size 640x480 with 1 Axes>"
      ]
     },
     "metadata": {},
     "output_type": "display_data"
    }
   ],
   "source": [
    "plt.plot(np.arange(2000, 2023), ch4_hist)\n",
    "plt.plot(np.arange(2022, 2101), ch4_raw)\n",
    "plt.plot(np.arange(2022, 2101), ch4_harm)\n",
    "plt.axvline(2022, linestyle='--', color='grey', alpha=0.5)\n",
    "plt.xlabel('Year')\n",
    "plt.ylabel('Mt CH4/yr')\n",
    "plt.title('Gap Between Projected & Historical CH4 Emissions\\n Current Policies Scenario')\n",
    "plt.show()"
   ]
  },
  {
   "cell_type": "code",
   "execution_count": null,
   "id": "391cbb3c-3c2e-4011-9ec8-703629acec61",
   "metadata": {},
   "outputs": [],
   "source": []
  }
 ],
 "metadata": {
  "kernelspec": {
   "display_name": "Python 3 (ipykernel)",
   "language": "python",
   "name": "python3"
  },
  "language_info": {
   "codemirror_mode": {
    "name": "ipython",
    "version": 3
   },
   "file_extension": ".py",
   "mimetype": "text/x-python",
   "name": "python",
   "nbconvert_exporter": "python",
   "pygments_lexer": "ipython3",
   "version": "3.10.6"
  }
 },
 "nbformat": 4,
 "nbformat_minor": 5
}
