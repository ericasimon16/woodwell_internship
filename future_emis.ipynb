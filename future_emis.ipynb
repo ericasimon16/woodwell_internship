{
 "cells": [
  {
   "cell_type": "markdown",
   "id": "8b7bc22f-0917-4aca-b512-a0a4ba938b3e",
   "metadata": {},
   "source": [
    "# future_emis\n",
    "## Purpose: extrapolate recent emission trends to develop possible future trajectories\n",
    "- Trying to estimate future emissions using percentage values in projections\n",
    "- Credit: UNFCCC. (2023). Nationally determined contributions under the Paris Agreement: Synthesis report by the secretariat. https://unfccc.int/ndc-synthesis-report-2023\n",
    "\n",
    "### 01/29/24, Erica Simon"
   ]
  },
  {
   "cell_type": "markdown",
   "id": "6a4c903d-8ffb-44b5-b645-b854be4e74dd",
   "metadata": {},
   "source": [
    "\"Total global GHG emissions (without LULUCF) taking into account implementation of the latest NDCs are estimated to be around 53.2 (51.6–54.8) Gt CO2 eq in 2025 and 51.6 (48.3–54.8) Gt CO2 eq in 2030 which are:\n",
    "- In 2025, 55.2 per cent higher than in 1990 (34.3 Gt CO2 eq), 12.2 per cent higher than in 2010 (47.4 Gt CO2 eq) and 1.0 per cent higher than in 2019 (52.6 Gt CO2 eq);\n",
    "- In 2030, 50.5 per cent higher than in 1990, 8.8 per cent higher than in 2010 and 2.0 per cent lower than in 2019, as well as 3.1 per cent lower than the estimated level for 2025, indicating the possibility of global emissions peaking before 2030.\"\n",
    "\n",
    "## Approach\n",
    "- start with values for 2025 and 2030 emissions in CO2 eq\n",
    "- "
   ]
  },
  {
   "cell_type": "code",
   "execution_count": null,
   "id": "5822c255-59ac-4118-bd1c-30460211737f",
   "metadata": {},
   "outputs": [],
   "source": []
  }
 ],
 "metadata": {
  "kernelspec": {
   "display_name": "Python 3 (ipykernel)",
   "language": "python",
   "name": "python3"
  },
  "language_info": {
   "codemirror_mode": {
    "name": "ipython",
    "version": 3
   },
   "file_extension": ".py",
   "mimetype": "text/x-python",
   "name": "python",
   "nbconvert_exporter": "python",
   "pygments_lexer": "ipython3",
   "version": "3.10.6"
  }
 },
 "nbformat": 4,
 "nbformat_minor": 5
}
