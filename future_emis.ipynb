{
 "cells": [
  {
   "cell_type": "markdown",
   "id": "8b7bc22f-0917-4aca-b512-a0a4ba938b3e",
   "metadata": {
    "tags": []
   },
   "source": [
    "# future_emis\n",
    "## Purpose: input IAM projections of future emissions under different policy scenarios\n",
    "Data Credit: \n",
    "- Richters, O. *et al.* (2023). *NGFS Climate Scenarios Data Set* (4.1). Zenodo. https://doi.org/10.5281/ZENODO.10079020\n",
    "\n",
    "\n",
    "\n",
    "### 01/29/24, Erica Simon"
   ]
  },
  {
   "cell_type": "code",
   "execution_count": 116,
   "id": "ed9cd4c4-bef4-4f8e-ad75-e68984ac3769",
   "metadata": {},
   "outputs": [],
   "source": [
    "import matplotlib.pyplot as plt\n",
    "import numpy as np\n",
    "import pandas as pd"
   ]
  },
  {
   "cell_type": "markdown",
   "id": "4602e759-4e68-4006-b341-9830b5cc0cdc",
   "metadata": {
    "tags": []
   },
   "source": [
    "## Import historical emissions dataset \n",
    "`hist_emis`"
   ]
  },
  {
   "cell_type": "code",
   "execution_count": 134,
   "id": "710b6629-f889-4df1-840f-10a72e19af34",
   "metadata": {},
   "outputs": [
    {
     "data": {
      "text/html": [
       "<div>\n",
       "<style scoped>\n",
       "    .dataframe tbody tr th:only-of-type {\n",
       "        vertical-align: middle;\n",
       "    }\n",
       "\n",
       "    .dataframe tbody tr th {\n",
       "        vertical-align: top;\n",
       "    }\n",
       "\n",
       "    .dataframe thead th {\n",
       "        text-align: right;\n",
       "    }\n",
       "</style>\n",
       "<table border=\"1\" class=\"dataframe\">\n",
       "  <thead>\n",
       "    <tr style=\"text-align: right;\">\n",
       "      <th></th>\n",
       "      <th>Model</th>\n",
       "      <th>Scenario</th>\n",
       "      <th>Region</th>\n",
       "      <th>Variable</th>\n",
       "      <th>Unit</th>\n",
       "      <th>1750</th>\n",
       "      <th>1751</th>\n",
       "      <th>1752</th>\n",
       "      <th>1753</th>\n",
       "      <th>1754</th>\n",
       "      <th>...</th>\n",
       "      <th>2013</th>\n",
       "      <th>2014</th>\n",
       "      <th>2015</th>\n",
       "      <th>2016</th>\n",
       "      <th>2017</th>\n",
       "      <th>2018</th>\n",
       "      <th>2019</th>\n",
       "      <th>2020</th>\n",
       "      <th>2021</th>\n",
       "      <th>2022</th>\n",
       "    </tr>\n",
       "  </thead>\n",
       "  <tbody>\n",
       "    <tr>\n",
       "      <th>0</th>\n",
       "      <td>Historical</td>\n",
       "      <td>GCP+CEDS+PRIMAP+GFED</td>\n",
       "      <td>World</td>\n",
       "      <td>Emissions|BC</td>\n",
       "      <td>Mt BC/yr</td>\n",
       "      <td>2.096766</td>\n",
       "      <td>2.071972</td>\n",
       "      <td>2.067178</td>\n",
       "      <td>2.070382</td>\n",
       "      <td>2.098586</td>\n",
       "      <td>...</td>\n",
       "      <td>7.842259</td>\n",
       "      <td>7.934828</td>\n",
       "      <td>7.926371</td>\n",
       "      <td>7.568060</td>\n",
       "      <td>7.562319</td>\n",
       "      <td>7.459095</td>\n",
       "      <td>7.781842</td>\n",
       "      <td>6.525021</td>\n",
       "      <td>6.871947</td>\n",
       "      <td>6.701702</td>\n",
       "    </tr>\n",
       "    <tr>\n",
       "      <th>1</th>\n",
       "      <td>Historical</td>\n",
       "      <td>GCP+CEDS+PRIMAP+GFED</td>\n",
       "      <td>World</td>\n",
       "      <td>Emissions|C2F6</td>\n",
       "      <td>kt C2F6/yr</td>\n",
       "      <td>0.000000</td>\n",
       "      <td>0.000000</td>\n",
       "      <td>0.000000</td>\n",
       "      <td>0.000000</td>\n",
       "      <td>0.000000</td>\n",
       "      <td>...</td>\n",
       "      <td>1.003458</td>\n",
       "      <td>1.035565</td>\n",
       "      <td>0.933936</td>\n",
       "      <td>0.979945</td>\n",
       "      <td>0.996980</td>\n",
       "      <td>0.996764</td>\n",
       "      <td>1.062577</td>\n",
       "      <td>1.106550</td>\n",
       "      <td>1.160588</td>\n",
       "      <td>1.167145</td>\n",
       "    </tr>\n",
       "    <tr>\n",
       "      <th>2</th>\n",
       "      <td>Historical</td>\n",
       "      <td>GCP+CEDS+PRIMAP+GFED</td>\n",
       "      <td>World</td>\n",
       "      <td>Emissions|C3F8</td>\n",
       "      <td>kt C3F8/yr</td>\n",
       "      <td>0.000000</td>\n",
       "      <td>0.000000</td>\n",
       "      <td>0.000000</td>\n",
       "      <td>0.000000</td>\n",
       "      <td>0.000000</td>\n",
       "      <td>...</td>\n",
       "      <td>0.314138</td>\n",
       "      <td>0.323186</td>\n",
       "      <td>0.304124</td>\n",
       "      <td>0.319107</td>\n",
       "      <td>0.324656</td>\n",
       "      <td>0.324586</td>\n",
       "      <td>0.346019</td>\n",
       "      <td>0.360340</td>\n",
       "      <td>0.377938</td>\n",
       "      <td>0.380074</td>\n",
       "    </tr>\n",
       "    <tr>\n",
       "      <th>3</th>\n",
       "      <td>Historical</td>\n",
       "      <td>GCP+CEDS+PRIMAP+GFED</td>\n",
       "      <td>World</td>\n",
       "      <td>Emissions|C4F10</td>\n",
       "      <td>kt C4F10/yr</td>\n",
       "      <td>0.000000</td>\n",
       "      <td>0.000000</td>\n",
       "      <td>0.000000</td>\n",
       "      <td>0.000000</td>\n",
       "      <td>0.000000</td>\n",
       "      <td>...</td>\n",
       "      <td>0.070672</td>\n",
       "      <td>0.070641</td>\n",
       "      <td>0.067024</td>\n",
       "      <td>0.070327</td>\n",
       "      <td>0.071550</td>\n",
       "      <td>0.071536</td>\n",
       "      <td>0.076260</td>\n",
       "      <td>0.079417</td>\n",
       "      <td>0.083292</td>\n",
       "      <td>0.083759</td>\n",
       "    </tr>\n",
       "    <tr>\n",
       "      <th>4</th>\n",
       "      <td>Historical</td>\n",
       "      <td>GCP+CEDS+PRIMAP+GFED</td>\n",
       "      <td>World</td>\n",
       "      <td>Emissions|C5F12</td>\n",
       "      <td>kt C5F12/yr</td>\n",
       "      <td>0.000000</td>\n",
       "      <td>0.000000</td>\n",
       "      <td>0.000000</td>\n",
       "      <td>0.000000</td>\n",
       "      <td>0.000000</td>\n",
       "      <td>...</td>\n",
       "      <td>0.035588</td>\n",
       "      <td>0.031141</td>\n",
       "      <td>0.030030</td>\n",
       "      <td>0.031513</td>\n",
       "      <td>0.032065</td>\n",
       "      <td>0.032062</td>\n",
       "      <td>0.034184</td>\n",
       "      <td>0.035603</td>\n",
       "      <td>0.037338</td>\n",
       "      <td>0.037545</td>\n",
       "    </tr>\n",
       "  </tbody>\n",
       "</table>\n",
       "<p>5 rows × 278 columns</p>\n",
       "</div>"
      ],
      "text/plain": [
       "        Model              Scenario Region         Variable         Unit  \\\n",
       "0  Historical  GCP+CEDS+PRIMAP+GFED  World     Emissions|BC     Mt BC/yr   \n",
       "1  Historical  GCP+CEDS+PRIMAP+GFED  World   Emissions|C2F6   kt C2F6/yr   \n",
       "2  Historical  GCP+CEDS+PRIMAP+GFED  World   Emissions|C3F8   kt C3F8/yr   \n",
       "3  Historical  GCP+CEDS+PRIMAP+GFED  World  Emissions|C4F10  kt C4F10/yr   \n",
       "4  Historical  GCP+CEDS+PRIMAP+GFED  World  Emissions|C5F12  kt C5F12/yr   \n",
       "\n",
       "       1750      1751      1752      1753      1754  ...      2013      2014  \\\n",
       "0  2.096766  2.071972  2.067178  2.070382  2.098586  ...  7.842259  7.934828   \n",
       "1  0.000000  0.000000  0.000000  0.000000  0.000000  ...  1.003458  1.035565   \n",
       "2  0.000000  0.000000  0.000000  0.000000  0.000000  ...  0.314138  0.323186   \n",
       "3  0.000000  0.000000  0.000000  0.000000  0.000000  ...  0.070672  0.070641   \n",
       "4  0.000000  0.000000  0.000000  0.000000  0.000000  ...  0.035588  0.031141   \n",
       "\n",
       "       2015      2016      2017      2018      2019      2020      2021  \\\n",
       "0  7.926371  7.568060  7.562319  7.459095  7.781842  6.525021  6.871947   \n",
       "1  0.933936  0.979945  0.996980  0.996764  1.062577  1.106550  1.160588   \n",
       "2  0.304124  0.319107  0.324656  0.324586  0.346019  0.360340  0.377938   \n",
       "3  0.067024  0.070327  0.071550  0.071536  0.076260  0.079417  0.083292   \n",
       "4  0.030030  0.031513  0.032065  0.032062  0.034184  0.035603  0.037338   \n",
       "\n",
       "       2022  \n",
       "0  6.701702  \n",
       "1  1.167145  \n",
       "2  0.380074  \n",
       "3  0.083759  \n",
       "4  0.037545  \n",
       "\n",
       "[5 rows x 278 columns]"
      ]
     },
     "execution_count": 134,
     "metadata": {},
     "output_type": "execute_result"
    }
   ],
   "source": [
    "hist_emis = pd.read_csv('~/outputs/hist_emis_ALL.csv')\n",
    "\n",
    "hist_emis.head()"
   ]
  },
  {
   "cell_type": "markdown",
   "id": "5051e797-cbcf-4e69-bdb7-0cc64a0cace2",
   "metadata": {
    "tags": []
   },
   "source": [
    "## Import & clean future emissions datasets\n",
    "MESSAGE and GCAM outputs from NGFS"
   ]
  },
  {
   "cell_type": "code",
   "execution_count": 118,
   "id": "01be085c-f249-4554-9e9a-6d9e6ce40f1d",
   "metadata": {},
   "outputs": [],
   "source": [
    "def NGFS_clean(df):\n",
    "    \n",
    "    # remove final row- does not contain emission data\n",
    "    df = df.drop(index=df.index[-1])\n",
    "    \n",
    "    # rename to match FaIR spceies\n",
    "    df.loc[df.Variable == 'Emissions|CO2|AFOLU', 'Variable'] = 'Emissions|CO2 AFOLU'\n",
    "    df.loc[df.Variable == 'Emissions|CO2|Energy and Industrial Processes', 'Variable'] = 'Emissions|CO2 FFI'\n",
    "    df.loc[df.Variable == 'Emissions|HFC|HFC125', 'Variable'] = 'Emissions|HFC-125'\n",
    "    df.loc[df.Variable == 'Emissions|HFC|HFC134a', 'Variable'] = 'Emissions|HFC-134a'\n",
    "    df.loc[df.Variable == 'Emissions|HFC|HFC227ea', 'Variable'] = 'Emissions|HFC-227ea'\n",
    "    df.loc[df.Variable == 'Emissions|HFC|HFC143a', 'Variable'] = 'Emissions|HFC-143a'\n",
    "    df.loc[df.Variable == 'Emissions|HFC|HFC23', 'Variable'] = 'Emissions|HFC-23'\n",
    "    df.loc[df.Variable == 'Emissions|HFC|HFC245fa', 'Variable'] = 'Emissions|HFC-245fa'\n",
    "    df.loc[df.Variable == 'Emissions|HFC|HFC32', 'Variable'] = 'Emissions|HFC-32'\n",
    "    \n",
    "    # get rid of species not included in hist dataset (F-Gases, HFC, PFC)\n",
    "    df = df[~df['Variable'].isin(['Emissions|F-Gases', 'Emissions|HFC', 'Emissions|PFC', 'Emissions|CO2'])]\n",
    "    \n",
    "    # remove '(version: 1)' from scenario names\n",
    "    for i in range(len(df.Scenario.values)): \n",
    "        df.Scenario.values[i] = df.Scenario.values[i][:-13]\n",
    "\n",
    "    # rename scenarios for clarity\n",
    "    df.loc[df.Scenario == 'Below 2?C', 'Scenario'] = 'Below 2 C'\n",
    "    df.loc[df.Scenario == 'Nationally Determined Contributions (NDCs)', 'Scenario'] = 'NDCs'\n",
    "    \n",
    "    return df"
   ]
  },
  {
   "cell_type": "code",
   "execution_count": 119,
   "id": "e5095fb5-e38f-4617-9cea-86aa54476f48",
   "metadata": {},
   "outputs": [],
   "source": [
    "# read in df\n",
    "MSG_proj_emis = pd.read_csv('~/inputs/NGFS_MESSAGE.csv')\n",
    "\n",
    "# clean data\n",
    "MSG_proj_emis = NGFS_clean(MSG_proj_emis)\n",
    "    \n",
    "# rename to match FaIR spceies\n",
    "MSG_proj_emis.loc[MSG_proj_emis.Variable == 'Emissions|HFC|HFC43-10', 'Variable'] = 'Emissions|HFC-4310mee'"
   ]
  },
  {
   "cell_type": "code",
   "execution_count": 120,
   "id": "5029a687-e821-4e23-9fa9-d7b88dab07a7",
   "metadata": {},
   "outputs": [],
   "source": [
    "# read in df\n",
    "GCAM_proj_emis = pd.read_csv('~/inputs/NGFS_GCAM.csv')\n",
    "\n",
    "# clean df\n",
    "GCAM_proj_emis = NGFS_clean(GCAM_proj_emis)"
   ]
  },
  {
   "cell_type": "markdown",
   "id": "85b15d85-9423-40b4-8cdc-ff018f56ec50",
   "metadata": {},
   "source": [
    "Ensure that variable names in projected dataset are consistent with those of future dataset. Also identify missing species from projected dataset."
   ]
  },
  {
   "cell_type": "code",
   "execution_count": 121,
   "id": "7d6ea4b5-bdf7-4575-9863-75aca5e80fb1",
   "metadata": {},
   "outputs": [
    {
     "name": "stdout",
     "output_type": "stream",
     "text": [
      "species in hist but not proj:\n",
      "\n",
      "GCAM\n",
      "['Emissions|C3F8' 'Emissions|C4F10' 'Emissions|C5F12' 'Emissions|C6F14'\n",
      " 'Emissions|C7F16' 'Emissions|C8F18' 'Emissions|CCl4' 'Emissions|CFC-11'\n",
      " 'Emissions|CFC-113' 'Emissions|CFC-114' 'Emissions|CFC-115'\n",
      " 'Emissions|CFC-12' 'Emissions|CH2Cl2' 'Emissions|CH3Br'\n",
      " 'Emissions|CH3CCl3' 'Emissions|CH3Cl' 'Emissions|CHCl3'\n",
      " 'Emissions|HCFC-141b' 'Emissions|HCFC-142b' 'Emissions|HCFC-22'\n",
      " 'Emissions|HFC-152a' 'Emissions|HFC-236fa' 'Emissions|HFC-365mfc'\n",
      " 'Emissions|HFC-4310mee' 'Emissions|Halon-1211' 'Emissions|Halon-1301'\n",
      " 'Emissions|Halon-2402' 'Emissions|NF3' 'Emissions|SO2F2'\n",
      " 'Emissions|c-C4F8']\n",
      "\n",
      "MESSAGE\n",
      "['Emissions|C2F6' 'Emissions|C3F8' 'Emissions|C4F10' 'Emissions|C5F12'\n",
      " 'Emissions|C6F14' 'Emissions|C7F16' 'Emissions|C8F18' 'Emissions|CCl4'\n",
      " 'Emissions|CF4' 'Emissions|CFC-11' 'Emissions|CFC-113'\n",
      " 'Emissions|CFC-114' 'Emissions|CFC-115' 'Emissions|CFC-12'\n",
      " 'Emissions|CH2Cl2' 'Emissions|CH3Br' 'Emissions|CH3CCl3'\n",
      " 'Emissions|CH3Cl' 'Emissions|CHCl3' 'Emissions|HCFC-141b'\n",
      " 'Emissions|HCFC-142b' 'Emissions|HCFC-22' 'Emissions|HFC-152a'\n",
      " 'Emissions|HFC-236fa' 'Emissions|HFC-365mfc' 'Emissions|Halon-1211'\n",
      " 'Emissions|Halon-1301' 'Emissions|Halon-2402' 'Emissions|NF3'\n",
      " 'Emissions|SO2F2' 'Emissions|c-C4F8']\n",
      "\n",
      "species in proj but not hist:\n",
      "\n",
      "GCAM\n",
      "[]\n",
      "\n",
      "MESSAGE\n",
      "[]\n"
     ]
    }
   ],
   "source": [
    "a = hist_emis['variable'].unique()\n",
    "b = GCAM_proj_emis['Variable'].unique()\n",
    "c = MSG_proj_emis['Variable'].unique()\n",
    "\n",
    "print('species in hist but not proj:')\n",
    "print('\\nGCAM')\n",
    "print(np.setdiff1d(a, b))\n",
    "print('\\nMESSAGE')\n",
    "print(np.setdiff1d(a, c))\n",
    "\n",
    "print('\\nspecies in proj but not hist:')\n",
    "print('\\nGCAM')\n",
    "print(np.setdiff1d(b, a))\n",
    "print('\\nMESSAGE')\n",
    "print(np.setdiff1d(c, a))"
   ]
  },
  {
   "cell_type": "markdown",
   "id": "5bb0d1e4-8c88-4afa-af58-0f144e666cdf",
   "metadata": {
    "tags": []
   },
   "source": [
    "### Fix Units"
   ]
  },
  {
   "cell_type": "code",
   "execution_count": 133,
   "id": "7e486ef5-2957-4b62-ab2c-5640f2af62a2",
   "metadata": {},
   "outputs": [
    {
     "name": "stdout",
     "output_type": "stream",
     "text": [
      "\n",
      "units in proj but not hist:\n",
      "\n",
      "GCAM\n",
      "['Mt CO2/yr' 'kt N2O/yr']\n",
      "\n",
      "MESSAGE\n",
      "\n",
      "['Mt CO2/yr' 'kt HFC43-10/yr' 'kt N2O/yr']\n"
     ]
    }
   ],
   "source": [
    "a = hist_emis['unit'].unique()\n",
    "b = GCAM_proj_emis['Unit'].unique()\n",
    "c = MSG_proj_emis['Unit'].unique()\n",
    "\n",
    "print('\\nunits in proj but not hist:')\n",
    "print('\\nGCAM')\n",
    "print(np.setdiff1d(b, a))\n",
    "print('\\nMESSAGE\\n')\n",
    "print(np.setdiff1d(c, a))"
   ]
  },
  {
   "cell_type": "markdown",
   "id": "81fea0ef-77f5-43d0-8e02-7ef07b813772",
   "metadata": {},
   "source": [
    "Need to fix units for the following variables: \n",
    "- GCAM & MSG: 'CO2|FFI', 'CO2|AFOLU', 'N2O' \n",
    "- just MSG: 'HFC43-10'"
   ]
  },
  {
   "cell_type": "code",
   "execution_count": 129,
   "id": "0b3465db-5de9-4a8c-8ea3-9b1a5e3aa398",
   "metadata": {},
   "outputs": [],
   "source": [
    "\n",
    "# need to change N2O from kt to Mt!\n",
    "# numeric_columns = GCAM_proj_emis.columns[5:] \n",
    "# c1 = GCAM_proj_emis['Variable'] == 'Emissions|N2O'\n",
    "# GCAM_proj_emis.loc[c1, numeric_columns] = GCAM_proj_emis.loc[c1, numeric_columns] / 1000\n",
    "\n",
    "# GCAM_proj_emis.loc[hist_emis.variable == 'Emissions|N2O'][2:] = hist_emis.loc[hist_emis.variable == 'Emissions|N2O'][2:] / 1000\n",
    "# GCAM_proj_emis.iloc[41, 0] = 'Emissions|N2O'\n",
    "# GCAM_proj_emis.iloc[41, 1] = 'kt N2O/yr'"
   ]
  },
  {
   "cell_type": "markdown",
   "id": "30f6a7b6-ba0f-4465-ab25-c2e0ed701e68",
   "metadata": {},
   "source": [
    "## Save cleaned dfs"
   ]
  },
  {
   "cell_type": "code",
   "execution_count": null,
   "id": "897d2566-76d6-481c-9ed7-c4f33d2edefa",
   "metadata": {},
   "outputs": [],
   "source": [
    "MSG_proj_emis.to_csv('~/outputs/NGFS_MSG_cleaned.csv', index=False)\n",
    "GCAM_proj_emis.to_csv('~/outputs/NGFS_GCAM_cleaned.csv', index=False)"
   ]
  },
  {
   "cell_type": "markdown",
   "id": "ed9e594d-cc6f-4429-b3c0-68577cf88579",
   "metadata": {
    "tags": []
   },
   "source": [
    "## Interpolate projections\n",
    "- create a new df with annual timesteps as column names\n",
    "- for each row in the old df\n",
    "    - interpolate values\n",
    "    - add new values to the new df"
   ]
  },
  {
   "cell_type": "code",
   "execution_count": 123,
   "id": "cec44ad9-9db7-4f65-8cf3-29e6358dbfb5",
   "metadata": {},
   "outputs": [],
   "source": [
    "yrs = np.arange(2020, 2101, 5)\n",
    "all_yrs = np.arange(2020, 2101)"
   ]
  },
  {
   "cell_type": "code",
   "execution_count": 124,
   "id": "b332435a-d602-4c2a-a136-fc338feebb5d",
   "metadata": {},
   "outputs": [],
   "source": [
    "def NGFS_interp(old_df, new_df, yrs, all_yrs):\n",
    "    mdl = old_df.Model[0]\n",
    "    reg = old_df.Region[0]\n",
    "    \n",
    "    \n",
    "    # interpolate and add all values in timeseries\n",
    "    for scen in old_df.Scenario.unique():\n",
    "        for var in old_df.Variable.unique():\n",
    "            proj = old_df.loc[old_df.Variable == var].loc[old_df.Scenario == scen]\n",
    "            proj = proj.values[0][5:].astype(float)\n",
    "            proj_interp = np.interp(all_yrs, yrs, proj)\n",
    "\n",
    "            # create a list of the values we want to add to our new_df\n",
    "            unit = old_df.loc[old_df.Variable == var].loc[old_df.Scenario == scen]['Unit'].values[0]\n",
    "            lst = [mdl, scen, reg, var, unit] \n",
    "            for val in proj_interp.tolist():\n",
    "                lst.append(val)\n",
    "\n",
    "            # add to new_df\n",
    "            new_df.loc[len(new_df)] = lst"
   ]
  },
  {
   "cell_type": "markdown",
   "id": "410fe487-858b-41f9-9164-23f869b90ba1",
   "metadata": {},
   "source": [
    "### GCAM"
   ]
  },
  {
   "cell_type": "code",
   "execution_count": 125,
   "id": "17f40a6f-471b-4dff-b085-9536ab19c41d",
   "metadata": {},
   "outputs": [],
   "source": [
    "old_df = pd.read_csv('~/outputs/NGFS_GCAM_cleaned.csv')\n",
    "\n",
    "new_df = pd.DataFrame()\n",
    "new_df[['Model', 'Scenario', 'Region', 'Variable', 'Unit']] = np.nan\n",
    "new_df[all_yrs] = np.nan\n",
    "\n",
    "mdl = old_df.Model[0]\n",
    "reg = old_df.Region[0]"
   ]
  },
  {
   "cell_type": "code",
   "execution_count": 126,
   "id": "651b275e-53fa-4aeb-a13f-9a042661c61b",
   "metadata": {},
   "outputs": [],
   "source": [
    "# interpolate and add all values in timeseries\n",
    "for scen in old_df.Scenario.unique():\n",
    "    for var in old_df.Variable.unique():\n",
    "        proj = old_df.loc[old_df.Variable == var].loc[old_df.Scenario == scen]\n",
    "        proj = proj.values[0][5:].astype(float)\n",
    "        proj_interp = np.interp(all_yrs, yrs, proj)\n",
    "        \n",
    "        # create a list of the values we want to add to our new_df\n",
    "        unit = old_df.loc[old_df.Variable == var].loc[old_df.Scenario == scen]['Unit'].values[0]\n",
    "        lst = [mdl, scen, reg, var, unit] \n",
    "        for val in proj_interp.tolist():\n",
    "            lst.append(val)\n",
    "            \n",
    "        # add to new_df\n",
    "        new_df.loc[len(new_df)] = lst\n",
    "\n",
    "# save as csv!\n",
    "new_df.to_csv('~/outputs/NGFS_GCAM_interp.csv', index=False)"
   ]
  },
  {
   "cell_type": "markdown",
   "id": "70d40e01-5f3b-41ef-8150-a1334f2d5804",
   "metadata": {},
   "source": [
    "### MESSAGE"
   ]
  },
  {
   "cell_type": "code",
   "execution_count": 127,
   "id": "9a3b2e06-15f5-4f04-a16e-7cadf5dd288e",
   "metadata": {},
   "outputs": [],
   "source": [
    "yrs2 = [2020, 2025, 2030, 2035, 2040,\n",
    "       2045, 2050, 2055, 2060, 2070, 2080, 2090, 2100] \n",
    "\n",
    "old_df2 = pd.read_csv('~/outputs/NGFS_MSG_cleaned.csv')\n",
    "\n",
    "new_df2 = pd.DataFrame()\n",
    "new_df2[['Model', 'Scenario', 'Region', 'Variable', 'Unit']] = np.nan\n",
    "new_df2[all_yrs] = np.nan\n",
    "\n",
    "mdl = old_df2.Model[0]"
   ]
  },
  {
   "cell_type": "code",
   "execution_count": 128,
   "id": "71202d00-29c0-4128-af85-892c80f76235",
   "metadata": {},
   "outputs": [],
   "source": [
    "# interpolate and add all values in timeseries\n",
    "for scen in old_df2.Scenario.unique():\n",
    "    for var in old_df2.Variable.unique():\n",
    "        proj = old_df2.loc[old_df2.Variable == var].loc[old_df2.Scenario == scen]\n",
    "        proj = proj.values[0][5:].astype(float)\n",
    "        proj_interp = np.interp(all_yrs, yrs2, proj)\n",
    "        \n",
    "        # create a list of the values we want to add to our new_df\n",
    "        unit = old_df2.loc[old_df2.Variable == var].loc[old_df2.Scenario == scen]['Unit'].values[0]\n",
    "        lst = [mdl, scen, reg, var, unit] \n",
    "        for val in proj_interp.tolist():\n",
    "            lst.append(val)\n",
    "            \n",
    "        # add to new_df\n",
    "        new_df2.loc[len(new_df2)] = lst\n",
    "\n",
    "# save as csv!\n",
    "new_df2.to_csv('~/outputs/NGFS_MSG_interp.csv', index=False)"
   ]
  }
 ],
 "metadata": {
  "kernelspec": {
   "display_name": "Python 3 (ipykernel)",
   "language": "python",
   "name": "python3"
  },
  "language_info": {
   "codemirror_mode": {
    "name": "ipython",
    "version": 3
   },
   "file_extension": ".py",
   "mimetype": "text/x-python",
   "name": "python",
   "nbconvert_exporter": "python",
   "pygments_lexer": "ipython3",
   "version": "3.10.6"
  }
 },
 "nbformat": 4,
 "nbformat_minor": 5
}
