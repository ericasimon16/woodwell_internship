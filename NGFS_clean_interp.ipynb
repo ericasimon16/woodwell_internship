{
 "cells": [
  {
   "cell_type": "markdown",
   "id": "8b7bc22f-0917-4aca-b512-a0a4ba938b3e",
   "metadata": {
    "tags": []
   },
   "source": [
    "# NGFS Clean & Interp\n",
    "\n",
    "### 01/29/24, Erica Simon\n",
    "## Purpose: prepare IAM projections of future emissions under different policy scenarios\n",
    "- Appropriate for harmonization\n",
    "- Interpolated to annual intervals\n",
    "- Containing all necessary forcing agents required by FaIR\n",
    "\n",
    "\n",
    "Data Credit: \n",
    "- Richters, O. *et al.* (2023). *NGFS Climate Scenarios Data Set* (4.1). Zenodo. https://doi.org/10.5281/ZENODO.10079020\n",
    "\n",
    "\n",
    "\n"
   ]
  },
  {
   "cell_type": "code",
   "execution_count": 1,
   "id": "ed9cd4c4-bef4-4f8e-ad75-e68984ac3769",
   "metadata": {},
   "outputs": [],
   "source": [
    "import numpy as np\n",
    "import pandas as pd"
   ]
  },
  {
   "cell_type": "markdown",
   "id": "4602e759-4e68-4006-b341-9830b5cc0cdc",
   "metadata": {
    "tags": []
   },
   "source": [
    "## Import historical emissions dataset "
   ]
  },
  {
   "cell_type": "code",
   "execution_count": 2,
   "id": "710b6629-f889-4df1-840f-10a72e19af34",
   "metadata": {},
   "outputs": [
    {
     "data": {
      "text/html": [
       "<div>\n",
       "<style scoped>\n",
       "    .dataframe tbody tr th:only-of-type {\n",
       "        vertical-align: middle;\n",
       "    }\n",
       "\n",
       "    .dataframe tbody tr th {\n",
       "        vertical-align: top;\n",
       "    }\n",
       "\n",
       "    .dataframe thead th {\n",
       "        text-align: right;\n",
       "    }\n",
       "</style>\n",
       "<table border=\"1\" class=\"dataframe\">\n",
       "  <thead>\n",
       "    <tr style=\"text-align: right;\">\n",
       "      <th></th>\n",
       "      <th>Model</th>\n",
       "      <th>Scenario</th>\n",
       "      <th>Region</th>\n",
       "      <th>Variable</th>\n",
       "      <th>Unit</th>\n",
       "      <th>1750</th>\n",
       "      <th>1751</th>\n",
       "      <th>1752</th>\n",
       "      <th>1753</th>\n",
       "      <th>1754</th>\n",
       "      <th>...</th>\n",
       "      <th>2013</th>\n",
       "      <th>2014</th>\n",
       "      <th>2015</th>\n",
       "      <th>2016</th>\n",
       "      <th>2017</th>\n",
       "      <th>2018</th>\n",
       "      <th>2019</th>\n",
       "      <th>2020</th>\n",
       "      <th>2021</th>\n",
       "      <th>2022</th>\n",
       "    </tr>\n",
       "  </thead>\n",
       "  <tbody>\n",
       "    <tr>\n",
       "      <th>0</th>\n",
       "      <td>Historical</td>\n",
       "      <td>GCP+CEDS+PRIMAP+GFED</td>\n",
       "      <td>World</td>\n",
       "      <td>Emissions|BC</td>\n",
       "      <td>Mt BC/yr</td>\n",
       "      <td>2.096766</td>\n",
       "      <td>2.071972</td>\n",
       "      <td>2.067178</td>\n",
       "      <td>2.070382</td>\n",
       "      <td>2.098586</td>\n",
       "      <td>...</td>\n",
       "      <td>7.842259</td>\n",
       "      <td>7.934828</td>\n",
       "      <td>7.926371</td>\n",
       "      <td>7.568060</td>\n",
       "      <td>7.562319</td>\n",
       "      <td>7.459095</td>\n",
       "      <td>7.781842</td>\n",
       "      <td>6.525021</td>\n",
       "      <td>6.871947</td>\n",
       "      <td>6.701702</td>\n",
       "    </tr>\n",
       "    <tr>\n",
       "      <th>1</th>\n",
       "      <td>Historical</td>\n",
       "      <td>GCP+CEDS+PRIMAP+GFED</td>\n",
       "      <td>World</td>\n",
       "      <td>Emissions|C2F6</td>\n",
       "      <td>kt C2F6/yr</td>\n",
       "      <td>0.000000</td>\n",
       "      <td>0.000000</td>\n",
       "      <td>0.000000</td>\n",
       "      <td>0.000000</td>\n",
       "      <td>0.000000</td>\n",
       "      <td>...</td>\n",
       "      <td>1.003458</td>\n",
       "      <td>1.035565</td>\n",
       "      <td>0.933936</td>\n",
       "      <td>0.979945</td>\n",
       "      <td>0.996980</td>\n",
       "      <td>0.996764</td>\n",
       "      <td>1.062577</td>\n",
       "      <td>1.106550</td>\n",
       "      <td>1.160588</td>\n",
       "      <td>1.167145</td>\n",
       "    </tr>\n",
       "    <tr>\n",
       "      <th>2</th>\n",
       "      <td>Historical</td>\n",
       "      <td>GCP+CEDS+PRIMAP+GFED</td>\n",
       "      <td>World</td>\n",
       "      <td>Emissions|C3F8</td>\n",
       "      <td>kt C3F8/yr</td>\n",
       "      <td>0.000000</td>\n",
       "      <td>0.000000</td>\n",
       "      <td>0.000000</td>\n",
       "      <td>0.000000</td>\n",
       "      <td>0.000000</td>\n",
       "      <td>...</td>\n",
       "      <td>0.314138</td>\n",
       "      <td>0.323186</td>\n",
       "      <td>0.304124</td>\n",
       "      <td>0.319107</td>\n",
       "      <td>0.324656</td>\n",
       "      <td>0.324586</td>\n",
       "      <td>0.346019</td>\n",
       "      <td>0.360340</td>\n",
       "      <td>0.377938</td>\n",
       "      <td>0.380074</td>\n",
       "    </tr>\n",
       "    <tr>\n",
       "      <th>3</th>\n",
       "      <td>Historical</td>\n",
       "      <td>GCP+CEDS+PRIMAP+GFED</td>\n",
       "      <td>World</td>\n",
       "      <td>Emissions|C4F10</td>\n",
       "      <td>kt C4F10/yr</td>\n",
       "      <td>0.000000</td>\n",
       "      <td>0.000000</td>\n",
       "      <td>0.000000</td>\n",
       "      <td>0.000000</td>\n",
       "      <td>0.000000</td>\n",
       "      <td>...</td>\n",
       "      <td>0.070672</td>\n",
       "      <td>0.070641</td>\n",
       "      <td>0.067024</td>\n",
       "      <td>0.070327</td>\n",
       "      <td>0.071550</td>\n",
       "      <td>0.071536</td>\n",
       "      <td>0.076260</td>\n",
       "      <td>0.079417</td>\n",
       "      <td>0.083292</td>\n",
       "      <td>0.083759</td>\n",
       "    </tr>\n",
       "    <tr>\n",
       "      <th>4</th>\n",
       "      <td>Historical</td>\n",
       "      <td>GCP+CEDS+PRIMAP+GFED</td>\n",
       "      <td>World</td>\n",
       "      <td>Emissions|C5F12</td>\n",
       "      <td>kt C5F12/yr</td>\n",
       "      <td>0.000000</td>\n",
       "      <td>0.000000</td>\n",
       "      <td>0.000000</td>\n",
       "      <td>0.000000</td>\n",
       "      <td>0.000000</td>\n",
       "      <td>...</td>\n",
       "      <td>0.035588</td>\n",
       "      <td>0.031141</td>\n",
       "      <td>0.030030</td>\n",
       "      <td>0.031513</td>\n",
       "      <td>0.032065</td>\n",
       "      <td>0.032062</td>\n",
       "      <td>0.034184</td>\n",
       "      <td>0.035603</td>\n",
       "      <td>0.037338</td>\n",
       "      <td>0.037545</td>\n",
       "    </tr>\n",
       "  </tbody>\n",
       "</table>\n",
       "<p>5 rows × 278 columns</p>\n",
       "</div>"
      ],
      "text/plain": [
       "        Model              Scenario Region         Variable         Unit  \\\n",
       "0  Historical  GCP+CEDS+PRIMAP+GFED  World     Emissions|BC     Mt BC/yr   \n",
       "1  Historical  GCP+CEDS+PRIMAP+GFED  World   Emissions|C2F6   kt C2F6/yr   \n",
       "2  Historical  GCP+CEDS+PRIMAP+GFED  World   Emissions|C3F8   kt C3F8/yr   \n",
       "3  Historical  GCP+CEDS+PRIMAP+GFED  World  Emissions|C4F10  kt C4F10/yr   \n",
       "4  Historical  GCP+CEDS+PRIMAP+GFED  World  Emissions|C5F12  kt C5F12/yr   \n",
       "\n",
       "       1750      1751      1752      1753      1754  ...      2013      2014  \\\n",
       "0  2.096766  2.071972  2.067178  2.070382  2.098586  ...  7.842259  7.934828   \n",
       "1  0.000000  0.000000  0.000000  0.000000  0.000000  ...  1.003458  1.035565   \n",
       "2  0.000000  0.000000  0.000000  0.000000  0.000000  ...  0.314138  0.323186   \n",
       "3  0.000000  0.000000  0.000000  0.000000  0.000000  ...  0.070672  0.070641   \n",
       "4  0.000000  0.000000  0.000000  0.000000  0.000000  ...  0.035588  0.031141   \n",
       "\n",
       "       2015      2016      2017      2018      2019      2020      2021  \\\n",
       "0  7.926371  7.568060  7.562319  7.459095  7.781842  6.525021  6.871947   \n",
       "1  0.933936  0.979945  0.996980  0.996764  1.062577  1.106550  1.160588   \n",
       "2  0.304124  0.319107  0.324656  0.324586  0.346019  0.360340  0.377938   \n",
       "3  0.067024  0.070327  0.071550  0.071536  0.076260  0.079417  0.083292   \n",
       "4  0.030030  0.031513  0.032065  0.032062  0.034184  0.035603  0.037338   \n",
       "\n",
       "       2022  \n",
       "0  6.701702  \n",
       "1  1.167145  \n",
       "2  0.380074  \n",
       "3  0.083759  \n",
       "4  0.037545  \n",
       "\n",
       "[5 rows x 278 columns]"
      ]
     },
     "execution_count": 2,
     "metadata": {},
     "output_type": "execute_result"
    }
   ],
   "source": [
    "hist_emis = pd.read_csv('~/outputs/hist_emis_ALL.csv')\n",
    "hist_emis.head()"
   ]
  },
  {
   "cell_type": "markdown",
   "id": "5051e797-cbcf-4e69-bdb7-0cc64a0cace2",
   "metadata": {
    "tags": []
   },
   "source": [
    "## Import & clean future emissions datasets\n",
    "MESSAGE and GCAM outputs from NGFS"
   ]
  },
  {
   "cell_type": "code",
   "execution_count": 3,
   "id": "01be085c-f249-4554-9e9a-6d9e6ce40f1d",
   "metadata": {},
   "outputs": [],
   "source": [
    "def NGFS_clean(df):\n",
    "    \n",
    "    # remove final row- does not contain emission data\n",
    "    df = df.drop(index=df.index[-1])\n",
    "    \n",
    "    # rename to match FaIR spceies\n",
    "    df.loc[df.Variable == 'Emissions|CO2|AFOLU', 'Variable'] = 'Emissions|CO2 AFOLU'\n",
    "    df.loc[df.Variable == 'Emissions|CO2|Energy and Industrial Processes', 'Variable'] = 'Emissions|CO2 FFI'\n",
    "    df.loc[df.Variable == 'Emissions|HFC|HFC125', 'Variable'] = 'Emissions|HFC-125'\n",
    "    df.loc[df.Variable == 'Emissions|HFC|HFC134a', 'Variable'] = 'Emissions|HFC-134a'\n",
    "    df.loc[df.Variable == 'Emissions|HFC|HFC227ea', 'Variable'] = 'Emissions|HFC-227ea'\n",
    "    df.loc[df.Variable == 'Emissions|HFC|HFC143a', 'Variable'] = 'Emissions|HFC-143a'\n",
    "    df.loc[df.Variable == 'Emissions|HFC|HFC23', 'Variable'] = 'Emissions|HFC-23'\n",
    "    df.loc[df.Variable == 'Emissions|HFC|HFC245fa', 'Variable'] = 'Emissions|HFC-245fa'\n",
    "    df.loc[df.Variable == 'Emissions|HFC|HFC32', 'Variable'] = 'Emissions|HFC-32'\n",
    "    \n",
    "    # get rid of species not included in hist dataset (F-Gases, HFC, PFC)\n",
    "    df = df[~df['Variable'].isin(['Emissions|F-Gases', 'Emissions|HFC', 'Emissions|PFC', 'Emissions|CO2'])]\n",
    "    \n",
    "    # remove '(version: 1)' from scenario names\n",
    "    for i in range(len(df.Scenario.values)): \n",
    "        df.Scenario.values[i] = df.Scenario.values[i][:-13]\n",
    "\n",
    "    # rename scenarios for clarity\n",
    "    df.loc[df.Scenario == 'Below 2?C', 'Scenario'] = 'Below 2 C'\n",
    "    df.loc[df.Scenario == 'Nationally Determined Contributions (NDCs)', 'Scenario'] = 'NDCs'\n",
    "    \n",
    "    return df"
   ]
  },
  {
   "cell_type": "code",
   "execution_count": 4,
   "id": "e5095fb5-e38f-4617-9cea-86aa54476f48",
   "metadata": {},
   "outputs": [],
   "source": [
    "# read in df\n",
    "MSG_proj_emis = pd.read_csv('~/inputs/NGFS_MESSAGE.csv')\n",
    "GCAM_proj_emis = pd.read_csv('~/inputs/NGFS_GCAM.csv')\n",
    "REM_proj_emis = pd.read_csv('~/inputs/NGFS_REMIND.csv')\n",
    "\n",
    "# clean data\n",
    "MSG_proj_emis = NGFS_clean(MSG_proj_emis)\n",
    "GCAM_proj_emis = NGFS_clean(GCAM_proj_emis)\n",
    "REM_proj_emis = NGFS_clean(REM_proj_emis)\n",
    "    \n",
    "# rename to match FaIR spceies\n",
    "MSG_proj_emis.loc[MSG_proj_emis.Variable == 'Emissions|HFC|HFC43-10', 'Variable'] = 'Emissions|HFC-4310mee'\n",
    "MSG_proj_emis.loc[MSG_proj_emis.Variable == 'Emissions|HFC-4310mee', 'Unit'] = 'kt HFC4310mee/yr'"
   ]
  },
  {
   "cell_type": "markdown",
   "id": "45976c31-385a-45b8-a5f8-f638e86e7f04",
   "metadata": {},
   "source": [
    "## Include missing species"
   ]
  },
  {
   "cell_type": "markdown",
   "id": "85b15d85-9423-40b4-8cdc-ff018f56ec50",
   "metadata": {},
   "source": [
    "Ensure that variable names in projected dataset are consistent with those of future dataset. Also identify missing species from projected dataset."
   ]
  },
  {
   "cell_type": "code",
   "execution_count": 5,
   "id": "7d6ea4b5-bdf7-4575-9863-75aca5e80fb1",
   "metadata": {},
   "outputs": [
    {
     "name": "stdout",
     "output_type": "stream",
     "text": [
      "missing species:\n",
      "\n",
      "GCAM\n",
      "['Emissions|C3F8' 'Emissions|C4F10' 'Emissions|C5F12' 'Emissions|C6F14'\n",
      " 'Emissions|C7F16' 'Emissions|C8F18' 'Emissions|CCl4' 'Emissions|CFC-11'\n",
      " 'Emissions|CFC-113' 'Emissions|CFC-114' 'Emissions|CFC-115'\n",
      " 'Emissions|CFC-12' 'Emissions|CH2Cl2' 'Emissions|CH3Br'\n",
      " 'Emissions|CH3CCl3' 'Emissions|CH3Cl' 'Emissions|CHCl3'\n",
      " 'Emissions|HCFC-141b' 'Emissions|HCFC-142b' 'Emissions|HCFC-22'\n",
      " 'Emissions|HFC-152a' 'Emissions|HFC-236fa' 'Emissions|HFC-365mfc'\n",
      " 'Emissions|HFC-4310mee' 'Emissions|Halon-1211' 'Emissions|Halon-1301'\n",
      " 'Emissions|Halon-2402' 'Emissions|NF3' 'Emissions|SO2F2'\n",
      " 'Emissions|c-C4F8']\n",
      "\n",
      "MESSAGE\n",
      "['Emissions|C2F6' 'Emissions|C3F8' 'Emissions|C4F10' 'Emissions|C5F12'\n",
      " 'Emissions|C6F14' 'Emissions|C7F16' 'Emissions|C8F18' 'Emissions|CCl4'\n",
      " 'Emissions|CF4' 'Emissions|CFC-11' 'Emissions|CFC-113'\n",
      " 'Emissions|CFC-114' 'Emissions|CFC-115' 'Emissions|CFC-12'\n",
      " 'Emissions|CH2Cl2' 'Emissions|CH3Br' 'Emissions|CH3CCl3'\n",
      " 'Emissions|CH3Cl' 'Emissions|CHCl3' 'Emissions|HCFC-141b'\n",
      " 'Emissions|HCFC-142b' 'Emissions|HCFC-22' 'Emissions|HFC-152a'\n",
      " 'Emissions|HFC-236fa' 'Emissions|HFC-365mfc' 'Emissions|Halon-1211'\n",
      " 'Emissions|Halon-1301' 'Emissions|Halon-2402' 'Emissions|NF3'\n",
      " 'Emissions|SO2F2' 'Emissions|c-C4F8']\n",
      "\n",
      "REMIND\n",
      "['Emissions|C3F8' 'Emissions|C4F10' 'Emissions|C5F12' 'Emissions|C7F16'\n",
      " 'Emissions|C8F18' 'Emissions|CCl4' 'Emissions|CFC-11' 'Emissions|CFC-113'\n",
      " 'Emissions|CFC-114' 'Emissions|CFC-115' 'Emissions|CFC-12'\n",
      " 'Emissions|CH2Cl2' 'Emissions|CH3Br' 'Emissions|CH3CCl3'\n",
      " 'Emissions|CH3Cl' 'Emissions|CHCl3' 'Emissions|HCFC-141b'\n",
      " 'Emissions|HCFC-142b' 'Emissions|HCFC-22' 'Emissions|HFC-125'\n",
      " 'Emissions|HFC-134a' 'Emissions|HFC-143a' 'Emissions|HFC-152a'\n",
      " 'Emissions|HFC-227ea' 'Emissions|HFC-23' 'Emissions|HFC-236fa'\n",
      " 'Emissions|HFC-245fa' 'Emissions|HFC-32' 'Emissions|HFC-365mfc'\n",
      " 'Emissions|HFC-4310mee' 'Emissions|Halon-1211' 'Emissions|Halon-1301'\n",
      " 'Emissions|Halon-2402' 'Emissions|NF3' 'Emissions|SO2F2'\n",
      " 'Emissions|c-C4F8']\n"
     ]
    }
   ],
   "source": [
    "a = hist_emis['Variable'].unique()\n",
    "b = GCAM_proj_emis['Variable'].unique()\n",
    "c = MSG_proj_emis['Variable'].unique()\n",
    "d = REM_proj_emis['Variable'].unique()\n",
    "\n",
    "GCAM_missing = np.setdiff1d(a, GCAM_proj_emis['Variable'].unique())\n",
    "MSG_missing = np.setdiff1d(a, MSG_proj_emis['Variable'].unique())\n",
    "REM_missing = np.setdiff1d(a, REM_proj_emis['Variable'].unique())\n",
    "\n",
    "print('missing species:')\n",
    "print('\\nGCAM')\n",
    "print(GCAM_missing)\n",
    "print('\\nMESSAGE')\n",
    "print(MSG_missing)\n",
    "print('\\nREMIND')\n",
    "print(REM_missing)"
   ]
  },
  {
   "cell_type": "code",
   "execution_count": 7,
   "id": "2d0b49a3-bf47-4fce-9599-d35842da4336",
   "metadata": {},
   "outputs": [],
   "source": [
    "def add_missing_species(proj_df, missing_list):\n",
    "    proj_df.reset_index(drop=True, inplace=True)\n",
    "    for var in missing_list:\n",
    "        for scen in proj_df.Scenario.unique():\n",
    "            mdl = proj_df.Model.values[0]\n",
    "            reg = proj_df.Region.values[0]\n",
    "            unit = hist_emis.loc[hist_emis.Variable == var, 'Unit'].values[0]\n",
    "            hist_val = hist_emis.loc[hist_emis.Variable == var, '2022'].values[0]\n",
    "\n",
    "            all_list = [mdl, scen, reg, var, unit, [hist_val] * (len(proj_df.columns) - 5)]\n",
    "            all_list.extend(all_list.pop())\n",
    "\n",
    "            proj_df.loc[len(proj_df.index)] = all_list\n",
    "            \n",
    "    return proj_df"
   ]
  },
  {
   "cell_type": "code",
   "execution_count": 8,
   "id": "5cf52d80-d0a2-43ef-8ce4-43fa8773516c",
   "metadata": {
    "tags": []
   },
   "outputs": [],
   "source": [
    "# GCAM_proj_emis = add_missing_species(GCAM_proj_emis, GCAM_missing)\n",
    "\n",
    "# MSG_proj_emis = add_missing_species(MSG_proj_emis, MSG_missing)\n",
    "\n",
    "# REM_proj_emis = add_missing_species(REM_proj_emis, REM_missing)"
   ]
  },
  {
   "cell_type": "markdown",
   "id": "5bb0d1e4-8c88-4afa-af58-0f144e666cdf",
   "metadata": {
    "tags": []
   },
   "source": [
    "### Fix Units"
   ]
  },
  {
   "cell_type": "code",
   "execution_count": 9,
   "id": "7e486ef5-2957-4b62-ab2c-5640f2af62a2",
   "metadata": {},
   "outputs": [
    {
     "name": "stdout",
     "output_type": "stream",
     "text": [
      "\n",
      "units in proj but not hist:\n",
      "\n",
      "GCAM\n",
      "['Mt CO2/yr' 'kt N2O/yr']\n",
      "\n",
      "MESSAGE\n",
      "\n",
      "['Mt CO2/yr' 'kt N2O/yr']\n",
      "\n",
      "REMIND\n",
      "['Mt CO2/yr' 'kt N2O/yr']\n"
     ]
    }
   ],
   "source": [
    "a = hist_emis['Unit'].unique()\n",
    "b = GCAM_proj_emis['Unit'].unique()\n",
    "c = MSG_proj_emis['Unit'].unique()\n",
    "d = MSG_proj_emis['Unit'].unique()\n",
    "\n",
    "print('\\nunits in proj but not hist:')\n",
    "print('\\nGCAM')\n",
    "print(np.setdiff1d(b, a))\n",
    "print('\\nMESSAGE\\n')\n",
    "print(np.setdiff1d(c, a))\n",
    "print('\\nREMIND')\n",
    "print(np.setdiff1d(d, a))"
   ]
  },
  {
   "cell_type": "markdown",
   "id": "81fea0ef-77f5-43d0-8e02-7ef07b813772",
   "metadata": {},
   "source": [
    "Need to fix units for the following variables: \n",
    "- CO2 FFI: Mt &rarr; Gt\n",
    "- CO2 AFOLU: Mt &rarr; Gt\n",
    "- N2O: kt &rarr; Mt"
   ]
  },
  {
   "cell_type": "code",
   "execution_count": 10,
   "id": "8d57a743-0781-4068-a1c6-9621d6f6f7eb",
   "metadata": {},
   "outputs": [],
   "source": [
    "def adjust_units(proj_df, hist_df, var, factor):\n",
    "    # select relevant columns\n",
    "    cols = proj_df.columns.values[5:]\n",
    "    \n",
    "    # multiply emissions values by scaling factor\n",
    "    x = proj_df.loc[proj_df.Variable == var, cols] * factor\n",
    "    \n",
    "    # update df with calculated values\n",
    "    proj_df.loc[proj_df.Variable == var, cols] = x\n",
    "    \n",
    "    # change unit name\n",
    "    proj_df.loc[proj_df.Variable == var, 'Unit'] = hist_df.loc[hist_df.Variable == var].values[0, 4]"
   ]
  },
  {
   "cell_type": "code",
   "execution_count": 11,
   "id": "dc00a0a4-ace4-40de-8a46-af607a585187",
   "metadata": {},
   "outputs": [],
   "source": [
    "# adjust units in MSG & GCAM\n",
    "for df in [MSG_proj_emis, GCAM_proj_emis, REM_proj_emis]:\n",
    "    for gas in ['Emissions|N2O', 'Emissions|CO2 FFI', 'Emissions|CO2 AFOLU']:\n",
    "        adjust_units(df, hist_emis, gas, 0.001)"
   ]
  },
  {
   "cell_type": "markdown",
   "id": "30f6a7b6-ba0f-4465-ab25-c2e0ed701e68",
   "metadata": {},
   "source": [
    "## Save cleaned dfs"
   ]
  },
  {
   "cell_type": "code",
   "execution_count": 12,
   "id": "897d2566-76d6-481c-9ed7-c4f33d2edefa",
   "metadata": {},
   "outputs": [],
   "source": [
    "MSG_proj_emis.to_csv('~/outputs/NGFS_MSG_cleaned.csv', index=False)\n",
    "GCAM_proj_emis.to_csv('~/outputs/NGFS_GCAM_cleaned.csv', index=False)\n",
    "REM_proj_emis.to_csv('~/outputs/NGFS_REM_cleaned.csv', index=False)"
   ]
  },
  {
   "cell_type": "markdown",
   "id": "ed9e594d-cc6f-4429-b3c0-68577cf88579",
   "metadata": {
    "tags": []
   },
   "source": [
    "## Interpolate projections\n",
    "- create a new df with annual timesteps as column names\n",
    "- for each row in the old df\n",
    "    - interpolate values\n",
    "    - add new values to the new df"
   ]
  },
  {
   "cell_type": "code",
   "execution_count": 13,
   "id": "b332435a-d602-4c2a-a136-fc338feebb5d",
   "metadata": {},
   "outputs": [],
   "source": [
    "def NGFS_interp(df, yrs, all_yrs):\n",
    "    \n",
    "    # create empty df\n",
    "    df_interp = pd.DataFrame()\n",
    "    df_interp[['Model', 'Scenario', 'Region', 'Variable', 'Unit']] = np.nan\n",
    "    df_interp[all_yrs] = np.nan\n",
    "    \n",
    "    mdl = df.Model.values[0]\n",
    "    reg = df.Region.values[0]\n",
    "    \n",
    "    # interpolate and add all values in timeseries\n",
    "    for scen in df.Scenario.unique():\n",
    "        for var in df.Variable.unique():\n",
    "            proj = df.loc[df.Variable == var].loc[df.Scenario == scen]\n",
    "            proj = proj.values[0][5:].astype(float)\n",
    "            proj_interp = np.interp(all_yrs, yrs, proj)\n",
    "\n",
    "            # create a list of the values we want to add to our new_df\n",
    "            unit = df.loc[df.Variable == var].loc[df.Scenario == scen]['Unit'].values[0]\n",
    "            lst = [mdl, scen, reg, var, unit] \n",
    "            for val in proj_interp.tolist():\n",
    "                lst.append(val)\n",
    "\n",
    "            # add to new_df\n",
    "            df_interp.loc[len(df_interp)] = lst\n",
    "            \n",
    "    return df_interp"
   ]
  },
  {
   "cell_type": "code",
   "execution_count": 14,
   "id": "cec44ad9-9db7-4f65-8cf3-29e6358dbfb5",
   "metadata": {},
   "outputs": [],
   "source": [
    "all_yrs = np.arange(2020, 2101)  # all years to include in interpolated df\n",
    "\n",
    "# years included in non-interpolated df\n",
    "GCAM_yrs = np.arange(2020, 2101, 5)\n",
    "MSG_yrs = [2020, 2025, 2030, 2035, 2040,\n",
    "       2045, 2050, 2055, 2060, 2070, 2080, 2090, 2100] \n",
    "REM_yrs = MSG_yrs"
   ]
  },
  {
   "cell_type": "markdown",
   "id": "eb745107-f8ca-4f49-9bd8-12ff13a8584b",
   "metadata": {},
   "source": [
    "Run interpolations & save as .csv"
   ]
  },
  {
   "cell_type": "code",
   "execution_count": 15,
   "id": "7c0c7ed8-303e-42c4-9892-fa5682eb198a",
   "metadata": {},
   "outputs": [],
   "source": [
    "MSG_interp = NGFS_interp(MSG_proj_emis, MSG_yrs, all_yrs)\n",
    "GCAM_interp = NGFS_interp(GCAM_proj_emis, GCAM_yrs, all_yrs)\n",
    "REM_interp = NGFS_interp(REM_proj_emis, REM_yrs, all_yrs)\n",
    "\n",
    "GCAM_interp.to_csv('~/outputs/NGFS_GCAM_interp.csv', index=False)\n",
    "MSG_interp.to_csv('~/outputs/NGFS_MSG_interp.csv', index=False)\n",
    "REM_interp.to_csv('~/outputs/NGFS_REM_interp.csv', index=False)"
   ]
  }
 ],
 "metadata": {
  "kernelspec": {
   "display_name": "Python 3 (ipykernel)",
   "language": "python",
   "name": "python3"
  },
  "language_info": {
   "codemirror_mode": {
    "name": "ipython",
    "version": 3
   },
   "file_extension": ".py",
   "mimetype": "text/x-python",
   "name": "python",
   "nbconvert_exporter": "python",
   "pygments_lexer": "ipython3",
   "version": "3.10.6"
  }
 },
 "nbformat": 4,
 "nbformat_minor": 5
}
