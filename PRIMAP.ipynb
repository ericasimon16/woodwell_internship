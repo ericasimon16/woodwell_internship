{
 "cells": [
  {
   "cell_type": "markdown",
   "id": "43a594e2-0239-4b54-aef3-14d86a827e8b",
   "metadata": {},
   "source": [
    "# PRIMAP\n",
    "## Purpose: download PRIMAP-hist emissions time series and input into FaIR\n",
    "PRIMAP v2.5 (Oct 2023) is currently the most recent version\n",
    "- Combines several published datasets using a composite source generator\n",
    "- Contains emissions for 1750 to 2022\n",
    "- Data credit: Gütschow, J., & Pflüger, M. (2023). The PRIMAP-hist national historical emissions time series (1750-2022) v2.5. Zenodo. https://doi.org/10.5281/zenodo.10006301\n",
    "\n",
    "### 01/26/24, Erica Simon"
   ]
  },
  {
   "cell_type": "markdown",
   "id": "59ae7685-057f-4828-bb47-f16a413dd3b0",
   "metadata": {},
   "source": [
    "### Imports"
   ]
  },
  {
   "cell_type": "code",
   "execution_count": 265,
   "id": "9f0c3ef6-425f-4265-996d-432970541c31",
   "metadata": {},
   "outputs": [],
   "source": [
    "import matplotlib.pyplot as plt\n",
    "import numpy as np\n",
    "import pandas as pd\n",
    "import pooch\n",
    "\n",
    "from fair import FAIR\n",
    "from fair.interface import fill, initialise\n",
    "from fair.io import read_properties"
   ]
  },
  {
   "cell_type": "markdown",
   "id": "a90bf2cf-a3a7-4a5d-b83c-a8bcc70e8e5b",
   "metadata": {},
   "source": [
    "## Create instance"
   ]
  },
  {
   "cell_type": "code",
   "execution_count": 266,
   "id": "fdc8e709-5eca-4270-819b-aad12f8afa58",
   "metadata": {},
   "outputs": [],
   "source": [
    "f = FAIR()"
   ]
  },
  {
   "cell_type": "markdown",
   "id": "70d86a19-fbfa-4872-b08f-b68ab9ac2f4d",
   "metadata": {},
   "source": [
    "## Define time horizon"
   ]
  },
  {
   "cell_type": "code",
   "execution_count": 267,
   "id": "14ea9580-9494-4c83-ba40-370a504db801",
   "metadata": {},
   "outputs": [],
   "source": [
    "f.define_time(1750, 2022, 1)"
   ]
  },
  {
   "cell_type": "markdown",
   "id": "9b8c6a2f-5fcc-42c5-a08c-ab8b845ef0f3",
   "metadata": {},
   "source": [
    "## Define scenarios"
   ]
  },
  {
   "cell_type": "code",
   "execution_count": 268,
   "id": "f2c2e28d-fed3-4995-90f9-4713aca78be3",
   "metadata": {},
   "outputs": [],
   "source": [
    "f.define_scenarios(['s1'])"
   ]
  },
  {
   "cell_type": "markdown",
   "id": "0bdf3846-1f2c-4ec0-b256-0490e8502c17",
   "metadata": {
    "tags": []
   },
   "source": [
    "## Define configs"
   ]
  },
  {
   "cell_type": "code",
   "execution_count": 269,
   "id": "26985877-eb51-45aa-959c-c68e2be0adcb",
   "metadata": {},
   "outputs": [],
   "source": [
    "f.define_configs(['c1'])"
   ]
  },
  {
   "cell_type": "markdown",
   "id": "a43dd238-f610-405a-b9ad-30dad2f6a41f",
   "metadata": {},
   "source": [
    "## Define species & properties"
   ]
  },
  {
   "cell_type": "code",
   "execution_count": 270,
   "id": "6e88b77a-21ce-48d0-9763-9c89b7c9c45b",
   "metadata": {},
   "outputs": [],
   "source": [
    "species_configs = pooch.retrieve(\n",
    "    url = 'https://raw.githubusercontent.com/OMS-NetZero/FAIR/master/examples/data/species_configs_properties_calibration1.2.0.csv',\n",
    "    known_hash = '4f9d25b21d632cf35953842a627db4b1612b465f68b2a824afff017a7390053b',\n",
    ")"
   ]
  },
  {
   "cell_type": "code",
   "execution_count": 271,
   "id": "ff67797a-d0dc-46ce-a78a-f7992de773a1",
   "metadata": {},
   "outputs": [],
   "source": [
    "species, properties = read_properties(filename=species_configs)\n",
    "\n",
    "f.define_species(species, properties)"
   ]
  },
  {
   "cell_type": "markdown",
   "id": "63c3f516-c512-4ad6-b4a8-b2adfd6c5833",
   "metadata": {},
   "source": [
    "## Create data arrays"
   ]
  },
  {
   "cell_type": "code",
   "execution_count": 272,
   "id": "830b7a23-fc30-4dfd-a3a8-fff2514d9dc8",
   "metadata": {},
   "outputs": [],
   "source": [
    "# create empty emission and temp arrays\n",
    "f.allocate()   "
   ]
  },
  {
   "cell_type": "markdown",
   "id": "0060addd-76da-41aa-abd1-893fd9e0aa3f",
   "metadata": {},
   "source": [
    "## Fill data arrays\n",
    "- Emissions & forcings\n",
    "- Climate configs\n",
    "- Species configs\n",
    "- Initial conditions"
   ]
  },
  {
   "cell_type": "markdown",
   "id": "648dbfda-6250-4a96-b130-9f42bee4f051",
   "metadata": {
    "tags": []
   },
   "source": [
    "### Emissions"
   ]
  },
  {
   "cell_type": "markdown",
   "id": "df75bd80-1ecc-49af-92a0-54f98a79e169",
   "metadata": {},
   "source": [
    "From PRIMAP Zenodo:\n",
    "\n",
    "- \"**HISTCR**: In this scenario **country-reported data** (CRF, BUR / NIR / NC / UNFCCCDI) are prioritized over third-party data (CDIAC, FAO, Andrew, EDGAR, BP).\"\n",
    "\n",
    "- \"**HISTTP**: In this scenario **third-party data** (CDIAC, FAO, Andrew, EDGAR, BP) are prioritized over country-reported data (CRF, BUR / NIR / NC / UNFCCCDI)\""
   ]
  },
  {
   "cell_type": "markdown",
   "id": "8b35cd57-d3e5-4846-8534-86ca9f110f69",
   "metadata": {},
   "source": [
    "Data is provided in output of: Smith, C. (2024). FaIR calibration data (1.4.1). Zenodo. https://doi.org/10.5281/ZENODO.10566813\n",
    "\n",
    "Filepath: `fair_calibrate/output/fair-2.1.3/v1.4/all-2022/emissions/all_scaled_1750-2022.csv`\n",
    "\n",
    "Since reported emission data tend to be underestimates, Smith scales the emissions to reproduce observed concentrations. More information on scaling rationale and methods can be found in `fair_calibrate/input/fair-2.1.3/v1.4/all-2022/calibration/13_check-scalings.py`"
   ]
  },
  {
   "cell_type": "code",
   "execution_count": 273,
   "id": "2e0969ea-bc07-4b32-97a2-f8c452a36582",
   "metadata": {},
   "outputs": [
    {
     "name": "stderr",
     "output_type": "stream",
     "text": [
      "/tmp/ipykernel_45417/3017030366.py:8: SettingWithCopyWarning: \n",
      "A value is trying to be set on a copy of a slice from a DataFrame\n",
      "\n",
      "See the caveats in the documentation: https://pandas.pydata.org/pandas-docs/stable/user_guide/indexing.html#returning-a-view-versus-a-copy\n",
      "  df_emis.variable[22] = 'CO2 AFOLU'\n",
      "/tmp/ipykernel_45417/3017030366.py:9: SettingWithCopyWarning: \n",
      "A value is trying to be set on a copy of a slice from a DataFrame\n",
      "\n",
      "See the caveats in the documentation: https://pandas.pydata.org/pandas-docs/stable/user_guide/indexing.html#returning-a-view-versus-a-copy\n",
      "  df_emis.variable[23] = 'CO2 FFI'\n"
     ]
    },
    {
     "data": {
      "text/html": [
       "<div>\n",
       "<style scoped>\n",
       "    .dataframe tbody tr th:only-of-type {\n",
       "        vertical-align: middle;\n",
       "    }\n",
       "\n",
       "    .dataframe tbody tr th {\n",
       "        vertical-align: top;\n",
       "    }\n",
       "\n",
       "    .dataframe thead th {\n",
       "        text-align: right;\n",
       "    }\n",
       "</style>\n",
       "<table border=\"1\" class=\"dataframe\">\n",
       "  <thead>\n",
       "    <tr style=\"text-align: right;\">\n",
       "      <th></th>\n",
       "      <th>model</th>\n",
       "      <th>scenario</th>\n",
       "      <th>region</th>\n",
       "      <th>variable</th>\n",
       "      <th>unit</th>\n",
       "      <th>1750</th>\n",
       "      <th>1751</th>\n",
       "      <th>1752</th>\n",
       "      <th>1753</th>\n",
       "      <th>1754</th>\n",
       "      <th>...</th>\n",
       "      <th>2013</th>\n",
       "      <th>2014</th>\n",
       "      <th>2015</th>\n",
       "      <th>2016</th>\n",
       "      <th>2017</th>\n",
       "      <th>2018</th>\n",
       "      <th>2019</th>\n",
       "      <th>2020</th>\n",
       "      <th>2021</th>\n",
       "      <th>2022</th>\n",
       "    </tr>\n",
       "  </thead>\n",
       "  <tbody>\n",
       "    <tr>\n",
       "      <th>0</th>\n",
       "      <td>Historical</td>\n",
       "      <td>GCP+CEDS+PRIMAP+GFED</td>\n",
       "      <td>World</td>\n",
       "      <td>BC</td>\n",
       "      <td>Mt BC/yr</td>\n",
       "      <td>2.096766</td>\n",
       "      <td>2.071972</td>\n",
       "      <td>2.067178</td>\n",
       "      <td>2.070382</td>\n",
       "      <td>2.098586</td>\n",
       "      <td>...</td>\n",
       "      <td>7.842259</td>\n",
       "      <td>7.934828</td>\n",
       "      <td>7.926371</td>\n",
       "      <td>7.568060</td>\n",
       "      <td>7.562319</td>\n",
       "      <td>7.459095</td>\n",
       "      <td>7.781842</td>\n",
       "      <td>6.525021</td>\n",
       "      <td>6.871947</td>\n",
       "      <td>6.701702</td>\n",
       "    </tr>\n",
       "    <tr>\n",
       "      <th>1</th>\n",
       "      <td>Historical</td>\n",
       "      <td>GCP+CEDS+PRIMAP+GFED</td>\n",
       "      <td>World</td>\n",
       "      <td>C2F6</td>\n",
       "      <td>kt C2F6/yr</td>\n",
       "      <td>0.000000</td>\n",
       "      <td>0.000000</td>\n",
       "      <td>0.000000</td>\n",
       "      <td>0.000000</td>\n",
       "      <td>0.000000</td>\n",
       "      <td>...</td>\n",
       "      <td>1.003458</td>\n",
       "      <td>1.035565</td>\n",
       "      <td>0.933936</td>\n",
       "      <td>0.979945</td>\n",
       "      <td>0.996980</td>\n",
       "      <td>0.996764</td>\n",
       "      <td>1.062577</td>\n",
       "      <td>1.106550</td>\n",
       "      <td>1.160588</td>\n",
       "      <td>1.167145</td>\n",
       "    </tr>\n",
       "    <tr>\n",
       "      <th>2</th>\n",
       "      <td>Historical</td>\n",
       "      <td>GCP+CEDS+PRIMAP+GFED</td>\n",
       "      <td>World</td>\n",
       "      <td>C3F8</td>\n",
       "      <td>kt C3F8/yr</td>\n",
       "      <td>0.000000</td>\n",
       "      <td>0.000000</td>\n",
       "      <td>0.000000</td>\n",
       "      <td>0.000000</td>\n",
       "      <td>0.000000</td>\n",
       "      <td>...</td>\n",
       "      <td>0.314138</td>\n",
       "      <td>0.323186</td>\n",
       "      <td>0.304124</td>\n",
       "      <td>0.319107</td>\n",
       "      <td>0.324656</td>\n",
       "      <td>0.324586</td>\n",
       "      <td>0.346019</td>\n",
       "      <td>0.360340</td>\n",
       "      <td>0.377938</td>\n",
       "      <td>0.380074</td>\n",
       "    </tr>\n",
       "    <tr>\n",
       "      <th>3</th>\n",
       "      <td>Historical</td>\n",
       "      <td>GCP+CEDS+PRIMAP+GFED</td>\n",
       "      <td>World</td>\n",
       "      <td>C4F10</td>\n",
       "      <td>kt C4F10/yr</td>\n",
       "      <td>0.000000</td>\n",
       "      <td>0.000000</td>\n",
       "      <td>0.000000</td>\n",
       "      <td>0.000000</td>\n",
       "      <td>0.000000</td>\n",
       "      <td>...</td>\n",
       "      <td>0.070672</td>\n",
       "      <td>0.070641</td>\n",
       "      <td>0.067024</td>\n",
       "      <td>0.070327</td>\n",
       "      <td>0.071550</td>\n",
       "      <td>0.071536</td>\n",
       "      <td>0.076260</td>\n",
       "      <td>0.079417</td>\n",
       "      <td>0.083292</td>\n",
       "      <td>0.083759</td>\n",
       "    </tr>\n",
       "    <tr>\n",
       "      <th>4</th>\n",
       "      <td>Historical</td>\n",
       "      <td>GCP+CEDS+PRIMAP+GFED</td>\n",
       "      <td>World</td>\n",
       "      <td>C5F12</td>\n",
       "      <td>kt C5F12/yr</td>\n",
       "      <td>0.000000</td>\n",
       "      <td>0.000000</td>\n",
       "      <td>0.000000</td>\n",
       "      <td>0.000000</td>\n",
       "      <td>0.000000</td>\n",
       "      <td>...</td>\n",
       "      <td>0.035588</td>\n",
       "      <td>0.031141</td>\n",
       "      <td>0.030030</td>\n",
       "      <td>0.031513</td>\n",
       "      <td>0.032065</td>\n",
       "      <td>0.032062</td>\n",
       "      <td>0.034184</td>\n",
       "      <td>0.035603</td>\n",
       "      <td>0.037338</td>\n",
       "      <td>0.037545</td>\n",
       "    </tr>\n",
       "  </tbody>\n",
       "</table>\n",
       "<p>5 rows × 278 columns</p>\n",
       "</div>"
      ],
      "text/plain": [
       "        model              scenario region variable         unit      1750  \\\n",
       "0  Historical  GCP+CEDS+PRIMAP+GFED  World       BC     Mt BC/yr  2.096766   \n",
       "1  Historical  GCP+CEDS+PRIMAP+GFED  World     C2F6   kt C2F6/yr  0.000000   \n",
       "2  Historical  GCP+CEDS+PRIMAP+GFED  World     C3F8   kt C3F8/yr  0.000000   \n",
       "3  Historical  GCP+CEDS+PRIMAP+GFED  World    C4F10  kt C4F10/yr  0.000000   \n",
       "4  Historical  GCP+CEDS+PRIMAP+GFED  World    C5F12  kt C5F12/yr  0.000000   \n",
       "\n",
       "       1751      1752      1753      1754  ...      2013      2014      2015  \\\n",
       "0  2.071972  2.067178  2.070382  2.098586  ...  7.842259  7.934828  7.926371   \n",
       "1  0.000000  0.000000  0.000000  0.000000  ...  1.003458  1.035565  0.933936   \n",
       "2  0.000000  0.000000  0.000000  0.000000  ...  0.314138  0.323186  0.304124   \n",
       "3  0.000000  0.000000  0.000000  0.000000  ...  0.070672  0.070641  0.067024   \n",
       "4  0.000000  0.000000  0.000000  0.000000  ...  0.035588  0.031141  0.030030   \n",
       "\n",
       "       2016      2017      2018      2019      2020      2021      2022  \n",
       "0  7.568060  7.562319  7.459095  7.781842  6.525021  6.871947  6.701702  \n",
       "1  0.979945  0.996980  0.996764  1.062577  1.106550  1.160588  1.167145  \n",
       "2  0.319107  0.324656  0.324586  0.346019  0.360340  0.377938  0.380074  \n",
       "3  0.070327  0.071550  0.071536  0.076260  0.079417  0.083292  0.083759  \n",
       "4  0.031513  0.032065  0.032062  0.034184  0.035603  0.037338  0.037545  \n",
       "\n",
       "[5 rows x 278 columns]"
      ]
     },
     "execution_count": 273,
     "metadata": {},
     "output_type": "execute_result"
    }
   ],
   "source": [
    "df_emis = pd.read_csv('~/data/all_scaled_1750-2022.csv')\n",
    "\n",
    "# remove 'Emissions|' from variable name\n",
    "for i in range(len(df_emis.variable.values)): \n",
    "    df_emis.variable.values[i] = df_emis.variable.values[i][10:]\n",
    "\n",
    "# rename to match FaIR spceies\n",
    "df_emis.variable[22] = 'CO2 AFOLU'\n",
    "df_emis.variable[23] = 'CO2 FFI'\n",
    "    \n",
    "df_emis.head()"
   ]
  },
  {
   "cell_type": "code",
   "execution_count": 274,
   "id": "7368e526-b5e3-4afe-a17b-23e7f1f2fc82",
   "metadata": {},
   "outputs": [],
   "source": [
    "for var in df_emis['variable']:\n",
    "    if var in f.species:\n",
    "        emis = df_emis[df_emis['variable'] == 'BC'].values[0][5:277].reshape(272,1)\n",
    "        fill(f.emissions, emis, scenario='s1', specie=var)"
   ]
  },
  {
   "cell_type": "markdown",
   "id": "42308a00-0bcd-4b88-9fdc-08d777accba7",
   "metadata": {},
   "source": [
    "We also need to see which other species are not included in this dataset, excluding species that are calculated from other values."
   ]
  },
  {
   "cell_type": "code",
   "execution_count": 275,
   "id": "8cf113f5-ad27-44c1-8250-f1f90c04bc51",
   "metadata": {},
   "outputs": [
    {
     "name": "stdout",
     "output_type": "stream",
     "text": [
      "Halon-1202\n",
      "NOx aviation\n",
      "Solar\n",
      "Volcanic\n"
     ]
    }
   ],
   "source": [
    "for element in f.species:\n",
    "    if element not in df_emis['variable'].values:\n",
    "        if f.properties[element]['input_mode'] != 'calculated':\n",
    "            print(element)"
   ]
  },
  {
   "cell_type": "markdown",
   "id": "01b6e5a8-52f7-442e-9fd1-4ac193d9d459",
   "metadata": {},
   "source": [
    "Fill solar & volcanic forcings"
   ]
  },
  {
   "cell_type": "code",
   "execution_count": 276,
   "id": "d2018b38-920b-4840-8045-e9306f3c0355",
   "metadata": {},
   "outputs": [],
   "source": [
    "solar_obj = pooch.retrieve(\n",
    "    url = 'https://raw.githubusercontent.com/chrisroadmap/fair-add-hfc/main/data/solar_erf_timebounds.csv',\n",
    "    known_hash = 'md5:98f6f4c5309d848fea89803683441acf',\n",
    ")"
   ]
  },
  {
   "cell_type": "code",
   "execution_count": 277,
   "id": "a9d64efb-952e-46d9-a342-d251d0c59f17",
   "metadata": {},
   "outputs": [],
   "source": [
    "volcanic_obj = pooch.retrieve(\n",
    "    url = 'https://raw.githubusercontent.com/chrisroadmap/fair-calibrate/main/data/forcing/volcanic_ERF_1750-2101_timebounds.csv',\n",
    "    known_hash = 'md5:c0801f80f70195eb9567dbd70359219d',\n",
    ")"
   ]
  },
  {
   "cell_type": "code",
   "execution_count": 278,
   "id": "71522b5c-b8e7-4c23-8611-f3b2322e22d9",
   "metadata": {},
   "outputs": [],
   "source": [
    "df_solar = pd.read_csv(solar_obj, index_col=\"year\")\n",
    "df_volcanic = pd.read_csv(volcanic_obj, index_col=\"timebounds\")"
   ]
  },
  {
   "cell_type": "code",
   "execution_count": 279,
   "id": "9ecce617-a49f-4c04-bd1f-a7fbbb723499",
   "metadata": {},
   "outputs": [],
   "source": [
    "# only want years 1750-2022\n",
    "s_yr_list = list(range(2023, 2301))\n",
    "v_yr_list = list(range(2023, 2102))\n",
    "\n",
    "df_solar = df_solar.drop(s_yr_list)\n",
    "df_volcanic = df_volcanic.drop(v_yr_list)"
   ]
  },
  {
   "cell_type": "code",
   "execution_count": 280,
   "id": "8dda307c-e85f-4e80-a07c-4d8db6f6072a",
   "metadata": {},
   "outputs": [],
   "source": [
    "fill(f.forcing, df_volcanic, scenario='s1', specie='Volcanic')\n",
    "fill(f.forcing, df_solar, scenario='s1', specie='Solar')"
   ]
  },
  {
   "cell_type": "markdown",
   "id": "54a5a1ce-b47d-44da-b050-98191feff3a5",
   "metadata": {},
   "source": [
    "Not sure what to do about Halon-1202 and NOx aviation yet..."
   ]
  },
  {
   "cell_type": "code",
   "execution_count": 281,
   "id": "ca91ff43-ec2f-418a-b283-97532a3c0274",
   "metadata": {},
   "outputs": [],
   "source": [
    "for spc in ['Halon-1202', 'NOx aviation']:\n",
    "    fill(f.emissions, np.zeros([272,1]), scenario='s1', specie=spc)"
   ]
  },
  {
   "cell_type": "markdown",
   "id": "5547a04d-ec08-4214-8767-c499d30d9166",
   "metadata": {},
   "source": [
    "### Climate configs"
   ]
  },
  {
   "cell_type": "code",
   "execution_count": 282,
   "id": "d7d15c9f-54b9-4465-a420-7abbaf782ab0",
   "metadata": {},
   "outputs": [],
   "source": [
    "fill(f.climate_configs[\"ocean_heat_transfer\"], [1.1, 1.6, 0.9], config='c1')\n",
    "fill(f.climate_configs[\"ocean_heat_capacity\"], [8, 14, 100], config='c1')\n",
    "fill(f.climate_configs[\"deep_ocean_efficacy\"], 1.1, config='c1')"
   ]
  },
  {
   "cell_type": "markdown",
   "id": "3ccce5df-a0f9-4fa5-bcd6-3782c519fa16",
   "metadata": {},
   "source": [
    "### Species configs"
   ]
  },
  {
   "cell_type": "code",
   "execution_count": 283,
   "id": "67857cfd-2e5a-4b20-b917-f4b741dcd09a",
   "metadata": {},
   "outputs": [],
   "source": [
    "f.fill_species_configs()"
   ]
  },
  {
   "cell_type": "markdown",
   "id": "8592a932-c0a2-4299-980f-6e0d6ce1f40e",
   "metadata": {},
   "source": [
    "### Initial conditions"
   ]
  },
  {
   "cell_type": "code",
   "execution_count": 284,
   "id": "832d253b-65b5-4f2f-a90f-29299a4b9cad",
   "metadata": {},
   "outputs": [],
   "source": [
    "initialise(f.concentration, f.species_configs[\"baseline_concentration\"])\n",
    "initialise(f.forcing, 0)\n",
    "initialise(f.temperature, 0)   # f.temperature refers to temperature rise above PI (288 K)\n",
    "initialise(f.cumulative_emissions, 0)\n",
    "initialise(f.airborne_emissions, 0)"
   ]
  },
  {
   "cell_type": "markdown",
   "id": "f7f88cca-c486-4a0d-9172-c39298cca4f2",
   "metadata": {},
   "source": [
    "## Run"
   ]
  },
  {
   "cell_type": "code",
   "execution_count": 285,
   "id": "6a70aef7-d482-4a75-8a7a-e8fc88df766b",
   "metadata": {},
   "outputs": [
    {
     "data": {
      "application/vnd.jupyter.widget-view+json": {
       "model_id": "e3a5dac6787a4c4f9387163e0d362481",
       "version_major": 2,
       "version_minor": 0
      },
      "text/plain": [
       "Running 1 projections in parallel:   0%|          | 0/272 [00:00<?, ?timesteps/s]"
      ]
     },
     "metadata": {},
     "output_type": "display_data"
    }
   ],
   "source": [
    "f.run()"
   ]
  },
  {
   "cell_type": "markdown",
   "id": "1f1d08f1-9aa6-4095-b24f-9c6414b5d15b",
   "metadata": {},
   "source": [
    "## Analyze output"
   ]
  },
  {
   "cell_type": "code",
   "execution_count": 298,
   "id": "f4a4d98f-7afb-40d1-8292-f5f01b3028bd",
   "metadata": {},
   "outputs": [
    {
     "data": {
      "image/png": "[encoded data removed]",
      "text/plain": [
       "<Figure size 640x480 with 1 Axes>"
      ]
     },
     "metadata": {},
     "output_type": "display_data"
    }
   ],
   "source": [
    "plt.plot(f.timebounds, f.temperature.loc[dict(scenario='s1', layer=0)])\n",
    "plt.xlabel('Year')\n",
    "plt.ylabel('K')\n",
    "plt.title('Temperature Anomaly (1750-2022)')\n",
    "plt.show()"
   ]
  },
  {
   "cell_type": "code",
   "execution_count": 299,
   "id": "2ec713eb-9b7a-4b04-88e7-6b1ff3d8e196",
   "metadata": {},
   "outputs": [
    {
     "data": {
      "image/png": "[encoded data removed]",
      "text/plain": [
       "<Figure size 640x480 with 1 Axes>"
      ]
     },
     "metadata": {},
     "output_type": "display_data"
    }
   ],
   "source": [
    "plt.plot(f.timebounds, f.stochastic_forcing.loc[dict(scenario='s1')])\n",
    "plt.xlabel('Year')\n",
    "plt.ylabel('W m$^{-2}$')\n",
    "plt.title('Total forcing (1750-2022)')\n",
    "plt.show()"
   ]
  },
  {
   "cell_type": "markdown",
   "id": "46e3334c-e7ff-4ab3-ab46-f43a34fddab1",
   "metadata": {},
   "source": [
    "1815: eruption of Mount Tambora in Indonesia\n",
    "\n",
    "1816: [\"The Year Without Summer\"](https://www.nps.gov/articles/000/1816-the-year-without-summer.htm#:~:text=The%20eruption%20of%20Mount%20Tambora,cloud%20the%20size%20of%20Australia.)"
   ]
  },
  {
   "cell_type": "code",
   "execution_count": 288,
   "id": "ff29ba43-f983-4962-828c-fcb8419d3078",
   "metadata": {},
   "outputs": [
    {
     "data": {
      "text/plain": [
       "[<matplotlib.lines.Line2D at 0x7f01872e94e0>]"
      ]
     },
     "execution_count": 288,
     "metadata": {},
     "output_type": "execute_result"
    },
    {
     "data": {
      "image/png": "[encoded data removed]",
      "text/plain": [
       "<Figure size 640x480 with 1 Axes>"
      ]
     },
     "metadata": {},
     "output_type": "display_data"
    }
   ],
   "source": [
    "plt.plot(df_volcanic)"
   ]
  }
 ],
 "metadata": {
  "kernelspec": {
   "display_name": "Python 3 (ipykernel)",
   "language": "python",
   "name": "python3"
  },
  "language_info": {
   "codemirror_mode": {
    "name": "ipython",
    "version": 3
   },
   "file_extension": ".py",
   "mimetype": "text/x-python",
   "name": "python",
   "nbconvert_exporter": "python",
   "pygments_lexer": "ipython3",
   "version": "3.10.6"
  }
 },
 "nbformat": 4,
 "nbformat_minor": 5
}
