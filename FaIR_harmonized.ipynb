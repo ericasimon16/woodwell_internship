{
 "cells": [
  {
   "cell_type": "markdown",
   "id": "2e752a80-2252-4711-a41f-79162110447a",
   "metadata": {},
   "source": [
    "# FaIR Harmonized\n",
    "### Erica Simon, 02/05/24\n",
    "## Purpose: input harmonized historical and projected emissions trajectories into FaIR\n",
    "- Emissions span 1750 to 2100\n",
    "\n"
   ]
  },
  {
   "cell_type": "markdown",
   "id": "14336690-9ec4-4400-a0c1-96f30c55bf0f",
   "metadata": {},
   "source": [
    "## Imports"
   ]
  },
  {
   "cell_type": "code",
   "execution_count": 8,
   "id": "057f8bc1-bb0a-44de-b06a-2f7ffd0a779c",
   "metadata": {},
   "outputs": [],
   "source": [
    "import matplotlib.pyplot as plt\n",
    "import numpy as np\n",
    "import pandas as pd\n",
    "import pooch\n",
    "\n",
    "from fair import FAIR\n",
    "from fair.interface import fill, initialise\n",
    "from fair.io import read_properties"
   ]
  },
  {
   "cell_type": "markdown",
   "id": "322876cd-94e9-4150-a8b5-686c25227a3c",
   "metadata": {},
   "source": [
    "## Create instance"
   ]
  },
  {
   "cell_type": "code",
   "execution_count": 9,
   "id": "359daef2-dc85-4a46-ab93-f84f9948ae0d",
   "metadata": {},
   "outputs": [],
   "source": [
    "f = FAIR()"
   ]
  },
  {
   "cell_type": "markdown",
   "id": "7bb1728b-59e8-4d5c-99dc-d252d37b6275",
   "metadata": {},
   "source": [
    "## Define time horizon"
   ]
  },
  {
   "cell_type": "code",
   "execution_count": 10,
   "id": "f75ba17a-e284-4505-b839-6cb0e27d2e11",
   "metadata": {},
   "outputs": [],
   "source": [
    "f.define_time(1750, 2100, 1)"
   ]
  },
  {
   "cell_type": "markdown",
   "id": "d3b566ae-9ac5-425b-8754-6d8a031f6cd0",
   "metadata": {},
   "source": [
    "## Define scenarios"
   ]
  },
  {
   "cell_type": "code",
   "execution_count": 11,
   "id": "5d184c89-1213-422c-867e-c47c916a6ed9",
   "metadata": {},
   "outputs": [],
   "source": [
    "f.define_scenarios(['s1'])"
   ]
  },
  {
   "cell_type": "markdown",
   "id": "ce38b0c3-7076-4b19-b0b6-f6ab705e0464",
   "metadata": {
    "tags": []
   },
   "source": [
    "## Define configs"
   ]
  },
  {
   "cell_type": "code",
   "execution_count": 12,
   "id": "a022a5b6-684d-4c4e-b59d-b1457e960656",
   "metadata": {},
   "outputs": [],
   "source": [
    "f.define_configs(['c1'])"
   ]
  },
  {
   "cell_type": "markdown",
   "id": "013d3b14-0241-410d-9a6d-79ee5a8ae844",
   "metadata": {},
   "source": [
    "## Define species & properties"
   ]
  },
  {
   "cell_type": "code",
   "execution_count": 13,
   "id": "8a7f6f02-5882-43d4-9acb-86be18a71ac3",
   "metadata": {},
   "outputs": [],
   "source": [
    "species_configs = pooch.retrieve(\n",
    "    url = 'https://raw.githubusercontent.com/OMS-NetZero/FAIR/master/examples/data/species_configs_properties_calibration1.2.0.csv',\n",
    "    known_hash = '4f9d25b21d632cf35953842a627db4b1612b465f68b2a824afff017a7390053b',\n",
    ")"
   ]
  },
  {
   "cell_type": "code",
   "execution_count": 14,
   "id": "d3be6c13-1d90-4b65-a5ec-55c61226f50f",
   "metadata": {},
   "outputs": [],
   "source": [
    "species, properties = read_properties(filename=species_configs)\n",
    "\n",
    "# removed in examples from fair-calibrate repo, specifically because 'future projections aren't available'\n",
    "species.remove(\"Halon-1202\")\n",
    "species.remove(\"NOx aviation\")\n",
    "\n",
    "f.define_species(species, properties)"
   ]
  },
  {
   "cell_type": "markdown",
   "id": "8dc43d6f-d0b5-4790-90b7-0fb7494b584b",
   "metadata": {},
   "source": [
    "## Create data arrays"
   ]
  },
  {
   "cell_type": "code",
   "execution_count": 15,
   "id": "3aac1e70-db87-41a5-94bf-bd87a10dfadc",
   "metadata": {},
   "outputs": [],
   "source": [
    "# create empty emission and temp arrays\n",
    "f.allocate()   "
   ]
  },
  {
   "cell_type": "markdown",
   "id": "b4b00945-7058-47ea-8eda-af1044e58a67",
   "metadata": {},
   "source": [
    "## Fill data arrays\n",
    "- Emissions & forcings\n",
    "- Climate configs\n",
    "- Species configs\n",
    "- Initial conditions"
   ]
  },
  {
   "cell_type": "markdown",
   "id": "9e08e7a9-f69f-46a7-8d9e-0226c84bd32a",
   "metadata": {
    "tags": []
   },
   "source": [
    "### Emissions"
   ]
  },
  {
   "cell_type": "code",
   "execution_count": 16,
   "id": "994f6b1e-0586-44b7-9315-64df6007d1d4",
   "metadata": {},
   "outputs": [
    {
     "data": {
      "text/html": [
       "<div>\n",
       "<style scoped>\n",
       "    .dataframe tbody tr th:only-of-type {\n",
       "        vertical-align: middle;\n",
       "    }\n",
       "\n",
       "    .dataframe tbody tr th {\n",
       "        vertical-align: top;\n",
       "    }\n",
       "\n",
       "    .dataframe thead th {\n",
       "        text-align: right;\n",
       "    }\n",
       "</style>\n",
       "<table border=\"1\" class=\"dataframe\">\n",
       "  <thead>\n",
       "    <tr style=\"text-align: right;\">\n",
       "      <th></th>\n",
       "      <th>model</th>\n",
       "      <th>scenario</th>\n",
       "      <th>region</th>\n",
       "      <th>variable</th>\n",
       "      <th>unit</th>\n",
       "      <th>2022</th>\n",
       "      <th>2023</th>\n",
       "      <th>2024</th>\n",
       "      <th>2025</th>\n",
       "      <th>2026</th>\n",
       "      <th>...</th>\n",
       "      <th>2091</th>\n",
       "      <th>2092</th>\n",
       "      <th>2093</th>\n",
       "      <th>2094</th>\n",
       "      <th>2095</th>\n",
       "      <th>2096</th>\n",
       "      <th>2097</th>\n",
       "      <th>2098</th>\n",
       "      <th>2099</th>\n",
       "      <th>2100</th>\n",
       "    </tr>\n",
       "  </thead>\n",
       "  <tbody>\n",
       "    <tr>\n",
       "      <th>0</th>\n",
       "      <td>GCAM 6.0 NGFS</td>\n",
       "      <td>Below 2 C</td>\n",
       "      <td>World</td>\n",
       "      <td>Emissions|BC</td>\n",
       "      <td>Mt BC/yr</td>\n",
       "      <td>6.701702</td>\n",
       "      <td>6.514716</td>\n",
       "      <td>6.328371</td>\n",
       "      <td>6.142668</td>\n",
       "      <td>5.970416</td>\n",
       "      <td>...</td>\n",
       "      <td>1.908504</td>\n",
       "      <td>1.909592</td>\n",
       "      <td>1.910681</td>\n",
       "      <td>1.911769</td>\n",
       "      <td>1.912858</td>\n",
       "      <td>1.913896</td>\n",
       "      <td>1.914934</td>\n",
       "      <td>1.915973</td>\n",
       "      <td>1.917011</td>\n",
       "      <td>1.918049</td>\n",
       "    </tr>\n",
       "    <tr>\n",
       "      <th>1</th>\n",
       "      <td>GCAM 6.0 NGFS</td>\n",
       "      <td>Below 2 C</td>\n",
       "      <td>World</td>\n",
       "      <td>Emissions|C2F6</td>\n",
       "      <td>kt C2F6/yr</td>\n",
       "      <td>1.167145</td>\n",
       "      <td>1.187433</td>\n",
       "      <td>1.207783</td>\n",
       "      <td>1.228194</td>\n",
       "      <td>1.199387</td>\n",
       "      <td>...</td>\n",
       "      <td>0.908171</td>\n",
       "      <td>0.903291</td>\n",
       "      <td>0.898392</td>\n",
       "      <td>0.893474</td>\n",
       "      <td>0.888537</td>\n",
       "      <td>0.884270</td>\n",
       "      <td>0.879985</td>\n",
       "      <td>0.875684</td>\n",
       "      <td>0.871367</td>\n",
       "      <td>0.867032</td>\n",
       "    </tr>\n",
       "    <tr>\n",
       "      <th>2</th>\n",
       "      <td>GCAM 6.0 NGFS</td>\n",
       "      <td>Below 2 C</td>\n",
       "      <td>World</td>\n",
       "      <td>Emissions|CF4</td>\n",
       "      <td>kt CF4/yr</td>\n",
       "      <td>7.204285</td>\n",
       "      <td>7.318735</td>\n",
       "      <td>7.432465</td>\n",
       "      <td>7.545476</td>\n",
       "      <td>7.506468</td>\n",
       "      <td>...</td>\n",
       "      <td>2.193012</td>\n",
       "      <td>2.099410</td>\n",
       "      <td>2.006379</td>\n",
       "      <td>1.913919</td>\n",
       "      <td>1.822028</td>\n",
       "      <td>1.750974</td>\n",
       "      <td>1.680355</td>\n",
       "      <td>1.610170</td>\n",
       "      <td>1.540421</td>\n",
       "      <td>1.471106</td>\n",
       "    </tr>\n",
       "    <tr>\n",
       "      <th>3</th>\n",
       "      <td>GCAM 6.0 NGFS</td>\n",
       "      <td>Below 2 C</td>\n",
       "      <td>World</td>\n",
       "      <td>Emissions|CH4</td>\n",
       "      <td>Mt CH4/yr</td>\n",
       "      <td>378.405896</td>\n",
       "      <td>377.950220</td>\n",
       "      <td>377.491840</td>\n",
       "      <td>377.030757</td>\n",
       "      <td>370.793608</td>\n",
       "      <td>...</td>\n",
       "      <td>246.543212</td>\n",
       "      <td>246.884856</td>\n",
       "      <td>247.226500</td>\n",
       "      <td>247.568144</td>\n",
       "      <td>247.909788</td>\n",
       "      <td>248.005228</td>\n",
       "      <td>248.100668</td>\n",
       "      <td>248.196108</td>\n",
       "      <td>248.291548</td>\n",
       "      <td>248.386987</td>\n",
       "    </tr>\n",
       "    <tr>\n",
       "      <th>4</th>\n",
       "      <td>GCAM 6.0 NGFS</td>\n",
       "      <td>Below 2 C</td>\n",
       "      <td>World</td>\n",
       "      <td>Emissions|CO</td>\n",
       "      <td>Mt CO/yr</td>\n",
       "      <td>758.190637</td>\n",
       "      <td>740.025721</td>\n",
       "      <td>721.874130</td>\n",
       "      <td>703.735864</td>\n",
       "      <td>684.137844</td>\n",
       "      <td>...</td>\n",
       "      <td>319.248994</td>\n",
       "      <td>319.258361</td>\n",
       "      <td>319.267626</td>\n",
       "      <td>319.276792</td>\n",
       "      <td>319.285857</td>\n",
       "      <td>319.436284</td>\n",
       "      <td>319.586502</td>\n",
       "      <td>319.736512</td>\n",
       "      <td>319.886312</td>\n",
       "      <td>320.035904</td>\n",
       "    </tr>\n",
       "  </tbody>\n",
       "</table>\n",
       "<p>5 rows × 84 columns</p>\n",
       "</div>"
      ],
      "text/plain": [
       "           model   scenario region        variable        unit        2022  \\\n",
       "0  GCAM 6.0 NGFS  Below 2 C  World    Emissions|BC    Mt BC/yr    6.701702   \n",
       "1  GCAM 6.0 NGFS  Below 2 C  World  Emissions|C2F6  kt C2F6/yr    1.167145   \n",
       "2  GCAM 6.0 NGFS  Below 2 C  World   Emissions|CF4   kt CF4/yr    7.204285   \n",
       "3  GCAM 6.0 NGFS  Below 2 C  World   Emissions|CH4   Mt CH4/yr  378.405896   \n",
       "4  GCAM 6.0 NGFS  Below 2 C  World    Emissions|CO    Mt CO/yr  758.190637   \n",
       "\n",
       "         2023        2024        2025        2026  ...        2091  \\\n",
       "0    6.514716    6.328371    6.142668    5.970416  ...    1.908504   \n",
       "1    1.187433    1.207783    1.228194    1.199387  ...    0.908171   \n",
       "2    7.318735    7.432465    7.545476    7.506468  ...    2.193012   \n",
       "3  377.950220  377.491840  377.030757  370.793608  ...  246.543212   \n",
       "4  740.025721  721.874130  703.735864  684.137844  ...  319.248994   \n",
       "\n",
       "         2092        2093        2094        2095        2096        2097  \\\n",
       "0    1.909592    1.910681    1.911769    1.912858    1.913896    1.914934   \n",
       "1    0.903291    0.898392    0.893474    0.888537    0.884270    0.879985   \n",
       "2    2.099410    2.006379    1.913919    1.822028    1.750974    1.680355   \n",
       "3  246.884856  247.226500  247.568144  247.909788  248.005228  248.100668   \n",
       "4  319.258361  319.267626  319.276792  319.285857  319.436284  319.586502   \n",
       "\n",
       "         2098        2099        2100  \n",
       "0    1.915973    1.917011    1.918049  \n",
       "1    0.875684    0.871367    0.867032  \n",
       "2    1.610170    1.540421    1.471106  \n",
       "3  248.196108  248.291548  248.386987  \n",
       "4  319.736512  319.886312  320.035904  \n",
       "\n",
       "[5 rows x 84 columns]"
      ]
     },
     "execution_count": 16,
     "metadata": {},
     "output_type": "execute_result"
    }
   ],
   "source": [
    "df_emis = pd.read_csv('~/outputs/GCAM_harm.csv')\n",
    "df_emis.head()"
   ]
  }
 ],
 "metadata": {
  "kernelspec": {
   "display_name": "Python 3 (ipykernel)",
   "language": "python",
   "name": "python3"
  },
  "language_info": {
   "codemirror_mode": {
    "name": "ipython",
    "version": 3
   },
   "file_extension": ".py",
   "mimetype": "text/x-python",
   "name": "python",
   "nbconvert_exporter": "python",
   "pygments_lexer": "ipython3",
   "version": "3.10.6"
  }
 },
 "nbformat": 4,
 "nbformat_minor": 5
}
