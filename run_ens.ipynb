{
 "cells": [
  {
   "cell_type": "markdown",
   "id": "2754982d-63ac-46d3-9c46-b27f24f7b65e",
   "metadata": {
    "tags": []
   },
   "source": [
    "# Run Ensemble\n",
    "### Erica Simon, 02/14/24\n",
    "## Purpose: run probabilistic ensembles with FaIR under different policy scenarios\n",
    "\n"
   ]
  },
  {
   "cell_type": "code",
   "execution_count": 15,
   "id": "e2cc50f9-a737-4d25-8483-c2e326edc92b",
   "metadata": {},
   "outputs": [],
   "source": [
    "import matplotlib.pyplot as plt\n",
    "import numpy as np\n",
    "import pandas as pd\n",
    "import pooch\n",
    "import xarray as xr\n",
    "import seaborn as sns\n",
    "\n",
    "from fair import FAIR\n",
    "from fair.interface import fill, initialise\n",
    "from fair.io import read_properties"
   ]
  },
  {
   "cell_type": "markdown",
   "id": "7030c9c0-2853-4b4d-a973-d9e8b3a47d18",
   "metadata": {
    "tags": []
   },
   "source": [
    "## Import emissions datasets"
   ]
  },
  {
   "cell_type": "code",
   "execution_count": 25,
   "id": "d39bd8ef-c9e9-4224-8c82-fb3cd395b672",
   "metadata": {},
   "outputs": [],
   "source": [
    "GCAM_df = pd.read_csv('~/outputs/GCAM_harm.csv')\n",
    "MSG_df = pd.read_csv('~/outputs/MSG_harm.csv')\n",
    "REM_df = pd.read_csv('~/outputs/REM_harm.csv')\n",
    "\n",
    "# remove 'Emissions|' from variable names\n",
    "for df in [GCAM_df, MSG_df, REM_df]:\n",
    "    for i in range(len(df.Variable.values)): \n",
    "        df.Variable.values[i] = df.Variable.values[i][10:]"
   ]
  },
  {
   "cell_type": "markdown",
   "id": "cd0c62ff-d7ce-4cb7-aa65-3a43054bb723",
   "metadata": {
    "tags": []
   },
   "source": [
    "## Global Variables"
   ]
  },
  {
   "cell_type": "code",
   "execution_count": 16,
   "id": "3dbe4f01-7a69-4f8a-8c4e-e8f08f409fd7",
   "metadata": {},
   "outputs": [],
   "source": [
    "species_configs = pooch.retrieve(\n",
    "    url = 'https://raw.githubusercontent.com/OMS-NetZero/FAIR/master/examples/data/species_configs_properties_calibration1.2.0.csv',\n",
    "    known_hash = '4f9d25b21d632cf35953842a627db4b1612b465f68b2a824afff017a7390053b',\n",
    ")\n",
    "\n",
    "solar_obj = pooch.retrieve(\n",
    "    url = 'https://raw.githubusercontent.com/chrisroadmap/fair-add-hfc/main/data/solar_erf_timebounds.csv',\n",
    "    known_hash = 'md5:98f6f4c5309d848fea89803683441acf',\n",
    ")\n",
    "\n",
    "volcanic_obj = pooch.retrieve(\n",
    "    url = 'https://raw.githubusercontent.com/chrisroadmap/fair-calibrate/main/data/forcing/volcanic_ERF_1750-2101_timebounds.csv',\n",
    "    known_hash = 'md5:c0801f80f70195eb9567dbd70359219d',\n",
    ")\n",
    "\n",
    "df_solar = pd.read_csv(solar_obj, index_col=\"year\")\n",
    "df_volcanic = pd.read_csv(volcanic_obj, index_col=\"timebounds\")\n",
    "\n",
    "# trim `solar_df` to only include 1750-2101.\n",
    "s_yr_list = list(range(2102, 2301))\n",
    "df_solar = df_solar.drop(s_yr_list)"
   ]
  },
  {
   "cell_type": "code",
   "execution_count": 18,
   "id": "6b57e478-2bef-46a5-8d43-5cddf6a0c3dd",
   "metadata": {},
   "outputs": [],
   "source": [
    "# retrieve climate configs\n",
    "fair_params_1_2_0_obj = pooch.retrieve(\n",
    "    url = 'https://zenodo.org/record/10566813/files/calibrated_constrained_parameters.csv',\n",
    "    known_hash = '76e2b9156ed26aa2730aa7023f1e40025a3637fe479df18e822120eff001848c'\n",
    ")\n",
    "df_configs = pd.read_csv(fair_params_1_2_0_obj, index_col=0)\n",
    "\n",
    "# scaling factors for solar forcing\n",
    "trend_shape = np.ones(352)\n",
    "trend_shape[:352] = np.linspace(0, 1, 352)"
   ]
  },
  {
   "cell_type": "markdown",
   "id": "55d465e7-c003-4a29-8f6b-d27a22c28cc9",
   "metadata": {
    "tags": []
   },
   "source": [
    "## Helper functions"
   ]
  },
  {
   "cell_type": "code",
   "execution_count": 19,
   "id": "c63e9c8d-894b-4390-87aa-40ac42d24558",
   "metadata": {
    "tags": []
   },
   "outputs": [],
   "source": [
    "# helper function for `probabilistic_run_fair`\n",
    "def fill_climate_configs(f, df_configs):\n",
    "    fill(f.climate_configs[\"ocean_heat_capacity\"], df_configs.loc[:, \"clim_c1\":\"clim_c3\"].values)\n",
    "    fill(\n",
    "        f.climate_configs[\"ocean_heat_transfer\"],\n",
    "        df_configs.loc[:, \"clim_kappa1\":\"clim_kappa3\"].values,\n",
    "    )\n",
    "    fill(f.climate_configs[\"deep_ocean_efficacy\"], df_configs[\"clim_epsilon\"].values.squeeze())\n",
    "    fill(f.climate_configs[\"gamma_autocorrelation\"], df_configs[\"clim_gamma\"].values.squeeze())\n",
    "    fill(f.climate_configs[\"sigma_eta\"], df_configs[\"clim_sigma_eta\"].values.squeeze())\n",
    "    fill(f.climate_configs[\"sigma_xi\"], df_configs[\"clim_sigma_xi\"].values.squeeze())\n",
    "    fill(f.climate_configs[\"seed\"], df_configs[\"seed\"])\n",
    "    fill(f.climate_configs[\"stochastic_run\"], True)\n",
    "    fill(f.climate_configs[\"use_seed\"], True)\n",
    "    fill(f.climate_configs[\"forcing_4co2\"], df_configs[\"clim_F_4xCO2\"])"
   ]
  },
  {
   "cell_type": "code",
   "execution_count": 20,
   "id": "f3ac716e-5e5c-4f50-9ecf-0cdf393d9cd2",
   "metadata": {
    "tags": []
   },
   "outputs": [],
   "source": [
    "# helper function for `probabilistic_run_fair`\n",
    "def edit_species_configs(f, species_configs):\n",
    "\n",
    "    # carbon cycle\n",
    "    fill(f.species_configs[\"iirf_0\"], df_configs[\"cc_r0\"].values.squeeze(), specie=\"CO2\")\n",
    "    fill(f.species_configs[\"iirf_airborne\"], df_configs[\"cc_rA\"].values.squeeze(), specie=\"CO2\")\n",
    "    fill(f.species_configs[\"iirf_uptake\"], df_configs[\"cc_rU\"].values.squeeze(), specie=\"CO2\")\n",
    "    fill(f.species_configs[\"iirf_temperature\"], df_configs[\"cc_rT\"].values.squeeze(), specie=\"CO2\")\n",
    "\n",
    "    # aerosol indirect\n",
    "    fill(f.species_configs[\"aci_scale\"], df_configs[\"aci_beta\"].values.squeeze())\n",
    "    fill(f.species_configs[\"aci_shape\"], df_configs[\"aci_shape_so2\"].values.squeeze(), specie=\"Sulfur\")\n",
    "    fill(f.species_configs[\"aci_shape\"], df_configs[\"aci_shape_bc\"].values.squeeze(), specie=\"BC\")\n",
    "    fill(f.species_configs[\"aci_shape\"], df_configs[\"aci_shape_oc\"].values.squeeze(), specie=\"OC\")\n",
    "\n",
    "    # aerosol direct\n",
    "    for specie in [\n",
    "        \"BC\", \n",
    "        \"CH4\", \n",
    "        \"N2O\",\n",
    "        \"NH3\", \n",
    "        \"NOx\",\n",
    "        \"OC\", \n",
    "        \"Sulfur\", \n",
    "        \"VOC\",\n",
    "        \"Equivalent effective stratospheric chlorine\"\n",
    "    ]:\n",
    "        fill(f.species_configs[\"erfari_radiative_efficiency\"], df_configs[f\"ari_{specie}\"], specie=specie)\n",
    "\n",
    "    # forcing scaling\n",
    "    for specie in [\n",
    "        \"CO2\", \n",
    "        \"CH4\", \n",
    "        \"N2O\", \n",
    "        \"Stratospheric water vapour\",\n",
    "        # \"Contrails\",   \n",
    "        # contrails excluded from this version of calibration data \"since few IAM scenarios provide detailed enough information to assess their future forcing\"\n",
    "        \"Light absorbing particles on snow and ice\", \n",
    "        \"Land use\"\n",
    "    ]:\n",
    "        fill(f.species_configs[\"forcing_scale\"], df_configs[f\"fscale_{specie}\"].values.squeeze(), specie=specie)\n",
    "    # the halogenated gases all take the same scale factor\n",
    "    for specie in [\n",
    "        \"CFC-11\",\n",
    "        \"CFC-12\",\n",
    "        \"CFC-113\",\n",
    "        \"CFC-114\",\n",
    "        \"CFC-115\",\n",
    "        \"HCFC-22\",\n",
    "        \"HCFC-141b\",\n",
    "        \"HCFC-142b\",\n",
    "        \"CCl4\",\n",
    "        \"CHCl3\",\n",
    "        \"CH2Cl2\",\n",
    "        \"CH3Cl\",\n",
    "        \"CH3CCl3\",\n",
    "        \"CH3Br\",\n",
    "        \"Halon-1211\",\n",
    "        \"Halon-1301\",\n",
    "        \"Halon-2402\",\n",
    "        \"CF4\",\n",
    "        \"C2F6\",\n",
    "        \"C3F8\",\n",
    "        \"c-C4F8\",\n",
    "        \"C4F10\",\n",
    "        \"C5F12\",\n",
    "        \"C6F14\",\n",
    "        \"C7F16\",\n",
    "        \"C8F18\",\n",
    "        \"NF3\",\n",
    "        \"SF6\",\n",
    "        \"SO2F2\",\n",
    "        \"HFC-125\",\n",
    "        \"HFC-134a\",\n",
    "        \"HFC-143a\",\n",
    "        \"HFC-152a\",\n",
    "        \"HFC-227ea\",\n",
    "        \"HFC-23\",\n",
    "        \"HFC-236fa\",\n",
    "        \"HFC-245fa\",\n",
    "        \"HFC-32\",\n",
    "        \"HFC-365mfc\",\n",
    "        \"HFC-4310mee\",\n",
    "    ]:\n",
    "        fill(f.species_configs[\"forcing_scale\"], df_configs[\"fscale_minorGHG\"].values.squeeze(), specie=specie)\n",
    "\n",
    "    # ozone\n",
    "    for specie in [\"CH4\", \"N2O\", \"Equivalent effective stratospheric chlorine\", \"CO\", \"VOC\", \"NOx\"]:\n",
    "        fill(f.species_configs[\"ozone_radiative_efficiency\"], df_configs[f\"o3_{specie}\"], specie=specie)\n",
    "\n",
    "    # initial value of CO2 concentration (but not baseline for forcing calculations)\n",
    "    fill(\n",
    "        f.species_configs[\"baseline_concentration\"], \n",
    "        df_configs[\"cc_co2_concentration_1750\"].values.squeeze(), \n",
    "        specie=\"CO2\"\n",
    "    )"
   ]
  },
  {
   "cell_type": "markdown",
   "id": "b1233646-e4ba-4522-8796-fa5052edf5ac",
   "metadata": {},
   "source": [
    "## Functional form"
   ]
  },
  {
   "cell_type": "code",
   "execution_count": 21,
   "id": "07f5fce3-1a58-445b-b356-fad018e0cb8e",
   "metadata": {},
   "outputs": [],
   "source": [
    "# input: a dataframe in IAM format with annual emission timeseries for all relevant FaIR species\n",
    "# returns: a FaIR object that has already been run, with ~800 climate configurations\n",
    "\n",
    "def probabilistic_run_fair(df_emis):\n",
    "    ##### create instance #####\n",
    "    f = FAIR()\n",
    "\n",
    "    ##### define time #####\n",
    "    start = int(df_emis.columns[5])   # assumes IAM format consistent with harmonizer\n",
    "    end = int(df_emis.columns[-1])+1\n",
    "    f.define_time(start, end, 1)\n",
    "\n",
    "    ##### define scenarios #####\n",
    "    f.define_scenarios(df_emis.Scenario.unique().tolist())   # same as those in emission dataset\n",
    "\n",
    "    ##### define configs #####\n",
    "    configs = df_configs.index\n",
    "    f.define_configs(configs) \n",
    "\n",
    "    ##### define species and properties #####\n",
    "    species, properties = read_properties(filename=species_configs)\n",
    "    species.remove(\"Halon-1202\")\n",
    "    species.remove(\"NOx aviation\")\n",
    "    f.define_species(species, properties)\n",
    "\n",
    "    ##### create data arrays #####\n",
    "    f.allocate()   \n",
    "\n",
    "    ##### fill emissions #####\n",
    "    for scen in df_emis.Scenario.unique():\n",
    "        for var in df_emis.Variable.unique():\n",
    "            if var in f.species:\n",
    "                emis = df_emis.loc[df_emis['Variable'] == var].loc[df_emis['Scenario'] == scen].values[0][5:].reshape(351,1)\n",
    "                fill(f.emissions, emis, scenario=scen, specie=var)\n",
    "\n",
    "    ##### fill forcings #####\n",
    "    for scen in f.scenarios:\n",
    "        fill(\n",
    "            f.forcing,\n",
    "            (df_volcanic.values[:, None, None] * df_configs[\"fscale_Volcanic\"].values.squeeze()).reshape(352, 841),\n",
    "            specie=\"Volcanic\", scenario=scen,\n",
    "        )\n",
    "        fill(\n",
    "            f.forcing,\n",
    "            (df_solar.values[:, None, None] * df_configs[\"fscale_solar_amplitude\"].values).reshape(352, 841)\n",
    "            + (trend_shape[:, None, None] * df_configs[\"fscale_solar_trend\"].values).reshape(352, 841),\n",
    "            specie=\"Solar\", scenario=scen,\n",
    "        )\n",
    "\n",
    "    ##### set configs #####\n",
    "    fill_climate_configs(f, df_configs)\n",
    "    f.fill_species_configs(filename=species_configs)\n",
    "    edit_species_configs(f, species_configs)  #  overwrite configs that we will vary as part of probabilstic sampling\n",
    "\n",
    "    ##### initial conditions #####\n",
    "    initialise(f.concentration, f.species_configs[\"baseline_concentration\"])\n",
    "    initialise(f.forcing, 0)\n",
    "    initialise(f.temperature, 0)   # f.temperature refers to temperature anomaly above PI (288 K)\n",
    "    initialise(f.cumulative_emissions, 0)\n",
    "    initialise(f.airborne_emissions, 0)\n",
    "\n",
    "    ##### RUN #####\n",
    "    f.run()\n",
    "    \n",
    "    return f"
   ]
  },
  {
   "cell_type": "markdown",
   "id": "ce75530d-89c0-4b86-9379-f811763ef548",
   "metadata": {},
   "source": [
    "## Run with each model"
   ]
  },
  {
   "cell_type": "code",
   "execution_count": 8,
   "id": "0b3886ed-4788-49fd-b84f-209a21971bbc",
   "metadata": {},
   "outputs": [
    {
     "data": {
      "application/vnd.jupyter.widget-view+json": {
       "model_id": "3be6790b15b9459d81ff6b799ef75beb",
       "version_major": 2,
       "version_minor": 0
      },
      "text/plain": [
       "Running 5887 projections in parallel:   0%|          | 0/351 [00:00<?, ?timesteps/s]"
      ]
     },
     "metadata": {},
     "output_type": "display_data"
    },
    {
     "data": {
      "application/vnd.jupyter.widget-view+json": {
       "model_id": "d39a8250dcc4444a8232ecc215f30e35",
       "version_major": 2,
       "version_minor": 0
      },
      "text/plain": [
       "Running 5887 projections in parallel:   0%|          | 0/351 [00:00<?, ?timesteps/s]"
      ]
     },
     "metadata": {},
     "output_type": "display_data"
    },
    {
     "data": {
      "application/vnd.jupyter.widget-view+json": {
       "model_id": "25e02b9cbaa8435b808a5d028a115a8c",
       "version_major": 2,
       "version_minor": 0
      },
      "text/plain": [
       "Running 5887 projections in parallel:   0%|          | 0/351 [00:00<?, ?timesteps/s]"
      ]
     },
     "metadata": {},
     "output_type": "display_data"
    }
   ],
   "source": [
    "prob_f_GCAM = probabilistic_run_fair(GCAM_df)\n",
    "prob_f_MSG = probabilistic_run_fair(MSG_df)\n",
    "prob_f_REM = probabilistic_run_fair(REM_df)"
   ]
  },
  {
   "cell_type": "markdown",
   "id": "24dc4d3b-6fec-4986-9219-47d2159667d8",
   "metadata": {},
   "source": [
    "## Save temperature outputs as netcdf"
   ]
  },
  {
   "cell_type": "code",
   "execution_count": 11,
   "id": "53ac521e-74c3-478f-8423-14ce7a9fd187",
   "metadata": {},
   "outputs": [],
   "source": [
    "prob_f_GCAM.temperature.to_dataset(name='temperature').to_netcdf('~/outputs/GCAM_prob_run.nc')\n",
    "prob_f_MSG.temperature.to_dataset(name='temperature').to_netcdf('~/outputs/MSG_prob_run.nc')\n",
    "prob_f_REM.temperature.to_dataset(name='temperature').to_netcdf('~/outputs/REM_prob_run.nc')"
   ]
  }
 ],
 "metadata": {
  "kernelspec": {
   "display_name": "Python 3 (ipykernel)",
   "language": "python",
   "name": "python3"
  },
  "language_info": {
   "codemirror_mode": {
    "name": "ipython",
    "version": 3
   },
   "file_extension": ".py",
   "mimetype": "text/x-python",
   "name": "python",
   "nbconvert_exporter": "python",
   "pygments_lexer": "ipython3",
   "version": "3.10.6"
  }
 },
 "nbformat": 4,
 "nbformat_minor": 5
}
