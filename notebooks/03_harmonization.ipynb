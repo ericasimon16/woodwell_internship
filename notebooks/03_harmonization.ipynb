{
 "cells": [
  {
   "cell_type": "markdown",
   "id": "3d86fcc5-31c2-4082-a4f4-84319b4961a1",
   "metadata": {
    "tags": []
   },
   "source": [
    "# Harmonization\n",
    "## Erica Simon, 02/02/24\n",
    "## Purpose: Use the aneris tool to harmonize emisisons datasets\n",
    "- Historical (1750-2022) and projected (2020-2100) emissions datasets\n",
    "    - Historical dataset is product of PRIMAP, CEDS, GCP, & GFED. More info in `hist_emis_clean`\n",
    "    - Projected datasets are outputs of GCAM 6.0 NGFS, MESSAGEix-GLOBIOM, and REMIND-MAgPIE 3.2-4.6. They were last updated in November 2023 and reflect commitments made until March 2023\n",
    "    \n",
    "    \n",
    "Credit: \n",
    "- Gidden, M. (2017). gidden/aneris: Initial release version for harmonization paper (v0.1.0). Zenodo. https://doi.org/10.5281/ZENODO.802832\n",
    "- https://github.com/chrisroadmap/fair-calibrate/blob/main/input/fair-2.1.3/v1.4/all-2022/calibration/12_harmonize-emissions.py\n"
   ]
  },
  {
   "cell_type": "code",
   "execution_count": 1,
   "id": "3c3aa2b6-9643-4d75-8d9c-7927b53b42fa",
   "metadata": {},
   "outputs": [],
   "source": [
    "import pandas as pd\n",
    "import matplotlib.pyplot as plt\n",
    "import numpy as np\n",
    "\n",
    "import aneris\n",
    "import aneris.convenience\n",
    "from tqdm.auto import tqdm\n",
    "\n",
    "import datetime\n",
    "import os\n",
    "import warnings"
   ]
  },
  {
   "cell_type": "markdown",
   "id": "fb9fd03b-fe03-4f01-a500-24a6f1bc3d98",
   "metadata": {},
   "source": [
    "## Import datasets"
   ]
  },
  {
   "cell_type": "code",
   "execution_count": 2,
   "id": "26a9d64b-1169-4220-81b6-ee95430d335a",
   "metadata": {},
   "outputs": [],
   "source": [
    "GCAM_df = pd.read_csv('../outputs/GCAM_cleaned.csv')\n",
    "MSG_df = pd.read_csv('../outputs/MSG_cleaned.csv')\n",
    "REM_df = pd.read_csv('../outputs/REM_cleaned.csv')\n",
    "hist_df = pd.read_csv('../outputs/hist_emis_cleaned.csv')"
   ]
  },
  {
   "cell_type": "markdown",
   "id": "ecff2690-3efe-441d-a57c-ea3723097c07",
   "metadata": {},
   "source": [
    "## Harmonize\n",
    "This section of code adapted from https://github.com/chrisroadmap/fair-calibrate/blob/main/input/fair-2.1.3/v1.4/all-2022/calibration/12_harmonize-emissions.py\n"
   ]
  },
  {
   "cell_type": "markdown",
   "id": "2eda5420-7970-4632-aafa-faf248ec16e0",
   "metadata": {},
   "source": [
    "### set overrides"
   ]
  },
  {
   "cell_type": "code",
   "execution_count": 3,
   "id": "a78ab252-7d05-4a2f-b813-7835f9f2bbc9",
   "metadata": {},
   "outputs": [],
   "source": [
    "# Harmonization overrides - use same as RCMIP\n",
    "overrides = pd.DataFrame(\n",
    "    [\n",
    "        {\n",
    "            \"method\": \"reduce_ratio_2150_cov\",\n",
    "            \"variable\": \"Emissions|C2F6\",\n",
    "        },  # high historical variance (cov=16.2)\n",
    "        {\n",
    "            \"method\": \"reduce_ratio_2150_cov\",\n",
    "            \"variable\": \"Emissions|C6F14\",\n",
    "        },  # high historical variance (cov=15.4)\n",
    "        {\n",
    "            \"method\": \"reduce_ratio_2150_cov\",\n",
    "            \"variable\": \"Emissions|CF4\",\n",
    "        },  # high historical variance (cov=11.2)\n",
    "        {\n",
    "            \"method\": \"reduce_ratio_2150_cov\",\n",
    "            \"variable\": \"Emissions|CO\",\n",
    "        },  # high historical variance (cov=15.4)\n",
    "        {\n",
    "            \"method\": \"reduce_ratio_2080\",\n",
    "            \"variable\": \"Emissions|CO2\",\n",
    "        },  # always ratio method by choice\n",
    "        {\n",
    "            \"method\": \"reduce_offset_2150_cov\",\n",
    "            \"variable\": \"Emissions|CO2 AFOLU\",\n",
    "        },  # high historical variance, but using offset method to prevent diff from\n",
    "        # increasing when going negative rapidly (cov=23.2)\n",
    "        {\n",
    "            \"method\": \"reduce_ratio_2080\",  # always ratio method by choice\n",
    "            \"variable\": \"Emissions|CO2 FFI\",\n",
    "        },\n",
    "        #     {'method': 'default_aneris_tree', 'variable': 'Emissions|CH4'},\n",
    "        # depending on the decision tree in aneris/method.py\n",
    "        {\n",
    "            \"method\": \"constant_ratio\",\n",
    "            \"variable\": \"Emissions|HFC-125\",\n",
    "        },  # minor f-gas with low model reporting confidence\n",
    "        {\n",
    "            \"method\": \"constant_ratio\",\n",
    "            \"variable\": \"Emissions|HFC-134a\",\n",
    "        },  # minor f-gas with low model reporting confidence\n",
    "        {\n",
    "            \"method\": \"constant_ratio\",\n",
    "            \"variable\": \"Emissions|HFC-143a\",\n",
    "        },  # minor f-gas with low model reporting confidence\n",
    "        {\n",
    "            \"method\": \"constant_ratio\",\n",
    "            \"variable\": \"Emissions|HFC-227ea\",\n",
    "        },  # minor f-gas with low model reporting confidence\n",
    "        {\n",
    "            \"method\": \"constant_ratio\",\n",
    "            \"variable\": \"Emissions|HFC-23\",\n",
    "        },  # minor f-gas with low model reporting confidence\n",
    "        {\n",
    "            \"method\": \"constant_ratio\",\n",
    "            \"variable\": \"Emissions|HFC-32\",\n",
    "        },  # minor f-gas with low model reporting confidence\n",
    "        {\n",
    "            \"method\": \"constant_ratio\",\n",
    "            \"variable\": \"Emissions|HFC-4310mee\",\n",
    "        },  # minor f-gas with low model reporting confidence\n",
    "        #     {'method': 'default_aneris_tree', 'variable': 'Emissions|N2O'},\n",
    "        # depending on the decision tree in aneris/method.py\n",
    "        #     {'method': 'default_aneris_tree', 'variable': 'Emissions|NH3'},\n",
    "        # depending on the decision tree in aneris/method.py\n",
    "        #     {'method': 'default_aneris_tree', 'variable': 'Emissions|NOx'},\n",
    "        # depending on the decision tree in aneris/method.py\n",
    "        {\n",
    "            \"method\": \"reduce_ratio_2150_cov\",\n",
    "            \"variable\": \"Emissions|OC\",\n",
    "        },  # high historical variance (cov=18.5)\n",
    "        {\n",
    "            \"method\": \"constant_ratio\",\n",
    "            \"variable\": \"Emissions|SF6\",\n",
    "        },  # minor f-gas with low model reporting confidence\n",
    "        #     {'method': 'default_aneris_tree', 'variable': 'Emissions|Sulfur'},\n",
    "        # depending on the decision tree in aneris/method.py\n",
    "        {\n",
    "            \"method\": \"reduce_ratio_2150_cov\",\n",
    "            \"variable\": \"Emissions|VOC\",\n",
    "        },  # high historical variance (cov=12.0)\n",
    "    ]\n",
    ")"
   ]
  },
  {
   "cell_type": "markdown",
   "id": "7574854a-1a68-4d4a-91c2-9e68d07f4bdc",
   "metadata": {},
   "source": [
    "we need to remove the override for HFC-23 in the MESSAGE IAM because has all emissions at 0 for this specie"
   ]
  },
  {
   "cell_type": "code",
   "execution_count": 4,
   "id": "5366ea46-df9f-47c7-a3ef-e7f63df82366",
   "metadata": {},
   "outputs": [],
   "source": [
    "MSG_overrides = overrides[~(overrides.variable == 'Emissions|HFC-23')]"
   ]
  },
  {
   "cell_type": "markdown",
   "id": "ecfdf8ac-1935-48e9-9d2b-49036c97ad64",
   "metadata": {},
   "source": [
    "### run harmonizer"
   ]
  },
  {
   "cell_type": "code",
   "execution_count": 5,
   "id": "472b0344-d143-4f1e-af18-e6d02f46310d",
   "metadata": {},
   "outputs": [],
   "source": [
    "progress = os.getenv(\"PROGRESS\", \"False\").lower() in (\"true\", \"1\", \"t\")"
   ]
  },
  {
   "cell_type": "code",
   "execution_count": null,
   "id": "d22a055a-341c-41e7-82ba-1ea016690f54",
   "metadata": {},
   "outputs": [],
   "source": [
    "for _, msdf in tqdm(GCAM_df.groupby([\"Model\", \"Scenario\"]), disable=1 - progress):\n",
    "    print(msdf)"
   ]
  },
  {
   "cell_type": "code",
   "execution_count": 6,
   "id": "31789305-f057-44a3-b913-8d1adf8152b9",
   "metadata": {},
   "outputs": [],
   "source": [
    "def harmonize(hist, future, harm_yr, overrides):\n",
    "\n",
    "    with warnings.catch_warnings():\n",
    "        warnings.simplefilter(\"ignore\")\n",
    "        scenarios_harmonized = [\n",
    "            aneris.convenience.harmonise_all(\n",
    "                msdf,\n",
    "                history=hist,\n",
    "                harmonisation_year=harm_yr,\n",
    "                overrides=overrides,\n",
    "            )\n",
    "            for _, msdf in tqdm(future.groupby([\"Model\", \"Scenario\"]), disable=1 - progress)\n",
    "        ]\n",
    "\n",
    "    scenarios_harmonized = pd.concat(scenarios_harmonized).reset_index()\n",
    "    return scenarios_harmonized"
   ]
  },
  {
   "cell_type": "code",
   "execution_count": 7,
   "id": "716e7768-c793-4518-a193-3fca84bc0190",
   "metadata": {},
   "outputs": [
    {
     "ename": "TypeError",
     "evalue": "'NoneType' object is not callable",
     "output_type": "error",
     "traceback": [
      "\u001b[0;31m---------------------------------------------------------------------------\u001b[0m",
      "\u001b[0;31mTypeError\u001b[0m                                 Traceback (most recent call last)",
      "Cell \u001b[0;32mIn [7], line 1\u001b[0m\n\u001b[0;32m----> 1\u001b[0m GCAM_harm \u001b[38;5;241m=\u001b[39m \u001b[43mharmonize\u001b[49m\u001b[43m(\u001b[49m\u001b[43mhist_df\u001b[49m\u001b[43m,\u001b[49m\u001b[43m \u001b[49m\u001b[43mGCAM_df\u001b[49m\u001b[43m,\u001b[49m\u001b[43m \u001b[49m\u001b[38;5;241;43m2022\u001b[39;49m\u001b[43m,\u001b[49m\u001b[43m \u001b[49m\u001b[43moverrides\u001b[49m\u001b[43m)\u001b[49m\n\u001b[1;32m      2\u001b[0m MSG_harm \u001b[38;5;241m=\u001b[39m harmonize(hist_df, MSG_df, \u001b[38;5;241m2022\u001b[39m, MSG_overrides)\n\u001b[1;32m      3\u001b[0m REM_harm \u001b[38;5;241m=\u001b[39m harmonize(hist_df, REM_df, \u001b[38;5;241m2022\u001b[39m, overrides)\n",
      "Cell \u001b[0;32mIn [6], line 5\u001b[0m, in \u001b[0;36mharmonize\u001b[0;34m(hist, future, harm_yr, overrides)\u001b[0m\n\u001b[1;32m      3\u001b[0m \u001b[38;5;28;01mwith\u001b[39;00m warnings\u001b[38;5;241m.\u001b[39mcatch_warnings():\n\u001b[1;32m      4\u001b[0m     warnings\u001b[38;5;241m.\u001b[39msimplefilter(\u001b[38;5;124m\"\u001b[39m\u001b[38;5;124mignore\u001b[39m\u001b[38;5;124m\"\u001b[39m)\n\u001b[0;32m----> 5\u001b[0m     scenarios_harmonized \u001b[38;5;241m=\u001b[39m [\n\u001b[1;32m      6\u001b[0m         aneris\u001b[38;5;241m.\u001b[39mconvenience\u001b[38;5;241m.\u001b[39mharmonise_all(\n\u001b[1;32m      7\u001b[0m             msdf,\n\u001b[1;32m      8\u001b[0m             history\u001b[38;5;241m=\u001b[39mhist,\n\u001b[1;32m      9\u001b[0m             harmonisation_year\u001b[38;5;241m=\u001b[39mharm_yr,\n\u001b[1;32m     10\u001b[0m             overrides\u001b[38;5;241m=\u001b[39moverrides,\n\u001b[1;32m     11\u001b[0m         )\n\u001b[1;32m     12\u001b[0m         \u001b[38;5;28;01mfor\u001b[39;00m _, msdf \u001b[38;5;129;01min\u001b[39;00m tqdm(future\u001b[38;5;241m.\u001b[39mgroupby([\u001b[38;5;124m\"\u001b[39m\u001b[38;5;124mModel\u001b[39m\u001b[38;5;124m\"\u001b[39m, \u001b[38;5;124m\"\u001b[39m\u001b[38;5;124mScenario\u001b[39m\u001b[38;5;124m\"\u001b[39m]), disable\u001b[38;5;241m=\u001b[39m\u001b[38;5;241m1\u001b[39m \u001b[38;5;241m-\u001b[39m progress)\n\u001b[1;32m     13\u001b[0m     ]\n\u001b[1;32m     15\u001b[0m scenarios_harmonized \u001b[38;5;241m=\u001b[39m pd\u001b[38;5;241m.\u001b[39mconcat(scenarios_harmonized)\u001b[38;5;241m.\u001b[39mreset_index()\n\u001b[1;32m     16\u001b[0m \u001b[38;5;28;01mreturn\u001b[39;00m scenarios_harmonized\n",
      "Cell \u001b[0;32mIn [6], line 6\u001b[0m, in \u001b[0;36m<listcomp>\u001b[0;34m(.0)\u001b[0m\n\u001b[1;32m      3\u001b[0m \u001b[38;5;28;01mwith\u001b[39;00m warnings\u001b[38;5;241m.\u001b[39mcatch_warnings():\n\u001b[1;32m      4\u001b[0m     warnings\u001b[38;5;241m.\u001b[39msimplefilter(\u001b[38;5;124m\"\u001b[39m\u001b[38;5;124mignore\u001b[39m\u001b[38;5;124m\"\u001b[39m)\n\u001b[1;32m      5\u001b[0m     scenarios_harmonized \u001b[38;5;241m=\u001b[39m [\n\u001b[0;32m----> 6\u001b[0m         \u001b[43maneris\u001b[49m\u001b[38;5;241;43m.\u001b[39;49m\u001b[43mconvenience\u001b[49m\u001b[38;5;241;43m.\u001b[39;49m\u001b[43mharmonise_all\u001b[49m\u001b[43m(\u001b[49m\n\u001b[1;32m      7\u001b[0m \u001b[43m            \u001b[49m\u001b[43mmsdf\u001b[49m\u001b[43m,\u001b[49m\n\u001b[1;32m      8\u001b[0m \u001b[43m            \u001b[49m\u001b[43mhistory\u001b[49m\u001b[38;5;241;43m=\u001b[39;49m\u001b[43mhist\u001b[49m\u001b[43m,\u001b[49m\n\u001b[1;32m      9\u001b[0m \u001b[43m            \u001b[49m\u001b[43mharmonisation_year\u001b[49m\u001b[38;5;241;43m=\u001b[39;49m\u001b[43mharm_yr\u001b[49m\u001b[43m,\u001b[49m\n\u001b[1;32m     10\u001b[0m \u001b[43m            \u001b[49m\u001b[43moverrides\u001b[49m\u001b[38;5;241;43m=\u001b[39;49m\u001b[43moverrides\u001b[49m\u001b[43m,\u001b[49m\n\u001b[1;32m     11\u001b[0m \u001b[43m        \u001b[49m\u001b[43m)\u001b[49m\n\u001b[1;32m     12\u001b[0m         \u001b[38;5;28;01mfor\u001b[39;00m _, msdf \u001b[38;5;129;01min\u001b[39;00m tqdm(future\u001b[38;5;241m.\u001b[39mgroupby([\u001b[38;5;124m\"\u001b[39m\u001b[38;5;124mModel\u001b[39m\u001b[38;5;124m\"\u001b[39m, \u001b[38;5;124m\"\u001b[39m\u001b[38;5;124mScenario\u001b[39m\u001b[38;5;124m\"\u001b[39m]), disable\u001b[38;5;241m=\u001b[39m\u001b[38;5;241m1\u001b[39m \u001b[38;5;241m-\u001b[39m progress)\n\u001b[1;32m     13\u001b[0m     ]\n\u001b[1;32m     15\u001b[0m scenarios_harmonized \u001b[38;5;241m=\u001b[39m pd\u001b[38;5;241m.\u001b[39mconcat(scenarios_harmonized)\u001b[38;5;241m.\u001b[39mreset_index()\n\u001b[1;32m     16\u001b[0m \u001b[38;5;28;01mreturn\u001b[39;00m scenarios_harmonized\n",
      "File \u001b[0;32m/opt/miniconda/envs/risk/lib/python3.10/site-packages/aneris/convenience.py:72\u001b[0m, in \u001b[0;36mharmonise_all\u001b[0;34m(scenarios, history, harmonisation_year, overrides)\u001b[0m\n\u001b[1;32m     13\u001b[0m \u001b[38;5;124;03m\"\"\"\u001b[39;00m\n\u001b[1;32m     14\u001b[0m \u001b[38;5;124;03mHarmonise all timeseries in ``scenarios`` to match ``history``\u001b[39;00m\n\u001b[1;32m     15\u001b[0m \n\u001b[0;32m   (...)\u001b[0m\n\u001b[1;32m     68\u001b[0m \u001b[38;5;124;03m    given timeseries\u001b[39;00m\n\u001b[1;32m     69\u001b[0m \u001b[38;5;124;03m\"\"\"\u001b[39;00m\n\u001b[1;32m     70\u001b[0m \u001b[38;5;66;03m# use groupby to maintain indexes, not sure if there's a better way because\u001b[39;00m\n\u001b[1;32m     71\u001b[0m \u001b[38;5;66;03m# this will likely be super slow\u001b[39;00m\n\u001b[0;32m---> 72\u001b[0m res \u001b[38;5;241m=\u001b[39m \u001b[43mscenarios\u001b[49m\u001b[38;5;241;43m.\u001b[39;49m\u001b[43mgroupby\u001b[49m\u001b[43m(\u001b[49m\u001b[43mscenarios\u001b[49m\u001b[38;5;241;43m.\u001b[39;49m\u001b[43mindex\u001b[49m\u001b[38;5;241;43m.\u001b[39;49m\u001b[43mnames\u001b[49m\u001b[43m)\u001b[49m\u001b[38;5;241m.\u001b[39mapply(\n\u001b[1;32m     73\u001b[0m     _harmonise_single, history, harmonisation_year, overrides\n\u001b[1;32m     74\u001b[0m )\n\u001b[1;32m     76\u001b[0m \u001b[38;5;28;01mreturn\u001b[39;00m res\n",
      "File \u001b[0;32m/opt/miniconda/envs/risk/lib/python3.10/site-packages/pandas/core/frame.py:9156\u001b[0m, in \u001b[0;36mDataFrame.groupby\u001b[0;34m(self, by, axis, level, as_index, sort, group_keys, observed, dropna)\u001b[0m\n\u001b[1;32m   9153\u001b[0m \u001b[38;5;28;01mif\u001b[39;00m level \u001b[38;5;129;01mis\u001b[39;00m \u001b[38;5;28;01mNone\u001b[39;00m \u001b[38;5;129;01mand\u001b[39;00m by \u001b[38;5;129;01mis\u001b[39;00m \u001b[38;5;28;01mNone\u001b[39;00m:\n\u001b[1;32m   9154\u001b[0m     \u001b[38;5;28;01mraise\u001b[39;00m \u001b[38;5;167;01mTypeError\u001b[39;00m(\u001b[38;5;124m\"\u001b[39m\u001b[38;5;124mYou have to supply one of \u001b[39m\u001b[38;5;124m'\u001b[39m\u001b[38;5;124mby\u001b[39m\u001b[38;5;124m'\u001b[39m\u001b[38;5;124m and \u001b[39m\u001b[38;5;124m'\u001b[39m\u001b[38;5;124mlevel\u001b[39m\u001b[38;5;124m'\u001b[39m\u001b[38;5;124m\"\u001b[39m)\n\u001b[0;32m-> 9156\u001b[0m \u001b[38;5;28;01mreturn\u001b[39;00m \u001b[43mDataFrameGroupBy\u001b[49m\u001b[43m(\u001b[49m\n\u001b[1;32m   9157\u001b[0m \u001b[43m    \u001b[49m\u001b[43mobj\u001b[49m\u001b[38;5;241;43m=\u001b[39;49m\u001b[38;5;28;43mself\u001b[39;49m\u001b[43m,\u001b[49m\n\u001b[1;32m   9158\u001b[0m \u001b[43m    \u001b[49m\u001b[43mkeys\u001b[49m\u001b[38;5;241;43m=\u001b[39;49m\u001b[43mby\u001b[49m\u001b[43m,\u001b[49m\n\u001b[1;32m   9159\u001b[0m \u001b[43m    \u001b[49m\u001b[43maxis\u001b[49m\u001b[38;5;241;43m=\u001b[39;49m\u001b[43maxis\u001b[49m\u001b[43m,\u001b[49m\n\u001b[1;32m   9160\u001b[0m \u001b[43m    \u001b[49m\u001b[43mlevel\u001b[49m\u001b[38;5;241;43m=\u001b[39;49m\u001b[43mlevel\u001b[49m\u001b[43m,\u001b[49m\n\u001b[1;32m   9161\u001b[0m \u001b[43m    \u001b[49m\u001b[43mas_index\u001b[49m\u001b[38;5;241;43m=\u001b[39;49m\u001b[43mas_index\u001b[49m\u001b[43m,\u001b[49m\n\u001b[1;32m   9162\u001b[0m \u001b[43m    \u001b[49m\u001b[43msort\u001b[49m\u001b[38;5;241;43m=\u001b[39;49m\u001b[43msort\u001b[49m\u001b[43m,\u001b[49m\n\u001b[1;32m   9163\u001b[0m \u001b[43m    \u001b[49m\u001b[43mgroup_keys\u001b[49m\u001b[38;5;241;43m=\u001b[39;49m\u001b[43mgroup_keys\u001b[49m\u001b[43m,\u001b[49m\n\u001b[1;32m   9164\u001b[0m \u001b[43m    \u001b[49m\u001b[43mobserved\u001b[49m\u001b[38;5;241;43m=\u001b[39;49m\u001b[43mobserved\u001b[49m\u001b[43m,\u001b[49m\n\u001b[1;32m   9165\u001b[0m \u001b[43m    \u001b[49m\u001b[43mdropna\u001b[49m\u001b[38;5;241;43m=\u001b[39;49m\u001b[43mdropna\u001b[49m\u001b[43m,\u001b[49m\n\u001b[1;32m   9166\u001b[0m \u001b[43m\u001b[49m\u001b[43m)\u001b[49m\n",
      "File \u001b[0;32m/opt/miniconda/envs/risk/lib/python3.10/site-packages/pandas/core/groupby/groupby.py:1329\u001b[0m, in \u001b[0;36mGroupBy.__init__\u001b[0;34m(self, obj, keys, axis, level, grouper, exclusions, selection, as_index, sort, group_keys, observed, dropna)\u001b[0m\n\u001b[1;32m   1326\u001b[0m \u001b[38;5;28mself\u001b[39m\u001b[38;5;241m.\u001b[39mdropna \u001b[38;5;241m=\u001b[39m dropna\n\u001b[1;32m   1328\u001b[0m \u001b[38;5;28;01mif\u001b[39;00m grouper \u001b[38;5;129;01mis\u001b[39;00m \u001b[38;5;28;01mNone\u001b[39;00m:\n\u001b[0;32m-> 1329\u001b[0m     grouper, exclusions, obj \u001b[38;5;241m=\u001b[39m \u001b[43mget_grouper\u001b[49m\u001b[43m(\u001b[49m\n\u001b[1;32m   1330\u001b[0m \u001b[43m        \u001b[49m\u001b[43mobj\u001b[49m\u001b[43m,\u001b[49m\n\u001b[1;32m   1331\u001b[0m \u001b[43m        \u001b[49m\u001b[43mkeys\u001b[49m\u001b[43m,\u001b[49m\n\u001b[1;32m   1332\u001b[0m \u001b[43m        \u001b[49m\u001b[43maxis\u001b[49m\u001b[38;5;241;43m=\u001b[39;49m\u001b[43maxis\u001b[49m\u001b[43m,\u001b[49m\n\u001b[1;32m   1333\u001b[0m \u001b[43m        \u001b[49m\u001b[43mlevel\u001b[49m\u001b[38;5;241;43m=\u001b[39;49m\u001b[43mlevel\u001b[49m\u001b[43m,\u001b[49m\n\u001b[1;32m   1334\u001b[0m \u001b[43m        \u001b[49m\u001b[43msort\u001b[49m\u001b[38;5;241;43m=\u001b[39;49m\u001b[43msort\u001b[49m\u001b[43m,\u001b[49m\n\u001b[1;32m   1335\u001b[0m \u001b[43m        \u001b[49m\u001b[43mobserved\u001b[49m\u001b[38;5;241;43m=\u001b[39;49m\u001b[38;5;28;43;01mFalse\u001b[39;49;00m\u001b[43m \u001b[49m\u001b[38;5;28;43;01mif\u001b[39;49;00m\u001b[43m \u001b[49m\u001b[43mobserved\u001b[49m\u001b[43m \u001b[49m\u001b[38;5;129;43;01mis\u001b[39;49;00m\u001b[43m \u001b[49m\u001b[43mlib\u001b[49m\u001b[38;5;241;43m.\u001b[39;49m\u001b[43mno_default\u001b[49m\u001b[43m \u001b[49m\u001b[38;5;28;43;01melse\u001b[39;49;00m\u001b[43m \u001b[49m\u001b[43mobserved\u001b[49m\u001b[43m,\u001b[49m\n\u001b[1;32m   1336\u001b[0m \u001b[43m        \u001b[49m\u001b[43mdropna\u001b[49m\u001b[38;5;241;43m=\u001b[39;49m\u001b[38;5;28;43mself\u001b[39;49m\u001b[38;5;241;43m.\u001b[39;49m\u001b[43mdropna\u001b[49m\u001b[43m,\u001b[49m\n\u001b[1;32m   1337\u001b[0m \u001b[43m    \u001b[49m\u001b[43m)\u001b[49m\n\u001b[1;32m   1339\u001b[0m \u001b[38;5;28;01mif\u001b[39;00m observed \u001b[38;5;129;01mis\u001b[39;00m lib\u001b[38;5;241m.\u001b[39mno_default:\n\u001b[1;32m   1340\u001b[0m     \u001b[38;5;28;01mif\u001b[39;00m \u001b[38;5;28many\u001b[39m(ping\u001b[38;5;241m.\u001b[39m_passed_categorical \u001b[38;5;28;01mfor\u001b[39;00m ping \u001b[38;5;129;01min\u001b[39;00m grouper\u001b[38;5;241m.\u001b[39mgroupings):\n",
      "File \u001b[0;32m/opt/miniconda/envs/risk/lib/python3.10/site-packages/pandas/core/groupby/grouper.py:1054\u001b[0m, in \u001b[0;36mget_grouper\u001b[0;34m(obj, key, axis, level, sort, observed, validate, dropna)\u001b[0m\n\u001b[1;32m   1049\u001b[0m         in_axis \u001b[38;5;241m=\u001b[39m \u001b[38;5;28;01mFalse\u001b[39;00m\n\u001b[1;32m   1051\u001b[0m     \u001b[38;5;66;03m# create the Grouping\u001b[39;00m\n\u001b[1;32m   1052\u001b[0m     \u001b[38;5;66;03m# allow us to passing the actual Grouping as the gpr\u001b[39;00m\n\u001b[1;32m   1053\u001b[0m     ping \u001b[38;5;241m=\u001b[39m (\n\u001b[0;32m-> 1054\u001b[0m         \u001b[43mGrouping\u001b[49m\u001b[43m(\u001b[49m\n\u001b[1;32m   1055\u001b[0m \u001b[43m            \u001b[49m\u001b[43mgroup_axis\u001b[49m\u001b[43m,\u001b[49m\n\u001b[1;32m   1056\u001b[0m \u001b[43m            \u001b[49m\u001b[43mgpr\u001b[49m\u001b[43m,\u001b[49m\n\u001b[1;32m   1057\u001b[0m \u001b[43m            \u001b[49m\u001b[43mobj\u001b[49m\u001b[38;5;241;43m=\u001b[39;49m\u001b[43mobj\u001b[49m\u001b[43m,\u001b[49m\n\u001b[1;32m   1058\u001b[0m \u001b[43m            \u001b[49m\u001b[43mlevel\u001b[49m\u001b[38;5;241;43m=\u001b[39;49m\u001b[43mlevel\u001b[49m\u001b[43m,\u001b[49m\n\u001b[1;32m   1059\u001b[0m \u001b[43m            \u001b[49m\u001b[43msort\u001b[49m\u001b[38;5;241;43m=\u001b[39;49m\u001b[43msort\u001b[49m\u001b[43m,\u001b[49m\n\u001b[1;32m   1060\u001b[0m \u001b[43m            \u001b[49m\u001b[43mobserved\u001b[49m\u001b[38;5;241;43m=\u001b[39;49m\u001b[43mobserved\u001b[49m\u001b[43m,\u001b[49m\n\u001b[1;32m   1061\u001b[0m \u001b[43m            \u001b[49m\u001b[43min_axis\u001b[49m\u001b[38;5;241;43m=\u001b[39;49m\u001b[43min_axis\u001b[49m\u001b[43m,\u001b[49m\n\u001b[1;32m   1062\u001b[0m \u001b[43m            \u001b[49m\u001b[43mdropna\u001b[49m\u001b[38;5;241;43m=\u001b[39;49m\u001b[43mdropna\u001b[49m\u001b[43m,\u001b[49m\n\u001b[1;32m   1063\u001b[0m \u001b[43m        \u001b[49m\u001b[43m)\u001b[49m\n\u001b[1;32m   1064\u001b[0m         \u001b[38;5;28;01mif\u001b[39;00m \u001b[38;5;129;01mnot\u001b[39;00m \u001b[38;5;28misinstance\u001b[39m(gpr, Grouping)\n\u001b[1;32m   1065\u001b[0m         \u001b[38;5;28;01melse\u001b[39;00m gpr\n\u001b[1;32m   1066\u001b[0m     )\n\u001b[1;32m   1068\u001b[0m     groupings\u001b[38;5;241m.\u001b[39mappend(ping)\n\u001b[1;32m   1070\u001b[0m \u001b[38;5;28;01mif\u001b[39;00m \u001b[38;5;28mlen\u001b[39m(groupings) \u001b[38;5;241m==\u001b[39m \u001b[38;5;241m0\u001b[39m \u001b[38;5;129;01mand\u001b[39;00m \u001b[38;5;28mlen\u001b[39m(obj):\n",
      "File \u001b[0;32m/opt/miniconda/envs/risk/lib/python3.10/site-packages/pandas/core/groupby/grouper.py:603\u001b[0m, in \u001b[0;36mGrouping.__init__\u001b[0;34m(self, index, grouper, obj, level, sort, observed, in_axis, dropna, uniques)\u001b[0m\n\u001b[1;32m    600\u001b[0m     t \u001b[38;5;241m=\u001b[39m \u001b[38;5;28mstr\u001b[39m(\u001b[38;5;28mtype\u001b[39m(grouping_vector))\n\u001b[1;32m    601\u001b[0m     \u001b[38;5;28;01mraise\u001b[39;00m \u001b[38;5;167;01mValueError\u001b[39;00m(\u001b[38;5;124mf\u001b[39m\u001b[38;5;124m\"\u001b[39m\u001b[38;5;124mGrouper for \u001b[39m\u001b[38;5;124m'\u001b[39m\u001b[38;5;132;01m{\u001b[39;00mt\u001b[38;5;132;01m}\u001b[39;00m\u001b[38;5;124m'\u001b[39m\u001b[38;5;124m not 1-dimensional\u001b[39m\u001b[38;5;124m\"\u001b[39m)\n\u001b[0;32m--> 603\u001b[0m grouping_vector \u001b[38;5;241m=\u001b[39m \u001b[43mindex\u001b[49m\u001b[38;5;241;43m.\u001b[39;49m\u001b[43mmap\u001b[49m\u001b[43m(\u001b[49m\u001b[43mgrouping_vector\u001b[49m\u001b[43m)\u001b[49m\n\u001b[1;32m    605\u001b[0m \u001b[38;5;28;01mif\u001b[39;00m \u001b[38;5;129;01mnot\u001b[39;00m (\n\u001b[1;32m    606\u001b[0m     \u001b[38;5;28mhasattr\u001b[39m(grouping_vector, \u001b[38;5;124m\"\u001b[39m\u001b[38;5;124m__len__\u001b[39m\u001b[38;5;124m\"\u001b[39m)\n\u001b[1;32m    607\u001b[0m     \u001b[38;5;129;01mand\u001b[39;00m \u001b[38;5;28mlen\u001b[39m(grouping_vector) \u001b[38;5;241m==\u001b[39m \u001b[38;5;28mlen\u001b[39m(index)\n\u001b[1;32m    608\u001b[0m ):\n\u001b[1;32m    609\u001b[0m     grper \u001b[38;5;241m=\u001b[39m pprint_thing(grouping_vector)\n",
      "File \u001b[0;32m/opt/miniconda/envs/risk/lib/python3.10/site-packages/pandas/core/indexes/base.py:6490\u001b[0m, in \u001b[0;36mIndex.map\u001b[0;34m(self, mapper, na_action)\u001b[0m\n\u001b[1;32m   6454\u001b[0m \u001b[38;5;124;03m\"\"\"\u001b[39;00m\n\u001b[1;32m   6455\u001b[0m \u001b[38;5;124;03mMap values using an input mapping or function.\u001b[39;00m\n\u001b[1;32m   6456\u001b[0m \n\u001b[0;32m   (...)\u001b[0m\n\u001b[1;32m   6486\u001b[0m \u001b[38;5;124;03mIndex(['A', 'B', 'C'], dtype='object')\u001b[39;00m\n\u001b[1;32m   6487\u001b[0m \u001b[38;5;124;03m\"\"\"\u001b[39;00m\n\u001b[1;32m   6488\u001b[0m \u001b[38;5;28;01mfrom\u001b[39;00m \u001b[38;5;21;01mpandas\u001b[39;00m\u001b[38;5;21;01m.\u001b[39;00m\u001b[38;5;21;01mcore\u001b[39;00m\u001b[38;5;21;01m.\u001b[39;00m\u001b[38;5;21;01mindexes\u001b[39;00m\u001b[38;5;21;01m.\u001b[39;00m\u001b[38;5;21;01mmulti\u001b[39;00m \u001b[38;5;28;01mimport\u001b[39;00m MultiIndex\n\u001b[0;32m-> 6490\u001b[0m new_values \u001b[38;5;241m=\u001b[39m \u001b[38;5;28;43mself\u001b[39;49m\u001b[38;5;241;43m.\u001b[39;49m\u001b[43m_map_values\u001b[49m\u001b[43m(\u001b[49m\u001b[43mmapper\u001b[49m\u001b[43m,\u001b[49m\u001b[43m \u001b[49m\u001b[43mna_action\u001b[49m\u001b[38;5;241;43m=\u001b[39;49m\u001b[43mna_action\u001b[49m\u001b[43m)\u001b[49m\n\u001b[1;32m   6492\u001b[0m \u001b[38;5;66;03m# we can return a MultiIndex\u001b[39;00m\n\u001b[1;32m   6493\u001b[0m \u001b[38;5;28;01mif\u001b[39;00m new_values\u001b[38;5;241m.\u001b[39msize \u001b[38;5;129;01mand\u001b[39;00m \u001b[38;5;28misinstance\u001b[39m(new_values[\u001b[38;5;241m0\u001b[39m], \u001b[38;5;28mtuple\u001b[39m):\n",
      "File \u001b[0;32m/opt/miniconda/envs/risk/lib/python3.10/site-packages/pandas/core/base.py:921\u001b[0m, in \u001b[0;36mIndexOpsMixin._map_values\u001b[0;34m(self, mapper, na_action, convert)\u001b[0m\n\u001b[1;32m    918\u001b[0m \u001b[38;5;28;01mif\u001b[39;00m \u001b[38;5;28misinstance\u001b[39m(arr, ExtensionArray):\n\u001b[1;32m    919\u001b[0m     \u001b[38;5;28;01mreturn\u001b[39;00m arr\u001b[38;5;241m.\u001b[39mmap(mapper, na_action\u001b[38;5;241m=\u001b[39mna_action)\n\u001b[0;32m--> 921\u001b[0m \u001b[38;5;28;01mreturn\u001b[39;00m \u001b[43malgorithms\u001b[49m\u001b[38;5;241;43m.\u001b[39;49m\u001b[43mmap_array\u001b[49m\u001b[43m(\u001b[49m\u001b[43marr\u001b[49m\u001b[43m,\u001b[49m\u001b[43m \u001b[49m\u001b[43mmapper\u001b[49m\u001b[43m,\u001b[49m\u001b[43m \u001b[49m\u001b[43mna_action\u001b[49m\u001b[38;5;241;43m=\u001b[39;49m\u001b[43mna_action\u001b[49m\u001b[43m,\u001b[49m\u001b[43m \u001b[49m\u001b[43mconvert\u001b[49m\u001b[38;5;241;43m=\u001b[39;49m\u001b[43mconvert\u001b[49m\u001b[43m)\u001b[49m\n",
      "File \u001b[0;32m/opt/miniconda/envs/risk/lib/python3.10/site-packages/pandas/core/algorithms.py:1743\u001b[0m, in \u001b[0;36mmap_array\u001b[0;34m(arr, mapper, na_action, convert)\u001b[0m\n\u001b[1;32m   1741\u001b[0m values \u001b[38;5;241m=\u001b[39m arr\u001b[38;5;241m.\u001b[39mastype(\u001b[38;5;28mobject\u001b[39m, copy\u001b[38;5;241m=\u001b[39m\u001b[38;5;28;01mFalse\u001b[39;00m)\n\u001b[1;32m   1742\u001b[0m \u001b[38;5;28;01mif\u001b[39;00m na_action \u001b[38;5;129;01mis\u001b[39;00m \u001b[38;5;28;01mNone\u001b[39;00m:\n\u001b[0;32m-> 1743\u001b[0m     \u001b[38;5;28;01mreturn\u001b[39;00m \u001b[43mlib\u001b[49m\u001b[38;5;241;43m.\u001b[39;49m\u001b[43mmap_infer\u001b[49m\u001b[43m(\u001b[49m\u001b[43mvalues\u001b[49m\u001b[43m,\u001b[49m\u001b[43m \u001b[49m\u001b[43mmapper\u001b[49m\u001b[43m,\u001b[49m\u001b[43m \u001b[49m\u001b[43mconvert\u001b[49m\u001b[38;5;241;43m=\u001b[39;49m\u001b[43mconvert\u001b[49m\u001b[43m)\u001b[49m\n\u001b[1;32m   1744\u001b[0m \u001b[38;5;28;01melse\u001b[39;00m:\n\u001b[1;32m   1745\u001b[0m     \u001b[38;5;28;01mreturn\u001b[39;00m lib\u001b[38;5;241m.\u001b[39mmap_infer_mask(\n\u001b[1;32m   1746\u001b[0m         values, mapper, mask\u001b[38;5;241m=\u001b[39misna(values)\u001b[38;5;241m.\u001b[39mview(np\u001b[38;5;241m.\u001b[39muint8), convert\u001b[38;5;241m=\u001b[39mconvert\n\u001b[1;32m   1747\u001b[0m     )\n",
      "File \u001b[0;32mlib.pyx:2972\u001b[0m, in \u001b[0;36mpandas._libs.lib.map_infer\u001b[0;34m()\u001b[0m\n",
      "\u001b[0;31mTypeError\u001b[0m: 'NoneType' object is not callable"
     ]
    }
   ],
   "source": [
    "GCAM_harm = harmonize(hist_df, GCAM_df, 2022, overrides)\n",
    "MSG_harm = harmonize(hist_df, MSG_df, 2022, MSG_overrides)\n",
    "REM_harm = harmonize(hist_df, REM_df, 2022, overrides)"
   ]
  },
  {
   "cell_type": "markdown",
   "id": "405857a1-db3f-4912-ad8f-d6b56ca4cce8",
   "metadata": {},
   "source": [
    "### combine hist and future dfs into one harmonized dataset"
   ]
  },
  {
   "cell_type": "code",
   "execution_count": null,
   "id": "ed7ba5ff-fbe5-431d-8baa-423d8a43a7e9",
   "metadata": {},
   "outputs": [],
   "source": [
    "yrs = np.arange(1750, 2101, 1)\n",
    "new_column_order = ['model', 'scenario', 'region', 'Variable', 'unit']\n",
    "\n",
    "for yr in yrs:\n",
    "    new_column_order.append(str(yr))"
   ]
  },
  {
   "cell_type": "code",
   "execution_count": null,
   "id": "116a8faf-c5c1-4eb1-84ea-4cf25746d2c1",
   "metadata": {},
   "outputs": [],
   "source": [
    "def combine(hist_df, future_df):\n",
    "    # rename to match case of hist df\n",
    "    future_df = future_df.rename(columns={\"variable\": \"Variable\"})\n",
    "    \n",
    "    # merge hist and future\n",
    "    df = pd.merge(future_df, hist_df, on='Variable', how='inner')\n",
    "    \n",
    "    # reorder columns to be in correct year order\n",
    "    df.columns = df.columns.astype(str)\n",
    "    df.drop(columns=['Model', 'Scenario', 'Region', 'Unit'], inplace=True)  # remove extra columns from hist\n",
    "    df = df.iloc[:, :-1]  # remove duplicate 2022 column\n",
    "    df = df[new_column_order]\n",
    "    \n",
    "    # update column names for uppercase consistency\n",
    "    df = df.rename(columns={\"model\": \"Model\", \"scenario\": \"Scenario\", \"region\": \"Region\", \"unit\": \"Unit\"})\n",
    "    \n",
    "    return df"
   ]
  },
  {
   "cell_type": "code",
   "execution_count": null,
   "id": "441fcfdf-a0ec-42b7-9134-928f44bccca4",
   "metadata": {},
   "outputs": [],
   "source": [
    "GCAM_full = combine(hist_df, GCAM_harm)\n",
    "MSG_full = combine(hist_df, MSG_harm)\n",
    "REM_full = combine(hist_df, REM_harm)"
   ]
  },
  {
   "cell_type": "markdown",
   "id": "c54ead47-f89a-4f10-bcea-9c1d493ad75b",
   "metadata": {},
   "source": [
    "### save harmonized data"
   ]
  },
  {
   "cell_type": "code",
   "execution_count": null,
   "id": "15a1985c-5d89-4ac7-a95a-d889802f687d",
   "metadata": {},
   "outputs": [],
   "source": [
    "GCAM_full.to_csv('../outputs/GCAM_harm.csv', index=False)\n",
    "MSG_full.to_csv('../outputs/MSG_harm.csv', index=False)\n",
    "REM_full.to_csv('../outputs/REM_harm.csv', index=False)"
   ]
  },
  {
   "cell_type": "markdown",
   "id": "244c67b9-613e-4fb7-9c4b-9ffe0ce7ec48",
   "metadata": {
    "tags": []
   },
   "source": [
    "## Visualize"
   ]
  },
  {
   "cell_type": "code",
   "execution_count": null,
   "id": "abfc1f5d-f8d6-4c29-a8b8-bf3d620cc900",
   "metadata": {},
   "outputs": [],
   "source": [
    "def plot_harm(hist, future, harm_ized, var, scen):\n",
    "    histt = hist.loc[hist.Variable == 'Emissions|'+var].values[0][255:]\n",
    "    raw = future.loc[future.Variable == 'Emissions|'+var].loc[future.Scenario == scen].values[0][7:]\n",
    "    harm = harm_ized.loc[harm_ized.variable == 'Emissions|'+var].loc[harm_ized.scenario == scen].values[0][5:]\n",
    "    unit = hist.loc[hist.Variable == 'Emissions|'+var].values[0][4]\n",
    "    mdl = harm_ized.model.values[0]\n",
    "    \n",
    "    plt.plot(np.arange(2000, 2023), histt)\n",
    "    plt.plot(np.arange(2022, 2101), raw, label='unharmonized')\n",
    "    plt.plot(np.arange(2022, 2101), harm, label='harmonized')\n",
    "    plt.axvline(2022, linestyle='--', color='grey', alpha=0.5)\n",
    "    plt.xlabel('Year')\n",
    "    plt.ylabel(unit)\n",
    "    plt.title('Harmonized '+var+' Emissions\\n'+scen+' Scenario\\n'+mdl)\n",
    "    plt.legend()\n",
    "    plt.show()"
   ]
  },
  {
   "cell_type": "code",
   "execution_count": null,
   "id": "343a91e6-806e-4a56-be34-f204c56dd76e",
   "metadata": {},
   "outputs": [],
   "source": [
    "def plot_harm_ax(hist, future, harm_ized, var, scen, ax, maxes):\n",
    "    histt = hist.loc[hist.Variable == 'Emissions|'+var].values[0][255:]\n",
    "    raw = future.loc[future.Variable == 'Emissions|'+var].loc[future.Scenario == scen].values[0][7:]\n",
    "    harm = harm_ized.loc[harm_ized.variable == 'Emissions|'+var].loc[harm_ized.scenario == scen].values[0][5:]\n",
    "    unit = hist.loc[hist.Variable == 'Emissions|'+var].values[0][4]\n",
    "    mdl = harm_ized.model.values[0]\n",
    "    \n",
    "    # find maximum value on plot\n",
    "    max_val = max(raw.max(), harm.max())\n",
    "    maxes.append(max_val)\n",
    "    \n",
    "    \n",
    "    ax.plot(np.arange(2000, 2023), histt)\n",
    "    ax.plot(np.arange(2022, 2101), raw)\n",
    "    ax.plot(np.arange(2022, 2101), harm)\n",
    "    ax.axvline(2022, linestyle='--', color='grey', alpha=0.5)\n",
    "    # ax.set_ylim(0, 450)\n",
    "    ax.set_title(mdl)"
   ]
  },
  {
   "cell_type": "code",
   "execution_count": null,
   "id": "e8b40d74-b7d9-4377-91fe-ed5617b628ad",
   "metadata": {},
   "outputs": [],
   "source": [
    "fig, axs = plt.subplots(1, 3, figsize=(15, 5))\n",
    "\n",
    "maxes = []\n",
    "\n",
    "for i, (hist, future, harm) in enumerate([(hist_df, GCAM_df, GCAM_harm), (hist_df, MSG_df, MSG_harm), (hist_df, REM_df, REM_harm)]):\n",
    "    plot_harm_ax(hist, future, harm, 'CH4', 'Current Policies', axs[i], maxes)\n",
    "    \n",
    "for i in range (len(axs)):\n",
    "    axs[i].set_ylim(0, max(maxes))\n",
    "\n",
    "plt.suptitle('CH4 Harmonized Emissions\\nCurrent Policies Scenario', fontsize=15)\n",
    "fig.text(-0.01, 0.45, 'Mt CH4/yr', va='center', rotation='vertical', fontsize=12)\n",
    "fig.tight_layout()\n",
    "plt.show()"
   ]
  },
  {
   "cell_type": "code",
   "execution_count": null,
   "id": "dd9a7658-8986-4e9a-a0c6-7263fd6d363a",
   "metadata": {},
   "outputs": [],
   "source": [
    "fig, axs = plt.subplots(1, 3, figsize=(15, 5))\n",
    "\n",
    "maxes = []\n",
    "\n",
    "for i, (hist, future, harm) in enumerate([(hist_df, GCAM_df, GCAM_harm), (hist_df, MSG_df, MSG_harm), (hist_df, REM_df, REM_harm)]):\n",
    "    plot_harm_ax(hist, future, harm, 'CO2 FFI', 'Current Policies', axs[i], maxes)\n",
    "\n",
    "for i in range (len(axs)):\n",
    "    axs[i].set_ylim(0, max(maxes))\n",
    "\n",
    "plt.suptitle('CO2 FFI Harmonized Emissions\\nCurrent Policies Scenario', fontsize=15)\n",
    "fig.text(-0.01, 0.45, 'Gt CO2/yr', va='center', rotation='vertical', fontsize=12)\n",
    "fig.tight_layout()\n",
    "plt.show()"
   ]
  },
  {
   "cell_type": "markdown",
   "id": "040758f1-0fa1-417c-a1d1-2d5fc155f415",
   "metadata": {},
   "source": [
    "### check unit adjustment"
   ]
  },
  {
   "cell_type": "code",
   "execution_count": null,
   "id": "c8b18c83-f936-4cd1-b058-babc77e8970a",
   "metadata": {},
   "outputs": [],
   "source": [
    "plot_harm(hist_df, GCAM_df, GCAM_harm, 'CO2 AFOLU', 'Current Policies')"
   ]
  },
  {
   "cell_type": "code",
   "execution_count": null,
   "id": "8ef59ae2-5693-404e-931a-9a3c25b2fc54",
   "metadata": {},
   "outputs": [],
   "source": [
    "plot_harm(hist_df, GCAM_df, GCAM_harm, 'CO2 FFI', 'Current Policies')"
   ]
  },
  {
   "cell_type": "code",
   "execution_count": null,
   "id": "9fdf0bd0-3ff1-4454-baf8-20de408ef988",
   "metadata": {
    "tags": []
   },
   "outputs": [],
   "source": [
    "plot_harm(hist_df, GCAM_df, GCAM_harm, 'N2O', 'Current Policies')"
   ]
  },
  {
   "cell_type": "code",
   "execution_count": null,
   "id": "7b816faf-e8dc-47a9-946f-c8448baf231e",
   "metadata": {},
   "outputs": [],
   "source": [
    "plot_harm(hist_df, GCAM_df, GCAM_harm, 'HFC-23', 'Current Policies')"
   ]
  },
  {
   "cell_type": "code",
   "execution_count": null,
   "id": "d2d43804-cb45-413f-b7ad-ac404c104894",
   "metadata": {},
   "outputs": [],
   "source": [
    "plot_harm(hist_df, MSG_df, MSG_harm, 'HFC-23', 'Current Policies')"
   ]
  },
  {
   "cell_type": "code",
   "execution_count": null,
   "id": "3a6e80e9-9627-4b05-8999-f49ca50b0918",
   "metadata": {},
   "outputs": [],
   "source": [
    "plot_harm(hist_df, REM_df, REM_harm, 'CH4', 'Current Policies')"
   ]
  }
 ],
 "metadata": {
  "kernelspec": {
   "display_name": "Python 3 (ipykernel)",
   "language": "python",
   "name": "python3"
  },
  "language_info": {
   "codemirror_mode": {
    "name": "ipython",
    "version": 3
   },
   "file_extension": ".py",
   "mimetype": "text/x-python",
   "name": "python",
   "nbconvert_exporter": "python",
   "pygments_lexer": "ipython3",
   "version": "3.10.6"
  }
 },
 "nbformat": 4,
 "nbformat_minor": 5
}
