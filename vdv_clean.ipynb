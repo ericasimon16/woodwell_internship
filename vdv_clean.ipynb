{
 "cells": [
  {
   "cell_type": "markdown",
   "id": "f01fcf5a-51be-4d3a-8325-9a888ce605bf",
   "metadata": {
    "tags": []
   },
   "source": [
    "# van de Ven et al. Data\n",
    "### Erica Simon, 01/31/24\n",
    "\n",
    "## Purpose: Clean and interpolate emission projection data from multimodel analysis\n",
    "- Data is **post-Glasgow (COP26),** so is slightly outdated...\n",
    "- Credit: \n",
    "van de Ven, D.-J., Mittal, S., Gambhir, A., Lamboll, R. D., Doukas, H., Giarola, S., Hawkes, A., Koasidis, K., Köberle, A. C., McJeon, H., Perdana, S., Peters, G. P., Rogelj, J., Sognnaes, I., Vielle, M., & Nikas, A. (2023). A multimodel analysis of post-Glasgow climate targets and feasibility challenges. Nature Climate Change, 13(6), 570–578. https://doi.org/10.1038/s41558-023-01661-0\n",
    "\n"
   ]
  },
  {
   "cell_type": "code",
   "execution_count": 19,
   "id": "aa39e20c-a8bf-484f-912b-659929e96464",
   "metadata": {},
   "outputs": [],
   "source": [
    "import numpy as np\n",
    "import pandas as pd\n",
    "import pooch"
   ]
  },
  {
   "cell_type": "markdown",
   "id": "1ea406e1-fdc4-43cf-a2e1-2cd6a4172b06",
   "metadata": {},
   "source": [
    "## Import dataset"
   ]
  },
  {
   "cell_type": "code",
   "execution_count": 20,
   "id": "d31215cd-0234-4724-b9d7-11d1e152eb58",
   "metadata": {},
   "outputs": [],
   "source": [
    "future_emissions = pooch.retrieve(\n",
    "    url = 'https://raw.githubusercontent.com/Rlamboll/post-Glasgow_climate_targets/master/input/global_ite4_allmodels_emissions_ext.xlsx',\n",
    "    known_hash = '393661f7a0959d4eaf79818bece621ff683e75421900bbf628e1ab61afbd1edf',\n",
    ")\n",
    "\n",
    "df = pd.read_excel(future_emissions)"
   ]
  },
  {
   "cell_type": "code",
   "execution_count": 21,
   "id": "9f335dc4-1a31-4cf1-96cd-f2f041ab0957",
   "metadata": {},
   "outputs": [
    {
     "data": {
      "text/plain": [
       "array(['GCAM-PR 5.3', 'GEMINI-E3 7.0', 'MUSE', 'TIAM_Grantham', nan,\n",
       "       'Model'], dtype=object)"
      ]
     },
     "execution_count": 21,
     "metadata": {},
     "output_type": "execute_result"
    }
   ],
   "source": [
    "df.Model.unique()"
   ]
  },
  {
   "cell_type": "code",
   "execution_count": 22,
   "id": "4ea2795a-e5b7-44b5-8305-76462216dc02",
   "metadata": {},
   "outputs": [],
   "source": [
    "# filter to World, not interested in regional emissions\n",
    "df = df.loc[df['Region'] == 'World']"
   ]
  },
  {
   "cell_type": "markdown",
   "id": "3c63a605-54bb-4f13-a6e7-386c6a9486d6",
   "metadata": {},
   "source": [
    "## Data exploration\n",
    "- Which models have data for World?\n",
    "- Which forcing agents do the models include?"
   ]
  },
  {
   "cell_type": "code",
   "execution_count": 23,
   "id": "bfa17e51-5330-4a9a-8995-40ac957ba6a9",
   "metadata": {},
   "outputs": [
    {
     "data": {
      "text/plain": [
       "array(['GCAM-PR 5.3', 'TIAM_Grantham'], dtype=object)"
      ]
     },
     "execution_count": 23,
     "metadata": {},
     "output_type": "execute_result"
    }
   ],
   "source": [
    "df.Model.unique()"
   ]
  },
  {
   "cell_type": "code",
   "execution_count": 24,
   "id": "7d56306e-02ec-4afb-a371-0050ad037451",
   "metadata": {},
   "outputs": [
    {
     "data": {
      "text/plain": [
       "array(['Emissions|CO2|Energy and Industrial Processes',\n",
       "       'Emissions|CO2|Energy'], dtype=object)"
      ]
     },
     "execution_count": 24,
     "metadata": {},
     "output_type": "execute_result"
    }
   ],
   "source": [
    "df.loc[df['Model'] == 'TIAM_Grantham'].Variable.unique()"
   ]
  },
  {
   "cell_type": "code",
   "execution_count": 25,
   "id": "77bceda9-5ddd-4dec-a176-d338d5e70d96",
   "metadata": {},
   "outputs": [
    {
     "data": {
      "text/plain": [
       "array(['Emissions|C2F6', 'Emissions|CH4', 'Emissions|CO', 'Emissions|CO2',\n",
       "       'Emissions|CO2|AFOLU', 'Emissions|CO2|Energy',\n",
       "       'Emissions|CO2|Energy and Industrial Processes',\n",
       "       'Emissions|CO2|Industrial Processes', 'Emissions|F-Gases',\n",
       "       'Emissions|HFC', 'Emissions|HFC|HFC125', 'Emissions|HFC|HFC134a',\n",
       "       'Emissions|HFC|HFC143a', 'Emissions|HFC|HFC227ea',\n",
       "       'Emissions|HFC|HFC23', 'Emissions|HFC|HFC245fa',\n",
       "       'Emissions|HFC|HFC32', 'Emissions|HFC|HFC43-10', 'Emissions|N2O',\n",
       "       'Emissions|NH3', 'Emissions|NOx', 'Emissions|OC', 'Emissions|PFC',\n",
       "       'Emissions|SF6', 'Emissions|Sulfur', 'Emissions|VOC'], dtype=object)"
      ]
     },
     "execution_count": 25,
     "metadata": {},
     "output_type": "execute_result"
    }
   ],
   "source": [
    "df.loc[df['Model'] == 'GCAM-PR 5.3'].Variable.unique()"
   ]
  },
  {
   "cell_type": "markdown",
   "id": "815f9f56-fda1-4b7b-9d43-b52031163fb4",
   "metadata": {},
   "source": [
    "### Results:\n",
    "- Only two models- GCAM-PR 5.3 & TIAM_Grantham- have global data\n",
    "- TIAM_Grantham only has emissions data for CO2, which is not useful for this project\n",
    "\n",
    "\n",
    "Thus, we will only use the data from GCAM-PR 5.3"
   ]
  },
  {
   "cell_type": "code",
   "execution_count": 26,
   "id": "1eb02647-cc29-46ee-908c-538ed76ec9f6",
   "metadata": {},
   "outputs": [],
   "source": [
    "df = df.loc[df['Model'] == 'GCAM-PR 5.3']"
   ]
  },
  {
   "cell_type": "code",
   "execution_count": null,
   "id": "2dbbc97b-b2a0-490c-9f36-8b95cfb88ab8",
   "metadata": {},
   "outputs": [],
   "source": []
  }
 ],
 "metadata": {
  "kernelspec": {
   "display_name": "Python 3 (ipykernel)",
   "language": "python",
   "name": "python3"
  },
  "language_info": {
   "codemirror_mode": {
    "name": "ipython",
    "version": 3
   },
   "file_extension": ".py",
   "mimetype": "text/x-python",
   "name": "python",
   "nbconvert_exporter": "python",
   "pygments_lexer": "ipython3",
   "version": "3.10.6"
  }
 },
 "nbformat": 4,
 "nbformat_minor": 5
}
