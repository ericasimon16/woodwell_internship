{
 "cells": [
  {
   "cell_type": "markdown",
   "id": "7bda1256-d242-4ce8-a72a-63d9fe479971",
   "metadata": {},
   "source": [
    "# Silicone\n",
    "### Erica Simon, 02/13/24\n",
    "## Purpose: use the Silicone infilling tool to fill missing emissions data for certain species\n",
    "Credit: Lamboll, R. D., Nicholls, Z. R. J., Kikstra, J. S., Meinshausen, M., & Rogelj, J. (2020). Silicone v1.0.0: an open-source Python package for inferring missing emissions data for climate change research. *Geoscientific Model Development, 13(11),* 5259–5275. https://doi.org/10.5194/gmd-13-5259-2020\n",
    "\n"
   ]
  },
  {
   "cell_type": "code",
   "execution_count": 1,
   "id": "da471013-0d8d-43b9-ba9a-5e0caa77449e",
   "metadata": {},
   "outputs": [],
   "source": [
    "import pandas as pd"
   ]
  },
  {
   "cell_type": "code",
   "execution_count": 4,
   "id": "458fc405-6cdf-427e-bdf6-454ffdd4b0c9",
   "metadata": {},
   "outputs": [],
   "source": [
    "future_df = pd.read_csv('~/outputs/GCAM_harm.csv')\n",
    "hist_df = pd.read_csv('~/outputs/hist_emis_ALL.csv')"
   ]
  },
  {
   "cell_type": "code",
   "execution_count": null,
   "id": "194c3344-5676-48ee-8f15-55d7f6df05d5",
   "metadata": {},
   "outputs": [],
   "source": []
  }
 ],
 "metadata": {
  "kernelspec": {
   "display_name": "Python 3 (ipykernel)",
   "language": "python",
   "name": "python3"
  },
  "language_info": {
   "codemirror_mode": {
    "name": "ipython",
    "version": 3
   },
   "file_extension": ".py",
   "mimetype": "text/x-python",
   "name": "python",
   "nbconvert_exporter": "python",
   "pygments_lexer": "ipython3",
   "version": "3.10.6"
  }
 },
 "nbformat": 4,
 "nbformat_minor": 5
}
