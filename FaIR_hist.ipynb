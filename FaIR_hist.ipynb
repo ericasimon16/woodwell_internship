{
 "cells": [
  {
   "cell_type": "markdown",
   "id": "7d517430-1740-42c3-9873-3075f8819134",
   "metadata": {},
   "source": [
    "# FaIR Hist\n",
    "## Goal: create an accurate temperature hindcast using historical GHG concentrations\n",
    "- 1750 to 2022\n",
    "- Start with FaIR calibration data\n",
    "- Can also test PRIMAP-hist\n",
    "- Note: this notebook does not incorporate a perturbed parameter ensemble (PPE); it is solely meant for learning how to input historical data\n",
    "### Erica Simon, 01/22/24\n",
    "Smith, C. (2023). FaIR calibration data (1.3.1) [Data set]. Zenodo. https://doi.org/10.5281/zenodo.10208609\n",
    "\n",
    "Link to data: https://github.com/chrisroadmap/fair-calibrate/blob/main/data/concentrations/ghg_concentrations_1750-2022.csv"
   ]
  },
  {
   "cell_type": "code",
   "execution_count": 357,
   "id": "89730048-0742-4106-98b4-20472e4c3107",
   "metadata": {},
   "outputs": [],
   "source": [
    "import matplotlib.pyplot as plt\n",
    "import numpy as np\n",
    "import pandas as pd\n",
    "import pooch\n",
    "\n",
    "from fair import FAIR\n",
    "from fair.interface import fill, initialise\n",
    "from fair.io import read_properties"
   ]
  },
  {
   "cell_type": "markdown",
   "id": "856a4c2b-1242-4e19-9065-60beeeb9de36",
   "metadata": {},
   "source": [
    "## Create instance"
   ]
  },
  {
   "cell_type": "code",
   "execution_count": 358,
   "id": "f3c92bea-b9fe-4b9d-91b8-abf6d83a0f13",
   "metadata": {},
   "outputs": [],
   "source": [
    "f = FAIR()"
   ]
  },
  {
   "cell_type": "code",
   "execution_count": 359,
   "id": "4fbb8cf7-fbe0-4de9-bd8c-158f00976976",
   "metadata": {},
   "outputs": [],
   "source": [
    "f.define_time(1850, 2022, 1)"
   ]
  },
  {
   "cell_type": "code",
   "execution_count": 360,
   "id": "f9eaa01e-5431-4c87-8cd3-4be643f6be86",
   "metadata": {},
   "outputs": [],
   "source": [
    "scenarios = ['s1']\n",
    "f.define_scenarios(scenarios)"
   ]
  },
  {
   "cell_type": "markdown",
   "id": "06cab488-0bb3-4e6d-9e14-db51465c6118",
   "metadata": {},
   "source": [
    "## Define configs"
   ]
  },
  {
   "cell_type": "code",
   "execution_count": 361,
   "id": "4d77d3e5-4fee-4dd9-b59c-88c305806210",
   "metadata": {},
   "outputs": [],
   "source": [
    "f.define_configs(['c1'])"
   ]
  },
  {
   "cell_type": "markdown",
   "id": "19559ea7-3f28-402a-833d-0f9826462038",
   "metadata": {
    "tags": []
   },
   "source": [
    "## Define species and properties"
   ]
  },
  {
   "cell_type": "code",
   "execution_count": 362,
   "id": "eb391952-b25d-4f85-a4fd-8de56f1073ab",
   "metadata": {},
   "outputs": [],
   "source": [
    "df_conc = pd.read_csv('ghg_concentrations_1750-2022.csv', index_col=0)"
   ]
  },
  {
   "cell_type": "code",
   "execution_count": 363,
   "id": "fd72efd1-a05c-4dcd-871a-c3b8ee08ac51",
   "metadata": {},
   "outputs": [],
   "source": [
    "species, properties = read_properties(filename='~/examples/species_configs_properties_calibration1.2.0.csv')"
   ]
  },
  {
   "cell_type": "code",
   "execution_count": 364,
   "id": "b2831257-42e3-4c42-a2f3-b67d1c78863a",
   "metadata": {},
   "outputs": [],
   "source": [
    "for spc in list(properties):\n",
    "    if spc not in df_conc:\n",
    "        species.remove(spc)\n",
    "        properties.pop(spc)\n",
    "    else:\n",
    "        # change all to concentration-driven for this datatset\n",
    "        properties[spc]['input_mode'] = 'concentration'"
   ]
  },
  {
   "cell_type": "code",
   "execution_count": 365,
   "id": "67f104c4-3886-4e02-ac9e-cde997028b22",
   "metadata": {},
   "outputs": [
    {
     "data": {
      "text/plain": [
       "'concentration'"
      ]
     },
     "execution_count": 365,
     "metadata": {},
     "output_type": "execute_result"
    }
   ],
   "source": [
    "properties['CO2']['input_mode']"
   ]
  },
  {
   "cell_type": "code",
   "execution_count": 366,
   "id": "04883761-b9fd-455d-94df-9312e66b7be9",
   "metadata": {},
   "outputs": [],
   "source": [
    "f.define_species(species, properties)"
   ]
  },
  {
   "cell_type": "markdown",
   "id": "3e8553a4-1f5d-4ca3-801b-b0806acb767d",
   "metadata": {},
   "source": [
    "## Data"
   ]
  },
  {
   "cell_type": "code",
   "execution_count": 367,
   "id": "a4fc5f96-fd4f-4445-a2b2-1fbc4fe58bdf",
   "metadata": {},
   "outputs": [],
   "source": [
    "f.allocate()"
   ]
  },
  {
   "cell_type": "markdown",
   "id": "69141b04-1f21-4504-ae2b-072d9d16adc2",
   "metadata": {},
   "source": [
    "## Fill concentrations"
   ]
  },
  {
   "cell_type": "code",
   "execution_count": 368,
   "id": "87d666e7-036d-4e1c-9b89-c041852bb1ed",
   "metadata": {},
   "outputs": [
    {
     "data": {
      "text/html": [
       "<div>\n",
       "<style scoped>\n",
       "    .dataframe tbody tr th:only-of-type {\n",
       "        vertical-align: middle;\n",
       "    }\n",
       "\n",
       "    .dataframe tbody tr th {\n",
       "        vertical-align: top;\n",
       "    }\n",
       "\n",
       "    .dataframe thead th {\n",
       "        text-align: right;\n",
       "    }\n",
       "</style>\n",
       "<table border=\"1\" class=\"dataframe\">\n",
       "  <thead>\n",
       "    <tr style=\"text-align: right;\">\n",
       "      <th></th>\n",
       "      <th>CO2</th>\n",
       "      <th>CH4</th>\n",
       "      <th>N2O</th>\n",
       "      <th>HFC-134a</th>\n",
       "      <th>HFC-23</th>\n",
       "      <th>HFC-32</th>\n",
       "      <th>HFC-125</th>\n",
       "      <th>HFC-143a</th>\n",
       "      <th>HFC-152a</th>\n",
       "      <th>HFC-227ea</th>\n",
       "      <th>...</th>\n",
       "      <th>i-C6F14</th>\n",
       "      <th>C7F16</th>\n",
       "      <th>C8F18</th>\n",
       "      <th>CFC-112</th>\n",
       "      <th>CFC-112a</th>\n",
       "      <th>CFC-113a</th>\n",
       "      <th>CFC-114a</th>\n",
       "      <th>HCFC-133a</th>\n",
       "      <th>HCFC-31</th>\n",
       "      <th>HCFC-124</th>\n",
       "    </tr>\n",
       "    <tr>\n",
       "      <th>YYYY</th>\n",
       "      <th></th>\n",
       "      <th></th>\n",
       "      <th></th>\n",
       "      <th></th>\n",
       "      <th></th>\n",
       "      <th></th>\n",
       "      <th></th>\n",
       "      <th></th>\n",
       "      <th></th>\n",
       "      <th></th>\n",
       "      <th></th>\n",
       "      <th></th>\n",
       "      <th></th>\n",
       "      <th></th>\n",
       "      <th></th>\n",
       "      <th></th>\n",
       "      <th></th>\n",
       "      <th></th>\n",
       "      <th></th>\n",
       "      <th></th>\n",
       "      <th></th>\n",
       "    </tr>\n",
       "  </thead>\n",
       "  <tbody>\n",
       "    <tr>\n",
       "      <th>1850</th>\n",
       "      <td>285.500000</td>\n",
       "      <td>807.600000</td>\n",
       "      <td>272.100000</td>\n",
       "      <td>0.0</td>\n",
       "      <td>0.0</td>\n",
       "      <td>0.000218</td>\n",
       "      <td>0.0</td>\n",
       "      <td>0.0</td>\n",
       "      <td>0.0</td>\n",
       "      <td>0.000004</td>\n",
       "      <td>...</td>\n",
       "      <td>0.0</td>\n",
       "      <td>0.0</td>\n",
       "      <td>0.0</td>\n",
       "      <td>0.0</td>\n",
       "      <td>0.0</td>\n",
       "      <td>0.0</td>\n",
       "      <td>0.0</td>\n",
       "      <td>0.0</td>\n",
       "      <td>0.0</td>\n",
       "      <td>0.0</td>\n",
       "    </tr>\n",
       "    <tr>\n",
       "      <th>1851</th>\n",
       "      <td>285.621912</td>\n",
       "      <td>807.768974</td>\n",
       "      <td>272.181132</td>\n",
       "      <td>0.0</td>\n",
       "      <td>0.0</td>\n",
       "      <td>0.000221</td>\n",
       "      <td>0.0</td>\n",
       "      <td>0.0</td>\n",
       "      <td>0.0</td>\n",
       "      <td>0.000004</td>\n",
       "      <td>...</td>\n",
       "      <td>0.0</td>\n",
       "      <td>0.0</td>\n",
       "      <td>0.0</td>\n",
       "      <td>0.0</td>\n",
       "      <td>0.0</td>\n",
       "      <td>0.0</td>\n",
       "      <td>0.0</td>\n",
       "      <td>0.0</td>\n",
       "      <td>0.0</td>\n",
       "      <td>0.0</td>\n",
       "    </tr>\n",
       "    <tr>\n",
       "      <th>1852</th>\n",
       "      <td>285.759838</td>\n",
       "      <td>808.522848</td>\n",
       "      <td>272.262214</td>\n",
       "      <td>0.0</td>\n",
       "      <td>0.0</td>\n",
       "      <td>0.000223</td>\n",
       "      <td>0.0</td>\n",
       "      <td>0.0</td>\n",
       "      <td>0.0</td>\n",
       "      <td>0.000004</td>\n",
       "      <td>...</td>\n",
       "      <td>0.0</td>\n",
       "      <td>0.0</td>\n",
       "      <td>0.0</td>\n",
       "      <td>0.0</td>\n",
       "      <td>0.0</td>\n",
       "      <td>0.0</td>\n",
       "      <td>0.0</td>\n",
       "      <td>0.0</td>\n",
       "      <td>0.0</td>\n",
       "      <td>0.0</td>\n",
       "    </tr>\n",
       "    <tr>\n",
       "      <th>1853</th>\n",
       "      <td>285.883757</td>\n",
       "      <td>809.768605</td>\n",
       "      <td>272.365269</td>\n",
       "      <td>0.0</td>\n",
       "      <td>0.0</td>\n",
       "      <td>0.000226</td>\n",
       "      <td>0.0</td>\n",
       "      <td>0.0</td>\n",
       "      <td>0.0</td>\n",
       "      <td>0.000004</td>\n",
       "      <td>...</td>\n",
       "      <td>0.0</td>\n",
       "      <td>0.0</td>\n",
       "      <td>0.0</td>\n",
       "      <td>0.0</td>\n",
       "      <td>0.0</td>\n",
       "      <td>0.0</td>\n",
       "      <td>0.0</td>\n",
       "      <td>0.0</td>\n",
       "      <td>0.0</td>\n",
       "      <td>0.0</td>\n",
       "    </tr>\n",
       "    <tr>\n",
       "      <th>1854</th>\n",
       "      <td>285.989701</td>\n",
       "      <td>811.101520</td>\n",
       "      <td>272.471345</td>\n",
       "      <td>0.0</td>\n",
       "      <td>0.0</td>\n",
       "      <td>0.000229</td>\n",
       "      <td>0.0</td>\n",
       "      <td>0.0</td>\n",
       "      <td>0.0</td>\n",
       "      <td>0.000004</td>\n",
       "      <td>...</td>\n",
       "      <td>0.0</td>\n",
       "      <td>0.0</td>\n",
       "      <td>0.0</td>\n",
       "      <td>0.0</td>\n",
       "      <td>0.0</td>\n",
       "      <td>0.0</td>\n",
       "      <td>0.0</td>\n",
       "      <td>0.0</td>\n",
       "      <td>0.0</td>\n",
       "      <td>0.0</td>\n",
       "    </tr>\n",
       "  </tbody>\n",
       "</table>\n",
       "<p>5 rows × 52 columns</p>\n",
       "</div>"
      ],
      "text/plain": [
       "             CO2         CH4         N2O  HFC-134a  HFC-23    HFC-32  HFC-125  \\\n",
       "YYYY                                                                            \n",
       "1850  285.500000  807.600000  272.100000       0.0     0.0  0.000218      0.0   \n",
       "1851  285.621912  807.768974  272.181132       0.0     0.0  0.000221      0.0   \n",
       "1852  285.759838  808.522848  272.262214       0.0     0.0  0.000223      0.0   \n",
       "1853  285.883757  809.768605  272.365269       0.0     0.0  0.000226      0.0   \n",
       "1854  285.989701  811.101520  272.471345       0.0     0.0  0.000229      0.0   \n",
       "\n",
       "      HFC-143a  HFC-152a  HFC-227ea  ...  i-C6F14  C7F16  C8F18  CFC-112  \\\n",
       "YYYY                                 ...                                   \n",
       "1850       0.0       0.0   0.000004  ...      0.0    0.0    0.0      0.0   \n",
       "1851       0.0       0.0   0.000004  ...      0.0    0.0    0.0      0.0   \n",
       "1852       0.0       0.0   0.000004  ...      0.0    0.0    0.0      0.0   \n",
       "1853       0.0       0.0   0.000004  ...      0.0    0.0    0.0      0.0   \n",
       "1854       0.0       0.0   0.000004  ...      0.0    0.0    0.0      0.0   \n",
       "\n",
       "      CFC-112a  CFC-113a  CFC-114a  HCFC-133a  HCFC-31  HCFC-124  \n",
       "YYYY                                                              \n",
       "1850       0.0       0.0       0.0        0.0      0.0       0.0  \n",
       "1851       0.0       0.0       0.0        0.0      0.0       0.0  \n",
       "1852       0.0       0.0       0.0        0.0      0.0       0.0  \n",
       "1853       0.0       0.0       0.0        0.0      0.0       0.0  \n",
       "1854       0.0       0.0       0.0        0.0      0.0       0.0  \n",
       "\n",
       "[5 rows x 52 columns]"
      ]
     },
     "execution_count": 368,
     "metadata": {},
     "output_type": "execute_result"
    }
   ],
   "source": [
    "# drop the year 1750- not relevant to this analysis\n",
    "df_conc = df_conc.drop([1750])\n",
    "df_conc.head()"
   ]
  },
  {
   "cell_type": "code",
   "execution_count": 369,
   "id": "26d8b270-c759-41a0-b199-1aedf096c811",
   "metadata": {},
   "outputs": [],
   "source": [
    "for column in df_conc:\n",
    "    # print(column)\n",
    "    if column in f.species:\n",
    "        conc = df_conc[column].values.reshape(173, 1)\n",
    "        fill(f.concentration, conc, scenario='s1', specie=column)"
   ]
  },
  {
   "cell_type": "markdown",
   "id": "0cec37b8-772e-4e2c-82b5-429bc2dc4144",
   "metadata": {},
   "source": [
    "## Fill climate configs"
   ]
  },
  {
   "cell_type": "code",
   "execution_count": 370,
   "id": "f88653a1-8be5-4a40-b793-d50b69578f13",
   "metadata": {},
   "outputs": [],
   "source": [
    "fill(f.climate_configs[\"ocean_heat_transfer\"], [1.1, 1.6, 0.9], config='c1')\n",
    "fill(f.climate_configs[\"ocean_heat_capacity\"], [8, 14, 100], config='c1')\n",
    "fill(f.climate_configs[\"deep_ocean_efficacy\"], 1.1, config='c1')"
   ]
  },
  {
   "cell_type": "markdown",
   "id": "25f16cab-17c2-47f3-aec0-f945e6d6af62",
   "metadata": {},
   "source": [
    "## Fill species configs"
   ]
  },
  {
   "cell_type": "code",
   "execution_count": 371,
   "id": "2ada65d6-2709-4f80-bdc5-41a136e3ad4d",
   "metadata": {},
   "outputs": [],
   "source": [
    "f.fill_species_configs()"
   ]
  },
  {
   "cell_type": "markdown",
   "id": "b3fb4dab-c4cb-4c61-9e1c-7a0bf9e292b4",
   "metadata": {},
   "source": [
    "## Define initial conditions"
   ]
  },
  {
   "cell_type": "code",
   "execution_count": 372,
   "id": "65790c1e-5cc5-42bb-b0c9-f492af7c520d",
   "metadata": {},
   "outputs": [],
   "source": [
    "initialise(f.concentration, f.species_configs[\"baseline_concentration\"])\n",
    "initialise(f.forcing, 0)\n",
    "initialise(f.temperature, 0)   # f.temperature refers to temperature rise above PI (288 K)\n",
    "initialise(f.cumulative_emissions, 0)\n",
    "initialise(f.airborne_emissions, 0)"
   ]
  },
  {
   "cell_type": "markdown",
   "id": "11bed0b7-1021-43d1-b348-efc1d96bf4bf",
   "metadata": {},
   "source": [
    "## Run"
   ]
  },
  {
   "cell_type": "code",
   "execution_count": 373,
   "id": "f7e3ab39-1b0f-48d6-8573-4525d6123863",
   "metadata": {},
   "outputs": [
    {
     "data": {
      "text/plain": [
       "{'type': 'co2',\n",
       " 'input_mode': 'concentration',\n",
       " 'greenhouse_gas': True,\n",
       " 'aerosol_chemistry_from_emissions': False,\n",
       " 'aerosol_chemistry_from_concentration': False}"
      ]
     },
     "execution_count": 373,
     "metadata": {},
     "output_type": "execute_result"
    }
   ],
   "source": [
    "f.properties['CO2']"
   ]
  },
  {
   "cell_type": "code",
   "execution_count": 374,
   "id": "887366b7-e19b-43eb-96c0-7c1831aa1bc4",
   "metadata": {},
   "outputs": [
    {
     "data": {
      "application/vnd.jupyter.widget-view+json": {
       "model_id": "d8d5d18bee0d49bb8f69826b61d438d0",
       "version_major": 2,
       "version_minor": 0
      },
      "text/plain": [
       "Running 1 projections in parallel:   0%|          | 0/172 [00:00<?, ?timesteps/s]"
      ]
     },
     "metadata": {},
     "output_type": "display_data"
    }
   ],
   "source": [
    "f.run()"
   ]
  },
  {
   "cell_type": "code",
   "execution_count": null,
   "id": "ddcf7ec8-ec29-4e71-8f67-8d234ff87158",
   "metadata": {},
   "outputs": [],
   "source": []
  }
 ],
 "metadata": {
  "kernelspec": {
   "display_name": "Python 3 (ipykernel)",
   "language": "python",
   "name": "python3"
  },
  "language_info": {
   "codemirror_mode": {
    "name": "ipython",
    "version": 3
   },
   "file_extension": ".py",
   "mimetype": "text/x-python",
   "name": "python",
   "nbconvert_exporter": "python",
   "pygments_lexer": "ipython3",
   "version": "3.10.6"
  }
 },
 "nbformat": 4,
 "nbformat_minor": 5
}
