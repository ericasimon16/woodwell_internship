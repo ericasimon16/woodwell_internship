{
 "cells": [
  {
   "cell_type": "markdown",
   "id": "5d4aa4f7-544d-4f48-a9b5-fa204aaa6bdd",
   "metadata": {},
   "source": [
    "# CO2 Equivalent\n",
    "## Goal: I want to see if it's valid to express all GHGs in terms of CO2 equivalent\n",
    "Many policy scenarios (relating to NDCs especially) express future emissions as CO2 eq. This could be a way to proceed, rather than having to get inputs from all different data source for each gas.\n",
    "### Erica Simon, 01/25/24"
   ]
  },
  {
   "cell_type": "code",
   "execution_count": 2,
   "id": "19f3a661-3600-4140-8193-4114544e9f7e",
   "metadata": {},
   "outputs": [],
   "source": [
    "import matplotlib.pyplot as plt\n",
    "import numpy as np\n",
    "import pandas as pd\n",
    "import pooch\n",
    "\n",
    "from fair import FAIR\n",
    "from fair.interface import fill, initialise\n",
    "from fair.io import read_properties"
   ]
  },
  {
   "cell_type": "markdown",
   "id": "e04cbea8-d05f-4f8c-9e27-c45bccdfd730",
   "metadata": {},
   "source": [
    "### Create instance"
   ]
  },
  {
   "cell_type": "code",
   "execution_count": 3,
   "id": "0e716524-1327-4284-b095-60a0831e3773",
   "metadata": {},
   "outputs": [],
   "source": [
    "f = FAIR()"
   ]
  },
  {
   "cell_type": "markdown",
   "id": "ea9a2641-17a4-4d5c-a4da-32a35f7a645a",
   "metadata": {},
   "source": [
    "### Define time horizon"
   ]
  },
  {
   "cell_type": "code",
   "execution_count": 4,
   "id": "9393c4af-2f3a-434d-859f-652e8760ec26",
   "metadata": {},
   "outputs": [],
   "source": [
    "f.define_time(1970, 2023, 1)"
   ]
  },
  {
   "cell_type": "markdown",
   "id": "5416470d-f527-4cd3-899c-936d4959cba9",
   "metadata": {},
   "source": [
    "### Define scenarios"
   ]
  },
  {
   "cell_type": "code",
   "execution_count": 5,
   "id": "05028d94-0549-4568-96a1-ba4d43558681",
   "metadata": {},
   "outputs": [],
   "source": [
    "f.define_scenarios(['s1'])"
   ]
  },
  {
   "cell_type": "markdown",
   "id": "29d84e9d-b3ed-492e-9ca9-2741e43d4bb0",
   "metadata": {
    "tags": []
   },
   "source": [
    "### Define configs"
   ]
  },
  {
   "cell_type": "code",
   "execution_count": 6,
   "id": "c9b77ae5-b73e-45e3-8187-ff4951f5cea4",
   "metadata": {},
   "outputs": [],
   "source": [
    "f.define_configs(['c1'])"
   ]
  },
  {
   "cell_type": "markdown",
   "id": "6106b577-e8dd-4b8e-af49-34adb218b924",
   "metadata": {},
   "source": [
    "### Define species"
   ]
  },
  {
   "cell_type": "code",
   "execution_count": 7,
   "id": "78efa64a-2d19-4541-b2c7-90a248a1bc15",
   "metadata": {},
   "outputs": [],
   "source": [
    "# for now, trying only CO2 to see if it's possible to use CO2 eq for all GHG forcing agents\n",
    "species = ['CO2']"
   ]
  },
  {
   "cell_type": "code",
   "execution_count": 8,
   "id": "6ce01cfa-c3a0-4f70-906c-03367589c8fe",
   "metadata": {},
   "outputs": [],
   "source": [
    "properties = {\n",
    "    'CO2': {\n",
    "        'type': 'co2',\n",
    "        'input_mode': 'emissions',\n",
    "        'greenhouse_gas': True,\n",
    "        'aerosol_chemistry_from_emissions': False,\n",
    "        'aerosol_chemistry_from_concentration': False,\n",
    "    }}"
   ]
  },
  {
   "cell_type": "code",
   "execution_count": 9,
   "id": "22d36fc2-9f4f-4357-9f9a-27f321373396",
   "metadata": {},
   "outputs": [],
   "source": [
    "f.define_species(species, properties)"
   ]
  },
  {
   "cell_type": "markdown",
   "id": "9e2d4124-7af9-4651-9e72-6dffb15f801b",
   "metadata": {},
   "source": [
    "### Create input and output data"
   ]
  },
  {
   "cell_type": "code",
   "execution_count": 10,
   "id": "96f54e40-625a-41af-a4d2-ec60ea18f83c",
   "metadata": {},
   "outputs": [],
   "source": [
    "# create empty emission and temp arrays\n",
    "f.allocate()   "
   ]
  }
 ],
 "metadata": {
  "kernelspec": {
   "display_name": "Python 3 (ipykernel)",
   "language": "python",
   "name": "python3"
  },
  "language_info": {
   "codemirror_mode": {
    "name": "ipython",
    "version": 3
   },
   "file_extension": ".py",
   "mimetype": "text/x-python",
   "name": "python",
   "nbconvert_exporter": "python",
   "pygments_lexer": "ipython3",
   "version": "3.10.6"
  }
 },
 "nbformat": 4,
 "nbformat_minor": 5
}
