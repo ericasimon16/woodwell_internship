{
 "cells": [
  {
   "cell_type": "markdown",
   "id": "7bda1256-d242-4ce8-a72a-63d9fe479971",
   "metadata": {},
   "source": [
    "# Silicone\n",
    "### Erica Simon, 02/13/24\n",
    "## Purpose: use the Silicone infilling tool to fill missing emissions data for certain species\n",
    "Credit: \n",
    "- Lamboll, R. D., Nicholls, Z. R. J., Kikstra, J. S., Meinshausen, M., & Rogelj, J. (2020). Silicone v1.0.0: an open-source Python package for inferring missing emissions data for climate change research. *Geoscientific Model Development, 13(11),* 5259–5275. https://doi.org/10.5194/gmd-13-5259-2020\n",
    "- Meinshausen, M., Lewis, J., McGlade, C. et al. Realization of Paris Agreement pledges may limit warming just below 2 °C. *Nature* 604, 304–309 (2022). https://doi.org/10.1038/s41586-022-04553-z\n",
    "    - code at https://github.com/climate-resource/ndc-realisations-2021\n",
    "\n",
    "\n",
    "\n"
   ]
  },
  {
   "cell_type": "code",
   "execution_count": 1,
   "id": "da471013-0d8d-43b9-ba9a-5e0caa77449e",
   "metadata": {},
   "outputs": [
    {
     "data": {
      "application/javascript": [
       "if (typeof IPython !== 'undefined') { IPython.OutputArea.prototype._should_scroll = function(lines){ return false; }}"
      ],
      "text/plain": [
       "<IPython.core.display.Javascript object>"
      ]
     },
     "metadata": {},
     "output_type": "display_data"
    }
   ],
   "source": [
    "import pandas as pd\n",
    "import numpy as np\n",
    "import pyam\n",
    "\n",
    "import silicone.multiple_infillers as mi\n",
    "import silicone.database_crunchers as cr"
   ]
  },
  {
   "cell_type": "code",
   "execution_count": 2,
   "id": "dbc28cdd-6442-4614-8394-c26292f361ab",
   "metadata": {},
   "outputs": [
    {
     "name": "stderr",
     "output_type": "stream",
     "text": [
      "/opt/miniconda/envs/risk/lib/python3.10/site-packages/scmdata/database/_database.py:9: TqdmExperimentalWarning: Using `tqdm.autonotebook.tqdm` in notebook mode. Use `tqdm.tqdm` instead to force console mode (e.g. in jupyter console)\n",
      "  import tqdm.autonotebook as tqdman\n"
     ]
    }
   ],
   "source": [
    "import silicone.database_crunchers\n",
    "from silicone.time_projectors import ExtendLatestTimeQuantile\n",
    "import scmdata\n",
    "import scmdata.database\n",
    "import matplotlib.pyplot as plt\n",
    "\n",
    "from tqdm.autonotebook import tqdm"
   ]
  },
  {
   "cell_type": "code",
   "execution_count": 3,
   "id": "458fc405-6cdf-427e-bdf6-454ffdd4b0c9",
   "metadata": {},
   "outputs": [
    {
     "name": "stderr",
     "output_type": "stream",
     "text": [
      "/opt/miniconda/envs/risk/lib/python3.10/site-packages/pyam/utils.py:316: FutureWarning: The previous implementation of stack is deprecated and will be removed in a future version of pandas. See the What's New notes for pandas 2.1.0 for details. Specify future_stack=True to adopt the new implementation and silence this warning.\n",
      "  df.set_index(index + REQUIRED_COLS + extra_cols)\n",
      "/opt/miniconda/envs/risk/lib/python3.10/site-packages/pyam/utils.py:316: FutureWarning: The previous implementation of stack is deprecated and will be removed in a future version of pandas. See the What's New notes for pandas 2.1.0 for details. Specify future_stack=True to adopt the new implementation and silence this warning.\n",
      "  df.set_index(index + REQUIRED_COLS + extra_cols)\n"
     ]
    }
   ],
   "source": [
    "future_df = pd.read_csv('~/outputs/GCAM_infilling.csv')\n",
    "hist_df = pd.read_csv('~/outputs/hist_emis_ALL.csv')\n",
    "\n",
    "df_to_infill = pyam.IamDataFrame(future_df)\n",
    "df = pyam.IamDataFrame(hist_df)"
   ]
  },
  {
   "cell_type": "code",
   "execution_count": 4,
   "id": "194c3344-5676-48ee-8f15-55d7f6df05d5",
   "metadata": {},
   "outputs": [],
   "source": [
    "missing_vars = np.setdiff1d(hist_df['Variable'].unique(), future_df['Variable'].unique())"
   ]
  },
  {
   "cell_type": "code",
   "execution_count": 5,
   "id": "09f78376-ddb8-44f9-8ad6-bab10ea7709a",
   "metadata": {},
   "outputs": [],
   "source": [
    "lead = ['Emissions|CO2 FFI']\n",
    "variables_of_interest = ['Emissions|C3F8']\n",
    "years_list = list(range(2022, 2101))"
   ]
  },
  {
   "cell_type": "code",
   "execution_count": 6,
   "id": "887ead94-dde9-411f-ac56-eee90379c484",
   "metadata": {},
   "outputs": [],
   "source": [
    "unavailable_variables = [\n",
    "        variab for variab in variables_of_interest if variab not in df.variable\n",
    "    ]\n"
   ]
  },
  {
   "cell_type": "code",
   "execution_count": 7,
   "id": "2c12daa5-6626-46cd-912a-6d40a47d5cf8",
   "metadata": {},
   "outputs": [
    {
     "data": {
      "text/plain": [
       "[]"
      ]
     },
     "execution_count": 7,
     "metadata": {},
     "output_type": "execute_result"
    }
   ],
   "source": [
    "unavailable_variables"
   ]
  },
  {
   "cell_type": "code",
   "execution_count": 8,
   "id": "87bd3288-6040-4926-ac36-1ea7f9c09d51",
   "metadata": {},
   "outputs": [
    {
     "data": {
      "text/plain": [
       "<class 'pyam.core.IamDataFrame'>\n",
       "Index:\n",
       " * model    : Historical (1)\n",
       " * scenario : GCP+CEDS+PRIMAP+GFED (1)\n",
       "Timeseries data coordinates:\n",
       "   region   : World (1)\n",
       "   variable : Emissions|BC, Emissions|C2F6, Emissions|C3F8, ... Emissions|c-C4F8 (51)\n",
       "   unit     : Gt CO2/yr, Mt BC/yr, Mt CH4/yr, Mt CO/yr, Mt N2O/yr, ... kt cC4F8/yr (50)\n",
       "   year     : 1750, 1751, 1752, 1753, 1754, 1755, 1756, 1757, ... 2022 (273)"
      ]
     },
     "execution_count": 8,
     "metadata": {},
     "output_type": "execute_result"
    }
   ],
   "source": [
    "df"
   ]
  },
  {
   "cell_type": "code",
   "execution_count": 9,
   "id": "56b4ae94-052b-491b-951c-5db35c3611e6",
   "metadata": {},
   "outputs": [
    {
     "data": {
      "text/plain": [
       "<class 'pyam.core.IamDataFrame'>\n",
       "Index:\n",
       " * model    : GCAM 6.0 NGFS (1)\n",
       " * scenario : Below 2 C, Current Policies, Delayed transition, ... Net Zero 2050 (7)\n",
       "Timeseries data coordinates:\n",
       "   region   : World (1)\n",
       "   variable : Emissions|BC, Emissions|C2F6, Emissions|CF4, ... Emissions|VOC (21)\n",
       "   unit     : Gt CO2/yr, Mt BC/yr, Mt CH4/yr, Mt CO/yr, Mt N2O/yr, ... kt SF6/yr (20)\n",
       "   year     : 2020, 2021, 2022, 2023, 2024, 2025, 2026, 2027, ... 2100 (81)"
      ]
     },
     "execution_count": 9,
     "metadata": {},
     "output_type": "execute_result"
    }
   ],
   "source": [
    "df_to_infill"
   ]
  },
  {
   "cell_type": "code",
   "execution_count": 10,
   "id": "1e95d332-85e2-4770-a225-c861ce0ff973",
   "metadata": {},
   "outputs": [
    {
     "name": "stderr",
     "output_type": "stream",
     "text": [
      "Filling required variables:   0%|          | 0/1 [00:00<?, ?it/s]/opt/miniconda/envs/risk/lib/python3.10/site-packages/silicone/database_crunchers/quantile_rolling_windows.py:182: FutureWarning: DataFrame.applymap has been deprecated. Use DataFrame.map instead.\n",
      "  wide_db = wide_db.applymap(lambda x: np.nan if isinstance(x, str) else x)\n",
      "/opt/miniconda/envs/risk/lib/python3.10/site-packages/pyam/core.py:895: FutureWarning: The behavior of array concatenation with empty entries is deprecated. In a future version, this will no longer exclude empty items when determining the result dtype. To retain the old behavior, exclude the empty entries before the concat operation.\n",
      "  self.meta[name] = meta[name].combine_first(self.meta[name])\n",
      "/opt/miniconda/envs/risk/lib/python3.10/site-packages/silicone/multiple_infillers/infill_all_required_emissions_for_openscm.py:299: UserWarning: Error encountered when infilling Emissions|C3F8\n",
      "  warnings.warn(f\"Error encountered when infilling {req_var}\")\n",
      "Filling required variables:   0%|          | 0/1 [00:00<?, ?it/s]\n"
     ]
    },
    {
     "ename": "ValueError",
     "evalue": "Not all required timepoints are present in the database we crunched, we crunched \n\t`[2022]`\nbut you passed in \n\t[2022, 2023, 2024, 2025, 2026, 2027, 2028, 2029, 2030, 2031, 2032, 2033, 2034, 2035, 2036, 2037, 2038, 2039, 2040, 2041, 2042, 2043, 2044, 2045, 2046, 2047, 2048, 2049, 2050, 2051, 2052, 2053, 2054, 2055, 2056, 2057, 2058, 2059, 2060, 2061, 2062, 2063, 2064, 2065, 2066, 2067, 2068, 2069, 2070, 2071, 2072, 2073, 2074, 2075, 2076, 2077, 2078, 2079, 2080, 2081, 2082, 2083, 2084, 2085, 2086, 2087, 2088, 2089, 2090, 2091, 2092, 2093, 2094, 2095, 2096, 2097, 2098, 2099, 2100]",
     "output_type": "error",
     "traceback": [
      "\u001b[0;31m---------------------------------------------------------------------------\u001b[0m",
      "\u001b[0;31mValueError\u001b[0m                                Traceback (most recent call last)",
      "File \u001b[0;32m/opt/miniconda/envs/risk/lib/python3.10/site-packages/silicone/multiple_infillers/infill_all_required_emissions_for_openscm.py:297\u001b[0m, in \u001b[0;36m_perform_crunch_and_check\u001b[0;34m(required_variables, leaders, to_fill, df, type_of_cruncher, output_timesteps, to_fill_orig, check_data_returned, **kwargs)\u001b[0m\n\u001b[1;32m    296\u001b[0m \u001b[38;5;28;01mtry\u001b[39;00m:\n\u001b[0;32m--> 297\u001b[0m     infilled \u001b[38;5;241m=\u001b[39m \u001b[43m_infill_variable\u001b[49m\u001b[43m(\u001b[49m\u001b[43mcruncher\u001b[49m\u001b[43m,\u001b[49m\u001b[43m \u001b[49m\u001b[43mreq_var\u001b[49m\u001b[43m,\u001b[49m\u001b[43m \u001b[49m\u001b[43mleaders\u001b[49m\u001b[43m,\u001b[49m\u001b[43m \u001b[49m\u001b[43mto_fill\u001b[49m\u001b[43m,\u001b[49m\u001b[43m \u001b[49m\u001b[38;5;241;43m*\u001b[39;49m\u001b[38;5;241;43m*\u001b[39;49m\u001b[43mkwargs\u001b[49m\u001b[43m)\u001b[49m\n\u001b[1;32m    298\u001b[0m \u001b[38;5;28;01mexcept\u001b[39;00m \u001b[38;5;167;01mValueError\u001b[39;00m \u001b[38;5;28;01mas\u001b[39;00m err:\n",
      "File \u001b[0;32m/opt/miniconda/envs/risk/lib/python3.10/site-packages/silicone/multiple_infillers/infill_all_required_emissions_for_openscm.py:377\u001b[0m, in \u001b[0;36m_infill_variable\u001b[0;34m(cruncher_i, req_variable, leader_i, to_fill_i, **kwargs)\u001b[0m\n\u001b[1;32m    376\u001b[0m \u001b[38;5;28;01mif\u001b[39;00m \u001b[38;5;129;01mnot\u001b[39;00m to_fill_var\u001b[38;5;241m.\u001b[39mdata\u001b[38;5;241m.\u001b[39mempty:\n\u001b[0;32m--> 377\u001b[0m     infilled \u001b[38;5;241m=\u001b[39m \u001b[43mfiller\u001b[49m\u001b[43m(\u001b[49m\u001b[43mto_fill_var\u001b[49m\u001b[43m)\u001b[49m\n\u001b[1;32m    379\u001b[0m     \u001b[38;5;28;01mreturn\u001b[39;00m infilled\n",
      "File \u001b[0;32m/opt/miniconda/envs/risk/lib/python3.10/site-packages/silicone/database_crunchers/quantile_rolling_windows.py:293\u001b[0m, in \u001b[0;36mQuantileRollingWindows.derive_relationship.<locals>.filler\u001b[0;34m(in_iamdf)\u001b[0m\n\u001b[1;32m    292\u001b[0m \u001b[38;5;28;01mif\u001b[39;00m \u001b[38;5;129;01mnot\u001b[39;00m have_all_timepoints:\n\u001b[0;32m--> 293\u001b[0m     \u001b[38;5;28;01mraise\u001b[39;00m \u001b[38;5;167;01mValueError\u001b[39;00m(\n\u001b[1;32m    294\u001b[0m         \u001b[38;5;124m\"\u001b[39m\u001b[38;5;124mNot all required timepoints are present in the database we \u001b[39m\u001b[38;5;124m\"\u001b[39m\n\u001b[1;32m    295\u001b[0m         \u001b[38;5;124m\"\u001b[39m\u001b[38;5;124mcrunched, we crunched \u001b[39m\u001b[38;5;130;01m\\n\u001b[39;00m\u001b[38;5;130;01m\\t\u001b[39;00m\u001b[38;5;124m`\u001b[39m\u001b[38;5;132;01m{}\u001b[39;00m\u001b[38;5;124m`\u001b[39m\u001b[38;5;130;01m\\n\u001b[39;00m\u001b[38;5;124mbut you passed in \u001b[39m\u001b[38;5;130;01m\\n\u001b[39;00m\u001b[38;5;130;01m\\t\u001b[39;00m\u001b[38;5;132;01m{}\u001b[39;00m\u001b[38;5;124m\"\u001b[39m\u001b[38;5;241m.\u001b[39mformat(\n\u001b[1;32m    296\u001b[0m             \u001b[38;5;28mlist\u001b[39m(derived_relationships\u001b[38;5;241m.\u001b[39mkeys()),\n\u001b[1;32m    297\u001b[0m             in_iamdf\u001b[38;5;241m.\u001b[39mtimeseries()\u001b[38;5;241m.\u001b[39mcolumns\u001b[38;5;241m.\u001b[39mtolist(),\n\u001b[1;32m    298\u001b[0m         )\n\u001b[1;32m    299\u001b[0m     )\n\u001b[1;32m    301\u001b[0m \u001b[38;5;66;03m# do infilling here\u001b[39;00m\n",
      "\u001b[0;31mValueError\u001b[0m: Not all required timepoints are present in the database we crunched, we crunched \n\t`[2022]`\nbut you passed in \n\t[2022, 2023, 2024, 2025, 2026, 2027, 2028, 2029, 2030, 2031, 2032, 2033, 2034, 2035, 2036, 2037, 2038, 2039, 2040, 2041, 2042, 2043, 2044, 2045, 2046, 2047, 2048, 2049, 2050, 2051, 2052, 2053, 2054, 2055, 2056, 2057, 2058, 2059, 2060, 2061, 2062, 2063, 2064, 2065, 2066, 2067, 2068, 2069, 2070, 2071, 2072, 2073, 2074, 2075, 2076, 2077, 2078, 2079, 2080, 2081, 2082, 2083, 2084, 2085, 2086, 2087, 2088, 2089, 2090, 2091, 2092, 2093, 2094, 2095, 2096, 2097, 2098, 2099, 2100]",
      "\nDuring handling of the above exception, another exception occurred:\n",
      "\u001b[0;31mValueError\u001b[0m                                Traceback (most recent call last)",
      "Cell \u001b[0;32mIn [10], line 1\u001b[0m\n\u001b[0;32m----> 1\u001b[0m df_infilled \u001b[38;5;241m=\u001b[39m \u001b[43mmi\u001b[49m\u001b[38;5;241;43m.\u001b[39;49m\u001b[43minfill_all_required_variables\u001b[49m\u001b[43m(\u001b[49m\n\u001b[1;32m      2\u001b[0m \u001b[43m    \u001b[49m\u001b[43mdf_to_infill\u001b[49m\u001b[43m,\u001b[49m\n\u001b[1;32m      3\u001b[0m \u001b[43m    \u001b[49m\u001b[43mdf\u001b[49m\u001b[43m,\u001b[49m\n\u001b[1;32m      4\u001b[0m \u001b[43m    \u001b[49m\u001b[43mvariable_leaders\u001b[49m\u001b[38;5;241;43m=\u001b[39;49m\u001b[43mlead\u001b[49m\u001b[43m,\u001b[49m\n\u001b[1;32m      5\u001b[0m \u001b[43m    \u001b[49m\u001b[43mrequired_variables_list\u001b[49m\u001b[38;5;241;43m=\u001b[39;49m\u001b[43mvariables_of_interest\u001b[49m\u001b[43m,\u001b[49m\u001b[43m \u001b[49m\u001b[38;5;66;43;03m# If None, would infill a default list\u001b[39;49;00m\n\u001b[1;32m      6\u001b[0m \u001b[43m    \u001b[49m\u001b[43mcruncher\u001b[49m\u001b[38;5;241;43m=\u001b[39;49m\u001b[43mcr\u001b[49m\u001b[38;5;241;43m.\u001b[39;49m\u001b[43mQuantileRollingWindows\u001b[49m\u001b[43m,\u001b[49m\n\u001b[1;32m      7\u001b[0m \u001b[43m    \u001b[49m\u001b[43moutput_timesteps\u001b[49m\u001b[38;5;241;43m=\u001b[39;49m\u001b[43myears_list\u001b[49m\u001b[43m,\u001b[49m\n\u001b[1;32m      8\u001b[0m \u001b[43m    \u001b[49m\u001b[43minfilled_data_prefix\u001b[49m\u001b[38;5;241;43m=\u001b[39;49m\u001b[38;5;28;43;01mNone\u001b[39;49;00m\u001b[43m,\u001b[49m\n\u001b[1;32m      9\u001b[0m \u001b[43m    \u001b[49m\u001b[43mto_fill_old_prefix\u001b[49m\u001b[38;5;241;43m=\u001b[39;49m\u001b[38;5;28;43;01mNone\u001b[39;49;00m\u001b[43m,\u001b[49m\n\u001b[1;32m     10\u001b[0m \u001b[43m    \u001b[49m\u001b[43mcheck_data_returned\u001b[49m\u001b[38;5;241;43m=\u001b[39;49m\u001b[38;5;28;43;01mFalse\u001b[39;49;00m\u001b[43m,\u001b[49m\n\u001b[1;32m     11\u001b[0m \u001b[43m)\u001b[49m\n",
      "File \u001b[0;32m/opt/miniconda/envs/risk/lib/python3.10/site-packages/silicone/multiple_infillers/infill_all_required_emissions_for_openscm.py:219\u001b[0m, in \u001b[0;36minfill_all_required_variables\u001b[0;34m(to_fill, database, variable_leaders, required_variables_list, cruncher, output_timesteps, infilled_data_prefix, to_fill_old_prefix, check_data_returned, **kwargs)\u001b[0m\n\u001b[1;32m    213\u001b[0m available_variables \u001b[38;5;241m=\u001b[39m [\n\u001b[1;32m    214\u001b[0m     variab\n\u001b[1;32m    215\u001b[0m     \u001b[38;5;28;01mfor\u001b[39;00m variab \u001b[38;5;129;01min\u001b[39;00m required_variables_list\n\u001b[1;32m    216\u001b[0m     \u001b[38;5;28;01mif\u001b[39;00m variab \u001b[38;5;129;01mnot\u001b[39;00m \u001b[38;5;129;01min\u001b[39;00m unavailable_variables\n\u001b[1;32m    217\u001b[0m ]\n\u001b[1;32m    218\u001b[0m \u001b[38;5;28;01mif\u001b[39;00m available_variables:\n\u001b[0;32m--> 219\u001b[0m     to_fill \u001b[38;5;241m=\u001b[39m \u001b[43m_perform_crunch_and_check\u001b[49m\u001b[43m(\u001b[49m\n\u001b[1;32m    220\u001b[0m \u001b[43m        \u001b[49m\u001b[43mavailable_variables\u001b[49m\u001b[43m,\u001b[49m\n\u001b[1;32m    221\u001b[0m \u001b[43m        \u001b[49m\u001b[43mvariable_leaders\u001b[49m\u001b[43m,\u001b[49m\n\u001b[1;32m    222\u001b[0m \u001b[43m        \u001b[49m\u001b[43mto_fill\u001b[49m\u001b[43m,\u001b[49m\n\u001b[1;32m    223\u001b[0m \u001b[43m        \u001b[49m\u001b[43mdatabase\u001b[49m\u001b[43m,\u001b[49m\n\u001b[1;32m    224\u001b[0m \u001b[43m        \u001b[49m\u001b[43mcruncher\u001b[49m\u001b[43m,\u001b[49m\n\u001b[1;32m    225\u001b[0m \u001b[43m        \u001b[49m\u001b[43moutput_timesteps\u001b[49m\u001b[43m,\u001b[49m\n\u001b[1;32m    226\u001b[0m \u001b[43m        \u001b[49m\u001b[43mto_fill_orig\u001b[49m\u001b[43m,\u001b[49m\n\u001b[1;32m    227\u001b[0m \u001b[43m        \u001b[49m\u001b[43mcheck_data_returned\u001b[49m\u001b[38;5;241;43m=\u001b[39;49m\u001b[43mcheck_data_returned\u001b[49m\u001b[43m,\u001b[49m\n\u001b[1;32m    228\u001b[0m \u001b[43m        \u001b[49m\u001b[38;5;241;43m*\u001b[39;49m\u001b[38;5;241;43m*\u001b[39;49m\u001b[43mkwargs\u001b[49m\u001b[43m,\u001b[49m\n\u001b[1;32m    229\u001b[0m \u001b[43m    \u001b[49m\u001b[43m)\u001b[49m\n\u001b[1;32m    231\u001b[0m \u001b[38;5;28;01mif\u001b[39;00m infilled_data_prefix:\n\u001b[1;32m    232\u001b[0m     to_fill\u001b[38;5;241m.\u001b[39mrename(\n\u001b[1;32m    233\u001b[0m         {\n\u001b[1;32m    234\u001b[0m             \u001b[38;5;124m\"\u001b[39m\u001b[38;5;124mvariable\u001b[39m\u001b[38;5;124m\"\u001b[39m: {\n\u001b[0;32m   (...)\u001b[0m\n\u001b[1;32m    238\u001b[0m         inplace\u001b[38;5;241m=\u001b[39m\u001b[38;5;28;01mTrue\u001b[39;00m,\n\u001b[1;32m    239\u001b[0m     )\n",
      "File \u001b[0;32m/opt/miniconda/envs/risk/lib/python3.10/site-packages/silicone/multiple_infillers/infill_all_required_emissions_for_openscm.py:300\u001b[0m, in \u001b[0;36m_perform_crunch_and_check\u001b[0;34m(required_variables, leaders, to_fill, df, type_of_cruncher, output_timesteps, to_fill_orig, check_data_returned, **kwargs)\u001b[0m\n\u001b[1;32m    298\u001b[0m \u001b[38;5;28;01mexcept\u001b[39;00m \u001b[38;5;167;01mValueError\u001b[39;00m \u001b[38;5;28;01mas\u001b[39;00m err:\n\u001b[1;32m    299\u001b[0m     warnings\u001b[38;5;241m.\u001b[39mwarn(\u001b[38;5;124mf\u001b[39m\u001b[38;5;124m\"\u001b[39m\u001b[38;5;124mError encountered when infilling \u001b[39m\u001b[38;5;132;01m{\u001b[39;00mreq_var\u001b[38;5;132;01m}\u001b[39;00m\u001b[38;5;124m\"\u001b[39m)\n\u001b[0;32m--> 300\u001b[0m     \u001b[38;5;28;01mraise\u001b[39;00m \u001b[38;5;167;01mValueError\u001b[39;00m(err)\n\u001b[1;32m    301\u001b[0m \u001b[38;5;28;01mif\u001b[39;00m infilled:\n\u001b[1;32m    302\u001b[0m     filled\u001b[38;5;241m.\u001b[39mappend(infilled)\n",
      "\u001b[0;31mValueError\u001b[0m: Not all required timepoints are present in the database we crunched, we crunched \n\t`[2022]`\nbut you passed in \n\t[2022, 2023, 2024, 2025, 2026, 2027, 2028, 2029, 2030, 2031, 2032, 2033, 2034, 2035, 2036, 2037, 2038, 2039, 2040, 2041, 2042, 2043, 2044, 2045, 2046, 2047, 2048, 2049, 2050, 2051, 2052, 2053, 2054, 2055, 2056, 2057, 2058, 2059, 2060, 2061, 2062, 2063, 2064, 2065, 2066, 2067, 2068, 2069, 2070, 2071, 2072, 2073, 2074, 2075, 2076, 2077, 2078, 2079, 2080, 2081, 2082, 2083, 2084, 2085, 2086, 2087, 2088, 2089, 2090, 2091, 2092, 2093, 2094, 2095, 2096, 2097, 2098, 2099, 2100]"
     ]
    }
   ],
   "source": [
    "df_infilled = mi.infill_all_required_variables(\n",
    "    df_to_infill,\n",
    "    df,\n",
    "    variable_leaders=lead,\n",
    "    required_variables_list=variables_of_interest, # If None, would infill a default list\n",
    "    cruncher=cr.QuantileRollingWindows,\n",
    "    output_timesteps=years_list,\n",
    "    infilled_data_prefix=None,\n",
    "    to_fill_old_prefix=None,\n",
    "    check_data_returned=False,\n",
    ")"
   ]
  },
  {
   "cell_type": "code",
   "execution_count": null,
   "id": "e3a819fe-415a-4730-aaa7-d1163611e374",
   "metadata": {},
   "outputs": [],
   "source": [
    "df_infilled.filter(variable=variables_of_interest[0]).timeseries().head()"
   ]
  },
  {
   "cell_type": "code",
   "execution_count": null,
   "id": "8c24d9c4-5b40-42a7-a1e6-beb406554eb5",
   "metadata": {},
   "outputs": [],
   "source": [
    "df_to_infill.filter(variable=variables_of_interest[0]).timeseries().head()"
   ]
  },
  {
   "cell_type": "code",
   "execution_count": null,
   "id": "1fa0278e-fc81-43fc-8203-9ac85fa32c22",
   "metadata": {},
   "outputs": [],
   "source": []
  },
  {
   "cell_type": "code",
   "execution_count": null,
   "id": "3ec624fd-2ddf-40b1-ac59-44578476e8da",
   "metadata": {},
   "outputs": [],
   "source": []
  },
  {
   "cell_type": "code",
   "execution_count": null,
   "id": "11304ae6-54d3-4668-b924-141c973e6ba4",
   "metadata": {},
   "outputs": [],
   "source": []
  },
  {
   "cell_type": "code",
   "execution_count": null,
   "id": "7da1b78e-b609-4f96-bec7-16e6aee1c52a",
   "metadata": {},
   "outputs": [],
   "source": []
  },
  {
   "cell_type": "code",
   "execution_count": null,
   "id": "c9751e34-15d2-4f51-9b98-9cb966ebc6a8",
   "metadata": {
    "pycharm": {
     "name": "#%%\n"
    }
   },
   "outputs": [],
   "source": [
    "extended_scenario_all = scmdata.run_append(\n",
    "    [\n",
    "        extend_timeseries(df_to_infill, selected_scenarios)\n",
    "        # for p in tqdm(pathways)\n",
    "    ]\n",
    ")\n",
    "# extended_scenario_2050 = extended_scenario_all.filter(pathway_id=SELECTED_PATHWAY)"
   ]
  },
  {
   "cell_type": "code",
   "execution_count": null,
   "id": "8bb4a5f5-7336-4e0b-8542-4366ff182f17",
   "metadata": {},
   "outputs": [],
   "source": [
    "from ndcs.infilling import extend_timeseries"
   ]
  },
  {
   "cell_type": "code",
   "execution_count": null,
   "id": "222893b3-2d48-43d6-b33c-bea649b9bfcb",
   "metadata": {},
   "outputs": [],
   "source": []
  }
 ],
 "metadata": {
  "kernelspec": {
   "display_name": "Python 3 (ipykernel)",
   "language": "python",
   "name": "python3"
  },
  "language_info": {
   "codemirror_mode": {
    "name": "ipython",
    "version": 3
   },
   "file_extension": ".py",
   "mimetype": "text/x-python",
   "name": "python",
   "nbconvert_exporter": "python",
   "pygments_lexer": "ipython3",
   "version": "3.10.6"
  }
 },
 "nbformat": 4,
 "nbformat_minor": 5
}
