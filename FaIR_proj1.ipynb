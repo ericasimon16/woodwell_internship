{
 "cells": [
  {
   "cell_type": "markdown",
   "id": "7d517430-1740-42c3-9873-3075f8819134",
   "metadata": {},
   "source": [
    "# FaIR Hist\n",
    "## Goal: create an accurate temperature projection for a future emissions tracjectory\n",
    "- 2022 to 2100\n",
    "- Use harmonized GHG concentrations in 2022 as starting point\n",
    "### Erica Simon, 01/22/24"
   ]
  },
  {
   "cell_type": "code",
   "execution_count": 2,
   "id": "89730048-0742-4106-98b4-20472e4c3107",
   "metadata": {},
   "outputs": [],
   "source": [
    "import matplotlib.pyplot as plt\n",
    "import numpy as np\n",
    "import pandas as pd\n",
    "import pooch\n",
    "\n",
    "from fair import FAIR\n",
    "from fair.interface import fill, initialise\n",
    "from fair.io import read_properties"
   ]
  },
  {
   "cell_type": "code",
   "execution_count": 3,
   "id": "f3c92bea-b9fe-4b9d-91b8-abf6d83a0f13",
   "metadata": {},
   "outputs": [],
   "source": [
    "f = FAIR()"
   ]
  },
  {
   "cell_type": "code",
   "execution_count": 4,
   "id": "4fbb8cf7-fbe0-4de9-bd8c-158f00976976",
   "metadata": {},
   "outputs": [],
   "source": [
    "f.define_time(2022, 2100, 1)"
   ]
  },
  {
   "cell_type": "code",
   "execution_count": null,
   "id": "f9eaa01e-5431-4c87-8cd3-4be643f6be86",
   "metadata": {},
   "outputs": [],
   "source": []
  }
 ],
 "metadata": {
  "kernelspec": {
   "display_name": "Python 3 (ipykernel)",
   "language": "python",
   "name": "python3"
  },
  "language_info": {
   "codemirror_mode": {
    "name": "ipython",
    "version": 3
   },
   "file_extension": ".py",
   "mimetype": "text/x-python",
   "name": "python",
   "nbconvert_exporter": "python",
   "pygments_lexer": "ipython3",
   "version": "3.10.6"
  }
 },
 "nbformat": 4,
 "nbformat_minor": 5
}
