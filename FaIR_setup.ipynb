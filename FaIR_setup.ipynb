{
 "cells": [
  {
   "cell_type": "markdown",
   "id": "eee51fef-3b9c-4f56-8f1f-00156f879658",
   "metadata": {},
   "source": [
    "# Basic FaIR Setup\n",
    "### Adapted from the FaIR Docs [Basic Example](https://docs.fairmodel.net/en/latest/examples/basic_run_example.html)\n",
    "### Intended to familiarize users with creating an instance and running FaIR\n",
    "### Credit: Dr. Chris Smith"
   ]
  },
  {
   "cell_type": "markdown",
   "id": "226cd48d-f4c8-44dd-b734-116c91c35ed1",
   "metadata": {},
   "source": [
    "## 1. Create FaIR Instance"
   ]
  },
  {
   "cell_type": "code",
   "execution_count": 1,
   "id": "c9a7ac79-284e-4fa1-8777-cf3572eb908c",
   "metadata": {},
   "outputs": [
    {
     "name": "stderr",
     "output_type": "stream",
     "text": [
      "/opt/miniconda/envs/risk/lib/python3.10/site-packages/tqdm/auto.py:22: TqdmWarning: IProgress not found. Please update jupyter and ipywidgets. See https://ipywidgets.readthedocs.io/en/stable/user_install.html\n",
      "  from .autonotebook import tqdm as notebook_tqdm\n"
     ]
    }
   ],
   "source": [
    "from fair import FAIR"
   ]
  },
  {
   "cell_type": "code",
   "execution_count": 2,
   "id": "9e7271a7-e52b-4c29-9ced-5f48872f9ac9",
   "metadata": {},
   "outputs": [],
   "source": [
    "f = FAIR()"
   ]
  },
  {
   "cell_type": "markdown",
   "id": "a86ef4ee-9f03-438f-a4d6-f612912af16a",
   "metadata": {},
   "source": [
    "## 2. Define time horizon"
   ]
  },
  {
   "cell_type": "code",
   "execution_count": 3,
   "id": "50c71892-bd7d-4532-afe3-b08f8d7388d5",
   "metadata": {},
   "outputs": [
    {
     "name": "stdout",
     "output_type": "stream",
     "text": [
      "[1750. 1751. 1752. 1753. 1754. 1755. 1756. 1757. 1758. 1759. 1760. 1761.\n",
      " 1762. 1763. 1764. 1765. 1766. 1767. 1768. 1769. 1770. 1771. 1772. 1773.\n",
      " 1774. 1775. 1776. 1777. 1778. 1779. 1780. 1781. 1782. 1783. 1784. 1785.\n",
      " 1786. 1787. 1788. 1789. 1790. 1791. 1792. 1793. 1794. 1795. 1796. 1797.\n",
      " 1798. 1799. 1800. 1801. 1802. 1803. 1804. 1805. 1806. 1807. 1808. 1809.\n",
      " 1810. 1811. 1812. 1813. 1814. 1815. 1816. 1817. 1818. 1819. 1820. 1821.\n",
      " 1822. 1823. 1824. 1825. 1826. 1827. 1828. 1829. 1830. 1831. 1832. 1833.\n",
      " 1834. 1835. 1836. 1837. 1838. 1839. 1840. 1841. 1842. 1843. 1844. 1845.\n",
      " 1846. 1847. 1848. 1849. 1850. 1851. 1852. 1853. 1854. 1855. 1856. 1857.\n",
      " 1858. 1859. 1860. 1861. 1862. 1863. 1864. 1865. 1866. 1867. 1868. 1869.\n",
      " 1870. 1871. 1872. 1873. 1874. 1875. 1876. 1877. 1878. 1879. 1880. 1881.\n",
      " 1882. 1883. 1884. 1885. 1886. 1887. 1888. 1889. 1890. 1891. 1892. 1893.\n",
      " 1894. 1895. 1896. 1897. 1898. 1899. 1900. 1901. 1902. 1903. 1904. 1905.\n",
      " 1906. 1907. 1908. 1909. 1910. 1911. 1912. 1913. 1914. 1915. 1916. 1917.\n",
      " 1918. 1919. 1920. 1921. 1922. 1923. 1924. 1925. 1926. 1927. 1928. 1929.\n",
      " 1930. 1931. 1932. 1933. 1934. 1935. 1936. 1937. 1938. 1939. 1940. 1941.\n",
      " 1942. 1943. 1944. 1945. 1946. 1947. 1948. 1949. 1950. 1951. 1952. 1953.\n",
      " 1954. 1955. 1956. 1957. 1958. 1959. 1960. 1961. 1962. 1963. 1964. 1965.\n",
      " 1966. 1967. 1968. 1969. 1970. 1971. 1972. 1973. 1974. 1975. 1976. 1977.\n",
      " 1978. 1979. 1980. 1981. 1982. 1983. 1984. 1985. 1986. 1987. 1988. 1989.\n",
      " 1990. 1991. 1992. 1993. 1994. 1995. 1996. 1997. 1998. 1999. 2000. 2001.\n",
      " 2002. 2003. 2004. 2005. 2006. 2007. 2008. 2009. 2010. 2011. 2012. 2013.\n",
      " 2014. 2015. 2016. 2017. 2018. 2019. 2020. 2021. 2022. 2023. 2024. 2025.\n",
      " 2026. 2027. 2028. 2029. 2030. 2031. 2032. 2033. 2034. 2035. 2036. 2037.\n",
      " 2038. 2039. 2040. 2041. 2042. 2043. 2044. 2045. 2046. 2047. 2048. 2049.\n",
      " 2050. 2051. 2052. 2053. 2054. 2055. 2056. 2057. 2058. 2059. 2060. 2061.\n",
      " 2062. 2063. 2064. 2065. 2066. 2067. 2068. 2069. 2070. 2071. 2072. 2073.\n",
      " 2074. 2075. 2076. 2077. 2078. 2079. 2080. 2081. 2082. 2083. 2084. 2085.\n",
      " 2086. 2087. 2088. 2089. 2090. 2091. 2092. 2093. 2094. 2095. 2096. 2097.\n",
      " 2098. 2099. 2100.]\n",
      "[1750.5 1751.5 1752.5 1753.5 1754.5 1755.5 1756.5 1757.5 1758.5 1759.5\n",
      " 1760.5 1761.5 1762.5 1763.5 1764.5 1765.5 1766.5 1767.5 1768.5 1769.5\n",
      " 1770.5 1771.5 1772.5 1773.5 1774.5 1775.5 1776.5 1777.5 1778.5 1779.5\n",
      " 1780.5 1781.5 1782.5 1783.5 1784.5 1785.5 1786.5 1787.5 1788.5 1789.5\n",
      " 1790.5 1791.5 1792.5 1793.5 1794.5 1795.5 1796.5 1797.5 1798.5 1799.5\n",
      " 1800.5 1801.5 1802.5 1803.5 1804.5 1805.5 1806.5 1807.5 1808.5 1809.5\n",
      " 1810.5 1811.5 1812.5 1813.5 1814.5 1815.5 1816.5 1817.5 1818.5 1819.5\n",
      " 1820.5 1821.5 1822.5 1823.5 1824.5 1825.5 1826.5 1827.5 1828.5 1829.5\n",
      " 1830.5 1831.5 1832.5 1833.5 1834.5 1835.5 1836.5 1837.5 1838.5 1839.5\n",
      " 1840.5 1841.5 1842.5 1843.5 1844.5 1845.5 1846.5 1847.5 1848.5 1849.5\n",
      " 1850.5 1851.5 1852.5 1853.5 1854.5 1855.5 1856.5 1857.5 1858.5 1859.5\n",
      " 1860.5 1861.5 1862.5 1863.5 1864.5 1865.5 1866.5 1867.5 1868.5 1869.5\n",
      " 1870.5 1871.5 1872.5 1873.5 1874.5 1875.5 1876.5 1877.5 1878.5 1879.5\n",
      " 1880.5 1881.5 1882.5 1883.5 1884.5 1885.5 1886.5 1887.5 1888.5 1889.5\n",
      " 1890.5 1891.5 1892.5 1893.5 1894.5 1895.5 1896.5 1897.5 1898.5 1899.5\n",
      " 1900.5 1901.5 1902.5 1903.5 1904.5 1905.5 1906.5 1907.5 1908.5 1909.5\n",
      " 1910.5 1911.5 1912.5 1913.5 1914.5 1915.5 1916.5 1917.5 1918.5 1919.5\n",
      " 1920.5 1921.5 1922.5 1923.5 1924.5 1925.5 1926.5 1927.5 1928.5 1929.5\n",
      " 1930.5 1931.5 1932.5 1933.5 1934.5 1935.5 1936.5 1937.5 1938.5 1939.5\n",
      " 1940.5 1941.5 1942.5 1943.5 1944.5 1945.5 1946.5 1947.5 1948.5 1949.5\n",
      " 1950.5 1951.5 1952.5 1953.5 1954.5 1955.5 1956.5 1957.5 1958.5 1959.5\n",
      " 1960.5 1961.5 1962.5 1963.5 1964.5 1965.5 1966.5 1967.5 1968.5 1969.5\n",
      " 1970.5 1971.5 1972.5 1973.5 1974.5 1975.5 1976.5 1977.5 1978.5 1979.5\n",
      " 1980.5 1981.5 1982.5 1983.5 1984.5 1985.5 1986.5 1987.5 1988.5 1989.5\n",
      " 1990.5 1991.5 1992.5 1993.5 1994.5 1995.5 1996.5 1997.5 1998.5 1999.5\n",
      " 2000.5 2001.5 2002.5 2003.5 2004.5 2005.5 2006.5 2007.5 2008.5 2009.5\n",
      " 2010.5 2011.5 2012.5 2013.5 2014.5 2015.5 2016.5 2017.5 2018.5 2019.5\n",
      " 2020.5 2021.5 2022.5 2023.5 2024.5 2025.5 2026.5 2027.5 2028.5 2029.5\n",
      " 2030.5 2031.5 2032.5 2033.5 2034.5 2035.5 2036.5 2037.5 2038.5 2039.5\n",
      " 2040.5 2041.5 2042.5 2043.5 2044.5 2045.5 2046.5 2047.5 2048.5 2049.5\n",
      " 2050.5 2051.5 2052.5 2053.5 2054.5 2055.5 2056.5 2057.5 2058.5 2059.5\n",
      " 2060.5 2061.5 2062.5 2063.5 2064.5 2065.5 2066.5 2067.5 2068.5 2069.5\n",
      " 2070.5 2071.5 2072.5 2073.5 2074.5 2075.5 2076.5 2077.5 2078.5 2079.5\n",
      " 2080.5 2081.5 2082.5 2083.5 2084.5 2085.5 2086.5 2087.5 2088.5 2089.5\n",
      " 2090.5 2091.5 2092.5 2093.5 2094.5 2095.5 2096.5 2097.5 2098.5 2099.5]\n"
     ]
    }
   ],
   "source": [
    "# create time horizon with bounds of 1750 and 2100, at 1-year intervals\n",
    "f.define_time(1750, 2100, 1)\n",
    "print(f.timebounds)\n",
    "print(f.timepoints)"
   ]
  },
  {
   "cell_type": "markdown",
   "id": "d5ebe24f-6118-44be-b9da-4a123222be0b",
   "metadata": {},
   "source": [
    "## 3. Define scenarios\n",
    "Scenarios are simply strings that are used to label the scenario dimension of the model.\n",
    "\n",
    "As suggested in the FaIR docs, I will create an abrupt scenario, with emissions changing instantaneously, and a ramp scenario, where emissions gradually inrease."
   ]
  },
  {
   "cell_type": "code",
   "execution_count": 5,
   "id": "7c3c1dc9-0ad5-4a64-bbfe-79ee54e8eaeb",
   "metadata": {},
   "outputs": [
    {
     "data": {
      "text/plain": [
       "['abrupt', 'ramp']"
      ]
     },
     "execution_count": 5,
     "metadata": {},
     "output_type": "execute_result"
    }
   ],
   "source": [
    "# Define two scenarios\n",
    "f.define_scenarios([\"abrupt\", \"ramp\"])\n",
    "f.scenarios"
   ]
  },
  {
   "cell_type": "markdown",
   "id": "1babe8b3-d239-4c8c-923a-2168309429d9",
   "metadata": {},
   "source": [
    "## 4. Define configs\n",
    "Configs are also a labeling tool, and correspond to \"climate- and species- related settings.\""
   ]
  },
  {
   "cell_type": "code",
   "execution_count": 6,
   "id": "dcb91ba6-5653-4b8a-8186-78f3264dd269",
   "metadata": {},
   "outputs": [
    {
     "data": {
      "text/plain": [
       "['high', 'central', 'low']"
      ]
     },
     "execution_count": 6,
     "metadata": {},
     "output_type": "execute_result"
    }
   ],
   "source": [
    "# Define three scenarios\n",
    "f.define_configs([\"high\", \"central\", \"low\"])\n",
    "f.configs"
   ]
  },
  {
   "cell_type": "markdown",
   "id": "fb83a1d3-ae01-4bb1-b948-980a351770ea",
   "metadata": {
    "tags": []
   },
   "source": [
    "## 5. Define species\n",
    "Species are **forcing agents**- both natural and anthropogenic."
   ]
  },
  {
   "cell_type": "code",
   "execution_count": 9,
   "id": "798b2711-da3a-46e2-9663-72b4fd325944",
   "metadata": {},
   "outputs": [],
   "source": [
    "species = ['CO2 fossil emissions', 'CO2 AFOLU emissions', 'Sulfur', 'CH4', 'N2O', 'CO2', 'ERFari', 'ERFaci']"
   ]
  },
  {
   "cell_type": "code",
   "execution_count": 10,
   "id": "c9720efa-b507-42bd-ad1c-55a239bb3aca",
   "metadata": {},
   "outputs": [],
   "source": [
    "properties = {\n",
    "    'CO2 fossil emissions': {\n",
    "        'type': 'co2 ffi',\n",
    "        'input_mode': 'emissions',\n",
    "        'greenhouse_gas': False,  # it doesn't behave as a GHG itself in the model, but as a precursor\n",
    "        'aerosol_chemistry_from_emissions': False,\n",
    "        'aerosol_chemistry_from_concentration': False,\n",
    "    },\n",
    "    'CO2 AFOLU emissions': {\n",
    "        'type': 'co2 afolu',\n",
    "        'input_mode': 'emissions',\n",
    "        'greenhouse_gas': False,  # it doesn't behave as a GHG itself in the model, but as a precursor\n",
    "        'aerosol_chemistry_from_emissions': False,\n",
    "        'aerosol_chemistry_from_concentration': False,\n",
    "    },\n",
    "    'CO2': {\n",
    "        'type': 'co2',\n",
    "        'input_mode': 'calculated',\n",
    "        'greenhouse_gas': True,\n",
    "        'aerosol_chemistry_from_emissions': False,\n",
    "        'aerosol_chemistry_from_concentration': False,\n",
    "    },\n",
    "    'CH4': {\n",
    "        'type': 'ch4',\n",
    "        'input_mode': 'concentration',\n",
    "        'greenhouse_gas': True,\n",
    "        'aerosol_chemistry_from_emissions': False,\n",
    "        'aerosol_chemistry_from_concentration': True, # we treat methane as a reactive gas\n",
    "    },\n",
    "    'N2O': {\n",
    "        'type': 'n2o',\n",
    "        'input_mode': 'concentration',\n",
    "        'greenhouse_gas': True,\n",
    "        'aerosol_chemistry_from_emissions': False,\n",
    "        'aerosol_chemistry_from_concentration': True, # we treat nitrous oxide as a reactive gas\n",
    "    },\n",
    "    'Sulfur': {\n",
    "        'type': 'sulfur',\n",
    "        'input_mode': 'emissions',\n",
    "        'greenhouse_gas': False,\n",
    "        'aerosol_chemistry_from_emissions': True,\n",
    "        'aerosol_chemistry_from_concentration': False,\n",
    "    },\n",
    "    'ERFari': {\n",
    "        'type': 'ari',\n",
    "        'input_mode': 'calculated',\n",
    "        'greenhouse_gas': False,\n",
    "        'aerosol_chemistry_from_emissions': False,\n",
    "        'aerosol_chemistry_from_concentration': False,\n",
    "    },\n",
    "    'ERFaci': {\n",
    "        'type': 'aci',\n",
    "        'input_mode': 'calculated',\n",
    "        'greenhouse_gas': False,\n",
    "        'aerosol_chemistry_from_emissions': False,\n",
    "        'aerosol_chemistry_from_concentration': False,\n",
    "    }\n",
    "}"
   ]
  },
  {
   "cell_type": "code",
   "execution_count": 11,
   "id": "896c29d5-e955-4a9e-bff3-3339c5197eaf",
   "metadata": {},
   "outputs": [],
   "source": [
    "f.define_species(species, properties)"
   ]
  },
  {
   "cell_type": "markdown",
   "id": "5ef9a61f-d2c1-480d-b290-491b132b2119",
   "metadata": {},
   "source": [
    "## 6. Modify run options"
   ]
  },
  {
   "cell_type": "markdown",
   "id": "6c4ce4c5-1f9d-4171-9f62-36b214d368b8",
   "metadata": {},
   "source": [
    "## 7. Create input and output data"
   ]
  },
  {
   "cell_type": "markdown",
   "id": "fcc88298-40d3-4e20-910e-9fd62a699203",
   "metadata": {},
   "source": [
    "## 8. Fill in the data"
   ]
  },
  {
   "cell_type": "markdown",
   "id": "24563330-5b88-4a68-9a05-4d606f1f8d36",
   "metadata": {},
   "source": [
    "## 9. Run FaIR"
   ]
  },
  {
   "cell_type": "markdown",
   "id": "12bc7af3-da5f-4f70-9c3a-b9255f895e53",
   "metadata": {},
   "source": [
    "## 10. Visualize results"
   ]
  },
  {
   "cell_type": "code",
   "execution_count": null,
   "id": "ca906776-4e12-471f-bc74-532415e4e561",
   "metadata": {},
   "outputs": [],
   "source": []
  }
 ],
 "metadata": {
  "kernelspec": {
   "display_name": "Python 3 (ipykernel)",
   "language": "python",
   "name": "python3"
  },
  "language_info": {
   "codemirror_mode": {
    "name": "ipython",
    "version": 3
   },
   "file_extension": ".py",
   "mimetype": "text/x-python",
   "name": "python",
   "nbconvert_exporter": "python",
   "pygments_lexer": "ipython3",
   "version": "3.10.6"
  }
 },
 "nbformat": 4,
 "nbformat_minor": 5
}
