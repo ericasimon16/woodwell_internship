{
 "cells": [
  {
   "cell_type": "markdown",
   "id": "af8d4776-3328-4db3-a40f-058f9ac13d77",
   "metadata": {},
   "source": [
    "# FaIR with input data\n",
    "## Learning out how to run FaIR with input data. Creating a dummy input dataset to learn formatting\n",
    "## Created 01/22/2024\n",
    "\n",
    "\n"
   ]
  },
  {
   "cell_type": "code",
   "execution_count": 11,
   "id": "a1f08062-260d-4dba-b7a3-96b47aec07b0",
   "metadata": {},
   "outputs": [],
   "source": [
    "import matplotlib.pyplot as pl\n",
    "import numpy as np\n",
    "import pandas as pd\n",
    "import pooch\n",
    "\n",
    "from fair import FAIR\n",
    "from fair.interface import fill, initialise\n",
    "from fair.io import read_properties"
   ]
  },
  {
   "cell_type": "markdown",
   "id": "2eb7e125-b36b-4607-9682-49f4fe706938",
   "metadata": {},
   "source": [
    "### Create instance"
   ]
  },
  {
   "cell_type": "code",
   "execution_count": 3,
   "id": "8a38260d-6cbe-44a5-a4f4-cd709f101f84",
   "metadata": {},
   "outputs": [],
   "source": [
    "f = FAIR()"
   ]
  },
  {
   "cell_type": "markdown",
   "id": "480d50aa-adc9-4d43-9829-0ce2e519372d",
   "metadata": {},
   "source": [
    "### Define time horizon"
   ]
  },
  {
   "cell_type": "code",
   "execution_count": 4,
   "id": "e0c67294-a4a2-4616-96f1-e00d7150653e",
   "metadata": {},
   "outputs": [],
   "source": [
    "# reconstruct hist\n",
    "f.define_time(1750, 2020, 1)"
   ]
  },
  {
   "cell_type": "markdown",
   "id": "2b4dc286-4486-4756-aab3-e2dd9d294124",
   "metadata": {},
   "source": [
    "### Define scenarios"
   ]
  },
  {
   "cell_type": "code",
   "execution_count": 6,
   "id": "e3e06e68-72ac-4a81-a10e-404648ba45b4",
   "metadata": {},
   "outputs": [],
   "source": [
    "f.define_scenarios(['test1', 'test2'])"
   ]
  },
  {
   "cell_type": "markdown",
   "id": "49c56882-2fe8-4312-845e-b964ded7b411",
   "metadata": {},
   "source": [
    "### Define configs"
   ]
  },
  {
   "cell_type": "code",
   "execution_count": 7,
   "id": "66fd759d-558a-43f5-a4e7-547c74dcfc13",
   "metadata": {},
   "outputs": [],
   "source": [
    "f.define_configs(['config1', 'config2'])"
   ]
  },
  {
   "cell_type": "markdown",
   "id": "2eabfb64-65de-4a41-8823-243df513af3f",
   "metadata": {},
   "source": [
    "### Define species"
   ]
  },
  {
   "cell_type": "code",
   "execution_count": 9,
   "id": "f1530bf2-8798-4b75-8674-a4fa2dc9c6f4",
   "metadata": {},
   "outputs": [],
   "source": [
    "# going to try just CO2 to start\n",
    "species = ['CO2']"
   ]
  },
  {
   "cell_type": "code",
   "execution_count": 18,
   "id": "24a92250-5f29-4a8b-9f49-a930248beb9e",
   "metadata": {},
   "outputs": [],
   "source": [
    "properties = {\n",
    "    'CO2': {\n",
    "        'type': 'co2',\n",
    "        'input_mode': 'emissions',\n",
    "        'greenhouse_gas': True,\n",
    "        'aerosol_chemistry_from_emissions': False,\n",
    "        'aerosol_chemistry_from_concentration': False,\n",
    "    }}"
   ]
  },
  {
   "cell_type": "code",
   "execution_count": 19,
   "id": "a41f114c-739a-4e76-b8ad-1eadd92e30f4",
   "metadata": {},
   "outputs": [
    {
     "data": {
      "text/plain": [
       "{'CO2': {'type': 'co2',\n",
       "  'input_mode': 'emissions',\n",
       "  'greenhouse_gas': True,\n",
       "  'aerosol_chemistry_from_emissions': False,\n",
       "  'aerosol_chemistry_from_concentration': False}}"
      ]
     },
     "execution_count": 19,
     "metadata": {},
     "output_type": "execute_result"
    }
   ],
   "source": [
    "properties"
   ]
  },
  {
   "cell_type": "code",
   "execution_count": 20,
   "id": "c37ac733-d2aa-4627-a64c-f64dcf96703b",
   "metadata": {},
   "outputs": [],
   "source": [
    "f.define_species(species, properties)"
   ]
  },
  {
   "cell_type": "markdown",
   "id": "f917eab7-720b-44a6-8c3c-2aac2cdc55f7",
   "metadata": {},
   "source": [
    "### Create input and output data"
   ]
  },
  {
   "cell_type": "code",
   "execution_count": null,
   "id": "6489b5e7-db33-4b7c-8e93-8720556f35ab",
   "metadata": {},
   "outputs": [],
   "source": []
  }
 ],
 "metadata": {
  "kernelspec": {
   "display_name": "Python 3 (ipykernel)",
   "language": "python",
   "name": "python3"
  },
  "language_info": {
   "codemirror_mode": {
    "name": "ipython",
    "version": 3
   },
   "file_extension": ".py",
   "mimetype": "text/x-python",
   "name": "python",
   "nbconvert_exporter": "python",
   "pygments_lexer": "ipython3",
   "version": "3.10.6"
  }
 },
 "nbformat": 4,
 "nbformat_minor": 5
}
