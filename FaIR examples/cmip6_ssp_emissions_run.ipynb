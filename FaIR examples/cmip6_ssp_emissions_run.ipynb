{
 "cells": [
  {
   "cell_type": "markdown",
   "id": "404f9173",
   "metadata": {},
   "source": [
    "# SSP emissions runs using CMIP6 calibrations\n",
    "\n",
    "This notebook gives an example of running the SSP scenarios in FaIR using pre-calculated climate response calibrations from 66 CMIP6 models for a total of 8 × 66 = 528 scenarios in parallel. We will run in stochastic mode to demonstrate internal variability.\n",
    "\n",
    "This demonstrates the speed in which FaIR can run scenarios and configurations in parallel. This might be a good template notebook to use for SSP emissions-driven runs.\n",
    "\n",
    "Refer to the `basic_emissions_run_example` for more detail on setting up a run step by step; this notebook will be a little lighter on the detail, but hopefully still enough to be useful."
   ]
  },
  {
   "cell_type": "markdown",
   "id": "2ed04b6a",
   "metadata": {},
   "source": [
    "## 0. import required modules"
   ]
  },
  {
   "cell_type": "code",
   "execution_count": 3,
   "id": "9dd82491",
   "metadata": {},
   "outputs": [],
   "source": [
    "import numpy as np\n",
    "import matplotlib.pyplot as pl\n",
    "import pandas as pd\n",
    "\n",
    "from fair import FAIR\n",
    "from fair.io import read_properties\n",
    "from fair.interface import fill, initialise\n",
    "from fair.earth_params import seconds_per_year"
   ]
  },
  {
   "cell_type": "markdown",
   "id": "2396e36a",
   "metadata": {},
   "source": [
    "## 1. initialise FaIR\n",
    "\n",
    "We want to enable the methane lifetime routine that is a function of SLCFs and reactive gases, i.e. using the coefficients and feedbacks from [Thornhill et al. 2021](https://acp.copernicus.org/articles/21/853/2021/acp-21-853-2021.html) and [Skeie et al. 2020](https://www.nature.com/articles/s41612-020-00131-0). We set this option in the initialiser this time."
   ]
  },
  {
   "cell_type": "code",
   "execution_count": 4,
   "id": "b97e45d1",
   "metadata": {},
   "outputs": [],
   "source": [
    "f = FAIR(ch4_method='thornhill2021')"
   ]
  },
  {
   "cell_type": "markdown",
   "id": "06513b5c",
   "metadata": {},
   "source": [
    "## 2. Define time horizon\n",
    "\n",
    "create world running from 1750 to 2100, at 1-year intervals"
   ]
  },
  {
   "cell_type": "code",
   "execution_count": 5,
   "id": "2faf20eb",
   "metadata": {},
   "outputs": [],
   "source": [
    "f.define_time(1750, 2100, 1)"
   ]
  },
  {
   "cell_type": "markdown",
   "id": "fe23173e",
   "metadata": {},
   "source": [
    "## 3. Define scenarios\n",
    "\n",
    "We'll take the SSPs; important that the names are consistent with those in the RCMIP database"
   ]
  },
  {
   "cell_type": "code",
   "execution_count": 6,
   "id": "c0128227",
   "metadata": {},
   "outputs": [],
   "source": [
    "# Define SSP scenarios\n",
    "scenarios = ['ssp119', 'ssp126', 'ssp245', 'ssp370', 'ssp434', 'ssp460', 'ssp534-over', 'ssp585']\n",
    "f.define_scenarios(scenarios)"
   ]
  },
  {
   "cell_type": "markdown",
   "id": "4f2ad9d3",
   "metadata": {},
   "source": [
    "## 4. Define configs\n",
    "\n",
    "Our list of configs are going to be each CMIP6 climate model's 4xCO2 response, which has been pre-calculated in the calibration notebooks.\n",
    "\n",
    "We could also modify the response for different aerosol, ozone, methane lifetime tunings etc., but not every model has this data available."
   ]
  },
  {
   "cell_type": "code",
   "execution_count": 8,
   "id": "ba2941c1",
   "metadata": {},
   "outputs": [],
   "source": [
    "df = pd.read_csv(\"~/examples/4xCO2_cummins_ebm3.csv\")\n",
    "models = df['model'].unique()\n",
    "configs = []\n",
    "\n",
    "for imodel, model in enumerate(models):\n",
    "    for run in df.loc[df['model']==model, 'run']:\n",
    "        configs.append(f\"{model}_{run}\")\n",
    "f.define_configs(configs)"
   ]
  },
  {
   "cell_type": "code",
   "execution_count": 9,
   "id": "b1b9f903-389e-46ae-96dc-175325410a09",
   "metadata": {},
   "outputs": [
    {
     "data": {
      "text/plain": [
       "array(['CAMS-CSM1-0', 'GISS-E2-2-G', 'NorESM2-LM', 'ACCESS-ESM1-5',\n",
       "       'HadGEM3-GC31-LL', 'CESM2', 'NorCPM1', 'CIESM', 'INM-CM4-8',\n",
       "       'CNRM-CM6-1-HR', 'CESM2-WACCM', 'CAS-ESM2-0', 'EC-Earth3-Veg',\n",
       "       'MPI-ESM1-2-HR', 'MPI-ESM1-2-LR', 'GISS-E2-1-G', 'CNRM-CM6-1',\n",
       "       'GISS-E2-1-H', 'CMCC-CM2-SR5', 'MRI-ESM2-0', 'SAM0-UNICON',\n",
       "       'EC-Earth3', 'IPSL-CM6A-LR', 'CESM2-FV2', 'BCC-CSM2-MR',\n",
       "       'ACCESS-CM2', 'MIROC6', 'FIO-ESM-2-0', 'CESM2-WACCM-FV2',\n",
       "       'BCC-ESM1', 'MPI-ESM-1-2-HAM', 'KACE-1-0-G', 'GFDL-ESM4',\n",
       "       'UKESM1-0-LL', 'E3SM-1-0', 'KIOST-ESM', 'IITM-ESM', 'GFDL-CM4',\n",
       "       'CanESM5', 'AWI-CM-1-1-MR', 'INM-CM5-0', 'FGOALS-f3-L',\n",
       "       'FGOALS-g3', 'CNRM-ESM2-1', 'TaiESM1', 'NorESM2-MM',\n",
       "       'HadGEM3-GC31-MM', 'NESM3', 'MIROC-ES2L'], dtype=object)"
      ]
     },
     "execution_count": 9,
     "metadata": {},
     "output_type": "execute_result"
    }
   ],
   "source": [
    "models"
   ]
  },
  {
   "cell_type": "code",
   "execution_count": 11,
   "id": "e50bf950-05b9-43ce-b2a1-634dd1187af2",
   "metadata": {},
   "outputs": [
    {
     "data": {
      "text/plain": [
       "['CAMS-CSM1-0_r1i1p1f1',\n",
       " 'GISS-E2-2-G_r1i1p1f1',\n",
       " 'NorESM2-LM_r1i1p1f1',\n",
       " 'ACCESS-ESM1-5_r1i1p1f1',\n",
       " 'HadGEM3-GC31-LL_r1i1p1f3',\n",
       " 'CESM2_r1i1p1f1',\n",
       " 'NorCPM1_r1i1p1f1',\n",
       " 'CIESM_r1i1p1f1',\n",
       " 'INM-CM4-8_r1i1p1f1',\n",
       " 'CNRM-CM6-1-HR_r1i1p1f2',\n",
       " 'CESM2-WACCM_r1i1p1f1',\n",
       " 'CAS-ESM2-0_r1i1p1f1',\n",
       " 'EC-Earth3-Veg_r1i1p1f1',\n",
       " 'MPI-ESM1-2-HR_r1i1p1f1',\n",
       " 'MPI-ESM1-2-LR_r1i1p1f1',\n",
       " 'GISS-E2-1-G_r102i1p1f1',\n",
       " 'GISS-E2-1-G_r1i1p1f1',\n",
       " 'GISS-E2-1-G_r1i1p3f1',\n",
       " 'GISS-E2-1-G_r1i1p5f1',\n",
       " 'CNRM-CM6-1_r1i1p1f2',\n",
       " 'GISS-E2-1-H_r1i1p1f1',\n",
       " 'GISS-E2-1-H_r1i1p3f1',\n",
       " 'CMCC-CM2-SR5_r1i1p1f1',\n",
       " 'MRI-ESM2-0_r1i1p1f1',\n",
       " 'MRI-ESM2-0_r4i1p1f1',\n",
       " 'MRI-ESM2-0_r7i1p1f1',\n",
       " 'MRI-ESM2-0_r13i1p1f1',\n",
       " 'MRI-ESM2-0_r10i1p1f1',\n",
       " 'MRI-ESM2-0_r1i2p1f1',\n",
       " 'SAM0-UNICON_r1i1p1f1',\n",
       " 'EC-Earth3_r3i1p1f1',\n",
       " 'EC-Earth3_r8i1p1f1',\n",
       " 'IPSL-CM6A-LR_r1i1p1f1',\n",
       " 'CESM2-FV2_r1i1p1f1',\n",
       " 'BCC-CSM2-MR_r1i1p1f1',\n",
       " 'ACCESS-CM2_r1i1p1f1',\n",
       " 'MIROC6_r1i1p1f1',\n",
       " 'FIO-ESM-2-0_r1i1p1f1',\n",
       " 'FIO-ESM-2-0_r2i1p1f1',\n",
       " 'FIO-ESM-2-0_r3i1p1f1',\n",
       " 'CESM2-WACCM-FV2_r1i1p1f1',\n",
       " 'BCC-ESM1_r1i1p1f1',\n",
       " 'MPI-ESM-1-2-HAM_r1i1p1f1',\n",
       " 'KACE-1-0-G_r1i1p1f1',\n",
       " 'GFDL-ESM4_r1i1p1f1',\n",
       " 'UKESM1-0-LL_r1i1p1f2',\n",
       " 'E3SM-1-0_r1i1p1f1',\n",
       " 'KIOST-ESM_r1i1p1f1',\n",
       " 'IITM-ESM_r1i1p1f1',\n",
       " 'GFDL-CM4_r1i1p1f1',\n",
       " 'CanESM5_r1i1p2f1',\n",
       " 'CanESM5_r1i1p1f1',\n",
       " 'AWI-CM-1-1-MR_r1i1p1f1',\n",
       " 'INM-CM5-0_r1i1p1f1',\n",
       " 'FGOALS-f3-L_r1i1p1f1',\n",
       " 'FGOALS-f3-L_r3i1p1f1',\n",
       " 'FGOALS-f3-L_r2i1p1f1',\n",
       " 'FGOALS-g3_r1i1p1f1',\n",
       " 'CNRM-ESM2-1_r2i1p1f2',\n",
       " 'CNRM-ESM2-1_r3i1p1f2',\n",
       " 'CNRM-ESM2-1_r1i1p1f2',\n",
       " 'TaiESM1_r1i1p1f1',\n",
       " 'NorESM2-MM_r1i1p1f1',\n",
       " 'HadGEM3-GC31-MM_r1i1p1f3',\n",
       " 'NESM3_r1i1p1f1',\n",
       " 'MIROC-ES2L_r1i1p1f2']"
      ]
     },
     "execution_count": 11,
     "metadata": {},
     "output_type": "execute_result"
    }
   ],
   "source": [
    "f.configs"
   ]
  },
  {
   "cell_type": "markdown",
   "id": "0b3dbd43",
   "metadata": {},
   "source": [
    "## 5. Define species and properties\n",
    "\n",
    "FaIR contains a few helper functions that populate the model with sensible defaults. One is the `read_properties` function that obtains default species (the kitchen sink) and their properties for an emissions-driven run"
   ]
  },
  {
   "cell_type": "code",
   "execution_count": 12,
   "id": "232f0ba7",
   "metadata": {},
   "outputs": [],
   "source": [
    "species, properties = read_properties()\n",
    "#species = list(properties.keys())"
   ]
  },
  {
   "cell_type": "code",
   "execution_count": 13,
   "id": "029a6925",
   "metadata": {},
   "outputs": [
    {
     "data": {
      "text/plain": [
       "['CO2 FFI', 'CO2 AFOLU', 'CO2', 'CH4', 'N2O']"
      ]
     },
     "execution_count": 13,
     "metadata": {},
     "output_type": "execute_result"
    }
   ],
   "source": [
    "species[:5]"
   ]
  },
  {
   "cell_type": "code",
   "execution_count": 14,
   "id": "584e32cd",
   "metadata": {},
   "outputs": [
    {
     "data": {
      "text/plain": [
       "{'type': 'co2 ffi',\n",
       " 'input_mode': 'emissions',\n",
       " 'greenhouse_gas': False,\n",
       " 'aerosol_chemistry_from_emissions': False,\n",
       " 'aerosol_chemistry_from_concentration': False}"
      ]
     },
     "execution_count": 14,
     "metadata": {},
     "output_type": "execute_result"
    }
   ],
   "source": [
    "properties['CO2 FFI']"
   ]
  },
  {
   "cell_type": "code",
   "execution_count": 15,
   "id": "223ca746",
   "metadata": {},
   "outputs": [],
   "source": [
    "f.define_species(species, properties)"
   ]
  },
  {
   "cell_type": "markdown",
   "id": "8b76a0c2",
   "metadata": {},
   "source": [
    "## ~6. Modify run options~\n",
    "\n",
    "Not required, because we set our run options in step 1."
   ]
  },
  {
   "cell_type": "markdown",
   "id": "98b866e7",
   "metadata": {},
   "source": [
    "## 7. Create input and output data"
   ]
  },
  {
   "cell_type": "code",
   "execution_count": 23,
   "id": "249567ee",
   "metadata": {},
   "outputs": [],
   "source": [
    "f.allocate()"
   ]
  },
  {
   "cell_type": "markdown",
   "id": "54ca99cd",
   "metadata": {},
   "source": [
    "## 8. Fill in the data\n",
    "\n",
    "### 8a. get default species configs\n",
    "\n",
    "Again we read in a default list of species configs that will apply to each config. If you want to change specific configs then you can still use this function to set defaults and tweak what you need. We will do this with the methane lifetime, which has a different value calibrated for the Thornhill 2021 lifetime option.\n",
    "\n",
    "I'm also going to subtract the RCMIP 1750 emissions from CH4 and N2O. This is not in the default configs."
   ]
  },
  {
   "cell_type": "code",
   "execution_count": 24,
   "id": "13a6585c",
   "metadata": {},
   "outputs": [],
   "source": [
    "f.fill_species_configs()\n",
    "fill(f.species_configs['unperturbed_lifetime'], 10.8537568, specie='CH4')\n",
    "fill(f.species_configs['baseline_emissions'], 19.01978312, specie='CH4')\n",
    "fill(f.species_configs['baseline_emissions'], 0.08602230754, specie='N2O')"
   ]
  },
  {
   "cell_type": "markdown",
   "id": "95209f02",
   "metadata": {},
   "source": [
    "### 8b. fill emissions\n",
    "\n",
    "grab emissions (+solar and volcanic forcing) from RCMIP datasets using the `fill_from_rcmip` helper function. This function automatically selects the emissions, concentration or forcing you want depending on the `properties` for each of the SSP scenarios defined.\n",
    "\n",
    "I'm then going to make one change: replace the volcanic dataset with the AR6 volcanic dataset, as I want to compare the impact of monthly volcanic forcing in the monthly comparison.\n",
    "\n",
    "We also need to initialise the first timestep of the run in terms of its per-species forcing, temperature, cumulative and airborne emissions. We set these all to zero. The concentration in the first timestep will be set to the baseline concentration, which are the IPCC AR6 1750 values."
   ]
  },
  {
   "cell_type": "code",
   "execution_count": 25,
   "id": "f5380b86",
   "metadata": {},
   "outputs": [
    {
     "data": {
      "text/html": [
       "<div>\n",
       "<style scoped>\n",
       "    .dataframe tbody tr th:only-of-type {\n",
       "        vertical-align: middle;\n",
       "    }\n",
       "\n",
       "    .dataframe tbody tr th {\n",
       "        vertical-align: top;\n",
       "    }\n",
       "\n",
       "    .dataframe thead th {\n",
       "        text-align: right;\n",
       "    }\n",
       "</style>\n",
       "<table border=\"1\" class=\"dataframe\">\n",
       "  <thead>\n",
       "    <tr style=\"text-align: right;\">\n",
       "      <th></th>\n",
       "      <th>erf</th>\n",
       "    </tr>\n",
       "    <tr>\n",
       "      <th>year</th>\n",
       "      <th></th>\n",
       "    </tr>\n",
       "  </thead>\n",
       "  <tbody>\n",
       "    <tr>\n",
       "      <th>1750.000000</th>\n",
       "      <td>0.246406</td>\n",
       "    </tr>\n",
       "    <tr>\n",
       "      <th>1750.083333</th>\n",
       "      <td>0.246408</td>\n",
       "    </tr>\n",
       "    <tr>\n",
       "      <th>1750.166667</th>\n",
       "      <td>0.246409</td>\n",
       "    </tr>\n",
       "    <tr>\n",
       "      <th>1750.250000</th>\n",
       "      <td>0.246410</td>\n",
       "    </tr>\n",
       "    <tr>\n",
       "      <th>1750.333333</th>\n",
       "      <td>0.246411</td>\n",
       "    </tr>\n",
       "  </tbody>\n",
       "</table>\n",
       "</div>"
      ],
      "text/plain": [
       "                  erf\n",
       "year                 \n",
       "1750.000000  0.246406\n",
       "1750.083333  0.246408\n",
       "1750.166667  0.246409\n",
       "1750.250000  0.246410\n",
       "1750.333333  0.246411"
      ]
     },
     "execution_count": 25,
     "metadata": {},
     "output_type": "execute_result"
    }
   ],
   "source": [
    "df_volcanic = pd.read_csv('~/examples/volcanic_ERF_monthly_175001-201912.csv', index_col='year')\n",
    "df_volcanic[1750:].head()"
   ]
  },
  {
   "cell_type": "code",
   "execution_count": 26,
   "id": "828fe492",
   "metadata": {},
   "outputs": [],
   "source": [
    "f.fill_from_rcmip()\n",
    "\n",
    "# overwrite volcanic\n",
    "volcanic_forcing = np.zeros(351)\n",
    "volcanic_forcing[:271] = df_volcanic[1749:].groupby(np.ceil(df_volcanic[1749:].index) // 1).mean().squeeze().values\n",
    "fill(f.forcing, volcanic_forcing[:, None, None], specie=\"Volcanic\")  # sometimes need to expand the array\n",
    "\n",
    "initialise(f.concentration, f.species_configs['baseline_concentration'])\n",
    "initialise(f.forcing, 0)\n",
    "initialise(f.temperature, 0)\n",
    "initialise(f.cumulative_emissions, 0)\n",
    "initialise(f.airborne_emissions, 0)"
   ]
  },
  {
   "cell_type": "markdown",
   "id": "e3490b4d",
   "metadata": {},
   "source": [
    "### 8c. fill climate configs\n",
    "\n",
    "Take pre-calculated values from the Cummins et al. three layer model. We will use a reproducible random seed to define the stochastic behaviour."
   ]
  },
  {
   "cell_type": "code",
   "execution_count": 34,
   "id": "7c6c7fda",
   "metadata": {},
   "outputs": [],
   "source": [
    "df = pd.read_csv(\"~/examples/4xCO2_cummins_ebm3.csv\")\n",
    "models = df['model'].unique()\n",
    "\n",
    "seed = 1355763\n",
    "\n",
    "for config in configs:\n",
    "    model, run = config.split('_')\n",
    "    condition = (df['model']==model) & (df['run']==run)\n",
    "    fill(f.climate_configs['ocean_heat_capacity'], df.loc[condition, 'C1':'C3'].values.squeeze(), config=config)\n",
    "    fill(f.climate_configs['ocean_heat_transfer'], df.loc[condition, 'kappa1':'kappa3'].values.squeeze(), config=config)\n",
    "    fill(f.climate_configs['deep_ocean_efficacy'], df.loc[condition, 'epsilon'].values[0], config=config)\n",
    "    fill(f.climate_configs['gamma_autocorrelation'], df.loc[condition, 'gamma'].values[0], config=config)\n",
    "    fill(f.climate_configs['sigma_eta'], df.loc[condition, 'sigma_eta'].values[0], config=config)\n",
    "    fill(f.climate_configs['sigma_xi'], df.loc[condition, 'sigma_xi'].values[0], config=config)\n",
    "    fill(f.climate_configs['stochastic_run'], True, config=config)\n",
    "    fill(f.climate_configs['use_seed'], True, config=config)\n",
    "    fill(f.climate_configs['seed'], seed, config=config)\n",
    "    \n",
    "    seed = seed + 399"
   ]
  },
  {
   "cell_type": "markdown",
   "id": "862a619a",
   "metadata": {},
   "source": [
    "## 9. Run FaIR\n",
    "\n",
    "look at it go.\n",
    "\n",
    "You can turn off the progress bar with `progress=False`."
   ]
  },
  {
   "cell_type": "code",
   "execution_count": 35,
   "id": "161f66b1",
   "metadata": {},
   "outputs": [
    {
     "name": "stderr",
     "output_type": "stream",
     "text": [
      "Running 528 projections in parallel: 100%|██████████| 350/350 [00:02<00:00, 120.78timesteps/s]\n"
     ]
    }
   ],
   "source": [
    "f.run()"
   ]
  },
  {
   "cell_type": "markdown",
   "id": "4789d5c2",
   "metadata": {},
   "source": [
    "## 10. Make some nice plots\n",
    "\n",
    "Presently this is accessed using the `xarray` notation; perhaps we can write a nice filter function like I did with `fill` and `initialise`.\n",
    "\n",
    "The output attributes of `FAIR` of interest are\n",
    "- temperature (layer=0 is surface)\n",
    "- emissions (an output for GHGs driven with concentration)\n",
    "- concentration (as above, vice versa)\n",
    "- forcing: the per-species effective radiative forcing\n",
    "- forcing_sum: the total forcing\n",
    "- airborne_emissions: total emissions of a GHG remaining in the atmosphere\n",
    "- airborne_fraction: the fraction of GHG emissions remaining in the atmosphere\n",
    "- alpha_lifetime: the scaling factor to unperturbed lifetime. Mutiply the two values to get the atmospheric lifetime of a greenhouse gas (see methane example below)\n",
    "- cumulative_emissions\n",
    "- ocean_heat_content_change\n",
    "- toa_imbalance\n",
    "- stochastic_forcing: if stochastic variability is activated, the non-deterministic part of the forcing"
   ]
  },
  {
   "cell_type": "code",
   "execution_count": null,
   "id": "73030e5b",
   "metadata": {},
   "outputs": [],
   "source": [
    "pl.plot(f.timebounds, f.temperature.loc[dict(scenario='ssp119', layer=0)], label=f.configs);\n",
    "pl.title('ssp119: temperature')\n",
    "pl.xlabel('year')\n",
    "pl.ylabel('Temperature anomaly (K)')"
   ]
  },
  {
   "cell_type": "code",
   "execution_count": null,
   "id": "fcc4e4eb",
   "metadata": {},
   "outputs": [],
   "source": [
    "pl.plot(f.timebounds, f.species_configs['unperturbed_lifetime'].loc[dict(specie='CH4', gasbox=0)].data * f.alpha_lifetime.loc[dict(scenario='ssp119', specie='CH4')], label=f.configs);\n",
    "pl.title('ssp119: methane lifetime')\n",
    "pl.xlabel('year')\n",
    "pl.ylabel('methane lifetime (yr)')"
   ]
  },
  {
   "cell_type": "code",
   "execution_count": null,
   "id": "97817096",
   "metadata": {},
   "outputs": [],
   "source": [
    "pl.plot(f.timebounds, f.forcing.loc[dict(scenario='ssp119', specie='CO2')], label=f.configs);\n",
    "pl.title('ssp119: CO2 forcing')\n",
    "pl.xlabel('year')\n",
    "pl.ylabel('W/m2')"
   ]
  },
  {
   "cell_type": "code",
   "execution_count": null,
   "id": "6bbd1625",
   "metadata": {},
   "outputs": [],
   "source": [
    "pl.plot(f.timebounds, f.forcing.loc[dict(scenario='ssp119', specie='CH4')], label=f.configs);\n",
    "pl.title('ssp119: methane forcing')\n",
    "pl.xlabel('year')\n",
    "pl.ylabel('W/m2')"
   ]
  },
  {
   "cell_type": "code",
   "execution_count": null,
   "id": "5a447834",
   "metadata": {},
   "outputs": [],
   "source": [
    "pl.plot(f.timebounds, f.concentration.loc[dict(scenario='ssp119', specie='CH4')], label=f.configs);\n",
    "pl.title('ssp119: methane concentration')\n",
    "pl.xlabel('year')\n",
    "pl.ylabel('Temperature anomaly (K)')"
   ]
  },
  {
   "cell_type": "code",
   "execution_count": null,
   "id": "0b48aa88",
   "metadata": {},
   "outputs": [],
   "source": [
    "pl.plot(f.timebounds, f.concentration.loc[dict(scenario='ssp119', specie='Equivalent effective stratospheric chlorine')], label=f.configs);\n",
    "pl.title('ssp119: EESC')\n",
    "pl.xlabel('year')\n",
    "pl.ylabel('ppt')"
   ]
  },
  {
   "cell_type": "code",
   "execution_count": null,
   "id": "f6159784",
   "metadata": {},
   "outputs": [],
   "source": [
    "pl.plot(f.timebounds, f.forcing.loc[dict(scenario='ssp119', specie='N2O')], label=f.configs);\n",
    "pl.title('ssp119: N2O concentration')\n",
    "pl.xlabel('year')\n",
    "pl.ylabel('ppb')"
   ]
  },
  {
   "cell_type": "code",
   "execution_count": null,
   "id": "362cea65",
   "metadata": {},
   "outputs": [],
   "source": [
    "pl.plot(f.timebounds, f.forcing.loc[dict(scenario='ssp119', specie='N2O')], label=f.configs);\n",
    "pl.title('ssp119: N2O forcing')\n",
    "pl.xlabel('year')\n",
    "pl.ylabel('W/m2')"
   ]
  },
  {
   "cell_type": "code",
   "execution_count": null,
   "id": "6e54610f",
   "metadata": {},
   "outputs": [],
   "source": [
    "pl.plot(f.timebounds, f.concentration.loc[dict(scenario='ssp119', specie='CH3Cl')], label=f.configs);\n",
    "pl.title('ssp119: Halon-1211 concentration')\n",
    "pl.xlabel('year')\n",
    "pl.ylabel('ppt')"
   ]
  },
  {
   "cell_type": "code",
   "execution_count": null,
   "id": "08cb3539",
   "metadata": {},
   "outputs": [],
   "source": [
    "pl.plot(f.timebounds, f.forcing.loc[dict(scenario='ssp119', specie='Aerosol-radiation interactions')], label=f.configs);\n",
    "pl.title('ssp119: ERFari')\n",
    "pl.xlabel('year')\n",
    "pl.ylabel('W/m2')"
   ]
  },
  {
   "cell_type": "code",
   "execution_count": null,
   "id": "5be36a14",
   "metadata": {},
   "outputs": [],
   "source": [
    "pl.plot(f.timebounds, f.forcing.loc[dict(scenario='ssp119', specie='Aerosol-cloud interactions')], label=f.configs);\n",
    "pl.title('ssp119: ERFaci')\n",
    "pl.xlabel('year')\n",
    "pl.ylabel('W/m2')"
   ]
  },
  {
   "cell_type": "code",
   "execution_count": null,
   "id": "3a282249",
   "metadata": {},
   "outputs": [],
   "source": [
    "pl.plot(f.timebounds, f.forcing.loc[dict(scenario='ssp119', specie='Ozone')], label=f.configs);\n",
    "pl.title('ssp119: Ozone forcing')\n",
    "pl.xlabel('year')\n",
    "pl.ylabel('W/m2')"
   ]
  },
  {
   "cell_type": "code",
   "execution_count": null,
   "id": "756c55db",
   "metadata": {},
   "outputs": [],
   "source": [
    "pl.plot(f.timebounds, f.forcing.loc[dict(scenario='ssp119', specie='Contrails')], label=f.configs);\n",
    "pl.title('ssp119: Contrails')\n",
    "pl.xlabel('year')\n",
    "pl.ylabel('W/m2')"
   ]
  },
  {
   "cell_type": "code",
   "execution_count": null,
   "id": "c7e4235b",
   "metadata": {},
   "outputs": [],
   "source": [
    "pl.plot(f.timebounds, f.forcing.loc[dict(scenario='ssp119', specie='Light absorbing particles on snow and ice')], label=f.configs);\n",
    "pl.title('ssp119: LAPSI')\n",
    "pl.xlabel('year')\n",
    "pl.ylabel('W/m2')"
   ]
  },
  {
   "cell_type": "code",
   "execution_count": null,
   "id": "bca5e50f",
   "metadata": {},
   "outputs": [],
   "source": [
    "pl.plot(f.timebounds, f.forcing.loc[dict(scenario='ssp119', specie='Land use')], label=f.configs);\n",
    "pl.title('ssp119: land use forcing')\n",
    "pl.xlabel('year')\n",
    "pl.ylabel('W/m2')"
   ]
  },
  {
   "cell_type": "code",
   "execution_count": null,
   "id": "11ed918d",
   "metadata": {},
   "outputs": [],
   "source": [
    "pl.plot(f.timebounds, f.forcing.loc[dict(scenario='ssp119', specie='Solar')], label=f.configs);\n",
    "pl.title('ssp119: solar forcing')\n",
    "pl.xlabel('year')\n",
    "pl.ylabel('W/m2')"
   ]
  },
  {
   "cell_type": "code",
   "execution_count": null,
   "id": "1b7c73e5",
   "metadata": {},
   "outputs": [],
   "source": [
    "pl.plot(f.timebounds, f.forcing.loc[dict(scenario='ssp119', specie='Volcanic')], label=f.configs);\n",
    "pl.title('ssp119: volcanic forcing')\n",
    "pl.xlabel('year')\n",
    "pl.ylabel('W/m2')"
   ]
  },
  {
   "cell_type": "code",
   "execution_count": null,
   "id": "e010ae31",
   "metadata": {},
   "outputs": [],
   "source": [
    "pl.plot(f.timebounds, f.forcing.loc[dict(scenario='ssp119', specie='Stratospheric water vapour')], label=f.configs);\n",
    "pl.title('ssp119: Stratospheric water vapour forcing')\n",
    "pl.xlabel('year')\n",
    "pl.ylabel('W/m2')"
   ]
  },
  {
   "cell_type": "code",
   "execution_count": null,
   "id": "f0ddf1a8",
   "metadata": {},
   "outputs": [],
   "source": [
    "pl.plot(f.timebounds, f.temperature.loc[dict(scenario='ssp126', layer=0)], label=f.configs);\n",
    "pl.title('ssp126: temperature')\n",
    "pl.xlabel('year')\n",
    "pl.ylabel('Temperature anomaly (K)')\n",
    "#pl.legend()"
   ]
  },
  {
   "cell_type": "code",
   "execution_count": null,
   "id": "79d150d6",
   "metadata": {},
   "outputs": [],
   "source": [
    "pl.plot(f.timebounds, f.temperature.loc[dict(scenario='ssp245', layer=0)], label=f.configs);\n",
    "pl.title('ssp245: temperature')\n",
    "pl.xlabel('year')\n",
    "pl.ylabel('Temperature anomaly (K)')\n",
    "#pl.legend()"
   ]
  },
  {
   "cell_type": "code",
   "execution_count": null,
   "id": "38d20587",
   "metadata": {},
   "outputs": [],
   "source": [
    "pl.plot(f.timebounds, f.temperature.loc[dict(scenario='ssp370', layer=0)], label=f.configs);\n",
    "pl.title('ssp370: temperature')\n",
    "pl.xlabel('year')\n",
    "pl.ylabel('Temperature anomaly (K)')\n",
    "#pl.legend()"
   ]
  },
  {
   "cell_type": "code",
   "execution_count": null,
   "id": "73a8d318",
   "metadata": {},
   "outputs": [],
   "source": [
    "pl.plot(f.timebounds, f.temperature.loc[dict(scenario='ssp585', layer=0)], label=f.configs);\n",
    "pl.title('ssp585: temperature')\n",
    "pl.xlabel('year')\n",
    "pl.ylabel('Temperature anomaly (K)')\n",
    "#pl.legend()"
   ]
  },
  {
   "cell_type": "code",
   "execution_count": null,
   "id": "9ba30dfd",
   "metadata": {},
   "outputs": [],
   "source": [
    "pl.plot(f.timebounds, f.forcing.loc[dict(scenario='ssp126', specie='Ozone')], label=f.configs);\n",
    "pl.title('ssp126: Ozone forcing')\n",
    "pl.xlabel('year')\n",
    "pl.ylabel('W/m2')"
   ]
  },
  {
   "cell_type": "code",
   "execution_count": null,
   "id": "d4a2dc5d",
   "metadata": {},
   "outputs": [],
   "source": [
    "pl.plot(f.timebounds, f.forcing.loc[dict(scenario='ssp245', specie='Ozone')], label=f.configs);\n",
    "pl.title('ssp245: Ozone forcing')\n",
    "pl.xlabel('year')\n",
    "pl.ylabel('W/m2')"
   ]
  },
  {
   "cell_type": "code",
   "execution_count": null,
   "id": "370be98f",
   "metadata": {},
   "outputs": [],
   "source": [
    "pl.plot(f.timebounds, f.forcing.loc[dict(scenario='ssp370', specie='Ozone')], label=f.configs);\n",
    "pl.title('ssp370: Ozone forcing')\n",
    "pl.xlabel('year')\n",
    "pl.ylabel('W/m2')"
   ]
  },
  {
   "cell_type": "code",
   "execution_count": null,
   "id": "27d93249",
   "metadata": {},
   "outputs": [],
   "source": [
    "pl.plot(f.timebounds, f.forcing.loc[dict(scenario='ssp585', specie='Ozone')], label=f.configs);\n",
    "pl.title('ssp585: Ozone forcing')\n",
    "pl.xlabel('year')\n",
    "pl.ylabel('W/m2')"
   ]
  },
  {
   "cell_type": "code",
   "execution_count": null,
   "id": "72df87ab",
   "metadata": {},
   "outputs": [],
   "source": [
    "pl.plot(f.timebounds, f.airborne_emissions.loc[dict(scenario='ssp585', specie='CO2')], label=f.configs);\n",
    "pl.title('ssp585: Airborne emissions of CO2')\n",
    "pl.xlabel('year')\n",
    "pl.ylabel('GtCO2')"
   ]
  },
  {
   "cell_type": "code",
   "execution_count": null,
   "id": "faf2ca25",
   "metadata": {},
   "outputs": [],
   "source": [
    "pl.plot(f.timebounds, f.airborne_fraction.loc[dict(scenario='ssp585', specie='CO2')], label=f.configs);\n",
    "pl.title('ssp585: Airborne fraction of CO2')\n",
    "pl.xlabel('year')\n",
    "pl.ylabel('[1]')"
   ]
  },
  {
   "cell_type": "code",
   "execution_count": null,
   "id": "2c259d7d",
   "metadata": {},
   "outputs": [],
   "source": [
    "pl.plot(f.timebounds, f.cumulative_emissions.loc[dict(scenario='ssp585', specie='CO2')], label=f.configs);\n",
    "pl.title('ssp585: Cumulative emissions of CO2')\n",
    "pl.xlabel('year')\n",
    "pl.ylabel('GtCO2')"
   ]
  },
  {
   "cell_type": "code",
   "execution_count": null,
   "id": "a8f3c9a7",
   "metadata": {},
   "outputs": [],
   "source": [
    "pl.plot(f.timebounds, f.ocean_heat_content_change.loc[dict(scenario='ssp585')], label=f.configs);\n",
    "pl.title('ssp585: Ocean heat content change')\n",
    "pl.xlabel('year')\n",
    "pl.ylabel('J')"
   ]
  },
  {
   "cell_type": "code",
   "execution_count": null,
   "id": "0ea96857",
   "metadata": {},
   "outputs": [],
   "source": [
    "pl.plot(f.timebounds, f.toa_imbalance.loc[dict(scenario='ssp585')], label=f.configs);\n",
    "pl.title('ssp585: Top of atmosphere energy imbalance')\n",
    "pl.xlabel('year')\n",
    "pl.ylabel('W m$^{-2}$')"
   ]
  },
  {
   "cell_type": "code",
   "execution_count": null,
   "id": "ae0a76d8",
   "metadata": {},
   "outputs": [],
   "source": [
    "pl.plot(f.timebounds, f.stochastic_forcing.loc[dict(scenario='ssp585')], label=f.configs);\n",
    "pl.title('ssp585: Total forcing')\n",
    "pl.xlabel('year')\n",
    "pl.ylabel('W m$^{-2}$')"
   ]
  },
  {
   "cell_type": "code",
   "execution_count": null,
   "id": "d28a9db5",
   "metadata": {},
   "outputs": [],
   "source": [
    "pl.plot(f.timebounds, f.forcing_sum.loc[dict(scenario='ssp585')], label=f.configs);\n",
    "pl.title('ssp585: Deterministic forcing')\n",
    "pl.xlabel('year')\n",
    "pl.ylabel('W m$^{-2}$')"
   ]
  },
  {
   "cell_type": "code",
   "execution_count": null,
   "id": "3a4a7125",
   "metadata": {},
   "outputs": [],
   "source": [
    "pl.plot(f.timebounds, f.stochastic_forcing.loc[dict(scenario='ssp585')]-f.forcing_sum.loc[dict(scenario='ssp585')], label=f.configs);\n",
    "pl.title('ssp585: Stochastic forcing component')\n",
    "pl.xlabel('year')\n",
    "pl.ylabel('W m$^{-2}$')"
   ]
  },
  {
   "cell_type": "code",
   "execution_count": null,
   "id": "1f29dd0a",
   "metadata": {},
   "outputs": [],
   "source": []
  }
 ],
 "metadata": {
  "kernelspec": {
   "display_name": "Python 3 (ipykernel)",
   "language": "python",
   "name": "python3"
  },
  "language_info": {
   "codemirror_mode": {
    "name": "ipython",
    "version": 3
   },
   "file_extension": ".py",
   "mimetype": "text/x-python",
   "name": "python",
   "nbconvert_exporter": "python",
   "pygments_lexer": "ipython3",
   "version": "3.10.6"
  }
 },
 "nbformat": 4,
 "nbformat_minor": 5
}
